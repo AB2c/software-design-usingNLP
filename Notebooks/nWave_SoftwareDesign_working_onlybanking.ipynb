{
 "cells": [
  {
   "cell_type": "markdown",
   "metadata": {},
   "source": [
    "# Software Design Using ML&AI nWave\n",
    "\n",
    "\n",
    "# 1. Setup\n",
    "\n",
    "To prepare your environment, you need to install some packages\n",
    "\n",
    "# 1.1 Install the necessary packages\n",
    "\n",
    "You need the latest versions of these packages:<br>\n",
    " \n",
    "\n",
    "** Pandas for dataframe.<br>\n",
    "** stop_words: **List of common stop words.<br>\n",
    "** python-boto3:** is a python client for the Boto3 API used for communicating to AWS.<br>\n",
    "** websocket-client: ** is a python client for the Websockets.<br>\n",
    "** pyorient: ** is a python client for the Orient DB.<br><br>\n",
    "\n"
   ]
  },
  {
   "cell_type": "markdown",
   "metadata": {},
   "source": [
    "** Install NLTK: **"
   ]
  },
  {
   "cell_type": "code",
   "execution_count": 92,
   "metadata": {
    "scrolled": true
   },
   "outputs": [
    {
     "name": "stdout",
     "output_type": "stream",
     "text": [
      "Requirement already up-to-date: nltk in /anaconda3/lib/python3.6/site-packages (3.3)\n",
      "Requirement not upgraded as not directly required: six in /anaconda3/lib/python3.6/site-packages (from nltk) (1.11.0)\n",
      "Requirement already up-to-date: pyorient in /Users/swaroopmishra/.local/lib/python3.6/site-packages (1.5.5)\n"
     ]
    }
   ],
   "source": [
    "!pip install --upgrade nltk\n",
    "!pip install --upgrade pyorient"
   ]
  },
  {
   "cell_type": "markdown",
   "metadata": {},
   "source": [
    "**Install Boto3 client for AWS communication thorugh CLI **"
   ]
  },
  {
   "cell_type": "code",
   "execution_count": 93,
   "metadata": {
    "scrolled": true
   },
   "outputs": [
    {
     "name": "stdout",
     "output_type": "stream",
     "text": [
      "Requirement already satisfied: boto3 in /anaconda3/lib/python3.6/site-packages (1.7.11)\n",
      "Requirement already satisfied: botocore<1.11.0,>=1.10.11 in /Users/swaroopmishra/.local/lib/python3.6/site-packages (from boto3) (1.10.20)\n",
      "Requirement already satisfied: jmespath<1.0.0,>=0.7.1 in /anaconda3/lib/python3.6/site-packages (from boto3) (0.9.3)\n",
      "Requirement already satisfied: s3transfer<0.2.0,>=0.1.10 in /anaconda3/lib/python3.6/site-packages (from boto3) (0.1.13)\n",
      "Requirement already satisfied: python-dateutil<3.0.0,>=2.1; python_version >= \"2.7\" in /anaconda3/lib/python3.6/site-packages (from botocore<1.11.0,>=1.10.11->boto3) (2.6.1)\n",
      "Requirement already satisfied: docutils>=0.10 in /anaconda3/lib/python3.6/site-packages (from botocore<1.11.0,>=1.10.11->boto3) (0.14)\n",
      "Requirement already satisfied: six>=1.5 in /anaconda3/lib/python3.6/site-packages (from python-dateutil<3.0.0,>=2.1; python_version >= \"2.7\"->botocore<1.11.0,>=1.10.11->boto3) (1.11.0)\n"
     ]
    }
   ],
   "source": [
    "!pip install boto3 "
   ]
  },
  {
   "cell_type": "markdown",
   "metadata": {},
   "source": [
    "** Install stop_words **"
   ]
  },
  {
   "cell_type": "code",
   "execution_count": 94,
   "metadata": {},
   "outputs": [
    {
     "name": "stdout",
     "output_type": "stream",
     "text": [
      "Requirement already satisfied: stop-words in /anaconda3/lib/python3.6/site-packages (2015.2.23.1)\r\n"
     ]
    }
   ],
   "source": [
    "!pip install stop-words"
   ]
  },
  {
   "cell_type": "markdown",
   "metadata": {},
   "source": [
    "** Install websocket client: **"
   ]
  },
  {
   "cell_type": "code",
   "execution_count": 95,
   "metadata": {},
   "outputs": [
    {
     "name": "stdout",
     "output_type": "stream",
     "text": [
      "Requirement already satisfied: websocket-client in /anaconda3/lib/python3.6/site-packages (0.47.0)\r\n",
      "Requirement already satisfied: six in /anaconda3/lib/python3.6/site-packages (from websocket-client) (1.11.0)\r\n"
     ]
    }
   ],
   "source": [
    "!pip install websocket-client"
   ]
  },
  {
   "cell_type": "markdown",
   "metadata": {},
   "source": [
    "** Install pyorient: **"
   ]
  },
  {
   "cell_type": "code",
   "execution_count": 96,
   "metadata": {},
   "outputs": [
    {
     "name": "stdout",
     "output_type": "stream",
     "text": [
      "Requirement already satisfied: awscli in /Users/swaroopmishra/.local/lib/python3.6/site-packages (1.15.20)\n",
      "Requirement already satisfied: botocore==1.10.20 in /Users/swaroopmishra/.local/lib/python3.6/site-packages (from awscli) (1.10.20)\n",
      "Requirement already satisfied: rsa<=3.5.0,>=3.1.2 in /anaconda3/lib/python3.6/site-packages (from awscli) (3.4.2)\n",
      "Requirement already satisfied: PyYAML<=3.12,>=3.10 in /anaconda3/lib/python3.6/site-packages (from awscli) (3.12)\n",
      "Requirement already satisfied: s3transfer<0.2.0,>=0.1.12 in /anaconda3/lib/python3.6/site-packages (from awscli) (0.1.13)\n",
      "Requirement already satisfied: docutils>=0.10 in /anaconda3/lib/python3.6/site-packages (from awscli) (0.14)\n",
      "Requirement already satisfied: colorama<=0.3.9,>=0.2.5 in /anaconda3/lib/python3.6/site-packages (from awscli) (0.3.7)\n",
      "Requirement already satisfied: python-dateutil<3.0.0,>=2.1; python_version >= \"2.7\" in /anaconda3/lib/python3.6/site-packages (from botocore==1.10.20->awscli) (2.6.1)\n",
      "Requirement already satisfied: jmespath<1.0.0,>=0.7.1 in /anaconda3/lib/python3.6/site-packages (from botocore==1.10.20->awscli) (0.9.3)\n",
      "Requirement already satisfied: pyasn1>=0.1.3 in /anaconda3/lib/python3.6/site-packages (from rsa<=3.5.0,>=3.1.2->awscli) (0.4.2)\n",
      "Requirement already satisfied: six>=1.5 in /anaconda3/lib/python3.6/site-packages (from python-dateutil<3.0.0,>=2.1; python_version >= \"2.7\"->botocore==1.10.20->awscli) (1.11.0)\n",
      "Requirement already satisfied: pyorient in /Users/swaroopmishra/.local/lib/python3.6/site-packages (1.5.5)\n"
     ]
    }
   ],
   "source": [
    "! pip install awscli\n",
    "! pip install pyorient --user\n",
    "\n"
   ]
  },
  {
   "cell_type": "markdown",
   "metadata": {},
   "source": [
    "# 1.2 Import packages and libraries \n",
    "\n",
    "Import the packages and libraries that you'll use:"
   ]
  },
  {
   "cell_type": "code",
   "execution_count": 97,
   "metadata": {},
   "outputs": [],
   "source": [
    "import json\n",
    "\n",
    "import nltk\n",
    "from nltk.cluster.util import cosine_distance\n",
    "from stop_words import get_stop_words\n",
    "import numpy\n",
    "import re\n",
    "import boto3\n",
    "from botocore.client import Config\n",
    "\n",
    "import websocket\n",
    "import _thread\n",
    "import time\n",
    "\n",
    "from io import BytesIO\n",
    "import pandas as pd\n",
    "import json\n",
    "import sys"
   ]
  },
  {
   "cell_type": "markdown",
   "metadata": {},
   "source": [
    "# 2. Configuration\n",
    "\n",
    "Add configurable items of the notebook below\n",
    "## 2.1 Add your service credentials if any required( this is where you need to add credentials of infrastructure you are using to store data etc)\n",
    "\n",
    "\n",
    "Run the cell."
   ]
  },
  {
   "cell_type": "code",
   "execution_count": 98,
   "metadata": {},
   "outputs": [],
   "source": [
    "### This is the section to provide credentials for AWS S3 account\n",
    "### While sharing the notebook remove them -- will try to make this cell hidden later\n",
    "\n",
    "## Console URL :::  https://awstestconsole-swaroop.signin.aws.amazon.com/console\n",
    "## Account Id: \n",
    "## Username : \n",
    "## Password : \n",
    "## Then Navigate to the S3 section"
   ]
  },
  {
   "cell_type": "markdown",
   "metadata": {},
   "source": [
    "## 2.2 Add your service credentials for S3\n",
    "\n",
    "You must create S3 bucket service on AWS. To access data in a file in Object Storage, you need the Object Storage authentication credentials. Insert the Object Storage authentication credentials as credentials_1 in the following cell after removing the current contents in the cell."
   ]
  },
  {
   "cell_type": "code",
   "execution_count": 99,
   "metadata": {},
   "outputs": [],
   "source": [
    "# @hidden_cell\n",
    "# The following code contains the credentials for a file in your IBM Cloud Object Storage.\n",
    "# You might want to remove those credentials before you share your notebook.\n",
    "credentials_1 = {\n",
    "    'ACCESS_KEY_ID': '',\n",
    "    'ACCESS_SECRET_KEY': '',\n",
    "    'BUCKET': 'software-testing-pyscript'\n",
    "}"
   ]
  },
  {
   "cell_type": "markdown",
   "metadata": {},
   "source": [
    "# 3. Text Classification  ( this section will be required if we use spacy for machine learning)\n",
    "\n",
    "Write the classification related utility functions in a modularalized form.\n",
    "\n",
    "## 3.1  REQUIREMENT Classification\n"
   ]
  },
  {
   "cell_type": "code",
   "execution_count": 100,
   "metadata": {},
   "outputs": [],
   "source": [
    "def chunk_sentence(text):\n",
    "    \"\"\" Tag the sentence using chunking.\n",
    "    \"\"\"\n",
    "    grammar = \"\"\"\n",
    "      Action: {<VB.?><NN.?>+}\n",
    "      Action: {<VB.?><CLAUSE1><NN.?>+}\n",
    "               }<CLAUSE1>{\n",
    "      Action: {<VB.?><CLAUSE1><CLAUSE1><NN.?>+}\n",
    "               }<CLAUSE1>{\n",
    "      Action: {<VB.?><CLAUSE1><CLAUSE1><CLAUSE1><NN.?>+}\n",
    "               }<CLAUSE1>{  \n",
    "      CLAUSE1: {<DT|PRP.?|IN|JJ>}\n",
    "      \n",
    "      \n",
    "      \"\"\"  \n",
    "    parsed_cp = nltk.RegexpParser(grammar,loop=2)\n",
    "    pos_cp = parsed_cp.parse(text)\n",
    "    return pos_cp\n"
   ]
  },
  {
   "cell_type": "markdown",
   "metadata": {},
   "source": [
    "## 3.2 Augumented Classification\n",
    "\n",
    "Custom classification utlity fucntions for augumenting the results by using the Grammar rule defined in JSON file  "
   ]
  },
  {
   "cell_type": "code",
   "execution_count": 101,
   "metadata": {},
   "outputs": [],
   "source": [
    "def split_sentences(text):\n",
    "    \"\"\" Split text into sentences.\n",
    "    \"\"\"\n",
    "    sentence_delimiters = re.compile(u'[\\\\[\\\\]\\n.!?]')\n",
    "    sentences = sentence_delimiters.split(text)\n",
    "    return sentences\n",
    "\n",
    "def split_into_tokens(text):\n",
    "    \"\"\" Split text into tokens.\n",
    "    \"\"\"\n",
    "    tokens = nltk.word_tokenize(text)\n",
    "    return tokens\n",
    "    \n",
    "def POS_tagging(text):\n",
    "    \"\"\" Generate Part of speech tagging of the text.\n",
    "    \"\"\"\n",
    "    POSofText = nltk.tag.pos_tag(text)\n",
    "    return POSofText\n",
    "\n",
    "\n",
    "def keyword_tagging(tag,tagtext,text):\n",
    "    \"\"\" Tag the text matching keywords.\n",
    "    \"\"\"\n",
    "    if (text.lower().find(tagtext.lower()) != -1):\n",
    "        return text[text.lower().find(tagtext.lower()):text.lower().find(tagtext.lower())+len(tagtext)]\n",
    "    else:\n",
    "        return 'UNKNOWN'\n",
    "    \n",
    "def regex_tagging(tag,regex,text):\n",
    "    \"\"\" Tag the text matching REGEX.\n",
    "    \"\"\"    \n",
    "    p = re.compile(regex, re.IGNORECASE)\n",
    "    matchtext = p.findall(text)\n",
    "    regex_list=[]    \n",
    "    if (len(matchtext)>0):\n",
    "        for regword in matchtext:\n",
    "            regex_list.append(regword)\n",
    "    return regex_list\n",
    "\n",
    "def BRD_chunk_tagging(tag,chunk,text):\n",
    "    \"\"\" Tag the text using chunking.\n",
    "    \"\"\"\n",
    "    parsed_cp = nltk.RegexpParser(chunk)\n",
    "    pos_cp = parsed_cp.parse(text)\n",
    "    #pos_cp = chunk_sentence(text) #*** use this for getting refined output after chinking but extra entities in output\n",
    "    chunk_list=[]\n",
    "    for root in pos_cp:\n",
    "        if isinstance(root, nltk.tree.Tree):               \n",
    "            if root.label() == tag:\n",
    "                chunk_word = ''\n",
    "                for child_root in root:\n",
    "                    chunk_word = chunk_word +' '+ child_root[0]\n",
    "                chunk_list.append(chunk_word)\n",
    "    return chunk_list\n",
    "\n",
    "def chunk_tagging(tag,chunk,text):\n",
    "    \"\"\" Tag the text using chunking.\n",
    "    \"\"\"\n",
    "    parsed_cp = nltk.RegexpParser(chunk)\n",
    "    pos_cp = parsed_cp.parse(text)\n",
    "    chunk_list=[]\n",
    "    for root in pos_cp:\n",
    "        if isinstance(root, nltk.tree.Tree):               \n",
    "            if root.label() == tag:\n",
    "                chunk_word = ''\n",
    "                for child_root in root:\n",
    "                    chunk_word = chunk_word +' '+ child_root[0]\n",
    "                chunk_list.append(chunk_word)\n",
    "    return chunk_list\n",
    "    \n",
    "def augument_SpResponse(responsejson,updateType,text,tag):\n",
    "    \"\"\" Update the output JSON with augumented classifications.\n",
    "    \"\"\"\n",
    "    if(updateType == 'keyword'):\n",
    "        if not any(d.get('text', None) == text for d in responsejson['Keywords']):\n",
    "            responsejson['Keywords'].append({\"User\":text})\n",
    "    else:\n",
    "        if not any(d.get('text', None) == text for d in responsejson['Entities']):\n",
    "            responsejson['Entities'].append({\"type\":tag,\"text\":text}) \n",
    "\n",
    "def classify_BRD_text(text, config):\n",
    "    \"\"\" Perform augumented classification of the text for BRD specifically for getting the output with action.\n",
    "    \"\"\"\n",
    "    \n",
    "    #will be used for storing initial value of response json, this is from nlu earlier\n",
    "    with open('output_format_BRD.json') as f:\n",
    "        responsejson = json.load(f)\n",
    "    \n",
    "    sentenceList = split_sentences(text) #\n",
    "    \n",
    "    tokens = split_into_tokens(text)\n",
    "    \n",
    "    postags = POS_tagging(tokens)\n",
    "    \n",
    "    configjson = json.loads(config)#load would take a file-like object, read the data from that object, and use that string to create an object:\n",
    "    \n",
    "    no_of_items = 0\n",
    "    \n",
    "    for stages in configjson['configuration']['classification']['stages']:\n",
    "        # print('Stage - Performing ' + stages['name']+':')\n",
    "        for steps in stages['steps']:\n",
    "            # print('    Step - ' + steps['type']+':')\n",
    "            if (steps['type'] == 'keywords'):\n",
    "                for keyword in steps['keywords']:\n",
    "                        wordtag = tokens[0]\n",
    "                augument_SpResponse(responsejson,'keyword',wordtag,keyword['tag'])\n",
    "            elif(steps['type'] == 'd_regex'):\n",
    "                for regex in steps['d_regex']:\n",
    "                    for word in sentenceList:\n",
    "                        regextags = regex_tagging(regex['tag'],regex['pattern'],word)\n",
    "                        if (len(regextags)>0):\n",
    "                            for words in regextags:\n",
    "                                #print('      '+regex['tag']+':'+words)\n",
    "                                augument_SpResponse(responsejson,'Action',words,regex['tag'])\n",
    "            elif(steps['type'] == 'chunking'):\n",
    "                for chunk in steps['chunk']:\n",
    "                    chunktags = BRD_chunk_tagging(chunk['tag'],chunk['pattern'],postags)\n",
    "                    if (len(chunktags)>0):\n",
    "                        for words in chunktags:\n",
    "                            #print('      '+chunk['tag']+':'+words)\n",
    "                            if (no_of_items <1):\n",
    "                                augument_SpResponse(responsejson,'Action',words,chunk['tag'])\n",
    "                                no_of_items = no_of_items + 1\n",
    "            else:\n",
    "                print('UNKNOWN STEP')\n",
    "    \n",
    "    \n",
    "    \n",
    "    return responsejson\n",
    "\n",
    "\n",
    "\n",
    "def classify_text(text, config):\n",
    "    \"\"\" Perform augumented classification of the text.\n",
    "    \"\"\"\n",
    "    \n",
    "    #will be used for storing initial value of response json, this is from nlu earlier\n",
    "    with open('sample.json') as f:\n",
    "        responsejson = json.load(f)\n",
    "    \n",
    "    sentenceList = split_sentences(text) #\n",
    "    \n",
    "    tokens = split_into_tokens(text)\n",
    "    \n",
    "    postags = POS_tagging(tokens)\n",
    "    \n",
    "    configjson = json.loads(config)#load would take a file-like object, read the data from that object, and use that string to create an object:\n",
    "    \n",
    "    for stages in configjson['configuration']['classification']['stages']:\n",
    "        # print('Stage - Performing ' + stages['name']+':')\n",
    "        for steps in stages['steps']:\n",
    "            # print('    Step - ' + steps['type']+':')\n",
    "            if (steps['type'] == 'keywords'):\n",
    "                for keyword in steps['keywords']:\n",
    "                    for word in sentenceList:\n",
    "                        wordtag = keyword_tagging(keyword['tag'],keyword['text'],word)\n",
    "                        if(wordtag != 'UNKNOWN'):\n",
    "                            #print('      '+keyword['tag']+':'+wordtag)\n",
    "                            augument_SpResponse(responsejson,'keyword',wordtag,keyword['tag'])\n",
    "            elif(steps['type'] == 'd_regex'):\n",
    "                for regex in steps['d_regex']:\n",
    "                    for word in sentenceList:\n",
    "                        regextags = regex_tagging(regex['tag'],regex['pattern'],word)\n",
    "                        if (len(regextags)>0):\n",
    "                            for words in regextags:\n",
    "                                #print('      '+regex['tag']+':'+words)\n",
    "                                augument_SpResponse(responsejson,'entities',words,regex['tag'])\n",
    "            elif(steps['type'] == 'chunking'):\n",
    "                for chunk in steps['chunk']:\n",
    "                    chunktags = chunk_tagging(chunk['tag'],chunk['pattern'],postags)\n",
    "                    if (len(chunktags)>0):\n",
    "                        for words in chunktags:\n",
    "                            #print('      '+chunk['tag']+':'+words)\n",
    "                            augument_SpResponse(responsejson,'entities',words,chunk['tag'])\n",
    "            else:\n",
    "                print('UNKNOWN STEP')\n",
    "    \n",
    "    \n",
    "    return responsejson\n",
    "\n",
    "\n",
    "def replace_unicode_strings(response):\n",
    "    \"\"\" Convert dict with unicode strings to strings.\n",
    "    \"\"\"\n",
    "    if isinstance(response, dict):\n",
    "        return {replace_unicode_strings(key): replace_unicode_strings(value) for key, value in response.iteritems()}\n",
    "    elif isinstance(response, list):\n",
    "        return [replace_unicode_strings(element) for element in response]\n",
    "    elif isinstance(response, unicode):\n",
    "        return response.encode('utf-8')\n",
    "    else:\n",
    "        return response"
   ]
  },
  {
   "cell_type": "markdown",
   "metadata": {},
   "source": [
    "# 4. Correlate text content"
   ]
  },
  {
   "cell_type": "code",
   "execution_count": 102,
   "metadata": {},
   "outputs": [],
   "source": [
    "stopWords = get_stop_words('english')\n",
    "# List of words to be ignored for text similarity\n",
    "stopWords.extend([\"The\",\"This\",\"That\",\".\",\"!\",\"?\"])\n",
    "\n",
    "def compute_text_similarity(text1, text2, text1tags, text2tags):\n",
    "    \"\"\" Compute text similarity using cosine\n",
    "    \"\"\"\n",
    "    #stemming is the process for reducing inflected (or sometimes derived) words to their stem, base or root form\n",
    "    stemmer = nltk.stem.porter.PorterStemmer()\n",
    "    sentences_text1 = split_sentences(text1)\n",
    "    sentences_text2 = split_sentences(text2)\n",
    "    tokens_text1 = []\n",
    "    tokens_text2 = []\n",
    "    \n",
    "    for sentence in sentences_text1:\n",
    "        tokenstemp = split_into_tokens(sentence.lower())\n",
    "        tokens_text1.extend(tokenstemp)\n",
    "    \n",
    "    for sentence in sentences_text2:\n",
    "        tokenstemp = split_into_tokens(sentence.lower())\n",
    "        tokens_text2.extend(tokenstemp)\n",
    "    if (len(text1tags) > 0):  \n",
    "        tokens_text1.extend(text1tags)\n",
    "    if (len(text2tags) > 0):    \n",
    "        tokens_text2.extend(text2tags)\n",
    "    \n",
    "    tokens1Filtered = [stemmer.stem(x) for x in tokens_text1 if x not in stopWords]\n",
    "    \n",
    "    tokens2Filtered = [stemmer.stem(x) for x in tokens_text2 if x not in stopWords]\n",
    "    \n",
    "    #  remove duplicate tokens\n",
    "    tokens1Filtered = set(tokens1Filtered)\n",
    "    tokens2Filtered = set(tokens2Filtered)\n",
    "   \n",
    "    tokensList=[]\n",
    "\n",
    "    text1vector = []\n",
    "    text2vector = []\n",
    "    \n",
    "    if len(tokens1Filtered) < len(tokens2Filtered):\n",
    "        tokensList = tokens1Filtered\n",
    "    else:\n",
    "        tokensList = tokens2Filtered\n",
    "\n",
    "    for token in tokensList:\n",
    "        if token in tokens1Filtered:\n",
    "            text1vector.append(1)\n",
    "        else:\n",
    "            text1vector.append(0)\n",
    "        if token in tokens2Filtered:\n",
    "            text2vector.append(1)\n",
    "        else:\n",
    "            text2vector.append(0)  \n",
    "\n",
    "    cosine_similarity = 1-cosine_distance(text1vector,text2vector)\n",
    "    if numpy.isnan(cosine_similarity):\n",
    "        cosine_similarity = 0\n",
    "    \n",
    "    return cosine_similarity"
   ]
  },
  {
   "cell_type": "markdown",
   "metadata": {},
   "source": [
    "# 5. Persistence and Storage\n",
    "## 5.1 Configure Object Storage Client"
   ]
  },
  {
   "cell_type": "code",
   "execution_count": 103,
   "metadata": {},
   "outputs": [],
   "source": [
    "s3 = boto3.client('s3',\n",
    "                    aws_access_key_id=credentials_1['ACCESS_KEY_ID'],\n",
    "                    aws_secret_access_key=credentials_1['ACCESS_SECRET_KEY'],\n",
    "                    config=Config(signature_version='s3v4')\n",
    "                     )\n",
    "#Enter the path where you want to store data downlaoded from S3\n",
    "\n",
    "\n",
    "def get_file(filename,Location):\n",
    "    #s3.download_file(Bucket=credentials_1['BUCKET'],Key=filename,Filename=Location)\n",
    "    t=\"abc\"\n",
    "\n",
    "#def load_string(fileobject):\n",
    "#    '''Load the file contents into a Python string'''\n",
    "#    text = fileobject.read()\n",
    "#    return text\n",
    "\n",
    "#def load_df(fileobject,sheetname):\n",
    "#    '''Load file contents into a Pandas dataframe'''\n",
    "#    excelFile = pd.ExcelFile(fileobject)\n",
    "#    df = excelFile.parse(sheetname)\n",
    "#    return df\n",
    "\n",
    "#def put_file(filename, filecontents):\n",
    "#    '''Write file to Cloud Object Storage'''\n",
    "#    resp = s3.put_object(Bucket=credentials_1['BUCKET'], Key=filename, Body=filecontents)\n",
    "    #resp = s3.Bucket(Bucket=credentials_1['BUCKET']).put_object(Key=filename, Body=filecontents)\n",
    "#    return resp\n",
    "\n"
   ]
  },
  {
   "cell_type": "markdown",
   "metadata": {},
   "source": [
    "## 5.2 OrientDB client - functions to connect, store and retrieve data"
   ]
  },
  {
   "cell_type": "markdown",
   "metadata": {},
   "source": [
    "** Connect to OrientDB **"
   ]
  },
  {
   "cell_type": "code",
   "execution_count": 104,
   "metadata": {},
   "outputs": [],
   "source": [
    "import pyorient\n",
    "client = pyorient.OrientDB(host=\"localhost\", port=2424)\n",
    "user = \"root\"\n",
    "passw = \"root\"\n",
    "session_id = client.connect(user, passw)"
   ]
  },
  {
   "cell_type": "markdown",
   "metadata": {},
   "source": [
    "** OrientDB Core functions **"
   ]
  },
  {
   "cell_type": "code",
   "execution_count": 105,
   "metadata": {},
   "outputs": [],
   "source": [
    "def create_database(dbname, username, password):\n",
    "    \"\"\" Create a database\n",
    "    \"\"\"\n",
    "    client.db_create( dbname, pyorient.DB_TYPE_GRAPH, pyorient.STORAGE_TYPE_MEMORY )\n",
    "    print(dbname  + \" created and opened successfully\")\n",
    "        \n",
    "def drop_database(dbname):\n",
    "    \"\"\" Drop a database\n",
    "    \"\"\"\n",
    "    if client.db_exists( dbname, pyorient.STORAGE_TYPE_MEMORY ):\n",
    "        client.db_drop(dbname)\n",
    "    \n",
    "def create_class(classname):\n",
    "    \"\"\" Create a class\n",
    "    \"\"\"\n",
    "    command = \"create class \"+classname + \" extends V\"\n",
    "    client.command(command)\n",
    "    \n",
    "def create_record(classname, entityname, attributes):\n",
    "    \"\"\" Create a record\n",
    "    \"\"\"\n",
    "    command = \"insert into \" + classname + \" set \" \n",
    "    attrstring = \"\"\n",
    "    for index,key in enumerate(attributes):\n",
    "        attrstring = attrstring + key + \" = '\"+ attributes[key] + \"'\"\n",
    "        if index != len(attributes) -1:\n",
    "            attrstring = attrstring +\",\"\n",
    "    command = command + attrstring\n",
    "    client.command(command)\n",
    "    \n",
    "def create_domain_dataelements_edge(domainid, dataelementid, attributes):\n",
    "    \"\"\" Create an edge between a domain n dataelement \n",
    "    \"\"\"\n",
    "    command = \"create edge linkeddataelements from (select from Domains where ID = \" + \"'\" + domainid + \"') to (select from DataElements where ID = \" + \"'\" + dataelementid + \"')\" \n",
    "    if len(attributes) > 0:\n",
    "        command = command + \" set \"\n",
    "    attrstring = \"\"\n",
    "    for index,key in enumerate(attributes):\n",
    "        val = attributes[key]\n",
    "        if not isinstance(val, str):\n",
    "            val = str(val)\n",
    "        attrstring = attrstring + key + \" = '\"+ val + \"'\"\n",
    "        if index != len(attributes) -1:\n",
    "            attrstring = attrstring +\",\"\n",
    "    command = command + attrstring\n",
    "    print(command)\n",
    "    client.command(command)    \n",
    "    \n",
    "def create_dataelements_requirement_edge(testcaseid, reqid, attributes):\n",
    "    \"\"\" Create an edge between a testcase and a requirement\n",
    "    \"\"\"\n",
    "    command = \"create edge linkedrequirements from (select from DataElements where ID = \"+ \"'\" + testcaseid+\"') to (select from Requirements where ID = \"+\"'\"+reqid+\"')\" \n",
    "    if len(attributes) > 0:\n",
    "        command = command + \" set \"\n",
    "    attrstring = \"\"\n",
    "    for index,key in enumerate(attributes):\n",
    "        val = attributes[key]\n",
    "        if not isinstance(val, str):\n",
    "            val = str(val)\n",
    "        attrstring = attrstring + key + \" = '\"+ val + \"'\"\n",
    "        if index != len(attributes) -1:\n",
    "            attrstring = attrstring +\",\"\n",
    "    command = command + attrstring\n",
    "    client.command(command)  \n",
    "\n",
    "    \n",
    "def create_requirement_domain_edge(reqid, functionalityid, attributes):\n",
    "    \"\"\" Create an edge between a requirement and a domain\n",
    "    \"\"\"\n",
    "    command = \"create edge linkeddomains from (select from Requirements where ID = \"+ \"'\" + reqid+\"') to (select from Domains where ID = \"+\"'\"+functionalityid+\"')\" \n",
    "    \n",
    "    if len(attributes) > 0:\n",
    "         command = command + \" set \"\n",
    "    attrstring = \"\"\n",
    "    for index,key in enumerate(attributes):\n",
    "        val = attributes[key]\n",
    "        if not isinstance(val, str):\n",
    "            val = str(val)\n",
    "        attrstring = attrstring + key + \" = '\"+ val + \"'\"\n",
    "        if index != len(attributes) -1:\n",
    "            attrstring = attrstring +\",\"\n",
    "    command = command + attrstring\n",
    "    print(command)\n",
    "    client.command(command) \n",
    "    \n",
    "def execute_query(query):\n",
    "    \"\"\" Execute a query\n",
    "    \"\"\"\n",
    "    return client.query(query)"
   ]
  },
  {
   "cell_type": "markdown",
   "metadata": {},
   "source": [
    "** OrientDB Insights **"
   ]
  },
  {
   "cell_type": "code",
   "execution_count": 106,
   "metadata": {},
   "outputs": [],
   "source": [
    "def get_related_domaincases(reqid):\n",
    "    \"\"\" Get the related domaincases for a requirements\n",
    "    \"\"\"\n",
    "    domaincasesQuery = \"select * from ( select expand( out('linkeddomains')) from Requirements where ID = '\" + reqid +\"' )\"\n",
    "    domaincases = execute_query(domaincasesQuery)\n",
    "    scoresQuery = \"select expand(out_linkeddomains) from Requirements where ID = '\"+reqid+\"'\"\n",
    "    scores = execute_query(scoresQuery)\n",
    "    domaincaseList =[]\n",
    "    scoresList= []\n",
    "    for domaincase in domaincases:\n",
    "        domaincaseList.append(domaincase.ID)\n",
    "    for score in scores:\n",
    "        scoresList.append(score.score)\n",
    "    result = {}\n",
    "    length = len(domaincaseList)\n",
    "    for i in range(0, length):\n",
    "        result[domaincaseList[i]] = scoresList[i]\n",
    "    #print(result)\n",
    "    return result\n",
    "\n",
    "def get_related_dataelements(domaincaseid):\n",
    "    \"\"\" Get the related requirements for a testcase\n",
    "    \"\"\"\n",
    "    dataelementsQuery = \"select * from ( select expand( out('linkeddataelements') ) from Domains where ID = '\" + domaincaseid +\"' )\"\n",
    "    dataelements = execute_query(dataelementsQuery)\n",
    "    #print(dataelements)\n",
    "    scoresQuery = \"select expand(out_linkeddataelements) from Domains where ID = '\"+domaincaseid+\"'\"\n",
    "    scores = execute_query(scoresQuery)\n",
    "    dataelementsList =[]\n",
    "    scoresList= []\n",
    "    for dataelement in dataelements:\n",
    "        dataelementsList.append(dataelement.ID)\n",
    "    for score in scores:\n",
    "        scoresList.append(score.score)\n",
    "    result = {}\n",
    "    length = len(dataelementsList)\n",
    "    #print requirementsList, scoresList\n",
    "    for i in range(0, length):\n",
    "        result[dataelementsList[i]] = scoresList[i]\n",
    "    return result\n",
    "\n",
    "\n",
    "def get_related_defects(reqid):\n",
    "    \"\"\" Get the related defects for a requirement\n",
    "    \"\"\"\n",
    "    defectsQuery = \"select * from ( select expand( out('linkeddefects')) from Requirement where ID = '\" + reqid +\"' )\"\n",
    "    defects = execute_query(defectsQuery)\n",
    "    scoresQuery = \"select expand(out_linkeddefects) from Requirement where ID = '\"+reqid+\"'\"\n",
    "    scores = execute_query(scoresQuery)\n",
    "    defectsList =[]\n",
    "    scoresList= []\n",
    "    for defect in defects:\n",
    "        defectsList.append(defect.ID)\n",
    "    for score in scores:\n",
    "        scoresList.append(score.score)\n",
    "    result = {}\n",
    "    length = len(defectsList)\n",
    "    for i in range(0, length):\n",
    "        result[defectsList[i]] = scoresList[i]\n",
    "    return result\n",
    "\n",
    "def build_format_defects_list(defectsResult):\n",
    "    \"\"\" Build and format the OrientDB query results for defects\n",
    "    \"\"\"\n",
    "    defects = []\n",
    "    for defect in defectsResult:\n",
    "        detail = {}\n",
    "        detail['ID'] = defect.ID\n",
    "        detail['Severity'] = defect.Severity\n",
    "        detail['Description'] = defect.Description\n",
    "        defects.append(detail)\n",
    "    return defects\n",
    "\n",
    "def build_format_testcases_list(testcasesResult):\n",
    "    \"\"\" Build and format the OrientDB query results for testcases\n",
    "    \"\"\"\n",
    "    testcases = []\n",
    "    for testcase in testcasesResult:\n",
    "        detail = {}\n",
    "        detail['ID'] = testcase.ID\n",
    "        detail['Category'] = testcase.Category\n",
    "        detail['Description'] = testcase.Description\n",
    "        testcases.append(detail)\n",
    "    return testcases  \n",
    "\n",
    "def build_format_requirements_list(requirementsResult):\n",
    "    \"\"\" Build and format the OrientDB query results for requirements\n",
    "    \"\"\"\n",
    "    requirements = []\n",
    "    for requirement in requirementsResult:\n",
    "        detail = {}\n",
    "        detail['ID'] =requirement.ID\n",
    "        detail['Description'] = requirement.Description\n",
    "        detail['User'] = requirement.User\n",
    "        requirements.append(detail)\n",
    "    return requirements  \n",
    "\n",
    "def get_requirements():\n",
    "    \"\"\" Get all requirements\n",
    "    \"\"\"\n",
    "    requirementsQuery = \"select * from Requirements\"\n",
    "    requirementsResult =  execute_query(requirementsQuery)\n",
    "    requirements = build_format_requirements_list(requirementsResult)\n",
    "    return requirements  \n",
    "\n",
    "def build_format_requirements_list(requirementsResult):\n",
    "    \"\"\" Build and format the OrientDB query results for requirements\n",
    "    \"\"\"\n",
    "    requirements = []\n",
    "    for requirement in requirementsResult:\n",
    "        detail = {}\n",
    "        detail['ID'] =requirement.ID\n",
    "        detail['Description'] = requirement.Description\n",
    "        detail['User'] = requirement.User\n",
    "        requirements.append(detail)\n",
    "    return requirements  \n",
    "\n",
    "def get_requirements():\n",
    "    \"\"\" Get all requirements\n",
    "    \"\"\"\n",
    "    requirementsQuery = \"select * from Requirements\"\n",
    "    requirementsResult =  execute_query(requirementsQuery)\n",
    "    requirements = build_format_requirements_list(requirementsResult)\n",
    "    return requirements \n",
    "\n",
    "def get_related_domaincases(reqid):\n",
    "    \"\"\" Get the related domaincases for a requirements\n",
    "    \"\"\"\n",
    "    domaincasesQuery = \"select * from ( select expand( out('linkeddomains')) from Requirements where ID = '\" + reqid +\"' )\"\n",
    "    domaincases = execute_query(domaincasesQuery)\n",
    "    scoresQuery = \"select expand(out_linkeddomains) from Requirements where ID = '\"+reqid+\"'\"\n",
    "    scores = execute_query(scoresQuery)\n",
    "    domaincaseList =[]\n",
    "    domaincaseAction =[]\n",
    "    scoresList= []\n",
    "    for domaincase in domaincases:\n",
    "        domaincaseList.append(domaincase.ID)\n",
    "        domaincaseAction.append(domaincase.Action)\n",
    "    for score in scores:\n",
    "        scoresList.append(score.score)\n",
    "    result = {}\n",
    "    length = len(domaincaseList)\n",
    "    for i in range(0, length):\n",
    "        result[domaincaseList[i]] = scoresList[i]\n",
    "        #result[domaincaseList[i]] = domaincaseAction[i]\n",
    "    print(result)\n",
    "    return result\n",
    "\n",
    "def get_related_dataelements(domaincaseid):\n",
    "    \"\"\" Get the related requirements for a testcase\n",
    "    \"\"\"\n",
    "    dataelementsQuery = \"select * from ( select expand( out('linkeddataelements') ) from Domains where ID = '\" + domaincaseid +\"' )\"\n",
    "    dataelements = execute_query(dataelementsQuery)\n",
    "    #print(dataelements)\n",
    "    scoresQuery = \"select expand(out_linkeddataelements) from Domains where ID = '\"+domaincaseid+\"'\"\n",
    "    scores = execute_query(scoresQuery)\n",
    "    dataelementsList =[]\n",
    "    scoresList= []\n",
    "    for dataelement in dataelements:\n",
    "        dataelementsList.append(dataelement.ID)\n",
    "    for score in scores:\n",
    "        scoresList.append(score.score)\n",
    "    result = {}\n",
    "    length = len(dataelementsList)\n",
    "    #print requirementsList, scoresList\n",
    "    for i in range(0, length):\n",
    "        result[dataelementsList[i]] = scoresList[i]\n",
    "    return result\n",
    "\n",
    "def get_related_user(reqid):\n",
    "    reqQuery = \"select * from Requirements where ID = '\"+reqid+\"'\"\n",
    "    requirements = execute_query(reqQuery)\n",
    "    result = ''\n",
    "    for requirement in requirements:\n",
    "        print(requirement.User)\n",
    "        result = requirement.User\n",
    "    return result\n",
    "\n",
    "def get_related_action(key):\n",
    "    domQuery = \"select * from Domains where ID = '\"+key+\"'\"\n",
    "    domains = execute_query(domQuery)\n",
    "    result = ''\n",
    "    for domain in domains:\n",
    "        print(domain.Action)\n",
    "        result = domain.Action\n",
    "    return result\n",
    "\n",
    "def get_related_shorthand(key):\n",
    "    shortQuery = \"select * from DataElements where ID = '\"+key+\"'\"\n",
    "    shorts = execute_query(shortQuery)\n",
    "    result = ''\n",
    "    for short in shorts:\n",
    "        print(short.Short)\n",
    "        result = short.Short\n",
    "    return result\n",
    "def get_requirement_defects(numdefects):\n",
    "    \"\"\" Get requirements that have more than a given number of defects\n",
    "    \"\"\"\n",
    "    query = \"select ID,Description,Priority from Requirement where out('linkeddefects').size() >= \" + str(numdefects)\n",
    "    requirementsResult =  execute_query(query)\n",
    "    requirements = build_format_requirements_list(requirementsResult)\n",
    "    for requirement in requirements:\n",
    "        num = len(get_related_defects(requirement['ID']))\n",
    "        requirement['defectcount'] = num\n",
    "    return requirements \n",
    "def merge_apply_filters_d3_bubble(mainList, filterList):\n",
    "    \"\"\" Add a filter attribute to the list elements for processing on UI\n",
    "    \"\"\"\n",
    "    mainListChildren = mainList['children']\n",
    "    filterListChildren = filterList['children']\n",
    "    for child in mainListChildren:\n",
    "        child['filter'] = 0\n",
    "        for child1 in filterListChildren:\n",
    "            if ( child['ID'] == child1['ID']):\n",
    "                child['filter'] = 1\n",
    "    return mainList\n",
    "\n",
    "def get_requirement_defects(numdefects):\n",
    "    \"\"\" Get requirements that have more than a given number of defects\n",
    "    \"\"\"\n",
    "    query = \"select ID,Description,Priority from Requirement where out('linkeddefects').size() >= \" + str(numdefects)\n",
    "    requirementsResult =  execute_query(query)\n",
    "    requirements = build_format_requirements_list(requirementsResult)\n",
    "    for requirement in requirements:\n",
    "        num = len(get_related_defects(requirement['ID']))\n",
    "        requirement['defectcount'] = num\n",
    "    return requirements \n",
    "\n",
    "def get_requirements_banker():\n",
    "    \"\"\" Get requirements that have no defects\n",
    "    \"\"\"\n",
    "    query = \"Select * from Requirements where User = 'Banker'\"\n",
    "    requirementsResult =  execute_query(query)\n",
    "    requirements = build_format_requirements_list(requirementsResult)\n",
    "    return requirements\n",
    "def get_requirements_customer():\n",
    "    \"\"\" Get requirements that have no defects\n",
    "    \"\"\"\n",
    "    query = \"Select * from Requirements where User = 'Customer'\"\n",
    "    requirementsResult =  execute_query(query)\n",
    "    requirements = build_format_requirements_list(requirementsResult)\n",
    "    return requirements\n",
    "def get_requirement_domain(numde):\n",
    "    \"\"\" Get requirements that have more than a given number of defects\n",
    "    \"\"\"\n",
    "    query = \"select ID,Description,User from Requirements where out('linkeddomains').size() <= \" + str(numde)\n",
    "    requirementsResult =  execute_query(query)\n",
    "    requirements = build_format_requirements_list(requirementsResult)\n",
    "    return requirements\n",
    " "
   ]
  },
  {
   "cell_type": "markdown",
   "metadata": {},
   "source": [
    "# 6. Data Preparation"
   ]
  },
  {
   "cell_type": "markdown",
   "metadata": {},
   "source": [
    "## 6.1 Global variables and functions"
   ]
  },
  {
   "cell_type": "code",
   "execution_count": 107,
   "metadata": {},
   "outputs": [],
   "source": [
    "# Name of the excel file with data in S3 Storage\n",
    "BrdFileName = \"Banking-BRD.xlsx\"\n",
    "# Choose or get as an input as to which Domain it belongs to i.e banking, healthcare etc\n",
    "Domain = \"Banking\"\n",
    "\n",
    "# Name of the config files in Object Storage. Rule_brd will be used specifically for parsing requirement document\n",
    "configFileName = \"sample_config.txt\"\n",
    "BRD_configFileName = \"Rule_BRD.txt\"\n",
    "# Config contents\n",
    "config = None;\n",
    "\n",
    "Path = \".//final/\"\n",
    "# Output excell\n",
    "\n",
    "# Requirements dataframe\n",
    "requirements_file_name = \"Requirements.xlsx\"\n",
    "requirements_sheet_name = \"\".join((Domain,\"-Requirements\"))\n",
    "requirements_df = None\n",
    "\n",
    "# Domain/UseCase dataframe\n",
    "domain_file_name = \"Domain.xlsx\"\n",
    "domain_sheet_name = \"\".join((Domain,\"-Domain\"))\n",
    "domain_df = None\n",
    "\n",
    "# DataElements dataframe\n",
    "dataelements_file_name =\"DataElements.xlsx\"\n",
    "dataelements_sheet_name =\"\".join((Domain,\"-Dataelements\"))\n",
    "dataelements_df = None\n",
    "\n",
    "def load_artifacts():\n",
    "    global requirements_df \n",
    "    global domain_df \n",
    "    global dataelements_df \n",
    "    global config\n",
    "    global BRD_config\n",
    "    global Path\n",
    "    Location = \"\".join((Path,requirements_file_name))\n",
    "    get_file(requirements_file_name,Location)\n",
    "    excel = pd.ExcelFile(Location)\n",
    "    requirements_df = excel.parse(requirements_sheet_name)\n",
    "    Location = \"\".join((Path,domain_file_name))\n",
    "    get_file(domain_file_name,Location)\n",
    "    excel = pd.ExcelFile(Location)\n",
    "    domain_df = excel.parse(domain_sheet_name)\n",
    "    Location = \"\".join((Path,dataelements_file_name))\n",
    "    get_file(dataelements_file_name,Location)\n",
    "    excel = pd.ExcelFile(Location)\n",
    "    dataelements_df = excel.parse(dataelements_sheet_name)\n",
    "    rule_text = open(configFileName)\n",
    "    config = rule_text.read()\n",
    "    BRD_rule_text = open(BRD_configFileName)\n",
    "    BRD_config = BRD_rule_text.read()\n",
    "    \n",
    "    \n",
    "\n",
    "def prepare_artifact_dataframes():\n",
    "    \"\"\" Prepare artifact dataframes by creating necessary output columns\n",
    "    \"\"\"\n",
    "    global requirements_df \n",
    "    global domain_df \n",
    "    global dataelements_df \n",
    "    req_cols_len = len(requirements_df.columns)\n",
    "    dom_cols_len = len(domain_df.columns)\n",
    "    dat_cols_len = len(dataelements_df.columns)\n",
    "    requirements_df.insert(req_cols_len, \"ClassifiedText\",\"\")\n",
    "    requirements_df.insert(req_cols_len+1, \"Keywords\",\"\")\n",
    "    requirements_df.insert(req_cols_len+2, \"DomainMatchScore\",\"\")\n",
    "    \n",
    "    domain_df.insert(dom_cols_len, \"ClassifiedText\",\"\")\n",
    "    domain_df.insert(dom_cols_len+1, \"Keywords\",\"\")\n",
    "    domain_df.insert(dom_cols_len+2, \"DataElementsMatchScore\",\"\")\n",
    "\n",
    "    dataelements_df.insert(dat_cols_len, \"ClassifiedText\",\"\")\n",
    "    dataelements_df.insert(dat_cols_len+1, \"Keywords\",\"\")\n",
    "    dataelements_df.insert(dat_cols_len+2, \"RequirementsMatchScore\",\"\")"
   ]
  },
  {
   "cell_type": "markdown",
   "metadata": {},
   "source": [
    "## 6.2 Utility functions for Engineering Insights"
   ]
  },
  {
   "cell_type": "code",
   "execution_count": 108,
   "metadata": {},
   "outputs": [],
   "source": [
    "def mod_req_text_classifier_output(artifact_df, BRD_config, output_column_name):\n",
    "    \"\"\" Add text classifier output to the artifact dataframe based on rule defined in config\n",
    "    \"\"\"\n",
    "    for index, row in artifact_df.iterrows():\n",
    "        summary = row[\"I want to <perform some task>\"]\n",
    "        user = row[\"As a <type of user>\"]\n",
    "        user = \"\".join((user,\" want to \"))\n",
    "        summary = \"\".join((user,summary))\n",
    "        #print(\"--------------\")\n",
    "        #print(summary)\n",
    "        classifier_journey_output = classify_BRD_text(summary, BRD_config)\n",
    "        #print(classifier_journey_output)\n",
    "        artifact_df.set_value(index, output_column_name, classifier_journey_output)\n",
    "    return artifact_df \n",
    "\n",
    "\n",
    "def add_text_classifier_output(artifact_df, config, output_column_name):\n",
    "    \"\"\" Add text classifier output to the artifact dataframe based on rule defined in config\n",
    "    \"\"\"\n",
    "    for index, row in artifact_df.iterrows():\n",
    "        summary = row[\"Description\"]\n",
    "        #print(\"--------------\")\n",
    "        #print(summary)\n",
    "        classifier_journey_output = classify_text(summary, config)\n",
    "        #print(classifier_journey_output)\n",
    "        artifact_df.set_value(index, output_column_name, classifier_journey_output)\n",
    "    return artifact_df \n",
    "           \n",
    "def add_keywords_entities(artifact_df, classify_text_column_name, output_column_name):\n",
    "    \"\"\" Add keywords and entities to the artifact dataframe\"\"\"\n",
    "    for index, artifact in artifact_df.iterrows():\n",
    "        keywords_array = []\n",
    "        for row in artifact[classify_text_column_name]['Keywords']:\n",
    "            #print(row)\n",
    "            if not row['User'] in keywords_array:\n",
    "                keywords_array.append(row['User'])\n",
    "                \n",
    "        for entities in artifact[classify_text_column_name]['Entities']:\n",
    "            if not entities['text'] in keywords_array:\n",
    "                keywords_array.append(entities['text'])\n",
    "            if not entities['type'] in keywords_array:\n",
    "                keywords_array.append(entities['type'])\n",
    "        artifact_df.set_value(index, output_column_name, keywords_array)\n",
    "        #print(keywords_array)\n",
    "    return artifact_df \n",
    "\n",
    "#requirements_df, domain_df, keywords_column_name, output_column_name)\n",
    "\n",
    "def populate_text_similarity_score(artifact_df1, artifact_df2, keywords_column_name, output_column_name):\n",
    "    \"\"\" Populate text similarity score to the artifact dataframes\n",
    "    \"\"\"\n",
    "    heading1 = \"Description\"\n",
    "    heading2 = \"Description\"\n",
    "    \n",
    "    try:\n",
    "        artifact_df1[heading1]\n",
    "    except: \n",
    "        heading1 = \"I want to <perform some task>\"\n",
    "    \n",
    "    try:\n",
    "        artifact_df2[heading2]\n",
    "    except: \n",
    "        heading2 = \"I want to <perform some task>\"    \n",
    "    \n",
    "    \n",
    "    for index1, artifact1 in artifact_df1.iterrows():\n",
    "        matches = []\n",
    "        top_matches = []\n",
    "        for index2, artifact2 in artifact_df2.iterrows():\n",
    "            matches.append({'ID': artifact2['ID'], \n",
    "                            'cosine_score': 0, \n",
    "                            'SubjectID':artifact1['ID']})\n",
    "            cosine_score = compute_text_similarity(\n",
    "                #artifact1['Description'], \n",
    "                #artifact2['Description'], \n",
    "                artifact1[heading1],\n",
    "                artifact2[heading2],\n",
    "                artifact1['Keywords'], \n",
    "                artifact2['Keywords'])\n",
    "            matches[index2][\"cosine_score\"] = cosine_score\n",
    "       \n",
    "        sorted_obj = sorted(matches, key=lambda x : x['cosine_score'], reverse=True)\n",
    "    \n",
    "    # This is where the lower cosine value to be truncated is set and needs to be adjusted based on output\n",
    "    \n",
    "        for obj in sorted_obj:\n",
    "            if obj['cosine_score'] > 0.6:\n",
    "                top_matches.append(obj)\n",
    "               \n",
    "        artifact_df1.set_value(index1, output_column_name, top_matches)\n",
    "    return artifact_df1"
   ]
  },
  {
   "cell_type": "markdown",
   "metadata": {},
   "source": [
    "## 6.3 Process flow"
   ]
  },
  {
   "cell_type": "markdown",
   "metadata": {},
   "source": [
    "** Prepare data **\n",
    "* Load artifacts from object storage and create pandas dataframes\n",
    "* Prepare the pandas dataframes. Add additional columns required for further processing."
   ]
  },
  {
   "cell_type": "code",
   "execution_count": 109,
   "metadata": {},
   "outputs": [],
   "source": [
    "load_artifacts()\n",
    "prepare_artifact_dataframes()\n"
   ]
  },
  {
   "cell_type": "markdown",
   "metadata": {},
   "source": [
    "** Run Text Classification on data **\n",
    "* Add the text classification output to the artifact dataframes"
   ]
  },
  {
   "cell_type": "code",
   "execution_count": 110,
   "metadata": {},
   "outputs": [
    {
     "name": "stderr",
     "output_type": "stream",
     "text": [
      "/anaconda3/lib/python3.6/site-packages/ipykernel_launcher.py:13: FutureWarning: set_value is deprecated and will be removed in a future release. Please use .at[] or .iat[] accessors instead\n",
      "  del sys.path[0]\n",
      "/anaconda3/lib/python3.6/site-packages/ipykernel_launcher.py:26: FutureWarning: set_value is deprecated and will be removed in a future release. Please use .at[] or .iat[] accessors instead\n"
     ]
    }
   ],
   "source": [
    "output_column_name = \"ClassifiedText\"\n",
    "requirements_df = mod_req_text_classifier_output(requirements_df, BRD_config, output_column_name)\n",
    "\n",
    "domain_df = add_text_classifier_output(domain_df,config, output_column_name)\n",
    "dataelements_df = add_text_classifier_output(dataelements_df,config, output_column_name)\n",
    "\n"
   ]
  },
  {
   "cell_type": "markdown",
   "metadata": {},
   "source": [
    "** Populate keywords and entities **\n",
    "* Add the keywords and entities extracted from the unstructured text to the artifact dataframes"
   ]
  },
  {
   "cell_type": "code",
   "execution_count": 111,
   "metadata": {},
   "outputs": [
    {
     "name": "stderr",
     "output_type": "stream",
     "text": [
      "/anaconda3/lib/python3.6/site-packages/ipykernel_launcher.py:43: FutureWarning: set_value is deprecated and will be removed in a future release. Please use .at[] or .iat[] accessors instead\n"
     ]
    }
   ],
   "source": [
    "classify_text_column_name = \"ClassifiedText\"\n",
    "output_column_name = \"Keywords\"\n",
    "requirements_df = add_keywords_entities(requirements_df, classify_text_column_name, output_column_name)\n",
    "domain_df = add_keywords_entities(domain_df, classify_text_column_name, output_column_name)\n",
    "dataelements_df = add_keywords_entities(dataelements_df, classify_text_column_name, output_column_name)\n",
    "\n"
   ]
  },
  {
   "cell_type": "markdown",
   "metadata": {},
   "source": [
    "** Correlate keywords between artifacts **\n",
    "* Add the text similarity score of associated artifacts to the dataframe"
   ]
  },
  {
   "cell_type": "code",
   "execution_count": 112,
   "metadata": {},
   "outputs": [
    {
     "name": "stderr",
     "output_type": "stream",
     "text": [
      "/anaconda3/lib/python3.6/site-packages/ipykernel_launcher.py:90: FutureWarning: set_value is deprecated and will be removed in a future release. Please use .at[] or .iat[] accessors instead\n"
     ]
    }
   ],
   "source": [
    "keywords_column_name = \"Keywords\"\n",
    "output_column_name = \"DomainMatchScore\"\n",
    "requirements_df = populate_text_similarity_score(requirements_df, domain_df, keywords_column_name, output_column_name)\n",
    "\n",
    "output_column_name = \"DataElementsMatchScore\"\n",
    "domain_df = populate_text_similarity_score(domain_df, dataelements_df, keywords_column_name, output_column_name)\n",
    "\n",
    "output_column_name = \"RequirementsMatchScore\"\n",
    "dataelements_df = populate_text_similarity_score(dataelements_df, requirements_df, keywords_column_name, output_column_name)"
   ]
  },
  {
   "cell_type": "markdown",
   "metadata": {},
   "source": [
    "# This section will be used to create the Output in excell format"
   ]
  },
  {
   "cell_type": "code",
   "execution_count": 113,
   "metadata": {},
   "outputs": [],
   "source": [
    "def extract_action(summary):\n",
    "    action_string = \"\"\n",
    "    count = 1\n",
    "    for entities in summary['Entities']:\n",
    "        #print(entities['text'])\n",
    "        if not entities['text'] in action_string:\n",
    "                action_string = action_string + entities['text']\n",
    "                count = count + 1\n",
    "                if count == 2:\n",
    "                    count = 1\n",
    "                    action_string = action_string + \",\"\n",
    "    \n",
    "    #print(action_string)\n",
    "    return action_string\n",
    "\n",
    "def lookup_use_case(temp,artifact3_df,column_name):\n",
    "    #print(artifact3_df.get_value(0,'ID'))\n",
    "    val = \"\"\n",
    "    rowNum = len(artifact3_df.index)\n",
    "    #print(rowNum)\n",
    "    for j in range(0,rowNum):\n",
    "        if temp == artifact3_df.get_value(j,'ID'):\n",
    "            val = artifact3_df.get_value(j,column_name)\n",
    "            #print(val)\n",
    "    \n",
    "    return val       \n",
    "        \n",
    "    \n",
    "def extract_match(summary,no_of_matches,artifact3_df,column_name):\n",
    "    match_array_description = []\n",
    "    match_array_id = []\n",
    "    for index in range(0,no_of_matches):\n",
    "        try:\n",
    "            temp = summary[index][\"ID\"]\n",
    "            \n",
    "        except:\n",
    "              break\n",
    "    \n",
    "            \n",
    "        temp = summary[index][\"ID\"]\n",
    "        #print(temp)\n",
    "        use_case = lookup_use_case(temp,artifact3_df,column_name)\n",
    "        \n",
    "        match_array_id.append(temp)\n",
    "        match_array_description.append(use_case + \"(\" + str(round(summary[index][\"cosine_score\"], 2)) +\")\")\n",
    "        #print(use_case)\n",
    "            \n",
    "    \n",
    "    #print(\"************\")\n",
    "    #print(match_array_id)       \n",
    "    #print(\"************\")\n",
    "    return (match_array_description,match_array_id)\n",
    "\n",
    "\n",
    "        \n",
    "        \n",
    "def extract_action_requirements_df(artifact1_df, artifact2_df):\n",
    "    \"\"\" Add text classifier output to the artifact dataframe based on rule defined in config\n",
    "    \"\"\"\n",
    "    for index, row in artifact2_df.iterrows():\n",
    "        summary = row[\"ClassifiedText\"]\n",
    "        classifier_journey_output = extract_action(summary)\n",
    "        artifact1_df.set_value(index, 'Action', classifier_journey_output)\n",
    "    return artifact1_df \n",
    "\n",
    "def extract_bestmatch(artifact1_df, artifact2_df, artifact3_df, artifact4_df):\n",
    "    \"\"\" Add text classifier output to the artifact dataframe based on rule defined in config\n",
    "    \"\"\"\n",
    "    No_of_matches_user_function = 2\n",
    "    No_of_matches_data_elements = 8\n",
    "    best_match_output_domain_function = []\n",
    "    best_match_output_dataelement_function = []\n",
    "    \n",
    "    for index, row in artifact2_df.iterrows():\n",
    "        summary = row[\"DomainMatchScore\"]\n",
    "        #print(summary)\n",
    "        (best_match_output_domain_function,best_match_output_domain_id) = extract_match(summary, No_of_matches_user_function, artifact3_df,\"User Function\")\n",
    "        #print(best_match_output_domain_id)\n",
    "        artifact1_df.set_value(index, 'Functionality Match', best_match_output_domain_function)\n",
    "        \n",
    "        for index2 in best_match_output_domain_id:\n",
    "            #print(index2)\n",
    "            row_domain = len(artifact3_df.index)\n",
    "            for p in range(0,row_domain):\n",
    "                if index2 == artifact3_df.get_value(p,'ID'):\n",
    "                    dataelement_summary = artifact3_df.get_value(p,'DataElementsMatchScore')\n",
    "                    #print(dataelement_summary)\n",
    "                    #print(\"------\")\n",
    "                    (best_match_output_dataelement_function,best_match_output_dataelement_id) = extract_match(dataelement_summary, No_of_matches_data_elements, artifact4_df, \"Short\")\n",
    "            best_match_output_dataelement_function.extend(best_match_output_dataelement_function)\n",
    "          \n",
    "        #print(best_match_output_dataelement_function)\n",
    "        #print(\"==============\")\n",
    "        #print(index)\n",
    "        best_match_output_dataelement_function = list(set(best_match_output_dataelement_function))\n",
    "        artifact1_df.set_value(index, 'Attributes Match', best_match_output_dataelement_function)\n",
    "    return artifact1_df \n",
    "\n",
    "\n",
    "#if not any(d.get('text', None) == text for d in responsejson['Keywords']):\n",
    "#            responsejson['Keywords'].append({\"User\":text})"
   ]
  },
  {
   "cell_type": "code",
   "execution_count": 114,
   "metadata": {},
   "outputs": [
    {
     "name": "stderr",
     "output_type": "stream",
     "text": [
      "/anaconda3/lib/python3.6/site-packages/ipykernel_launcher.py:63: FutureWarning: set_value is deprecated and will be removed in a future release. Please use .at[] or .iat[] accessors instead\n",
      "/anaconda3/lib/python3.6/site-packages/ipykernel_launcher.py:22: FutureWarning: get_value is deprecated and will be removed in a future release. Please use .at[] or .iat[] accessors instead\n",
      "/anaconda3/lib/python3.6/site-packages/ipykernel_launcher.py:23: FutureWarning: get_value is deprecated and will be removed in a future release. Please use .at[] or .iat[] accessors instead\n",
      "/anaconda3/lib/python3.6/site-packages/ipykernel_launcher.py:79: FutureWarning: set_value is deprecated and will be removed in a future release. Please use .at[] or .iat[] accessors instead\n",
      "/anaconda3/lib/python3.6/site-packages/ipykernel_launcher.py:85: FutureWarning: get_value is deprecated and will be removed in a future release. Please use .at[] or .iat[] accessors instead\n",
      "/anaconda3/lib/python3.6/site-packages/ipykernel_launcher.py:86: FutureWarning: get_value is deprecated and will be removed in a future release. Please use .at[] or .iat[] accessors instead\n",
      "/anaconda3/lib/python3.6/site-packages/ipykernel_launcher.py:96: FutureWarning: set_value is deprecated and will be removed in a future release. Please use .at[] or .iat[] accessors instead\n",
      "/anaconda3/lib/python3.6/site-packages/ipykernel_launcher.py:15: FutureWarning: get_value is deprecated and will be removed in a future release. Please use .at[] or .iat[] accessors instead\n",
      "  from ipykernel import kernelapp as app\n"
     ]
    }
   ],
   "source": [
    "import pandas as pd\n",
    "\n",
    "no_of_rows_brd = len(requirements_df.index)\n",
    "\n",
    "index = range(0,no_of_rows_brd)\n",
    "columns = ['User','Action', 'Functionality Match', 'Attributes Match']\n",
    "\n",
    "\n",
    "SimMean = pd.DataFrame(index=index, columns=columns)\n",
    "#print(requirements_df)\n",
    "SimMean.loc[0:no_of_rows_brd,'User'] = requirements_df.loc[0:no_of_rows_brd,'As a <type of user>'].values\n",
    "SimMean = extract_action_requirements_df(SimMean,requirements_df)\n",
    "SimMean = extract_bestmatch(SimMean,requirements_df,domain_df,dataelements_df)\n",
    "#SimMean = extract_bestmatch_domaintodataelem(SimMean,domain_df)\n",
    "SimMean.get_value(1,\"Attributes Match\")\n",
    "#print(SimMean)\n",
    "\n",
    "writer = pd.ExcelWriter('final_output_banking.xlsx', engine='xlsxwriter')\n",
    "SimMean.to_excel(writer, sheet_name='Sheet1')\n",
    "writer.save()"
   ]
  },
  {
   "cell_type": "markdown",
   "metadata": {},
   "source": [
    "#  \"*\"**********************************************************\"\n",
    "# Next steps :\n",
    "\n",
    "* Populate the correct wording in 3 sheets to provide more accurate and insightful data\n",
    "* Use OrientdB to graph the result of cosine\n",
    "* Use Node Red to start a UI dashboard\n",
    "* Optmize code to reduce memory usage\n",
    "* Move the components like Notebook,OrientDB etc to EC2 AWS ."
   ]
  },
  {
   "cell_type": "markdown",
   "metadata": {},
   "source": [
    "** Utility functions to store entities and relations in Orient DB **"
   ]
  },
  {
   "cell_type": "code",
   "execution_count": 115,
   "metadata": {},
   "outputs": [],
   "source": [
    "def store_requirements(requirements_df):\n",
    "    \"\"\" Store requirements into the database\n",
    "    \"\"\"\n",
    "    for index, row in requirements_df.iterrows():\n",
    "        attrs = {}\n",
    "        reqid = row[\"ID\"]\n",
    "        attrs[\"Description\"] = row[\"I want to <perform some task>\"].replace('\\n', ' ').replace('\\r', '')\n",
    "        attrs[\"ID\"] = reqid\n",
    "        attrs[\"User\"]= str(row[\"As a <type of user>\"])\n",
    "        create_record(requirement_classname, reqid, attrs)    \n",
    "        \n",
    "def store_domain(domain_df):  \n",
    "    \"\"\" Store domain which has user functions into the database\n",
    "    \"\"\"\n",
    "    for index, row in domain_df.iterrows():\n",
    "        attrs = {}\n",
    "        tcaseid = row[\"ID\"]\n",
    "        attrs[\"Description\"] = row[\"Description\"].replace('\\n', ' ').replace('\\r', '')\n",
    "        attrs[\"ID\"] = tcaseid\n",
    "        attrs[\"Action\"] = str(row[\"User Function\"])\n",
    "        create_record(domain_classname, tcaseid, attrs)\n",
    "        \n",
    "def store_dataelements(dataelements_df):\n",
    "    \"\"\" Store data elements or attributes into the database\n",
    "    \"\"\"\n",
    "    for index, row in dataelements_df.iterrows():\n",
    "        attrs = {}\n",
    "        defid = row[\"ID\"]\n",
    "        attrs[\"Description\"] = row[\"Description\"].replace('\\n', ' ').replace('\\r', '')\n",
    "        attrs[\"ID\"] = defid\n",
    "        attrs[\"Short\"] = str(row[\"Short\"])\n",
    "        create_record(dataelement_classname, defid, attrs)\n",
    "        \n",
    "def store_dataelements_requirement_mapping(dataelements_df):\n",
    "    \"\"\" Store the related requirements for testcases into the database\n",
    "    \"\"\"\n",
    "    for index, row in dataelements_df.iterrows():\n",
    "        tcaseid = row[\"ID\"]\n",
    "        requirements = row[\"RequirementsMatchScore\"]\n",
    "        for requirement in requirements:\n",
    "            reqid = requirement[\"ID\"]\n",
    "            attributes = {}\n",
    "            attributes['score'] = requirement['cosine_score']\n",
    "            create_dataelements_requirement_edge(tcaseid,reqid, attributes)\n",
    "            \n",
    "def store_domain_dataelement_mapping(domain_df):\n",
    "    \"\"\" Store the related dataelement for the domain into the database\n",
    "    \"\"\"\n",
    "    for index, row in domain_df.iterrows():\n",
    "        domainid = row[\"ID\"]\n",
    "        dataelements = row[\"DataElementsMatchScore\"]\n",
    "        count = 0\n",
    "        #print(\"---------\")\n",
    "        for dataelement in dataelements:\n",
    "            \n",
    "            if count < 4:\n",
    "                dataelementid = dataelement[\"ID\"]\n",
    "                attributes = {}\n",
    "                attributes['score'] = dataelement[\"cosine_score\"]\n",
    "                create_domain_dataelements_edge(domainid,dataelementid, attributes)\n",
    "                count = count + 1\n",
    "            \n",
    "def store_requirement_domain_mapping(requirements_df):\n",
    "    \"\"\" Store the related domains for the requirements in the database\n",
    "    \"\"\"\n",
    "    for index, row in requirements_df.iterrows():\n",
    "        count = 0\n",
    "        reqid = row[\"ID\"]\n",
    "        functionalities = row[\"DomainMatchScore\"]\n",
    "        #print(\"----------\") \n",
    "        for functionality in functionalities:\n",
    "            \n",
    "            if count < 2:  \n",
    "                functionalityID = functionality[\"ID\"]\n",
    "                cosine_score =  functionality[\"cosine_score\"]\n",
    "                attributes = {}\n",
    "                attributes['score'] = cosine_score\n",
    "                create_requirement_domain_edge(reqid, functionalityID, attributes)\n",
    "                count = count + 1\n",
    "                \n",
    "            "
   ]
  },
  {
   "cell_type": "markdown",
   "metadata": {},
   "source": [
    "** Store artifacts data and relations into OrientDB **\n",
    "* Drop and create a database\n",
    "* Create classes for each category of artifact\n",
    "* Store artifact data\n",
    "* Store artifact relations data"
   ]
  },
  {
   "cell_type": "code",
   "execution_count": 116,
   "metadata": {},
   "outputs": [
    {
     "name": "stdout",
     "output_type": "stream",
     "text": [
      "SoftwareDesignAI created and opened successfully\n",
      "create edge linkeddomains from (select from Requirements where ID = 'R01') to (select from Domains where ID = 'U1') set score = '0.8819171036881969'\n",
      "create edge linkeddomains from (select from Requirements where ID = 'R01') to (select from Domains where ID = 'U25') set score = '0.8819171036881969'\n",
      "create edge linkeddomains from (select from Requirements where ID = 'R02') to (select from Domains where ID = 'U1') set score = '0.7559289460184544'\n",
      "create edge linkeddomains from (select from Requirements where ID = 'R02') to (select from Domains where ID = 'U4') set score = '0.7559289460184544'\n",
      "create edge linkeddomains from (select from Requirements where ID = 'R03') to (select from Domains where ID = 'U3') set score = '0.7745966692414834'\n",
      "create edge linkeddomains from (select from Requirements where ID = 'R03') to (select from Domains where ID = 'U1') set score = '0.6324555320336759'\n",
      "create edge linkeddomains from (select from Requirements where ID = 'R04') to (select from Domains where ID = 'U14') set score = '0.8660254037844387'\n",
      "create edge linkeddomains from (select from Requirements where ID = 'R04') to (select from Domains where ID = 'U16') set score = '0.7071067811865475'\n",
      "create edge linkeddomains from (select from Requirements where ID = 'R05') to (select from Domains where ID = 'U5') set score = '0.8164965809277261'\n",
      "create edge linkeddomains from (select from Requirements where ID = 'R05') to (select from Domains where ID = 'U7') set score = '0.8164965809277261'\n",
      "create edge linkeddomains from (select from Requirements where ID = 'R06') to (select from Domains where ID = 'U15') set score = '0.6546536707079772'\n",
      "create edge linkeddomains from (select from Requirements where ID = 'R07') to (select from Domains where ID = 'U6') set score = '0.6666666666666666'\n",
      "create edge linkeddomains from (select from Requirements where ID = 'R07') to (select from Domains where ID = 'U10') set score = '0.6666666666666666'\n",
      "create edge linkeddomains from (select from Requirements where ID = 'R08') to (select from Domains where ID = 'U10') set score = '0.7453559924999299'\n",
      "create edge linkeddomains from (select from Requirements where ID = 'R08') to (select from Domains where ID = 'U4') set score = '0.6666666666666666'\n",
      "create edge linkeddomains from (select from Requirements where ID = 'R09') to (select from Domains where ID = 'U9') set score = '0.7071067811865475'\n",
      "create edge linkeddomains from (select from Requirements where ID = 'R09') to (select from Domains where ID = 'U2') set score = '0.6123724356957945'\n",
      "create edge linkeddomains from (select from Requirements where ID = 'R10') to (select from Domains where ID = 'U2') set score = '0.7071067811865476'\n",
      "create edge linkeddomains from (select from Requirements where ID = 'R10') to (select from Domains where ID = 'U7') set score = '0.7071067811865476'\n",
      "create edge linkeddataelements from (select from Domains where ID = 'U1') to (select from DataElements where ID = 'DE5') set score = '0.8660254037844387'\n",
      "create edge linkeddataelements from (select from Domains where ID = 'U1') to (select from DataElements where ID = 'DE6') set score = '0.8660254037844387'\n",
      "create edge linkeddataelements from (select from Domains where ID = 'U1') to (select from DataElements where ID = 'DE4') set score = '0.8498365855987976'\n",
      "create edge linkeddataelements from (select from Domains where ID = 'U1') to (select from DataElements where ID = 'DE1') set score = '0.8451542547285166'\n",
      "create edge linkeddataelements from (select from Domains where ID = 'U2') to (select from DataElements where ID = 'DE5') set score = '0.7905694150420948'\n",
      "create edge linkeddataelements from (select from Domains where ID = 'U2') to (select from DataElements where ID = 'DE6') set score = '0.7905694150420948'\n",
      "create edge linkeddataelements from (select from Domains where ID = 'U2') to (select from DataElements where ID = 'DE2') set score = '0.780189497605494'\n",
      "create edge linkeddataelements from (select from Domains where ID = 'U2') to (select from DataElements where ID = 'DE12') set score = '0.7745966692414834'\n",
      "create edge linkeddataelements from (select from Domains where ID = 'U3') to (select from DataElements where ID = 'DE5') set score = '0.9682458365518541'\n",
      "create edge linkeddataelements from (select from Domains where ID = 'U3') to (select from DataElements where ID = 'DE6') set score = '0.9013878188659974'\n",
      "create edge linkeddataelements from (select from Domains where ID = 'U3') to (select from DataElements where ID = 'DE8') set score = '0.7745966692414834'\n",
      "create edge linkeddataelements from (select from Domains where ID = 'U3') to (select from DataElements where ID = 'DE11') set score = '0.7637626158259734'\n",
      "create edge linkeddataelements from (select from Domains where ID = 'U4') to (select from DataElements where ID = 'DE9') set score = '0.8770580193070293'\n",
      "create edge linkeddataelements from (select from Domains where ID = 'U4') to (select from DataElements where ID = 'DE10') set score = '0.8744746321952063'\n",
      "create edge linkeddataelements from (select from Domains where ID = 'U4') to (select from DataElements where ID = 'DE12') set score = '0.7745966692414834'\n",
      "create edge linkeddataelements from (select from Domains where ID = 'U4') to (select from DataElements where ID = 'DE7') set score = '0.7453559924999299'\n",
      "create edge linkeddataelements from (select from Domains where ID = 'U5') to (select from DataElements where ID = 'DE14') set score = '0.7745966692414833'\n",
      "create edge linkeddataelements from (select from Domains where ID = 'U5') to (select from DataElements where ID = 'DE15') set score = '0.7302967433402213'\n",
      "create edge linkeddataelements from (select from Domains where ID = 'U5') to (select from DataElements where ID = 'DE12') set score = '0.7071067811865475'\n",
      "create edge linkeddataelements from (select from Domains where ID = 'U5') to (select from DataElements where ID = 'DE4') set score = '0.6666666666666666'\n",
      "create edge linkeddataelements from (select from Domains where ID = 'U6') to (select from DataElements where ID = 'DE9') set score = '0.8770580193070293'\n",
      "create edge linkeddataelements from (select from Domains where ID = 'U6') to (select from DataElements where ID = 'DE4') set score = '0.74535599249993'\n",
      "create edge linkeddataelements from (select from Domains where ID = 'U6') to (select from DataElements where ID = 'DE7') set score = '0.7453559924999299'\n",
      "create edge linkeddataelements from (select from Domains where ID = 'U6') to (select from DataElements where ID = 'DE10') set score = '0.727606875108999'\n",
      "create edge linkeddataelements from (select from Domains where ID = 'U7') to (select from DataElements where ID = 'DE16') set score = '0.7817359599705717'\n",
      "create edge linkeddataelements from (select from Domains where ID = 'U7') to (select from DataElements where ID = 'DE14') set score = '0.6831300510639732'\n",
      "create edge linkeddataelements from (select from Domains where ID = 'U7') to (select from DataElements where ID = 'DE3') set score = '0.6030226891555273'\n",
      "create edge linkeddataelements from (select from Domains where ID = 'U7') to (select from DataElements where ID = 'DE13') set score = '0.6030226891555273'\n",
      "create edge linkeddataelements from (select from Domains where ID = 'U8') to (select from DataElements where ID = 'DE7') set score = '0.6666666666666666'\n",
      "create edge linkeddataelements from (select from Domains where ID = 'U8') to (select from DataElements where ID = 'DE12') set score = '0.6324555320336759'\n",
      "create edge linkeddataelements from (select from Domains where ID = 'U8') to (select from DataElements where ID = 'DE14') set score = '0.6324555320336759'\n",
      "create edge linkeddataelements from (select from Domains where ID = 'U8') to (select from DataElements where ID = 'DE2') set score = '0.6255432421712244'\n",
      "create edge linkeddataelements from (select from Domains where ID = 'U9') to (select from DataElements where ID = 'DE9') set score = '0.6793662204867575'\n",
      "create edge linkeddataelements from (select from Domains where ID = 'U10') to (select from DataElements where ID = 'DE12') set score = '0.7745966692414834'\n",
      "create edge linkeddataelements from (select from Domains where ID = 'U10') to (select from DataElements where ID = 'DE7') set score = '0.7453559924999299'\n",
      "create edge linkeddataelements from (select from Domains where ID = 'U10') to (select from DataElements where ID = 'DE10') set score = '0.727606875108999'\n",
      "create edge linkeddataelements from (select from Domains where ID = 'U10') to (select from DataElements where ID = 'DE11') set score = '0.7071067811865476'\n",
      "create edge linkeddataelements from (select from Domains where ID = 'U11') to (select from DataElements where ID = 'DE7') set score = '0.6666666666666666'\n",
      "create edge linkeddataelements from (select from Domains where ID = 'U11') to (select from DataElements where ID = 'DE12') set score = '0.6324555320336759'\n",
      "create edge linkeddataelements from (select from Domains where ID = 'U11') to (select from DataElements where ID = 'DE9') set score = '0.6201736729460423'\n"
     ]
    },
    {
     "name": "stdout",
     "output_type": "stream",
     "text": [
      "create edge linkeddataelements from (select from Domains where ID = 'U12') to (select from DataElements where ID = 'DE2') set score = '0.7518094115561125'\n",
      "create edge linkeddataelements from (select from Domains where ID = 'U12') to (select from DataElements where ID = 'DE7') set score = '0.7453559924999299'\n",
      "create edge linkeddataelements from (select from Domains where ID = 'U12') to (select from DataElements where ID = 'DE8') set score = '0.7416198487095663'\n",
      "create edge linkeddataelements from (select from Domains where ID = 'U12') to (select from DataElements where ID = 'DE12') set score = '0.7071067811865475'\n",
      "create edge linkeddataelements from (select from Domains where ID = 'U13') to (select from DataElements where ID = 'DE12') set score = '0.7745966692414834'\n",
      "create edge linkeddataelements from (select from Domains where ID = 'U13') to (select from DataElements where ID = 'DE7') set score = '0.7453559924999299'\n",
      "create edge linkeddataelements from (select from Domains where ID = 'U13') to (select from DataElements where ID = 'DE11') set score = '0.7071067811865476'\n",
      "create edge linkeddataelements from (select from Domains where ID = 'U13') to (select from DataElements where ID = 'DE9') set score = '0.6793662204867575'\n",
      "create edge linkeddataelements from (select from Domains where ID = 'U14') to (select from DataElements where ID = 'DE2') set score = '0.7223151185146154'\n",
      "create edge linkeddataelements from (select from Domains where ID = 'U14') to (select from DataElements where ID = 'DE12') set score = '0.7071067811865475'\n",
      "create edge linkeddataelements from (select from Domains where ID = 'U14') to (select from DataElements where ID = 'DE9') set score = '0.6793662204867575'\n",
      "create edge linkeddataelements from (select from Domains where ID = 'U14') to (select from DataElements where ID = 'DE8') set score = '0.6708203932499369'\n",
      "create edge linkeddataelements from (select from Domains where ID = 'U15') to (select from DataElements where ID = 'DE7') set score = '0.6666666666666666'\n",
      "create edge linkeddataelements from (select from Domains where ID = 'U15') to (select from DataElements where ID = 'DE12') set score = '0.6324555320336759'\n",
      "create edge linkeddataelements from (select from Domains where ID = 'U15') to (select from DataElements where ID = 'DE2') set score = '0.6255432421712244'\n",
      "create edge linkeddataelements from (select from Domains where ID = 'U15') to (select from DataElements where ID = 'DE9') set score = '0.6201736729460423'\n",
      "create edge linkeddataelements from (select from Domains where ID = 'U16') to (select from DataElements where ID = 'DE9') set score = '0.7337993857053429'\n",
      "create edge linkeddataelements from (select from Domains where ID = 'U16') to (select from DataElements where ID = 'DE10') set score = '0.6859943405700353'\n",
      "create edge linkeddataelements from (select from Domains where ID = 'U16') to (select from DataElements where ID = 'DE7') set score = '0.6666666666666666'\n",
      "create edge linkeddataelements from (select from Domains where ID = 'U16') to (select from DataElements where ID = 'DE12') set score = '0.6324555320336759'\n",
      "create edge linkeddataelements from (select from Domains where ID = 'U17') to (select from DataElements where ID = 'DE7') set score = '0.6666666666666666'\n",
      "create edge linkeddataelements from (select from Domains where ID = 'U17') to (select from DataElements where ID = 'DE12') set score = '0.6324555320336759'\n",
      "create edge linkeddataelements from (select from Domains where ID = 'U17') to (select from DataElements where ID = 'DE2') set score = '0.6255432421712244'\n",
      "create edge linkeddataelements from (select from Domains where ID = 'U17') to (select from DataElements where ID = 'DE9') set score = '0.6201736729460423'\n",
      "create edge linkeddataelements from (select from Domains where ID = 'U18') to (select from DataElements where ID = 'DE7') set score = '0.6666666666666666'\n",
      "create edge linkeddataelements from (select from Domains where ID = 'U18') to (select from DataElements where ID = 'DE12') set score = '0.6324555320336759'\n",
      "create edge linkeddataelements from (select from Domains where ID = 'U18') to (select from DataElements where ID = 'DE14') set score = '0.6324555320336759'\n",
      "create edge linkeddataelements from (select from Domains where ID = 'U20') to (select from DataElements where ID = 'DE13') set score = '0.6030226891555273'\n",
      "create edge linkeddataelements from (select from Domains where ID = 'U21') to (select from DataElements where ID = 'DE5') set score = '0.7071067811865475'\n",
      "create edge linkeddataelements from (select from Domains where ID = 'U21') to (select from DataElements where ID = 'DE6') set score = '0.7071067811865475'\n",
      "create edge linkeddataelements from (select from Domains where ID = 'U21') to (select from DataElements where ID = 'DE9') set score = '0.6793662204867575'\n",
      "create edge linkeddataelements from (select from Domains where ID = 'U21') to (select from DataElements where ID = 'DE12') set score = '0.6324555320336759'\n",
      "create edge linkeddataelements from (select from Domains where ID = 'U22') to (select from DataElements where ID = 'DE9') set score = '0.6793662204867575'\n",
      "create edge linkeddataelements from (select from Domains where ID = 'U25') to (select from DataElements where ID = 'DE4') set score = '0.7071067811865476'\n",
      "create edge linkeddataelements from (select from Domains where ID = 'U25') to (select from DataElements where ID = 'DE8') set score = '0.7071067811865475'\n",
      "create edge linkeddataelements from (select from Domains where ID = 'U25') to (select from DataElements where ID = 'DE2') set score = '0.6915640748081248'\n",
      "create edge linkeddataelements from (select from Domains where ID = 'U25') to (select from DataElements where ID = 'DE9') set score = '0.6793662204867575'\n"
     ]
    }
   ],
   "source": [
    "drop_database(\"SoftwareDesignAI\")\n",
    "create_database(\"SoftwareDesignAI\", \"admin\", \"admin\")\n",
    "\n",
    "requirement_classname = \"Requirements\"\n",
    "domain_classname = \"Domains\"\n",
    "dataelement_classname = \"DataElements\"\n",
    "\n",
    "create_class(requirement_classname)\n",
    "create_class(domain_classname)\n",
    "create_class(dataelement_classname)\n",
    "\n",
    "\n",
    "\n",
    "store_requirements(requirements_df)\n",
    "store_dataelements(dataelements_df)\n",
    "store_domain(domain_df)\n",
    "\n",
    "\n",
    "store_requirement_domain_mapping(requirements_df)\n",
    "store_domain_dataelement_mapping(domain_df)\n",
    "store_dataelements_requirement_mapping(dataelements_df)\n",
    "\n"
   ]
  },
  {
   "cell_type": "markdown",
   "metadata": {},
   "source": [
    "# 7. Transform results for Visualization"
   ]
  },
  {
   "cell_type": "code",
   "execution_count": 117,
   "metadata": {},
   "outputs": [],
   "source": [
    "def get_artifacts_mapping_d3_tree(defectId):\n",
    "    \"\"\" Create an artifacts mapping json for display by d3js tree widget\n",
    "    \"\"\"\n",
    "    depTree = {}\n",
    "    depTree['ID'] = defectId\n",
    "    testcases = get_related_testcases(defectId)\n",
    "    \n",
    "    depTree['children'] = []\n",
    "    i=1\n",
    "    for key in testcases:\n",
    "        #print key,testcases[key]\n",
    "        testcaseChildren = {}\n",
    "        testcaseChildren['ID'] = key\n",
    "        testcaseChildren['Score'] = testcases[key]\n",
    "        testcaseChildren['children'] = []\n",
    "        depTree['children'].append(testcaseChildren)\n",
    "        requirements = get_related_requirements(key)\n",
    "        \n",
    "        for key in requirements:\n",
    "            requirementChildren = {}\n",
    "            requirementChildren['ID']=key\n",
    "            requirementChildren['Score']=requirements[key]\n",
    "            testcaseChildren['children'].append(requirementChildren)\n",
    "    return depTree \n",
    "\n",
    "def get_artifacts_mapping_d3_network(reqid):\n",
    "    \"\"\" Create an artifacts mapping json for display by d3js network widget\n",
    "    \"\"\"\n",
    "    nodes =[]\n",
    "    links =[] \n",
    "    req = {}\n",
    "    req['id'] = reqid\n",
    "    req['group'] = 1\n",
    "    nodes.append(req)\n",
    "    \n",
    "    domaincases = get_related_domaincases(reqid)\n",
    "    \n",
    "    for key in domaincases:\n",
    "        domaincase ={}\n",
    "        domaincaseid = key\n",
    "        domaincase['id'] = domaincaseid\n",
    "        domaincase['group'] = 2\n",
    "        if domaincase not in nodes:\n",
    "            nodes.append(domaincase)\n",
    "        link = {}\n",
    "        link['source'] = reqid\n",
    "        link['target']=domaincaseid\n",
    "        link['value']=domaincases[domaincaseid]\n",
    "        links.append(link)\n",
    "        dataelements = get_related_dataelements(key)\n",
    "        for key in dataelements:\n",
    "            dataelement ={}\n",
    "            dataelement['id'] = key\n",
    "            dataelement['group'] = 3\n",
    "            if dataelement not in nodes:\n",
    "                nodes.append(dataelement)\n",
    "            link = {}\n",
    "            link['source'] = domaincaseid\n",
    "            link['target'] = key\n",
    "            link['value'] = dataelements[key]\n",
    "            links.append(link)\n",
    "            \n",
    "    result ={}\n",
    "    result[\"nodes\"] = nodes\n",
    "    result[\"links\"] = links\n",
    "    return result\n",
    "\n",
    "def get_tc_req_mapping_d3_network(testcaseid):\n",
    "    \"\"\" Create a testcases to requirement mapping json for display by d3js network widget\n",
    "    \"\"\"\n",
    "    nodes =[]\n",
    "    links =[] \n",
    "    testcase = {}\n",
    "    testcase['id'] = testcaseid\n",
    "    testcase['group'] = 2\n",
    "    nodes.append(testcase)\n",
    "    requirements = get_related_requirements(testcaseid)\n",
    "    for key in requirements:            \n",
    "        requirement ={}\n",
    "        requirement['id'] = key\n",
    "        requirement['group'] = 3\n",
    "        nodes.append(requirement)\n",
    "            \n",
    "        link = {}\n",
    "        link['source'] = testcaseid\n",
    "        link['target'] = key\n",
    "        link['value'] = requirements[key]\n",
    "        links.append(link)\n",
    "    result ={}\n",
    "    result[\"nodes\"] = nodes\n",
    "    result[\"links\"] = links\n",
    "    return result\n",
    "\n",
    "def transform_defects_d3_bubble(defects):\n",
    "    \"\"\" Transform the defects list output to a json for display by d3js bubble chart\"\"\"\n",
    "    defectsList = {}\n",
    "    defectsList['name'] = \"defect\"\n",
    "    children = []\n",
    "    for defect in defects:\n",
    "        detail = {}\n",
    "        sizeList = [400,230,130]\n",
    "        detail[\"ID\"] = defect['ID']\n",
    "        severity = int(defect['Severity'])\n",
    "        detail[\"group\"] = str(severity)\n",
    "        detail[\"size\"] = sizeList[severity-1]\n",
    "        children.append(detail)\n",
    "    defectsList['children'] = children \n",
    "    return defectsList\n",
    "\n",
    "def transform_testcases_d3_bubble(testcases):\n",
    "    \"\"\" Transform the testcases list output to a json for display by d3js bubble chart\"\"\"\n",
    "    testcasesList = {}\n",
    "    testcasesList['name'] = \"test\"\n",
    "    sizeList = {}\n",
    "    sizeList[\"FVT\"]=200\n",
    "    sizeList[\"TVT\"]=110\n",
    "    sizeList[\"SVT\"]=400\n",
    "    children = []\n",
    "    for testcase in testcases:\n",
    "        detail = {}\n",
    "        detail[\"ID\"] = testcase['ID']\n",
    "        detail[\"group\"] = testcase['Category']\n",
    "        detail[\"size\"]= sizeList[testcase['Category']]\n",
    "        children.append(detail)\n",
    "    testcasesList['children'] = children \n",
    "    return testcasesList\n",
    "\n",
    "def transform_requirements_d3_bubble(requirements):\n",
    "    \"\"\" Transform the requirements list output to a json for display by d3js bubble chart\"\"\"\n",
    "    requirementsList = {}\n",
    "    requirementsList['name'] = \"requirement\"\n",
    "    sizeList = {}\n",
    "    sizeList[1]=300\n",
    "    sizeList[2]=100\n",
    "    sizeList[3]=75\n",
    "    children = []\n",
    "    for requirement in requirements:\n",
    "        detail = {}\n",
    "        size = 0\n",
    "        detail[\"ID\"] = requirement['ID']\n",
    "        detail[\"group\"] = requirement['User']\n",
    "        if requirement['User'] == 'Customer':\n",
    "            size = 2\n",
    "        elif requirement['User'] == 'Banker':\n",
    "            size = 3\n",
    "        else:\n",
    "            size = 1\n",
    "        detail[\"size\"]= sizeList[size]\n",
    "        if 'defectcount' in requirement:\n",
    "            detail['defectcount'] = requirement['defectcount']\n",
    "        children.append(detail)\n",
    "    requirementsList['children'] = children \n",
    "    return requirementsList\n",
    "\n",
    "def merge_apply_filters_d3_bubble(mainList, filterList):\n",
    "    \"\"\" Add a filter attribute to the list elements for processing on UI\n",
    "    \"\"\"\n",
    "    mainListChildren = mainList['children']\n",
    "    filterListChildren = filterList['children']\n",
    "    for child in mainListChildren:\n",
    "        child['filter'] = 0\n",
    "        for child1 in filterListChildren:\n",
    "            if ( child['ID'] == child1['ID']):\n",
    "                child['filter'] = 1\n",
    "    return mainList  \n",
    "\n",
    "def setup_download_excel():\n",
    "    \"\"\" Transform the requirements list output to a json for display by d3js bubble chart\"\"\"\n",
    "    \n",
    "    requirementsList = {}\n",
    "    requirementsList['name'] = \"download\"\n",
    "    children = []\n",
    "    detail = {}\n",
    "    detail[\"filename\"] = \"final_output.xlsx\"\n",
    "    detail[\"path\"] = \"/Users/swaroopmishra/Desktop/pythonscript/NLP_Project/nWave_softwareDesign/notebook/\"\n",
    "    children.append(detail)\n",
    "    detail = {}\n",
    "    detail[\"filename\"] = \"excel_download.jpg\"\n",
    "    detail[\"path\"] = \"/Users/swaroopmishra/Desktop/pythonscript/NLP_Project/nWave_softwareDesign/notebook/\"\n",
    "    children.append(detail)\n",
    "    requirementsList['children'] = children \n",
    "    return requirementsList"
   ]
  },
  {
   "cell_type": "markdown",
   "metadata": {},
   "source": [
    "# The following snippet is for temporary purpose and will be used to check server side programing"
   ]
  },
  {
   "cell_type": "code",
   "execution_count": 118,
   "metadata": {},
   "outputs": [
    {
     "name": "stdout",
     "output_type": "stream",
     "text": [
      "{\n",
      "  \"forCmd\": \"GetExcel\",\n",
      "  \"response\": {\n",
      "    \"name\": \"download\",\n",
      "    \"children\": [\n",
      "      {\n",
      "        \"filename\": \"final_output.xlsx\",\n",
      "        \"path\": \"/Users/swaroopmishra/Desktop/pythonscript/NLP_Project/nWave_softwareDesign/notebook/\"\n",
      "      },\n",
      "      {\n",
      "        \"filename\": \"excel_download.jpg\",\n",
      "        \"path\": \"/Users/swaroopmishra/Desktop/pythonscript/NLP_Project/nWave_softwareDesign/notebook/\"\n",
      "      }\n",
      "    ]\n",
      "  }\n",
      "}\n"
     ]
    }
   ],
   "source": [
    "def build_format_requirements_list(requirementsResult):\n",
    "    \"\"\" Build and format the OrientDB query results for requirements\n",
    "    \"\"\"\n",
    "    requirements = []\n",
    "    for requirement in requirementsResult:\n",
    "        detail = {}\n",
    "        detail['ID'] =requirement.ID\n",
    "        detail['Description'] = requirement.Description\n",
    "        detail['User'] = requirement.User\n",
    "        requirements.append(detail)\n",
    "    return requirements  \n",
    "\n",
    "def get_requirements():\n",
    "    \"\"\" Get all requirements\n",
    "    \"\"\"\n",
    "    requirementsQuery = \"select * from Requirements\"\n",
    "    requirementsResult =  execute_query(requirementsQuery)\n",
    "    requirements = build_format_requirements_list(requirementsResult)\n",
    "    return requirements  \n",
    "def transform_requirements_d3_bubble(requirements):\n",
    "    \"\"\" Transform the requirements list output to a json for display by d3js bubble chart\"\"\"\n",
    "    requirementsList = {}\n",
    "    requirementsList['name'] = \"requirement\"\n",
    "    sizeList = {}\n",
    "    sizeList[1]=300\n",
    "    sizeList[2]=100\n",
    "    sizeList[3]=75\n",
    "    children = []\n",
    "    for requirement in requirements:\n",
    "        detail = {}\n",
    "        size = 0\n",
    "        detail[\"ID\"] = requirement['ID']\n",
    "        detail[\"group\"] = requirement['User']\n",
    "        if requirement['User'] == 'Customer':\n",
    "            size = 2\n",
    "        elif requirement['User'] == 'Banker':\n",
    "            size = 3\n",
    "        else:\n",
    "            size = 1\n",
    "        detail[\"size\"]= sizeList[size]\n",
    "        if 'defectcount' in requirement:\n",
    "            detail['defectcount'] = requirement['defectcount']\n",
    "        children.append(detail)\n",
    "    requirementsList['children'] = children \n",
    "    return requirementsList\n",
    "\n",
    "\n",
    "#wsresponse = {}\n",
    "#wsresponse[\"forCmd\"] = \"ReqsList\"\n",
    "#requirements = get_requirements()\n",
    "#wsresponse[\"response\"] = transform_requirements_d3_bubble(requirements)\n",
    "#print(json.dumps(wsresponse, indent=2))\n",
    "\n",
    "\n",
    "\n",
    "def setup_download_excel():\n",
    "    \"\"\" Transform the requirements list output to a json for display by d3js bubble chart\"\"\"\n",
    "    \n",
    "    requirementsList = {}\n",
    "    requirementsList['name'] = \"download\"\n",
    "    children = []\n",
    "    detail = {}\n",
    "    detail[\"filename\"] = \"final_output.xlsx\"\n",
    "    detail[\"path\"] = \"/Users/swaroopmishra/Desktop/pythonscript/NLP_Project/nWave_softwareDesign/notebook/\"\n",
    "    children.append(detail)\n",
    "    detail = {}\n",
    "    detail[\"filename\"] = \"excel_download.jpg\"\n",
    "    detail[\"path\"] = \"/Users/swaroopmishra/Desktop/pythonscript/NLP_Project/nWave_softwareDesign/notebook/\"\n",
    "    children.append(detail)\n",
    "    requirementsList['children'] = children \n",
    "    return requirementsList\n",
    "\n",
    "wsresponse = {}\n",
    "wsresponse[\"forCmd\"] = \"GetExcel\"\n",
    "wsresponse[\"response\"] = setup_download_excel()\n",
    "\n",
    "print(json.dumps(wsresponse, indent=2))"
   ]
  },
  {
   "cell_type": "markdown",
   "metadata": {},
   "source": [
    "# 8. Expose integration point with a websocket client"
   ]
  },
  {
   "cell_type": "code",
   "execution_count": 119,
   "metadata": {},
   "outputs": [
    {
     "name": "stdout",
     "output_type": "stream",
     "text": [
      "Customer\n",
      "{'U1': '0.8819171036881969', 'U25': '0.8819171036881969'}\n",
      "1 - nodes\n",
      "[{'id': 'R01', 'group': 1, 'desc': 'Customer'}]\n",
      "2 - domaincases\n",
      "{'U1': '0.8819171036881969', 'U25': '0.8819171036881969'}\n",
      "3  - For each domaincases\n",
      "U1\n",
      "Verify PIN\n",
      "4 - appended node\n",
      "[{'id': 'R01', 'group': 1, 'desc': 'Customer'}, {'id': 'U1', 'group': 2, 'desc': 'Verify PIN'}]\n",
      "5 - create links for individual domaincase\n",
      "[{'source': 'R01', 'target': 'U1', 'value': '0.8819171036881969'}]\n",
      "6 - for the domain case find dataelements\n",
      "{'DE5': '0.8660254037844387', 'DE6': '0.8660254037844387', 'DE4': '0.8498365855987976', 'DE1': '0.8451542547285166'}\n",
      "7- individual dataelements\n",
      "DE5\n",
      "From_AcctNum\n",
      "8 - appended node with dataelement\n",
      "[{'id': 'R01', 'group': 1, 'desc': 'Customer'}, {'id': 'U1', 'group': 2, 'desc': 'Verify PIN'}, {'id': 'DE5', 'group': 3, 'desc': 'From_AcctNum'}]\n",
      "9- create links for dataelements\n",
      "[{'source': 'R01', 'target': 'U1', 'value': '0.8819171036881969'}, {'source': 'U1', 'target': 'DE5', 'value': '0.8660254037844387'}]\n",
      "7- individual dataelements\n",
      "DE6\n",
      "To_AcctNum\n",
      "8 - appended node with dataelement\n",
      "[{'id': 'R01', 'group': 1, 'desc': 'Customer'}, {'id': 'U1', 'group': 2, 'desc': 'Verify PIN'}, {'id': 'DE5', 'group': 3, 'desc': 'From_AcctNum'}, {'id': 'DE6', 'group': 3, 'desc': 'To_AcctNum'}]\n",
      "9- create links for dataelements\n",
      "[{'source': 'R01', 'target': 'U1', 'value': '0.8819171036881969'}, {'source': 'U1', 'target': 'DE5', 'value': '0.8660254037844387'}, {'source': 'U1', 'target': 'DE6', 'value': '0.8660254037844387'}]\n",
      "7- individual dataelements\n",
      "DE4\n",
      "Debit_pin\n",
      "8 - appended node with dataelement\n",
      "[{'id': 'R01', 'group': 1, 'desc': 'Customer'}, {'id': 'U1', 'group': 2, 'desc': 'Verify PIN'}, {'id': 'DE5', 'group': 3, 'desc': 'From_AcctNum'}, {'id': 'DE6', 'group': 3, 'desc': 'To_AcctNum'}, {'id': 'DE4', 'group': 3, 'desc': 'Debit_pin'}]\n",
      "9- create links for dataelements\n",
      "[{'source': 'R01', 'target': 'U1', 'value': '0.8819171036881969'}, {'source': 'U1', 'target': 'DE5', 'value': '0.8660254037844387'}, {'source': 'U1', 'target': 'DE6', 'value': '0.8660254037844387'}, {'source': 'U1', 'target': 'DE4', 'value': '0.8498365855987976'}]\n",
      "7- individual dataelements\n",
      "DE1\n",
      "Cus_Nme\n",
      "8 - appended node with dataelement\n",
      "[{'id': 'R01', 'group': 1, 'desc': 'Customer'}, {'id': 'U1', 'group': 2, 'desc': 'Verify PIN'}, {'id': 'DE5', 'group': 3, 'desc': 'From_AcctNum'}, {'id': 'DE6', 'group': 3, 'desc': 'To_AcctNum'}, {'id': 'DE4', 'group': 3, 'desc': 'Debit_pin'}, {'id': 'DE1', 'group': 3, 'desc': 'Cus_Nme'}]\n",
      "9- create links for dataelements\n",
      "[{'source': 'R01', 'target': 'U1', 'value': '0.8819171036881969'}, {'source': 'U1', 'target': 'DE5', 'value': '0.8660254037844387'}, {'source': 'U1', 'target': 'DE6', 'value': '0.8660254037844387'}, {'source': 'U1', 'target': 'DE4', 'value': '0.8498365855987976'}, {'source': 'U1', 'target': 'DE1', 'value': '0.8451542547285166'}]\n",
      "3  - For each domaincases\n",
      "U25\n",
      "Deposit Cheque\n",
      "4 - appended node\n",
      "[{'id': 'R01', 'group': 1, 'desc': 'Customer'}, {'id': 'U1', 'group': 2, 'desc': 'Verify PIN'}, {'id': 'DE5', 'group': 3, 'desc': 'From_AcctNum'}, {'id': 'DE6', 'group': 3, 'desc': 'To_AcctNum'}, {'id': 'DE4', 'group': 3, 'desc': 'Debit_pin'}, {'id': 'DE1', 'group': 3, 'desc': 'Cus_Nme'}, {'id': 'U25', 'group': 2, 'desc': 'Deposit Cheque'}]\n",
      "5 - create links for individual domaincase\n",
      "[{'source': 'R01', 'target': 'U1', 'value': '0.8819171036881969'}, {'source': 'U1', 'target': 'DE5', 'value': '0.8660254037844387'}, {'source': 'U1', 'target': 'DE6', 'value': '0.8660254037844387'}, {'source': 'U1', 'target': 'DE4', 'value': '0.8498365855987976'}, {'source': 'U1', 'target': 'DE1', 'value': '0.8451542547285166'}, {'source': 'R01', 'target': 'U25', 'value': '0.8819171036881969'}]\n",
      "6 - for the domain case find dataelements\n",
      "{'DE4': '0.7071067811865476', 'DE8': '0.7071067811865475', 'DE2': '0.6915640748081248', 'DE9': '0.6793662204867575'}\n",
      "7- individual dataelements\n",
      "DE4\n",
      "Debit_pin\n",
      "8 - appended node with dataelement\n",
      "[{'id': 'R01', 'group': 1, 'desc': 'Customer'}, {'id': 'U1', 'group': 2, 'desc': 'Verify PIN'}, {'id': 'DE5', 'group': 3, 'desc': 'From_AcctNum'}, {'id': 'DE6', 'group': 3, 'desc': 'To_AcctNum'}, {'id': 'DE4', 'group': 3, 'desc': 'Debit_pin'}, {'id': 'DE1', 'group': 3, 'desc': 'Cus_Nme'}, {'id': 'U25', 'group': 2, 'desc': 'Deposit Cheque'}]\n",
      "9- create links for dataelements\n",
      "[{'source': 'R01', 'target': 'U1', 'value': '0.8819171036881969'}, {'source': 'U1', 'target': 'DE5', 'value': '0.8660254037844387'}, {'source': 'U1', 'target': 'DE6', 'value': '0.8660254037844387'}, {'source': 'U1', 'target': 'DE4', 'value': '0.8498365855987976'}, {'source': 'U1', 'target': 'DE1', 'value': '0.8451542547285166'}, {'source': 'R01', 'target': 'U25', 'value': '0.8819171036881969'}, {'source': 'U25', 'target': 'DE4', 'value': '0.7071067811865476'}]\n",
      "7- individual dataelements\n",
      "DE8\n",
      "Acc_type\n",
      "8 - appended node with dataelement\n",
      "[{'id': 'R01', 'group': 1, 'desc': 'Customer'}, {'id': 'U1', 'group': 2, 'desc': 'Verify PIN'}, {'id': 'DE5', 'group': 3, 'desc': 'From_AcctNum'}, {'id': 'DE6', 'group': 3, 'desc': 'To_AcctNum'}, {'id': 'DE4', 'group': 3, 'desc': 'Debit_pin'}, {'id': 'DE1', 'group': 3, 'desc': 'Cus_Nme'}, {'id': 'U25', 'group': 2, 'desc': 'Deposit Cheque'}, {'id': 'DE8', 'group': 3, 'desc': 'Acc_type'}]\n",
      "9- create links for dataelements\n",
      "[{'source': 'R01', 'target': 'U1', 'value': '0.8819171036881969'}, {'source': 'U1', 'target': 'DE5', 'value': '0.8660254037844387'}, {'source': 'U1', 'target': 'DE6', 'value': '0.8660254037844387'}, {'source': 'U1', 'target': 'DE4', 'value': '0.8498365855987976'}, {'source': 'U1', 'target': 'DE1', 'value': '0.8451542547285166'}, {'source': 'R01', 'target': 'U25', 'value': '0.8819171036881969'}, {'source': 'U25', 'target': 'DE4', 'value': '0.7071067811865476'}, {'source': 'U25', 'target': 'DE8', 'value': '0.7071067811865475'}]\n",
      "7- individual dataelements\n",
      "DE2\n",
      "Acc_num\n",
      "8 - appended node with dataelement\n",
      "[{'id': 'R01', 'group': 1, 'desc': 'Customer'}, {'id': 'U1', 'group': 2, 'desc': 'Verify PIN'}, {'id': 'DE5', 'group': 3, 'desc': 'From_AcctNum'}, {'id': 'DE6', 'group': 3, 'desc': 'To_AcctNum'}, {'id': 'DE4', 'group': 3, 'desc': 'Debit_pin'}, {'id': 'DE1', 'group': 3, 'desc': 'Cus_Nme'}, {'id': 'U25', 'group': 2, 'desc': 'Deposit Cheque'}, {'id': 'DE8', 'group': 3, 'desc': 'Acc_type'}, {'id': 'DE2', 'group': 3, 'desc': 'Acc_num'}]\n",
      "9- create links for dataelements\n",
      "[{'source': 'R01', 'target': 'U1', 'value': '0.8819171036881969'}, {'source': 'U1', 'target': 'DE5', 'value': '0.8660254037844387'}, {'source': 'U1', 'target': 'DE6', 'value': '0.8660254037844387'}, {'source': 'U1', 'target': 'DE4', 'value': '0.8498365855987976'}, {'source': 'U1', 'target': 'DE1', 'value': '0.8451542547285166'}, {'source': 'R01', 'target': 'U25', 'value': '0.8819171036881969'}, {'source': 'U25', 'target': 'DE4', 'value': '0.7071067811865476'}, {'source': 'U25', 'target': 'DE8', 'value': '0.7071067811865475'}, {'source': 'U25', 'target': 'DE2', 'value': '0.6915640748081248'}]\n",
      "7- individual dataelements\n",
      "DE9\n",
      "Bill_type\n",
      "8 - appended node with dataelement\n",
      "[{'id': 'R01', 'group': 1, 'desc': 'Customer'}, {'id': 'U1', 'group': 2, 'desc': 'Verify PIN'}, {'id': 'DE5', 'group': 3, 'desc': 'From_AcctNum'}, {'id': 'DE6', 'group': 3, 'desc': 'To_AcctNum'}, {'id': 'DE4', 'group': 3, 'desc': 'Debit_pin'}, {'id': 'DE1', 'group': 3, 'desc': 'Cus_Nme'}, {'id': 'U25', 'group': 2, 'desc': 'Deposit Cheque'}, {'id': 'DE8', 'group': 3, 'desc': 'Acc_type'}, {'id': 'DE2', 'group': 3, 'desc': 'Acc_num'}, {'id': 'DE9', 'group': 3, 'desc': 'Bill_type'}]\n",
      "9- create links for dataelements\n",
      "[{'source': 'R01', 'target': 'U1', 'value': '0.8819171036881969'}, {'source': 'U1', 'target': 'DE5', 'value': '0.8660254037844387'}, {'source': 'U1', 'target': 'DE6', 'value': '0.8660254037844387'}, {'source': 'U1', 'target': 'DE4', 'value': '0.8498365855987976'}, {'source': 'U1', 'target': 'DE1', 'value': '0.8451542547285166'}, {'source': 'R01', 'target': 'U25', 'value': '0.8819171036881969'}, {'source': 'U25', 'target': 'DE4', 'value': '0.7071067811865476'}, {'source': 'U25', 'target': 'DE8', 'value': '0.7071067811865475'}, {'source': 'U25', 'target': 'DE2', 'value': '0.6915640748081248'}, {'source': 'U25', 'target': 'DE9', 'value': '0.6793662204867575'}]\n",
      "***** final response ******\n",
      "{\"forCmd\": \"AllRelation\", \"response\": {\"nodes\": [{\"id\": \"R01\", \"group\": 1, \"desc\": \"Customer\"}, {\"id\": \"U1\", \"group\": 2, \"desc\": \"Verify PIN\"}, {\"id\": \"DE5\", \"group\": 3, \"desc\": \"From_AcctNum\"}, {\"id\": \"DE6\", \"group\": 3, \"desc\": \"To_AcctNum\"}, {\"id\": \"DE4\", \"group\": 3, \"desc\": \"Debit_pin\"}, {\"id\": \"DE1\", \"group\": 3, \"desc\": \"Cus_Nme\"}, {\"id\": \"U25\", \"group\": 2, \"desc\": \"Deposit Cheque\"}, {\"id\": \"DE8\", \"group\": 3, \"desc\": \"Acc_type\"}, {\"id\": \"DE2\", \"group\": 3, \"desc\": \"Acc_num\"}, {\"id\": \"DE9\", \"group\": 3, \"desc\": \"Bill_type\"}], \"links\": [{\"source\": \"R01\", \"target\": \"U1\", \"value\": \"0.8819171036881969\"}, {\"source\": \"U1\", \"target\": \"DE5\", \"value\": \"0.8660254037844387\"}, {\"source\": \"U1\", \"target\": \"DE6\", \"value\": \"0.8660254037844387\"}, {\"source\": \"U1\", \"target\": \"DE4\", \"value\": \"0.8498365855987976\"}, {\"source\": \"U1\", \"target\": \"DE1\", \"value\": \"0.8451542547285166\"}, {\"source\": \"R01\", \"target\": \"U25\", \"value\": \"0.8819171036881969\"}, {\"source\": \"U25\", \"target\": \"DE4\", \"value\": \"0.7071067811865476\"}, {\"source\": \"U25\", \"target\": \"DE8\", \"value\": \"0.7071067811865475\"}, {\"source\": \"U25\", \"target\": \"DE2\", \"value\": \"0.6915640748081248\"}, {\"source\": \"U25\", \"target\": \"DE9\", \"value\": \"0.6793662204867575\"}]}}\n"
     ]
    }
   ],
   "source": [
    "def get_related_domaincases(reqid):\n",
    "    \"\"\" Get the related domaincases for a requirements\n",
    "    \"\"\"\n",
    "    domaincasesQuery = \"select * from ( select expand( out('linkeddomains')) from Requirements where ID = '\" + reqid +\"' )\"\n",
    "    domaincases = execute_query(domaincasesQuery)\n",
    "    scoresQuery = \"select expand(out_linkeddomains) from Requirements where ID = '\"+reqid+\"'\"\n",
    "    scores = execute_query(scoresQuery)\n",
    "    domaincaseList =[]\n",
    "    domaincaseAction =[]\n",
    "    scoresList= []\n",
    "    for domaincase in domaincases:\n",
    "        domaincaseList.append(domaincase.ID)\n",
    "        domaincaseAction.append(domaincase.Action)\n",
    "    for score in scores:\n",
    "        scoresList.append(score.score)\n",
    "    result = {}\n",
    "    length = len(domaincaseList)\n",
    "    for i in range(0, length):\n",
    "        result[domaincaseList[i]] = scoresList[i]\n",
    "        #result[domaincaseList[i]] = domaincaseAction[i]\n",
    "    print(result)\n",
    "    return result\n",
    "\n",
    "def get_related_dataelements(domaincaseid):\n",
    "    \"\"\" Get the related requirements for a testcase\n",
    "    \"\"\"\n",
    "    dataelementsQuery = \"select * from ( select expand( out('linkeddataelements') ) from Domains where ID = '\" + domaincaseid +\"' )\"\n",
    "    dataelements = execute_query(dataelementsQuery)\n",
    "    #print(dataelements)\n",
    "    scoresQuery = \"select expand(out_linkeddataelements) from Domains where ID = '\"+domaincaseid+\"'\"\n",
    "    scores = execute_query(scoresQuery)\n",
    "    dataelementsList =[]\n",
    "    scoresList= []\n",
    "    for dataelement in dataelements:\n",
    "        dataelementsList.append(dataelement.ID)\n",
    "    for score in scores:\n",
    "        scoresList.append(score.score)\n",
    "    result = {}\n",
    "    length = len(dataelementsList)\n",
    "    #print requirementsList, scoresList\n",
    "    for i in range(0, length):\n",
    "        result[dataelementsList[i]] = scoresList[i]\n",
    "    return result\n",
    "\n",
    "def get_related_user(reqid):\n",
    "    reqQuery = \"select * from Requirements where ID = '\"+reqid+\"'\"\n",
    "    requirements = execute_query(reqQuery)\n",
    "    result = ''\n",
    "    for requirement in requirements:\n",
    "        print(requirement.User)\n",
    "        result = requirement.User\n",
    "    return result\n",
    "\n",
    "def get_related_action(key):\n",
    "    domQuery = \"select * from Domains where ID = '\"+key+\"'\"\n",
    "    domains = execute_query(domQuery)\n",
    "    result = ''\n",
    "    for domain in domains:\n",
    "        print(domain.Action)\n",
    "        result = domain.Action\n",
    "    return result\n",
    "\n",
    "def get_related_shorthand(key):\n",
    "    shortQuery = \"select * from DataElements where ID = '\"+key+\"'\"\n",
    "    shorts = execute_query(shortQuery)\n",
    "    result = ''\n",
    "    for short in shorts:\n",
    "        print(short.Short)\n",
    "        result = short.Short\n",
    "    return result\n",
    "\n",
    "def get_artifacts_mapping_d3_network(reqid):\n",
    "    \"\"\" Create an artifacts mapping json for display by d3js network widget\n",
    "    \"\"\"\n",
    "    nodes =[]\n",
    "    links =[] \n",
    "    req = {}\n",
    "    req['id'] = reqid\n",
    "    req['group'] = 1\n",
    "    req['desc'] = get_related_user(reqid)\n",
    "    nodes.append(req)\n",
    "    \n",
    "    domaincases = get_related_domaincases(reqid)\n",
    "    print(\"1 - nodes\")\n",
    "    print(nodes)\n",
    "    print(\"2 - domaincases\")\n",
    "    print(domaincases)\n",
    "    for key in domaincases:\n",
    "        print(\"3  - For each domaincases\")\n",
    "        print(key)\n",
    "        domaincase ={}\n",
    "        domaincaseid = key\n",
    "        domaincase['id'] = domaincaseid\n",
    "        domaincase['group'] = 2\n",
    "        domaincase['desc'] = get_related_action(key)\n",
    "        if domaincase not in nodes:\n",
    "            nodes.append(domaincase)\n",
    "        print(\"4 - appended node\")\n",
    "        print(nodes)\n",
    "        link = {}\n",
    "        link['source'] = reqid\n",
    "        link['target']=domaincaseid\n",
    "        link['value']=domaincases[domaincaseid]\n",
    "        links.append(link)\n",
    "        print(\"5 - create links for individual domaincase\")\n",
    "        print(links)\n",
    "        dataelements = get_related_dataelements(key)\n",
    "        print(\"6 - for the domain case find dataelements\")\n",
    "        print(dataelements)\n",
    "        for key in dataelements:\n",
    "            print(\"7- individual dataelements\")\n",
    "            print(key)\n",
    "            dataelement ={}\n",
    "            dataelement['id'] = key\n",
    "            dataelement['group'] = 3\n",
    "            dataelement['desc'] = get_related_shorthand(key)\n",
    "            if dataelement not in nodes:\n",
    "                nodes.append(dataelement)\n",
    "            print(\"8 - appended node with dataelement\")\n",
    "            print(nodes)\n",
    "            link = {}\n",
    "            link['source'] = domaincaseid\n",
    "            link['target'] = key\n",
    "            link['value'] = dataelements[key]\n",
    "            links.append(link)\n",
    "            print(\"9- create links for dataelements\")\n",
    "            print(links)\n",
    "    result ={}\n",
    "    result[\"nodes\"] = nodes\n",
    "    result[\"links\"] = links\n",
    "    return result\n",
    "\n",
    "\n",
    "req_id = \"R01\"\n",
    "wsresponse = {}\n",
    "wsresponse[\"forCmd\"] = \"AllRelation\" \n",
    "wsresponse[\"response\"] = get_artifacts_mapping_d3_network(req_id)\n",
    "print(\"***** final response ******\")\n",
    "print(json.dumps(wsresponse))"
   ]
  },
  {
   "cell_type": "code",
   "execution_count": 120,
   "metadata": {},
   "outputs": [
    {
     "name": "stdout",
     "output_type": "stream",
     "text": [
      "{'name': 'requirement', 'children': [{'ID': 'R01', 'group': 'Customer', 'size': 100}, {'ID': 'R05', 'group': 'Customer', 'size': 100}, {'ID': 'R09', 'group': 'Banker', 'size': 75}, {'ID': 'R02', 'group': 'Customer', 'size': 100}, {'ID': 'R06', 'group': 'Banker', 'size': 75}, {'ID': 'R10', 'group': 'Banker', 'size': 75}, {'ID': 'R03', 'group': 'Customer', 'size': 100}, {'ID': 'R07', 'group': 'Banker', 'size': 75}, {'ID': 'R04', 'group': 'Customer', 'size': 100}, {'ID': 'R08', 'group': 'Banker', 'size': 75}]}\n",
      "Insight1\n",
      "******only banker********\n",
      "{'name': 'requirement', 'children': [{'ID': 'R09', 'group': 'Banker', 'size': 75}, {'ID': 'R06', 'group': 'Banker', 'size': 75}, {'ID': 'R10', 'group': 'Banker', 'size': 75}, {'ID': 'R07', 'group': 'Banker', 'size': 75}, {'ID': 'R08', 'group': 'Banker', 'size': 75}]}\n",
      "******* Applying filter *****\n",
      "{'name': 'requirement', 'children': [{'ID': 'R01', 'group': 'Customer', 'size': 100, 'filter': 0}, {'ID': 'R05', 'group': 'Customer', 'size': 100, 'filter': 0}, {'ID': 'R09', 'group': 'Banker', 'size': 75, 'filter': 1}, {'ID': 'R02', 'group': 'Customer', 'size': 100, 'filter': 0}, {'ID': 'R06', 'group': 'Banker', 'size': 75, 'filter': 1}, {'ID': 'R10', 'group': 'Banker', 'size': 75, 'filter': 1}, {'ID': 'R03', 'group': 'Customer', 'size': 100, 'filter': 0}, {'ID': 'R07', 'group': 'Banker', 'size': 75, 'filter': 1}, {'ID': 'R04', 'group': 'Customer', 'size': 100, 'filter': 0}, {'ID': 'R08', 'group': 'Banker', 'size': 75, 'filter': 1}]}\n",
      "********\n",
      "{\"forCmd\": \"Insight\", \"response\": {\"name\": \"requirement\", \"children\": [{\"ID\": \"R01\", \"group\": \"Customer\", \"size\": 100, \"filter\": 0}, {\"ID\": \"R05\", \"group\": \"Customer\", \"size\": 100, \"filter\": 0}, {\"ID\": \"R09\", \"group\": \"Banker\", \"size\": 75, \"filter\": 1}, {\"ID\": \"R02\", \"group\": \"Customer\", \"size\": 100, \"filter\": 0}, {\"ID\": \"R06\", \"group\": \"Banker\", \"size\": 75, \"filter\": 1}, {\"ID\": \"R10\", \"group\": \"Banker\", \"size\": 75, \"filter\": 1}, {\"ID\": \"R03\", \"group\": \"Customer\", \"size\": 100, \"filter\": 0}, {\"ID\": \"R07\", \"group\": \"Banker\", \"size\": 75, \"filter\": 1}, {\"ID\": \"R04\", \"group\": \"Customer\", \"size\": 100, \"filter\": 0}, {\"ID\": \"R08\", \"group\": \"Banker\", \"size\": 75, \"filter\": 1}]}}\n"
     ]
    }
   ],
   "source": [
    "def get_requirement_defects(numdefects):\n",
    "    \"\"\" Get requirements that have more than a given number of defects\n",
    "    \"\"\"\n",
    "    query = \"select ID,Description,Priority from Requirement where out('linkeddefects').size() >= \" + str(numdefects)\n",
    "    requirementsResult =  execute_query(query)\n",
    "    requirements = build_format_requirements_list(requirementsResult)\n",
    "    for requirement in requirements:\n",
    "        num = len(get_related_defects(requirement['ID']))\n",
    "        requirement['defectcount'] = num\n",
    "    return requirements \n",
    "def merge_apply_filters_d3_bubble(mainList, filterList):\n",
    "    \"\"\" Add a filter attribute to the list elements for processing on UI\n",
    "    \"\"\"\n",
    "    mainListChildren = mainList['children']\n",
    "    filterListChildren = filterList['children']\n",
    "    for child in mainListChildren:\n",
    "        child['filter'] = 0\n",
    "        for child1 in filterListChildren:\n",
    "            if ( child['ID'] == child1['ID']):\n",
    "                child['filter'] = 1\n",
    "    return mainList\n",
    "\n",
    "def get_requirement_defects(numdefects):\n",
    "    \"\"\" Get requirements that have more than a given number of defects\n",
    "    \"\"\"\n",
    "    query = \"select ID,Description,Priority from Requirement where out('linkeddefects').size() >= \" + str(numdefects)\n",
    "    requirementsResult =  execute_query(query)\n",
    "    requirements = build_format_requirements_list(requirementsResult)\n",
    "    for requirement in requirements:\n",
    "        num = len(get_related_defects(requirement['ID']))\n",
    "        requirement['defectcount'] = num\n",
    "    return requirements \n",
    "\n",
    "def get_requirements_banker():\n",
    "    \"\"\" Get requirements that have no defects\n",
    "    \"\"\"\n",
    "    query = \"Select * from Requirements where User = 'Banker'\"\n",
    "    requirementsResult =  execute_query(query)\n",
    "    requirements = build_format_requirements_list(requirementsResult)\n",
    "    return requirements\n",
    "def get_requirements_customer():\n",
    "    \"\"\" Get requirements that have no defects\n",
    "    \"\"\"\n",
    "    query = \"Select * from Requirements where User = 'Customer'\"\n",
    "    requirementsResult =  execute_query(query)\n",
    "    requirements = build_format_requirements_list(requirementsResult)\n",
    "    return requirements\n",
    "def get_requirement_domain(numde):\n",
    "    \"\"\" Get requirements that have more than a given number of defects\n",
    "    \"\"\"\n",
    "    query = \"select ID,Description,User from Requirements where out('linkeddomains').size() <= \" + str(numde)\n",
    "    requirementsResult =  execute_query(query)\n",
    "    requirements = build_format_requirements_list(requirementsResult)\n",
    "    return requirements \n",
    "\n",
    "insight_id = 'Insight1 Get requirements for Banker'\n",
    "requirements = get_requirements()\n",
    "requirements = transform_requirements_d3_bubble(requirements)\n",
    "print(requirements)\n",
    "if (insight_id.find('Insight1') != -1):\n",
    "    print('Insight1')\n",
    "    #req = get_requirements_zero_defect()\n",
    "    req = get_requirements_banker()\n",
    "    req = transform_requirements_d3_bubble(req)\n",
    "    print('******only banker********')\n",
    "    print(req)\n",
    "    response = merge_apply_filters_d3_bubble(requirements, req)\n",
    "    print('******* Applying filter *****')\n",
    "    print(response)\n",
    "    print('********')\n",
    "if (insight_id.find('Insight2') != -1):\n",
    "    req = get_requirements_customer()\n",
    "    req = transform_requirements_d3_bubble(req)\n",
    "    response = merge_apply_filters_d3_bubble(requirements, req)\n",
    "if (insight_id.find('Insight3') != -1):\n",
    "    #req = get_requirement_defects(5)\n",
    "    req = get_requirement_dataelements(5)\n",
    "    req = transform_requirements_d3_bubble(req)\n",
    "    response = merge_apply_filters_d3_bubble(requirements, req)\n",
    "wsresponse = {}\n",
    "wsresponse[\"forCmd\"] = \"Insight\" \n",
    "wsresponse[\"response\"] = response\n",
    "print(json.dumps(wsresponse))"
   ]
  },
  {
   "cell_type": "code",
   "execution_count": 121,
   "metadata": {},
   "outputs": [],
   "source": [
    "def on_message(ws, message):\n",
    "    print(message)\n",
    "    msg = json.loads(message)\n",
    "    print(\"message\",msg)\n",
    "    cmd = msg['cmd']\n",
    "    \n",
    "    print(\"Command :\", cmd)\n",
    "\n",
    "    if cmd == 'getExcel':\n",
    "        wsresponse = {}\n",
    "        wsresponse[\"forCmd\"] = \"GetExcel\"\n",
    "        wsresponse[\"response\"] = setup_download_excel()\n",
    "        ws.send(json.dumps(wsresponse))\n",
    "    \n",
    "    if cmd == 'ReqsList':\n",
    "        wsresponse = {}\n",
    "        wsresponse[\"forCmd\"] = \"ReqsList\"\n",
    "        requirements = get_requirements()\n",
    "        wsresponse[\"response\"] = transform_requirements_d3_bubble(requirements)\n",
    "        ws.send(json.dumps(wsresponse))\n",
    "\n",
    "    if cmd == 'AllRelation':\n",
    "        req_id = msg['ID']\n",
    "        wsresponse = {}\n",
    "        wsresponse[\"forCmd\"] = \"AllRelation\" \n",
    "        wsresponse[\"response\"] = get_artifacts_mapping_d3_network(req_id)\n",
    "        ws.send(json.dumps(wsresponse))\n",
    "\n",
    "    if cmd == 'DataElementRelation':\n",
    "        testcase_id = msg['ID']\n",
    "        wsresponse = {}\n",
    "        wsresponse[\"forCmd\"] = \"TestcaseRelation\" \n",
    "        wsresponse[\"response\"] = get_tc_req_mapping_d3_network(testcase_id)\n",
    "        ws.send(json.dumps(wsresponse))\n",
    "\n",
    "    #  the below protion is for getting insight into download section, this has not yet been done and will be done later if required\n",
    "    \n",
    "    if cmd == 'DownloadInsight':\n",
    "        insight_id = msg['ID']\n",
    "        testcases = get_testcases()\n",
    "        testcases = transform_testcases_d3_bubble(testcases)\n",
    "        if (insight_id.find('Insight1') != -1):\n",
    "            fvtTests = get_testcases_category('FVT')\n",
    "            fvtTests = transform_testcases_d3_bubble(fvtTests)\n",
    "            response = merge_apply_filters_d3_bubble(testcases, fvtTests)\n",
    "        if (insight_id.find('Insight2') != -1):\n",
    "            svtTests = get_testcases_category('SVT')\n",
    "            svtTests = transform_testcases_d3_bubble(svtTests)\n",
    "            response = merge_apply_filters_d3_bubble(testcases, svtTests)\n",
    "        if (insight_id.find('Insight3') != -1):\n",
    "            tvtTests = get_testcases_category('TVT')\n",
    "            tvtTests = transform_testcases_d3_bubble(tvtTests)\n",
    "            response = merge_apply_filters_d3_bubble(testcases, tvtTests)\n",
    "        if (insight_id.find('Insight4') != -1):\n",
    "            testcase_zero_defect = get_testcases_zero_defects()\n",
    "            testcase_zero_defect = transform_testcases_d3_bubble(testcase_zero_defect)\n",
    "            response = merge_apply_filters_d3_bubble(testcases, testcase_zero_defect)\n",
    "        wsresponse = {}\n",
    "        wsresponse[\"forCmd\"] = \"Insight\" \n",
    "        wsresponse[\"response\"] = response\n",
    "        ws.send(json.dumps(wsresponse))\n",
    "\n",
    "    if cmd == 'ReqInsight':\n",
    "        insight_id = msg['ID']\n",
    "        requirements = get_requirements()\n",
    "        requirements = transform_requirements_d3_bubble(requirements)\n",
    "    #print(requirements)\n",
    "        if (insight_id.find('Insight1') != -1):\n",
    "            print('Insight1')\n",
    "            req = get_requirements_banker()\n",
    "            req = transform_requirements_d3_bubble(req)\n",
    "        #print('******only banker********')\n",
    "        #print(req)\n",
    "            response = merge_apply_filters_d3_bubble(requirements, req)\n",
    "        #print('******* Applying filter *****')\n",
    "            #print(response)\n",
    "            #print('********')\n",
    "        if (insight_id.find('Insight2') != -1):\n",
    "            req = get_requirements_customer()\n",
    "            req = transform_requirements_d3_bubble(req)\n",
    "            response = merge_apply_filters_d3_bubble(requirements, req)\n",
    "        if (insight_id.find('Insight3') != -1):\n",
    "            req = get_requirement_domain(1)\n",
    "            req = transform_requirements_d3_bubble(req)\n",
    "            response = merge_apply_filters_d3_bubble(requirements, req)\n",
    "\n",
    "    wsresponse = {}\n",
    "    wsresponse[\"forCmd\"] = \"Insight\" \n",
    "    wsresponse[\"response\"] = response\n",
    "    ws.send(json.dumps(wsresponse)) \n",
    "\n",
    "def on_error(ws, error):\n",
    "    print(error)\n",
    "\n",
    "def on_close(ws):\n",
    "    print (\"DSX Listen End\")\n",
    "    ws.send(\"DSX Listen End\")\n",
    "\n",
    "def on_open(ws):\n",
    "    def run(*args):\n",
    "        for i in range(10000):\n",
    "            hbeat = '{\"cmd\":\"AI nWave HeartBeat\"}'\n",
    "            ws.send(hbeat)\n",
    "            time.sleep(100)\n",
    "            \n",
    "    _thread.start_new_thread(run, ())\n",
    "\n",
    "\n",
    "def start_websocket_listener():\n",
    "    websocket.enableTrace(True)\n",
    "    ws = websocket.WebSocketApp(\"ws://localhost:1880/ws/software\",\n",
    "                              on_message = on_message,\n",
    "                              on_error = on_error,\n",
    "                              on_close = on_close)\n",
    "    ws.on_open = on_open\n",
    "    ws.run_forever()"
   ]
  },
  {
   "cell_type": "markdown",
   "metadata": {},
   "source": [
    "## 8.1 Start websocket client"
   ]
  },
  {
   "cell_type": "code",
   "execution_count": 122,
   "metadata": {},
   "outputs": [
    {
     "name": "stderr",
     "output_type": "stream",
     "text": [
      "--- request header ---\n",
      "GET /ws/software HTTP/1.1\n",
      "Upgrade: websocket\n",
      "Connection: Upgrade\n",
      "Host: localhost:1880\n",
      "Origin: http://localhost:1880\n",
      "Sec-WebSocket-Key: d83UByiFYgXqSnoJCZqsQw==\n",
      "Sec-WebSocket-Version: 13\n",
      "\n",
      "\n",
      "-----------------------\n",
      "--- response header ---\n",
      "HTTP/1.1 101 Switching Protocols\n",
      "Upgrade: websocket\n",
      "Connection: Upgrade\n",
      "Sec-WebSocket-Accept: jNX5kQQkl+mSUuNs2MC8mVV81SM=\n",
      "-----------------------\n",
      "send: b'\\x81\\x9c5\\xb7\\xeb\\xafN\\x95\\x88\\xc2Q\\x95\\xd1\\x8dt\\xfe\\xcb\\xc1b\\xd6\\x9d\\xca\\x15\\xff\\x8e\\xceG\\xc3\\xa9\\xcaT\\xc3\\xc9\\xd2'\n",
      "error from callback <function on_message at 0x10550cd90>: local variable 'response' referenced before assignment\n",
      "  File \"/anaconda3/lib/python3.6/site-packages/websocket/_app.py\", line 315, in _callback\n",
      "    callback(self, *args)\n",
      "  File \"<ipython-input-121-4e7756458ebe>\", line 89, in on_message\n",
      "    wsresponse[\"response\"] = response\n"
     ]
    },
    {
     "name": "stdout",
     "output_type": "stream",
     "text": [
      "{\"cmd\":\"AI nWave HeartBeat\"}\n",
      "message {'cmd': 'AI nWave HeartBeat'}\n",
      "Command : AI nWave HeartBeat\n"
     ]
    },
    {
     "name": "stderr",
     "output_type": "stream",
     "text": [
      "error from callback <function on_message at 0x10550cd90>: local variable 'response' referenced before assignment\n"
     ]
    },
    {
     "name": "stdout",
     "output_type": "stream",
     "text": [
      "{\"cmd\":\"Client connected\"}\n",
      "message {'cmd': 'Client connected'}\n",
      "Command : Client connected\n"
     ]
    },
    {
     "name": "stderr",
     "output_type": "stream",
     "text": [
      "  File \"/anaconda3/lib/python3.6/site-packages/websocket/_app.py\", line 315, in _callback\n",
      "    callback(self, *args)\n",
      "  File \"<ipython-input-121-4e7756458ebe>\", line 89, in on_message\n",
      "    wsresponse[\"response\"] = response\n",
      "error from callback <function on_message at 0x10550cd90>: local variable 'response' referenced before assignment\n"
     ]
    },
    {
     "name": "stdout",
     "output_type": "stream",
     "text": [
      "{\"cmd\":\"Client connected\"}\n",
      "message {'cmd': 'Client connected'}\n",
      "Command : Client connected\n"
     ]
    },
    {
     "name": "stderr",
     "output_type": "stream",
     "text": [
      "  File \"/anaconda3/lib/python3.6/site-packages/websocket/_app.py\", line 315, in _callback\n",
      "    callback(self, *args)\n",
      "  File \"<ipython-input-121-4e7756458ebe>\", line 89, in on_message\n",
      "    wsresponse[\"response\"] = response\n",
      "send: b'\\x81\\x9c\\xbb\\xa9\\xc1\\x86\\xc0\\x8b\\xa2\\xeb\\xdf\\x8b\\xfb\\xa4\\xfa\\xe0\\xe1\\xe8\\xec\\xc8\\xb7\\xe3\\x9b\\xe1\\xa4\\xe7\\xc9\\xdd\\x83\\xe3\\xda\\xdd\\xe3\\xfb'\n",
      "error from callback <function on_message at 0x10550cd90>: local variable 'response' referenced before assignment\n",
      "  File \"/anaconda3/lib/python3.6/site-packages/websocket/_app.py\", line 315, in _callback\n",
      "    callback(self, *args)\n",
      "  File \"<ipython-input-121-4e7756458ebe>\", line 89, in on_message\n",
      "    wsresponse[\"response\"] = response\n"
     ]
    },
    {
     "name": "stdout",
     "output_type": "stream",
     "text": [
      "{\"cmd\":\"AI nWave HeartBeat\"}\n",
      "message {'cmd': 'AI nWave HeartBeat'}\n",
      "Command : AI nWave HeartBeat\n"
     ]
    },
    {
     "name": "stderr",
     "output_type": "stream",
     "text": [
      "send: b'\\x81\\xfe\\x01M\\xa1\\x99\\x86\\xaf\\xda\\xbb\\xe0\\xc0\\xd3\\xda\\xeb\\xcb\\x83\\xa3\\xa6\\x8d\\xe6\\xfc\\xf2\\xea\\xd9\\xfa\\xe3\\xc3\\x83\\xb5\\xa6\\x8d\\xd3\\xfc\\xf5\\xdf\\xce\\xf7\\xf5\\xca\\x83\\xa3\\xa6\\xd4\\x83\\xf7\\xe7\\xc2\\xc4\\xbb\\xbc\\x8f\\x83\\xfd\\xe9\\xd8\\xcf\\xf5\\xe9\\xce\\xc5\\xbb\\xaa\\x8f\\x83\\xfa\\xee\\xc6\\xcd\\xfd\\xf4\\xca\\xcf\\xbb\\xbc\\x8f\\xfa\\xe2\\xa4\\xc9\\xc8\\xf5\\xe3\\xc1\\xc0\\xf4\\xe3\\x8d\\x9b\\xb9\\xa4\\xc9\\xc8\\xf7\\xe7\\xc3\\xfe\\xf6\\xf3\\xdb\\xd1\\xec\\xf2\\x81\\xd9\\xf5\\xf5\\xd7\\x83\\xb5\\xa6\\x8d\\xd1\\xf8\\xf2\\xc7\\x83\\xa3\\xa6\\x8d\\x8e\\xcc\\xf5\\xca\\xd3\\xea\\xa9\\xdc\\xd6\\xf8\\xf4\\xc0\\xce\\xe9\\xeb\\xc6\\xd2\\xf1\\xf4\\xce\\x8e\\xdd\\xe3\\xdc\\xca\\xed\\xe9\\xdf\\x8e\\xe9\\xff\\xdb\\xc9\\xf6\\xe8\\xdc\\xc2\\xeb\\xef\\xdf\\xd5\\xb6\\xc8\\xe3\\xf1\\xc6\\xd6\\xdd\\xce\\xf3\\xe3\\xcc\\xd5\\xb6\\xe8\\xf8\\xc0\\xef\\xe3\\xf0\\xd2\\xf6\\xe0\\xdb\\xd6\\xf8\\xf4\\xca\\xe5\\xfc\\xf5\\xc6\\xc6\\xf7\\xa9\\xc1\\xce\\xed\\xe3\\xcd\\xce\\xf6\\xed\\x80\\x83\\xe4\\xaa\\x8f\\xda\\xbb\\xe0\\xc6\\xcd\\xfc\\xe8\\xce\\xcc\\xfc\\xa4\\x95\\x81\\xbb\\xe3\\xd7\\xc2\\xfc\\xea\\xf0\\xc5\\xf6\\xf1\\xc1\\xcd\\xf6\\xe7\\xcb\\x8f\\xf3\\xf6\\xc8\\x83\\xb5\\xa6\\x8d\\xd1\\xf8\\xf2\\xc7\\x83\\xa3\\xa6\\x8d\\x8e\\xcc\\xf5\\xca\\xd3\\xea\\xa9\\xdc\\xd6\\xf8\\xf4\\xc0\\xce\\xe9\\xeb\\xc6\\xd2\\xf1\\xf4\\xce\\x8e\\xdd\\xe3\\xdc\\xca\\xed\\xe9\\xdf\\x8e\\xe9\\xff\\xdb\\xc9\\xf6\\xe8\\xdc\\xc2\\xeb\\xef\\xdf\\xd5\\xb6\\xc8\\xe3\\xf1\\xc6\\xd6\\xdd\\xce\\xf3\\xe3\\xcc\\xd5\\xb6\\xe8\\xf8\\xc0\\xef\\xe3\\xf0\\xd2\\xf6\\xe0\\xdb\\xd6\\xf8\\xf4\\xca\\xe5\\xfc\\xf5\\xc6\\xc6\\xf7\\xa9\\xc1\\xce\\xed\\xe3\\xcd\\xce\\xf6\\xed\\x80\\x83\\xe4\\xdb\\xd2\\xdc'\n",
      "error from callback <function on_message at 0x10550cd90>: local variable 'response' referenced before assignment\n",
      "  File \"/anaconda3/lib/python3.6/site-packages/websocket/_app.py\", line 315, in _callback\n",
      "    callback(self, *args)\n",
      "  File \"<ipython-input-121-4e7756458ebe>\", line 89, in on_message\n",
      "    wsresponse[\"response\"] = response\n",
      "error from callback <function on_message at 0x10550cd90>: 'cmd'\n"
     ]
    },
    {
     "name": "stdout",
     "output_type": "stream",
     "text": [
      "{\"cmd\":\"getExcel\"}\n",
      "message {'cmd': 'getExcel'}\n",
      "Command : getExcel\n",
      "{\"forCmd\": \"GetExcel\", \"response\": {\"name\": \"download\", \"children\": [{\"filename\": \"final_output.xlsx\", \"path\": \"/Users/swaroopmishra/Desktop/pythonscript/NLP_Project/nWave_softwareDesign/notebook/\"}, {\"filename\": \"excel_download.jpg\", \"path\": \"/Users/swaroopmishra/Desktop/pythonscript/NLP_Project/nWave_softwareDesign/notebook/\"}]}}\n",
      "message {'forCmd': 'GetExcel', 'response': {'name': 'download', 'children': [{'filename': 'final_output.xlsx', 'path': '/Users/swaroopmishra/Desktop/pythonscript/NLP_Project/nWave_softwareDesign/notebook/'}, {'filename': 'excel_download.jpg', 'path': '/Users/swaroopmishra/Desktop/pythonscript/NLP_Project/nWave_softwareDesign/notebook/'}]}}\n"
     ]
    },
    {
     "name": "stderr",
     "output_type": "stream",
     "text": [
      "  File \"/anaconda3/lib/python3.6/site-packages/websocket/_app.py\", line 315, in _callback\n",
      "    callback(self, *args)\n",
      "  File \"<ipython-input-121-4e7756458ebe>\", line 5, in on_message\n",
      "    cmd = msg['cmd']\n",
      "send: b'\\x81\\xfe\\x02$G\\xf0\\x19S<\\xd2\\x7f<5\\xb3t7e\\xca9q\\x15\\x95h \\x0b\\x99j\\'e\\xdc9q5\\x95j#(\\x9ej6e\\xca9(e\\x9ex>\"\\xd2#se\\x82|\"2\\x99k6*\\x95w\\'e\\xdc9q$\\x98p?#\\x82|=e\\xca9\\x08<\\xd2P\\x17e\\xca9q\\x15\\xc0(qk\\xd0;45\\x9fl#e\\xca9q\\x04\\x85j\\'(\\x9d|!e\\xdc9q4\\x99c6e\\xca9bw\\xc0d\\x7fg\\x8b;\\x1a\\x03\\xd2#se\\xa2)fe\\xdc9q \\x82v&7\\xd2#se\\xb3l 3\\x9ft65\\xd25se\\x83p)\"\\xd2#sv\\xc0).k\\xd0bq\\x0e\\xb4;ig\\xd2Kc~\\xd25se\\x97k<2\\x80;ig\\xd2[2)\\x9b|!e\\xdc9q4\\x99c6e\\xca9dr\\x8d5s<\\xd2P\\x17e\\xca9q\\x15\\xc0+qk\\xd0;45\\x9fl#e\\xca9q\\x04\\x85j\\'(\\x9d|!e\\xdc9q4\\x99c6e\\xca9bw\\xc0d\\x7fg\\x8b;\\x1a\\x03\\xd2#se\\xa2)ee\\xdc9q \\x82v&7\\xd2#se\\xb2x=,\\x95kqk\\xd0; .\\x8a|q}\\xd0.f:\\xdc9(e\\xb9]q}\\xd0;\\x01v\\xc0;\\x7fg\\xd2~!(\\x85iq}\\xd0;\\x11&\\x9er65\\xd25se\\x83p)\"\\xd2#sp\\xc5d\\x7fg\\x8b;\\x1a\\x03\\xd2#se\\xa2)`e\\xdc9q \\x82v&7\\xd2#se\\xb3l 3\\x9ft65\\xd25se\\x83p)\"\\xd2#sv\\xc0).k\\xd0bq\\x0e\\xb4;ig\\xd2Kcp\\xd25se\\x97k<2\\x80;ig\\xd2[2)\\x9b|!e\\xdc9q4\\x99c6e\\xca9dr\\x8d5s<\\xd2P\\x17e\\xca9q\\x15\\xc0-qk\\xd0;45\\x9fl#e\\xca9q\\x04\\x85j\\'(\\x9d|!e\\xdc9q4\\x99c6e\\xca9bw\\xc0d\\x7fg\\x8b;\\x1a\\x03\\xd2#se\\xa2)ke\\xdc9q \\x82v&7\\xd2#se\\xb2x=,\\x95kqk\\xd0; .\\x8a|q}\\xd0.f:\\xadd.'\n",
      "error from callback <function on_message at 0x10550cd90>: local variable 'response' referenced before assignment\n",
      "  File \"/anaconda3/lib/python3.6/site-packages/websocket/_app.py\", line 315, in _callback\n",
      "    callback(self, *args)\n",
      "  File \"<ipython-input-121-4e7756458ebe>\", line 89, in on_message\n",
      "    wsresponse[\"response\"] = response\n",
      "error from callback <function on_message at 0x10550cd90>: 'cmd'\n"
     ]
    },
    {
     "name": "stdout",
     "output_type": "stream",
     "text": [
      "{\"cmd\":\"ReqsList\"}\n",
      "message {'cmd': 'ReqsList'}\n",
      "Command : ReqsList\n",
      "{\"forCmd\": \"ReqsList\", \"response\": {\"name\": \"requirement\", \"children\": [{\"ID\": \"R01\", \"group\": \"Customer\", \"size\": 100}, {\"ID\": \"R05\", \"group\": \"Customer\", \"size\": 100}, {\"ID\": \"R09\", \"group\": \"Banker\", \"size\": 75}, {\"ID\": \"R02\", \"group\": \"Customer\", \"size\": 100}, {\"ID\": \"R06\", \"group\": \"Banker\", \"size\": 75}, {\"ID\": \"R10\", \"group\": \"Banker\", \"size\": 75}, {\"ID\": \"R03\", \"group\": \"Customer\", \"size\": 100}, {\"ID\": \"R07\", \"group\": \"Banker\", \"size\": 75}, {\"ID\": \"R04\", \"group\": \"Customer\", \"size\": 100}, {\"ID\": \"R08\", \"group\": \"Banker\", \"size\": 75}]}}\n",
      "message {'forCmd': 'ReqsList', 'response': {'name': 'requirement', 'children': [{'ID': 'R01', 'group': 'Customer', 'size': 100}, {'ID': 'R05', 'group': 'Customer', 'size': 100}, {'ID': 'R09', 'group': 'Banker', 'size': 75}, {'ID': 'R02', 'group': 'Customer', 'size': 100}, {'ID': 'R06', 'group': 'Banker', 'size': 75}, {'ID': 'R10', 'group': 'Banker', 'size': 75}, {'ID': 'R03', 'group': 'Customer', 'size': 100}, {'ID': 'R07', 'group': 'Banker', 'size': 75}, {'ID': 'R04', 'group': 'Customer', 'size': 100}, {'ID': 'R08', 'group': 'Banker', 'size': 75}]}}\n"
     ]
    },
    {
     "name": "stderr",
     "output_type": "stream",
     "text": [
      "  File \"/anaconda3/lib/python3.6/site-packages/websocket/_app.py\", line 315, in _callback\n",
      "    callback(self, *args)\n",
      "  File \"<ipython-input-121-4e7756458ebe>\", line 5, in on_message\n",
      "    cmd = msg['cmd']\n",
      "send: b'\\x81\\xfe\\x04\\x88\\\\E\\x99\\xc8\\'g\\xff\\xa7.\\x06\\xf4\\xac~\\x7f\\xb9\\xea\\x1d)\\xf5\\x9a9)\\xf8\\xbc5*\\xf7\\xeape\\xbb\\xba96\\xe9\\xa726\\xfc\\xeafe\\xe2\\xea2*\\xfd\\xad/g\\xa3\\xe8\\x07>\\xbb\\xa18g\\xa3\\xe8~\\x17\\xa9\\xfb~i\\xb9\\xea;7\\xf6\\xbd,g\\xa3\\xe8mi\\xb9\\xea8 \\xea\\xab~\\x7f\\xb9\\xea\\x1f0\\xea\\xbc3(\\xfc\\xba~8\\xb5\\xe8\\'g\\xf0\\xac~\\x7f\\xb9\\xea\\tv\\xbb\\xe4|g\\xfe\\xba30\\xe9\\xeafe\\xab\\xe4|g\\xfd\\xad/&\\xbb\\xf2|g\\xcd\\xba=+\\xea\\xae97\\xb9\\x853+\\xfc\\xb1~8\\xb5\\xe8\\'g\\xf0\\xac~\\x7f\\xb9\\xea\\x18\\x00\\xac\\xeape\\xbb\\xaf.*\\xec\\xb8~\\x7f\\xb9\\xfbpe\\xbb\\xac96\\xfa\\xeafe\\xbb\\x8e.*\\xf4\\x97\\x1d&\\xfa\\xbc\\x120\\xf4\\xea!i\\xb9\\xb3~,\\xfd\\xeafe\\xbb\\x8c\\x19s\\xbb\\xe4|g\\xfe\\xba30\\xe9\\xeafe\\xaa\\xe4|g\\xfd\\xad/&\\xbb\\xf2|g\\xcd\\xa7\\x03\\x04\\xfa\\xab(\\x0b\\xec\\xa5~8\\xb5\\xe8\\'g\\xf0\\xac~\\x7f\\xb9\\xea\\x18\\x00\\xa1\\xeape\\xbb\\xaf.*\\xec\\xb8~\\x7f\\xb9\\xfbpe\\xbb\\xac96\\xfa\\xeafe\\xbb\\x89?&\\xc6\\xbc%5\\xfc\\xea!i\\xb9\\xb3~,\\xfd\\xeafe\\xbb\\x8c\\x19t\\xa8\\xeape\\xbb\\xaf.*\\xec\\xb8~\\x7f\\xb9\\xfbpe\\xbb\\xac96\\xfa\\xeafe\\xbb\\x8911\\xc6\\xbc.+\\xea\\xae.g\\xe4\\xe4|>\\xbb\\xa18g\\xa3\\xe8~\\x10\\xa8\\xeape\\xbb\\xaf.*\\xec\\xb8~\\x7f\\xb9\\xfape\\xbb\\xac96\\xfa\\xeafe\\xbb\\x9e97\\xf0\\xae%e\\xc9\\x81\\x12g\\xe4\\xe4|>\\xbb\\xa18g\\xa3\\xe8~\\x01\\xdc\\xfc~i\\xb9\\xea;7\\xf6\\xbd,g\\xa3\\xe8oi\\xb9\\xea8 \\xea\\xab~\\x7f\\xb9\\xea\\x18 \\xfb\\xa1(\\x1a\\xe9\\xa12g\\xe4\\xe4|>\\xbb\\xa18g\\xa3\\xe8~\\x01\\xdc\\xf9~i\\xb9\\xea;7\\xf6\\xbd,g\\xa3\\xe8oi\\xb9\\xea8 \\xea\\xab~\\x7f\\xb9\\xea\\x1f0\\xea\\x97\\x12(\\xfc\\xea!\\x18\\xb5\\xe8~)\\xf0\\xa676\\xbb\\xf2|\\x1e\\xe2\\xea/*\\xec\\xba? \\xbb\\xf2|g\\xcb\\xf8og\\xb5\\xe8~1\\xf8\\xba; \\xed\\xeafe\\xbb\\x9dog\\xb5\\xe8~3\\xf8\\xa4) \\xbb\\xf2|g\\xa9\\xe6kr\\xad\\xfdes\\xaf\\xfeew\\xad\\xf9h}\\xaa\\xfc~8\\xb5\\xe8\\'g\\xea\\xa7)7\\xfa\\xad~\\x7f\\xb9\\xea\\tv\\xbb\\xe4|g\\xed\\xa9.\"\\xfc\\xbc~\\x7f\\xb9\\xea\\x18\\x00\\xac\\xeape\\xbb\\xbe=)\\xec\\xad~\\x7f\\xb9\\xealk\\xa0\\xfedw\\xad\\xfddv\\xaf\\xfdit\\xa1\\xfdht\\xbb\\xb5pe\\xe2\\xea/*\\xec\\xba? \\xbb\\xf2|g\\xcc\\xfb~i\\xb9\\xea($\\xeb\\xaf91\\xbb\\xf2|g\\xdd\\x8djg\\xb5\\xe8~3\\xf8\\xa4) \\xbb\\xf2|g\\xa9\\xe6eu\\xa8\\xfbdr\\xa1\\xf9d}\\xaf\\xfde|\\xae\\xfc~8\\xb5\\xe8\\'g\\xea\\xa7)7\\xfa\\xad~\\x7f\\xb9\\xea\\tv\\xbb\\xe4|g\\xed\\xa9.\"\\xfc\\xbc~\\x7f\\xb9\\xea\\x18\\x00\\xa1\\xeape\\xbb\\xbe=)\\xec\\xad~\\x7f\\xb9\\xealk\\xae\\xffhp\\xa0\\xfejs\\xa0\\xfaht\\xad\\xf0oq\\xbb\\xb5pe\\xe2\\xea/*\\xec\\xba? \\xbb\\xf2|g\\xcc\\xfb~i\\xb9\\xea($\\xeb\\xaf91\\xbb\\xf2|g\\xdd\\x8dmt\\xbb\\xe4|g\\xef\\xa900\\xfc\\xeafe\\xbb\\xf8rr\\xaf\\xfbks\\xab\\xfemp\\xa1\\xfai|\\xae\\xfbhg\\xe4\\xe4|>\\xbb\\xbb30\\xeb\\xab9g\\xa3\\xe8~\\x17\\xa9\\xfb~i\\xb9\\xea($\\xeb\\xaf91\\xbb\\xf2|g\\xcc\\xf9~i\\xb9\\xea*$\\xf5\\xbd9g\\xa3\\xe8~u\\xb7\\xfeow\\xad\\xfdip\\xaa\\xfalv\\xaa\\xfekp\\xa0\\xea!i\\xb9\\xb3~6\\xf6\\xbd.&\\xfc\\xeafe\\xbb\\x9dmg\\xb5\\xe8~1\\xf8\\xba; \\xed\\xeafe\\xbb\\x8c\\x19p\\xbb\\xe4|g\\xef\\xa900\\xfc\\xeafe\\xbb\\xf8r}\\xaf\\xfelw\\xac\\xfclv\\xae\\xf0hq\\xaa\\xf0kg\\xe4\\xe4|>\\xbb\\xbb30\\xeb\\xab9g\\xa3\\xe8~\\x10\\xa8\\xeape\\xbb\\xbc=7\\xfe\\xad(g\\xa3\\xe8~\\x01\\xdc\\xfe~i\\xb9\\xea*$\\xf5\\xbd9g\\xa3\\xe8~u\\xb7\\xf0js\\xa9\\xfaiq\\xa9\\xfbk}\\xad\\xfco}\\xae\\xea!i\\xb9\\xb3~6\\xf6\\xbd.&\\xfc\\xeafe\\xbb\\x9dmg\\xb5\\xe8~1\\xf8\\xba; \\xed\\xeafe\\xbb\\x8c\\x19q\\xbb\\xe4|g\\xef\\xa900\\xfc\\xeafe\\xbb\\xf8r}\\xad\\xf1dv\\xaf\\xfddp\\xac\\xf1dr\\xa0\\xffjg\\xe4\\xe4|>\\xbb\\xbb30\\xeb\\xab9g\\xa3\\xe8~\\x10\\xa8\\xeape\\xbb\\xbc=7\\xfe\\xad(g\\xa3\\xe8~\\x01\\xdc\\xf9~i\\xb9\\xea*$\\xf5\\xbd9g\\xa3\\xe8~u\\xb7\\xf0hp\\xa8\\xfdhw\\xac\\xfckw\\xa1\\xfdms\\xaf\\xea!\\x18\\xe4\\xb5'\n",
      "error from callback <function on_message at 0x10550cd90>: local variable 'response' referenced before assignment\n",
      "  File \"/anaconda3/lib/python3.6/site-packages/websocket/_app.py\", line 315, in _callback\n",
      "    callback(self, *args)\n",
      "  File \"<ipython-input-121-4e7756458ebe>\", line 89, in on_message\n",
      "    wsresponse[\"response\"] = response\n",
      "error from callback <function on_message at 0x10550cd90>: 'cmd'\n"
     ]
    },
    {
     "name": "stdout",
     "output_type": "stream",
     "text": [
      "{\"cmd\":\"AllRelation\",\"ID\":\"R03\"}\n",
      "message {'cmd': 'AllRelation', 'ID': 'R03'}\n",
      "Command : AllRelation\n",
      "Customer\n",
      "{'U3': '0.7745966692414834', 'U1': '0.6324555320336759'}\n",
      "1 - nodes\n",
      "[{'id': 'R03', 'group': 1, 'desc': 'Customer'}]\n",
      "2 - domaincases\n",
      "{'U3': '0.7745966692414834', 'U1': '0.6324555320336759'}\n",
      "3  - For each domaincases\n",
      "U3\n",
      "Transfer Money\n",
      "4 - appended node\n",
      "[{'id': 'R03', 'group': 1, 'desc': 'Customer'}, {'id': 'U3', 'group': 2, 'desc': 'Transfer Money'}]\n",
      "5 - create links for individual domaincase\n",
      "[{'source': 'R03', 'target': 'U3', 'value': '0.7745966692414834'}]\n",
      "6 - for the domain case find dataelements\n",
      "{'DE5': '0.9682458365518541', 'DE6': '0.9013878188659974', 'DE8': '0.7745966692414834', 'DE11': '0.7637626158259734'}\n",
      "7- individual dataelements\n",
      "DE5\n",
      "From_AcctNum\n",
      "8 - appended node with dataelement\n",
      "[{'id': 'R03', 'group': 1, 'desc': 'Customer'}, {'id': 'U3', 'group': 2, 'desc': 'Transfer Money'}, {'id': 'DE5', 'group': 3, 'desc': 'From_AcctNum'}]\n",
      "9- create links for dataelements\n",
      "[{'source': 'R03', 'target': 'U3', 'value': '0.7745966692414834'}, {'source': 'U3', 'target': 'DE5', 'value': '0.9682458365518541'}]\n",
      "7- individual dataelements\n",
      "DE6\n",
      "To_AcctNum\n",
      "8 - appended node with dataelement\n",
      "[{'id': 'R03', 'group': 1, 'desc': 'Customer'}, {'id': 'U3', 'group': 2, 'desc': 'Transfer Money'}, {'id': 'DE5', 'group': 3, 'desc': 'From_AcctNum'}, {'id': 'DE6', 'group': 3, 'desc': 'To_AcctNum'}]\n",
      "9- create links for dataelements\n",
      "[{'source': 'R03', 'target': 'U3', 'value': '0.7745966692414834'}, {'source': 'U3', 'target': 'DE5', 'value': '0.9682458365518541'}, {'source': 'U3', 'target': 'DE6', 'value': '0.9013878188659974'}]\n",
      "7- individual dataelements\n",
      "DE8\n",
      "Acc_type\n",
      "8 - appended node with dataelement\n",
      "[{'id': 'R03', 'group': 1, 'desc': 'Customer'}, {'id': 'U3', 'group': 2, 'desc': 'Transfer Money'}, {'id': 'DE5', 'group': 3, 'desc': 'From_AcctNum'}, {'id': 'DE6', 'group': 3, 'desc': 'To_AcctNum'}, {'id': 'DE8', 'group': 3, 'desc': 'Acc_type'}]\n",
      "9- create links for dataelements\n",
      "[{'source': 'R03', 'target': 'U3', 'value': '0.7745966692414834'}, {'source': 'U3', 'target': 'DE5', 'value': '0.9682458365518541'}, {'source': 'U3', 'target': 'DE6', 'value': '0.9013878188659974'}, {'source': 'U3', 'target': 'DE8', 'value': '0.7745966692414834'}]\n",
      "7- individual dataelements\n",
      "DE11\n",
      "Amt_trnsfr\n",
      "8 - appended node with dataelement\n",
      "[{'id': 'R03', 'group': 1, 'desc': 'Customer'}, {'id': 'U3', 'group': 2, 'desc': 'Transfer Money'}, {'id': 'DE5', 'group': 3, 'desc': 'From_AcctNum'}, {'id': 'DE6', 'group': 3, 'desc': 'To_AcctNum'}, {'id': 'DE8', 'group': 3, 'desc': 'Acc_type'}, {'id': 'DE11', 'group': 3, 'desc': 'Amt_trnsfr'}]\n",
      "9- create links for dataelements\n",
      "[{'source': 'R03', 'target': 'U3', 'value': '0.7745966692414834'}, {'source': 'U3', 'target': 'DE5', 'value': '0.9682458365518541'}, {'source': 'U3', 'target': 'DE6', 'value': '0.9013878188659974'}, {'source': 'U3', 'target': 'DE8', 'value': '0.7745966692414834'}, {'source': 'U3', 'target': 'DE11', 'value': '0.7637626158259734'}]\n",
      "3  - For each domaincases\n",
      "U1\n",
      "Verify PIN\n",
      "4 - appended node\n",
      "[{'id': 'R03', 'group': 1, 'desc': 'Customer'}, {'id': 'U3', 'group': 2, 'desc': 'Transfer Money'}, {'id': 'DE5', 'group': 3, 'desc': 'From_AcctNum'}, {'id': 'DE6', 'group': 3, 'desc': 'To_AcctNum'}, {'id': 'DE8', 'group': 3, 'desc': 'Acc_type'}, {'id': 'DE11', 'group': 3, 'desc': 'Amt_trnsfr'}, {'id': 'U1', 'group': 2, 'desc': 'Verify PIN'}]\n",
      "5 - create links for individual domaincase\n",
      "[{'source': 'R03', 'target': 'U3', 'value': '0.7745966692414834'}, {'source': 'U3', 'target': 'DE5', 'value': '0.9682458365518541'}, {'source': 'U3', 'target': 'DE6', 'value': '0.9013878188659974'}, {'source': 'U3', 'target': 'DE8', 'value': '0.7745966692414834'}, {'source': 'U3', 'target': 'DE11', 'value': '0.7637626158259734'}, {'source': 'R03', 'target': 'U1', 'value': '0.6324555320336759'}]\n",
      "6 - for the domain case find dataelements\n",
      "{'DE5': '0.8660254037844387', 'DE6': '0.8660254037844387', 'DE4': '0.8498365855987976', 'DE1': '0.8451542547285166'}\n",
      "7- individual dataelements\n",
      "DE5\n",
      "From_AcctNum\n",
      "8 - appended node with dataelement\n",
      "[{'id': 'R03', 'group': 1, 'desc': 'Customer'}, {'id': 'U3', 'group': 2, 'desc': 'Transfer Money'}, {'id': 'DE5', 'group': 3, 'desc': 'From_AcctNum'}, {'id': 'DE6', 'group': 3, 'desc': 'To_AcctNum'}, {'id': 'DE8', 'group': 3, 'desc': 'Acc_type'}, {'id': 'DE11', 'group': 3, 'desc': 'Amt_trnsfr'}, {'id': 'U1', 'group': 2, 'desc': 'Verify PIN'}]\n",
      "9- create links for dataelements\n",
      "[{'source': 'R03', 'target': 'U3', 'value': '0.7745966692414834'}, {'source': 'U3', 'target': 'DE5', 'value': '0.9682458365518541'}, {'source': 'U3', 'target': 'DE6', 'value': '0.9013878188659974'}, {'source': 'U3', 'target': 'DE8', 'value': '0.7745966692414834'}, {'source': 'U3', 'target': 'DE11', 'value': '0.7637626158259734'}, {'source': 'R03', 'target': 'U1', 'value': '0.6324555320336759'}, {'source': 'U1', 'target': 'DE5', 'value': '0.8660254037844387'}]\n",
      "7- individual dataelements\n",
      "DE6\n",
      "To_AcctNum\n",
      "8 - appended node with dataelement\n",
      "[{'id': 'R03', 'group': 1, 'desc': 'Customer'}, {'id': 'U3', 'group': 2, 'desc': 'Transfer Money'}, {'id': 'DE5', 'group': 3, 'desc': 'From_AcctNum'}, {'id': 'DE6', 'group': 3, 'desc': 'To_AcctNum'}, {'id': 'DE8', 'group': 3, 'desc': 'Acc_type'}, {'id': 'DE11', 'group': 3, 'desc': 'Amt_trnsfr'}, {'id': 'U1', 'group': 2, 'desc': 'Verify PIN'}]\n",
      "9- create links for dataelements\n",
      "[{'source': 'R03', 'target': 'U3', 'value': '0.7745966692414834'}, {'source': 'U3', 'target': 'DE5', 'value': '0.9682458365518541'}, {'source': 'U3', 'target': 'DE6', 'value': '0.9013878188659974'}, {'source': 'U3', 'target': 'DE8', 'value': '0.7745966692414834'}, {'source': 'U3', 'target': 'DE11', 'value': '0.7637626158259734'}, {'source': 'R03', 'target': 'U1', 'value': '0.6324555320336759'}, {'source': 'U1', 'target': 'DE5', 'value': '0.8660254037844387'}, {'source': 'U1', 'target': 'DE6', 'value': '0.8660254037844387'}]\n",
      "7- individual dataelements\n",
      "DE4\n",
      "Debit_pin\n",
      "8 - appended node with dataelement\n",
      "[{'id': 'R03', 'group': 1, 'desc': 'Customer'}, {'id': 'U3', 'group': 2, 'desc': 'Transfer Money'}, {'id': 'DE5', 'group': 3, 'desc': 'From_AcctNum'}, {'id': 'DE6', 'group': 3, 'desc': 'To_AcctNum'}, {'id': 'DE8', 'group': 3, 'desc': 'Acc_type'}, {'id': 'DE11', 'group': 3, 'desc': 'Amt_trnsfr'}, {'id': 'U1', 'group': 2, 'desc': 'Verify PIN'}, {'id': 'DE4', 'group': 3, 'desc': 'Debit_pin'}]\n",
      "9- create links for dataelements\n",
      "[{'source': 'R03', 'target': 'U3', 'value': '0.7745966692414834'}, {'source': 'U3', 'target': 'DE5', 'value': '0.9682458365518541'}, {'source': 'U3', 'target': 'DE6', 'value': '0.9013878188659974'}, {'source': 'U3', 'target': 'DE8', 'value': '0.7745966692414834'}, {'source': 'U3', 'target': 'DE11', 'value': '0.7637626158259734'}, {'source': 'R03', 'target': 'U1', 'value': '0.6324555320336759'}, {'source': 'U1', 'target': 'DE5', 'value': '0.8660254037844387'}, {'source': 'U1', 'target': 'DE6', 'value': '0.8660254037844387'}, {'source': 'U1', 'target': 'DE4', 'value': '0.8498365855987976'}]\n",
      "7- individual dataelements\n",
      "DE1\n",
      "Cus_Nme\n",
      "8 - appended node with dataelement\n",
      "[{'id': 'R03', 'group': 1, 'desc': 'Customer'}, {'id': 'U3', 'group': 2, 'desc': 'Transfer Money'}, {'id': 'DE5', 'group': 3, 'desc': 'From_AcctNum'}, {'id': 'DE6', 'group': 3, 'desc': 'To_AcctNum'}, {'id': 'DE8', 'group': 3, 'desc': 'Acc_type'}, {'id': 'DE11', 'group': 3, 'desc': 'Amt_trnsfr'}, {'id': 'U1', 'group': 2, 'desc': 'Verify PIN'}, {'id': 'DE4', 'group': 3, 'desc': 'Debit_pin'}, {'id': 'DE1', 'group': 3, 'desc': 'Cus_Nme'}]\n",
      "9- create links for dataelements\n",
      "[{'source': 'R03', 'target': 'U3', 'value': '0.7745966692414834'}, {'source': 'U3', 'target': 'DE5', 'value': '0.9682458365518541'}, {'source': 'U3', 'target': 'DE6', 'value': '0.9013878188659974'}, {'source': 'U3', 'target': 'DE8', 'value': '0.7745966692414834'}, {'source': 'U3', 'target': 'DE11', 'value': '0.7637626158259734'}, {'source': 'R03', 'target': 'U1', 'value': '0.6324555320336759'}, {'source': 'U1', 'target': 'DE5', 'value': '0.8660254037844387'}, {'source': 'U1', 'target': 'DE6', 'value': '0.8660254037844387'}, {'source': 'U1', 'target': 'DE4', 'value': '0.8498365855987976'}, {'source': 'U1', 'target': 'DE1', 'value': '0.8451542547285166'}]\n",
      "{\"forCmd\": \"AllRelation\", \"response\": {\"nodes\": [{\"id\": \"R03\", \"group\": 1, \"desc\": \"Customer\"}, {\"id\": \"U3\", \"group\": 2, \"desc\": \"Transfer Money\"}, {\"id\": \"DE5\", \"group\": 3, \"desc\": \"From_AcctNum\"}, {\"id\": \"DE6\", \"group\": 3, \"desc\": \"To_AcctNum\"}, {\"id\": \"DE8\", \"group\": 3, \"desc\": \"Acc_type\"}, {\"id\": \"DE11\", \"group\": 3, \"desc\": \"Amt_trnsfr\"}, {\"id\": \"U1\", \"group\": 2, \"desc\": \"Verify PIN\"}, {\"id\": \"DE4\", \"group\": 3, \"desc\": \"Debit_pin\"}, {\"id\": \"DE1\", \"group\": 3, \"desc\": \"Cus_Nme\"}], \"links\": [{\"source\": \"R03\", \"target\": \"U3\", \"value\": \"0.7745966692414834\"}, {\"source\": \"U3\", \"target\": \"DE5\", \"value\": \"0.9682458365518541\"}, {\"source\": \"U3\", \"target\": \"DE6\", \"value\": \"0.9013878188659974\"}, {\"source\": \"U3\", \"target\": \"DE8\", \"value\": \"0.7745966692414834\"}, {\"source\": \"U3\", \"target\": \"DE11\", \"value\": \"0.7637626158259734\"}, {\"source\": \"R03\", \"target\": \"U1\", \"value\": \"0.6324555320336759\"}, {\"source\": \"U1\", \"target\": \"DE5\", \"value\": \"0.8660254037844387\"}, {\"source\": \"U1\", \"target\": \"DE6\", \"value\": \"0.8660254037844387\"}, {\"source\": \"U1\", \"target\": \"DE4\", \"value\": \"0.8498365855987976\"}, {\"source\": \"U1\", \"target\": \"DE1\", \"value\": \"0.8451542547285166\"}]}}\n",
      "message {'forCmd': 'AllRelation', 'response': {'nodes': [{'id': 'R03', 'group': 1, 'desc': 'Customer'}, {'id': 'U3', 'group': 2, 'desc': 'Transfer Money'}, {'id': 'DE5', 'group': 3, 'desc': 'From_AcctNum'}, {'id': 'DE6', 'group': 3, 'desc': 'To_AcctNum'}, {'id': 'DE8', 'group': 3, 'desc': 'Acc_type'}, {'id': 'DE11', 'group': 3, 'desc': 'Amt_trnsfr'}, {'id': 'U1', 'group': 2, 'desc': 'Verify PIN'}, {'id': 'DE4', 'group': 3, 'desc': 'Debit_pin'}, {'id': 'DE1', 'group': 3, 'desc': 'Cus_Nme'}], 'links': [{'source': 'R03', 'target': 'U3', 'value': '0.7745966692414834'}, {'source': 'U3', 'target': 'DE5', 'value': '0.9682458365518541'}, {'source': 'U3', 'target': 'DE6', 'value': '0.9013878188659974'}, {'source': 'U3', 'target': 'DE8', 'value': '0.7745966692414834'}, {'source': 'U3', 'target': 'DE11', 'value': '0.7637626158259734'}, {'source': 'R03', 'target': 'U1', 'value': '0.6324555320336759'}, {'source': 'U1', 'target': 'DE5', 'value': '0.8660254037844387'}, {'source': 'U1', 'target': 'DE6', 'value': '0.8660254037844387'}, {'source': 'U1', 'target': 'DE4', 'value': '0.8498365855987976'}, {'source': 'U1', 'target': 'DE1', 'value': '0.8451542547285166'}]}}\n"
     ]
    },
    {
     "name": "stderr",
     "output_type": "stream",
     "text": [
      "  File \"/anaconda3/lib/python3.6/site-packages/websocket/_app.py\", line 315, in _callback\n",
      "    callback(self, *args)\n",
      "  File \"<ipython-input-121-4e7756458ebe>\", line 5, in on_message\n",
      "    cmd = msg['cmd']\n",
      "send: b'\\x81\\x9c\\x02Vc\\xf7yt\\x00\\x9aftY\\xd5C\\x1fC\\x99U7\\x15\\x92\"\\x1e\\x06\\x96p\"!\\x92c\"A\\x8a'\n",
      "error from callback <function on_message at 0x10550cd90>: local variable 'response' referenced before assignment\n",
      "  File \"/anaconda3/lib/python3.6/site-packages/websocket/_app.py\", line 315, in _callback\n",
      "    callback(self, *args)\n",
      "  File \"<ipython-input-121-4e7756458ebe>\", line 89, in on_message\n",
      "    wsresponse[\"response\"] = response\n"
     ]
    },
    {
     "name": "stdout",
     "output_type": "stream",
     "text": [
      "{\"cmd\":\"AI nWave HeartBeat\"}\n",
      "message {'cmd': 'AI nWave HeartBeat'}\n",
      "Command : AI nWave HeartBeat\n"
     ]
    },
    {
     "name": "stderr",
     "output_type": "stream",
     "text": [
      "send: b'\\x81\\xfe\\x02\\xa5\\x02\\x83\\x1d\\x12y\\xa1{}p\\xc0pv \\xb9=0K\\xedn{e\\xebi0.\\xa3?`g\\xf0m}l\\xf0x08\\xa3f0l\\xe2pw \\xb9=0p\\xe6lgk\\xf1x\\x7fg\\xedi0.\\xa3?qj\\xeaqvp\\xe6s08\\xa3Fi \\xcaY08\\xa3?@2\\xb2?>\"\\xa1z`m\\xf6m08\\xa3?Qw\\xf0i}o\\xe6o0.\\xa3?ak\\xf9x08\\xa3,\"2\\xaf=0d\\xeaqfg\\xf1?(\"\\xb3`>\"\\xf8?[F\\xa1\\'2 \\xd1-\\' \\xaf=0e\\xf1rgr\\xa1\\'2 \\xc0hav\\xecpwp\\xa112 \\xf0thg\\xa1\\'23\\xb3->\"\\xa1{{n\\xf7x` \\xb9=\"\\x7f\\xaf=i \\xcaY08\\xa3?@2\\xba?>\"\\xa1z`m\\xf6m08\\xa3?Pc\\xedvwp\\xa112 \\xf0thg\\xa1\\'25\\xb612 \\xe5t~v\\xe6o08\\xa3,o.\\xa3f0K\\xc7?(\"\\xa1O\"0\\xa112 \\xe4o}w\\xf3?(\"\\xa1^gq\\xf7r\\x7fg\\xf1?>\"\\xa1n{x\\xe6?(\"\\xb2-\".\\xa3?tk\\xefiwp\\xa1\\'22\\xfe12y\\xa1TV \\xb9=0P\\xb3+0.\\xa3?up\\xechb \\xb9=0@\\xe2syg\\xf1?>\"\\xa1n{x\\xe6?(\"\\xb4(>\"\\xa1{{n\\xf7x` \\xb9=#\\x7f\\xaf=i \\xcaY08\\xa3?@3\\xb3?>\"\\xa1z`m\\xf6m08\\xa3?Pc\\xedvwp\\xa112 \\xf0thg\\xa1\\'25\\xb612 \\xe5t~v\\xe6o08\\xa3,o.\\xa3f0K\\xc7?(\"\\xa1O\"1\\xa112 \\xe4o}w\\xf3?(\"\\xa1^gq\\xf7r\\x7fg\\xf1?>\"\\xa1n{x\\xe6?(\"\\xb2-\".\\xa3?tk\\xefiwp\\xa1\\'22\\xfe12y\\xa1TV \\xb9=0P\\xb3*0.\\xa3?up\\xechb \\xb9=0@\\xe2syg\\xf1?>\"\\xa1n{x\\xe6?(\"\\xb4(>\"\\xa1{{n\\xf7x` \\xb9=#\\x7f\\xaf=i \\xcaY08\\xa3?@2\\xb7?>\"\\xa1z`m\\xf6m08\\xa3?Qw\\xf0i}o\\xe6o0.\\xa3?ak\\xf9x08\\xa3,\"2\\xaf=0d\\xeaqfg\\xf1?(\"\\xb3`>\"\\xf8?[F\\xa1\\'2 \\xd1-* \\xaf=0e\\xf1rgr\\xa1\\'2 \\xc1||i\\xe6o0.\\xa3?ak\\xf9x08\\xa3*\\'.\\xa3?tk\\xefiwp\\xa1\\'23\\xfe@o\\x7f'\n",
      "error from callback <function on_message at 0x10550cd90>: 'cmd'\n"
     ]
    },
    {
     "name": "stdout",
     "output_type": "stream",
     "text": [
      "{\"cmd\":\"ReqInsight\",\"ID\":\"requirementInsight1\"}\n",
      "message {'cmd': 'ReqInsight', 'ID': 'requirementInsight1'}\n",
      "Command : ReqInsight\n",
      "Insight1\n",
      "{\"forCmd\": \"Insight\", \"response\": {\"name\": \"requirement\", \"children\": [{\"ID\": \"R01\", \"group\": \"Customer\", \"size\": 100, \"filter\": 0}, {\"ID\": \"R05\", \"group\": \"Customer\", \"size\": 100, \"filter\": 0}, {\"ID\": \"R09\", \"group\": \"Banker\", \"size\": 75, \"filter\": 1}, {\"ID\": \"R02\", \"group\": \"Customer\", \"size\": 100, \"filter\": 0}, {\"ID\": \"R06\", \"group\": \"Banker\", \"size\": 75, \"filter\": 1}, {\"ID\": \"R10\", \"group\": \"Banker\", \"size\": 75, \"filter\": 1}, {\"ID\": \"R03\", \"group\": \"Customer\", \"size\": 100, \"filter\": 0}, {\"ID\": \"R07\", \"group\": \"Banker\", \"size\": 75, \"filter\": 1}, {\"ID\": \"R04\", \"group\": \"Customer\", \"size\": 100, \"filter\": 0}, {\"ID\": \"R08\", \"group\": \"Banker\", \"size\": 75, \"filter\": 1}]}}\n",
      "message {'forCmd': 'Insight', 'response': {'name': 'requirement', 'children': [{'ID': 'R01', 'group': 'Customer', 'size': 100, 'filter': 0}, {'ID': 'R05', 'group': 'Customer', 'size': 100, 'filter': 0}, {'ID': 'R09', 'group': 'Banker', 'size': 75, 'filter': 1}, {'ID': 'R02', 'group': 'Customer', 'size': 100, 'filter': 0}, {'ID': 'R06', 'group': 'Banker', 'size': 75, 'filter': 1}, {'ID': 'R10', 'group': 'Banker', 'size': 75, 'filter': 1}, {'ID': 'R03', 'group': 'Customer', 'size': 100, 'filter': 0}, {'ID': 'R07', 'group': 'Banker', 'size': 75, 'filter': 1}, {'ID': 'R04', 'group': 'Customer', 'size': 100, 'filter': 0}, {'ID': 'R08', 'group': 'Banker', 'size': 75, 'filter': 1}]}}\n"
     ]
    },
    {
     "name": "stderr",
     "output_type": "stream",
     "text": [
      "  File \"/anaconda3/lib/python3.6/site-packages/websocket/_app.py\", line 315, in _callback\n",
      "    callback(self, *args)\n",
      "  File \"<ipython-input-121-4e7756458ebe>\", line 5, in on_message\n",
      "    cmd = msg['cmd']\n",
      "send: b'\\x81\\xfe\\x03\\x96f\\\\\\x04\\xa5\\x1d~b\\xca\\x14\\x1fi\\xc1Df$\\x87\\'0h\\xf7\\x030e\\xd1\\x0f3j\\x87J|&\\xd7\\x03/t\\xca\\x08/a\\x87\\\\|\\x7f\\x87\\x083`\\xc0\\x15~>\\x85=\\'&\\xcc\\x02~>\\x85D\\x0e4\\x9cDp$\\x87\\x01.k\\xd0\\x16~>\\x85Wp$\\x87\\x029w\\xc6Df$\\x87$=j\\xce\\x03.&\\xd8J|\\x7f\\x87\\x0f8&\\x9fF~Q\\x9cDp$\\x87\\x01.k\\xd0\\x16~>\\x85Tp$\\x87\\x029w\\xc6Df$\\x8749r\\xcc\\x03+$\\xd1\\x14=j\\xd6\\x07?p\\xcc\\t2w\\x87\\x1bp$\\xdeD5`\\x87\\\\|&\\xe1#e&\\x89F~c\\xd7\\t)t\\x87\\\\|7\\x89F~`\\xc0\\x15?&\\x9fF~F\\xcc\\n0[\\xd1\\x1f,a\\x87\\x1bp$\\xdeD5`\\x87\\\\|&\\xf0T~(\\x85D;v\\xca\\x13,&\\x9fFn(\\x85D8a\\xd6\\x05~>\\x85D\\nm\\xc0\\x11|E\\xc6\\x053q\\xcb\\x12|&\\xd8J|\\x7f\\x87\\x0f8&\\x9fF~@\\xe0S~(\\x85D;v\\xca\\x13,&\\x9fFo(\\x85D8a\\xd6\\x05~>\\x85D\\x1av\\xca\\x0b\\x03E\\xc6\\x05(J\\xd0\\x0b~y\\x89F\\'&\\xcc\\x02~>\\x85D\\x18A\\x93Dp$\\x87\\x01.k\\xd0\\x16~>\\x85Up$\\x87\\x029w\\xc6Df$\\x8723[\\xe4\\x05?p\\xeb\\x131&\\xd8J|\\x7f\\x87\\x0f8&\\x9fF~@\\xe0T~(\\x85D;v\\xca\\x13,&\\x9fFo(\\x85D8a\\xd6\\x05~>\\x85D\\x1dg\\xc692q\\xc8D!(\\x85\\x1d~m\\xc1Df$\\x87\"\\x195\\x97Dp$\\x87\\x01.k\\xd0\\x16~>\\x85Up$\\x87\\x029w\\xc6Df$\\x87\\'1p\\xfa\\x118v\\xc9D!Y\\x89F~h\\xcc\\x087w\\x87\\\\|_\\xdeD/k\\xd0\\x14?a\\x87\\\\|&\\xf7Ve&\\x89F~p\\xc4\\x14;a\\xd1Df$\\x873e&\\x89F~r\\xc4\\n)a\\x87\\\\|&\\x95Hk4\\x92Wl2\\x92^m5\\x9dPi0\\x92S~y\\x89F\\'&\\xd6\\t)v\\xc6\\x03~>\\x85D\\t=\\x87J|&\\xd1\\x07.c\\xc0\\x12~>\\x85D\\x18A\\x9cDp$\\x87\\x10=h\\xd0\\x03~>\\x85Dl*\\x93Qe7\\x93Pn6\\x95Rd2\\x92Sk1\\x87\\x1bp$\\xdeD/k\\xd0\\x14?a\\x87\\\\|&\\xf7Ve&\\x89F~p\\xc4\\x14;a\\xd1Df$\\x873n&\\x89F~r\\xc4\\n)a\\x87\\\\|&\\x95Hj5\\x97Uk6\\x91Ui2\\x9cSk=\\x91S~y\\x89F\\'&\\xd6\\t)v\\xc6\\x03~>\\x85D\\t6\\x87J|&\\xd1\\x07.c\\xc0\\x12~>\\x85D\\x18A\\x90Dp$\\x87\\x10=h\\xd0\\x03~>\\x85Dl*\\x92_l1\\x93_h5\\x90Vh6\\x95_h<\\x87\\x1bp$\\xdeD/k\\xd0\\x14?a\\x87\\\\|&\\xf0T~(\\x85D(e\\xd7\\x019p\\x87\\\\|&\\xe1#j&\\x89F~r\\xc4\\n)a\\x87\\\\|&\\x95Hk=\\x95Sj=\\x91Wi4\\x91Tl=\\x91^~y\\x89F\\'&\\xd6\\t)v\\xc6\\x03~>\\x85D\\t6\\x87J|&\\xd1\\x07.c\\xc0\\x12~>\\x85D\\x18A\\x97Dp$\\x87\\x10=h\\xd0\\x03~>\\x85Dl*\\x92^l5\\x9d_h=\\x92Pl1\\x91_h&\\xd8J|\\x7f\\x87\\x153q\\xd7\\x059&\\x9fF~Q\\x97Dp$\\x87\\x12=v\\xc2\\x03(&\\x9fF~@\\xe0Wn&\\x89F~r\\xc4\\n)a\\x87\\\\|&\\x95Hk3\\x91Se2\\x93Pe6\\x91Wh<\\x96R~y\\xf8\\x1b!'\n",
      "error from callback <function on_message at 0x10550cd90>: local variable 'response' referenced before assignment\n",
      "  File \"/anaconda3/lib/python3.6/site-packages/websocket/_app.py\", line 315, in _callback\n",
      "    callback(self, *args)\n",
      "  File \"<ipython-input-121-4e7756458ebe>\", line 89, in on_message\n",
      "    wsresponse[\"response\"] = response\n",
      "error from callback <function on_message at 0x10550cd90>: 'cmd'\n"
     ]
    },
    {
     "name": "stdout",
     "output_type": "stream",
     "text": [
      "{\"cmd\":\"AllRelation\",\"ID\":\"R09\"}\n",
      "message {'cmd': 'AllRelation', 'ID': 'R09'}\n",
      "Command : AllRelation\n",
      "Banker\n",
      "{'U9': '0.7071067811865475', 'U2': '0.6123724356957945'}\n",
      "1 - nodes\n",
      "[{'id': 'R09', 'group': 1, 'desc': 'Banker'}]\n",
      "2 - domaincases\n",
      "{'U9': '0.7071067811865475', 'U2': '0.6123724356957945'}\n",
      "3  - For each domaincases\n",
      "U9\n",
      "Review transactions\n",
      "4 - appended node\n",
      "[{'id': 'R09', 'group': 1, 'desc': 'Banker'}, {'id': 'U9', 'group': 2, 'desc': 'Review transactions'}]\n",
      "5 - create links for individual domaincase\n",
      "[{'source': 'R09', 'target': 'U9', 'value': '0.7071067811865475'}]\n",
      "6 - for the domain case find dataelements\n",
      "{'DE9': '0.6793662204867575'}\n",
      "7- individual dataelements\n",
      "DE9\n",
      "Bill_type\n",
      "8 - appended node with dataelement\n",
      "[{'id': 'R09', 'group': 1, 'desc': 'Banker'}, {'id': 'U9', 'group': 2, 'desc': 'Review transactions'}, {'id': 'DE9', 'group': 3, 'desc': 'Bill_type'}]\n",
      "9- create links for dataelements\n",
      "[{'source': 'R09', 'target': 'U9', 'value': '0.7071067811865475'}, {'source': 'U9', 'target': 'DE9', 'value': '0.6793662204867575'}]\n",
      "3  - For each domaincases\n",
      "U2\n",
      "View Account \n",
      "4 - appended node\n",
      "[{'id': 'R09', 'group': 1, 'desc': 'Banker'}, {'id': 'U9', 'group': 2, 'desc': 'Review transactions'}, {'id': 'DE9', 'group': 3, 'desc': 'Bill_type'}, {'id': 'U2', 'group': 2, 'desc': 'View Account '}]\n",
      "5 - create links for individual domaincase\n",
      "[{'source': 'R09', 'target': 'U9', 'value': '0.7071067811865475'}, {'source': 'U9', 'target': 'DE9', 'value': '0.6793662204867575'}, {'source': 'R09', 'target': 'U2', 'value': '0.6123724356957945'}]\n",
      "6 - for the domain case find dataelements\n",
      "{'DE5': '0.7905694150420948', 'DE6': '0.7905694150420948', 'DE2': '0.780189497605494', 'DE12': '0.7745966692414834'}\n",
      "7- individual dataelements\n",
      "DE5\n",
      "From_AcctNum\n",
      "8 - appended node with dataelement\n",
      "[{'id': 'R09', 'group': 1, 'desc': 'Banker'}, {'id': 'U9', 'group': 2, 'desc': 'Review transactions'}, {'id': 'DE9', 'group': 3, 'desc': 'Bill_type'}, {'id': 'U2', 'group': 2, 'desc': 'View Account '}, {'id': 'DE5', 'group': 3, 'desc': 'From_AcctNum'}]\n",
      "9- create links for dataelements\n",
      "[{'source': 'R09', 'target': 'U9', 'value': '0.7071067811865475'}, {'source': 'U9', 'target': 'DE9', 'value': '0.6793662204867575'}, {'source': 'R09', 'target': 'U2', 'value': '0.6123724356957945'}, {'source': 'U2', 'target': 'DE5', 'value': '0.7905694150420948'}]\n",
      "7- individual dataelements\n",
      "DE6\n",
      "To_AcctNum\n",
      "8 - appended node with dataelement\n",
      "[{'id': 'R09', 'group': 1, 'desc': 'Banker'}, {'id': 'U9', 'group': 2, 'desc': 'Review transactions'}, {'id': 'DE9', 'group': 3, 'desc': 'Bill_type'}, {'id': 'U2', 'group': 2, 'desc': 'View Account '}, {'id': 'DE5', 'group': 3, 'desc': 'From_AcctNum'}, {'id': 'DE6', 'group': 3, 'desc': 'To_AcctNum'}]\n",
      "9- create links for dataelements\n",
      "[{'source': 'R09', 'target': 'U9', 'value': '0.7071067811865475'}, {'source': 'U9', 'target': 'DE9', 'value': '0.6793662204867575'}, {'source': 'R09', 'target': 'U2', 'value': '0.6123724356957945'}, {'source': 'U2', 'target': 'DE5', 'value': '0.7905694150420948'}, {'source': 'U2', 'target': 'DE6', 'value': '0.7905694150420948'}]\n",
      "7- individual dataelements\n",
      "DE2\n",
      "Acc_num\n",
      "8 - appended node with dataelement\n",
      "[{'id': 'R09', 'group': 1, 'desc': 'Banker'}, {'id': 'U9', 'group': 2, 'desc': 'Review transactions'}, {'id': 'DE9', 'group': 3, 'desc': 'Bill_type'}, {'id': 'U2', 'group': 2, 'desc': 'View Account '}, {'id': 'DE5', 'group': 3, 'desc': 'From_AcctNum'}, {'id': 'DE6', 'group': 3, 'desc': 'To_AcctNum'}, {'id': 'DE2', 'group': 3, 'desc': 'Acc_num'}]\n",
      "9- create links for dataelements\n",
      "[{'source': 'R09', 'target': 'U9', 'value': '0.7071067811865475'}, {'source': 'U9', 'target': 'DE9', 'value': '0.6793662204867575'}, {'source': 'R09', 'target': 'U2', 'value': '0.6123724356957945'}, {'source': 'U2', 'target': 'DE5', 'value': '0.7905694150420948'}, {'source': 'U2', 'target': 'DE6', 'value': '0.7905694150420948'}, {'source': 'U2', 'target': 'DE2', 'value': '0.780189497605494'}]\n",
      "7- individual dataelements\n",
      "DE12\n",
      "Amt_wdrl\n",
      "8 - appended node with dataelement\n",
      "[{'id': 'R09', 'group': 1, 'desc': 'Banker'}, {'id': 'U9', 'group': 2, 'desc': 'Review transactions'}, {'id': 'DE9', 'group': 3, 'desc': 'Bill_type'}, {'id': 'U2', 'group': 2, 'desc': 'View Account '}, {'id': 'DE5', 'group': 3, 'desc': 'From_AcctNum'}, {'id': 'DE6', 'group': 3, 'desc': 'To_AcctNum'}, {'id': 'DE2', 'group': 3, 'desc': 'Acc_num'}, {'id': 'DE12', 'group': 3, 'desc': 'Amt_wdrl'}]\n",
      "9- create links for dataelements\n",
      "[{'source': 'R09', 'target': 'U9', 'value': '0.7071067811865475'}, {'source': 'U9', 'target': 'DE9', 'value': '0.6793662204867575'}, {'source': 'R09', 'target': 'U2', 'value': '0.6123724356957945'}, {'source': 'U2', 'target': 'DE5', 'value': '0.7905694150420948'}, {'source': 'U2', 'target': 'DE6', 'value': '0.7905694150420948'}, {'source': 'U2', 'target': 'DE2', 'value': '0.780189497605494'}, {'source': 'U2', 'target': 'DE12', 'value': '0.7745966692414834'}]\n",
      "{\"forCmd\": \"AllRelation\", \"response\": {\"nodes\": [{\"id\": \"R09\", \"group\": 1, \"desc\": \"Banker\"}, {\"id\": \"U9\", \"group\": 2, \"desc\": \"Review transactions\"}, {\"id\": \"DE9\", \"group\": 3, \"desc\": \"Bill_type\"}, {\"id\": \"U2\", \"group\": 2, \"desc\": \"View Account \"}, {\"id\": \"DE5\", \"group\": 3, \"desc\": \"From_AcctNum\"}, {\"id\": \"DE6\", \"group\": 3, \"desc\": \"To_AcctNum\"}, {\"id\": \"DE2\", \"group\": 3, \"desc\": \"Acc_num\"}, {\"id\": \"DE12\", \"group\": 3, \"desc\": \"Amt_wdrl\"}], \"links\": [{\"source\": \"R09\", \"target\": \"U9\", \"value\": \"0.7071067811865475\"}, {\"source\": \"U9\", \"target\": \"DE9\", \"value\": \"0.6793662204867575\"}, {\"source\": \"R09\", \"target\": \"U2\", \"value\": \"0.6123724356957945\"}, {\"source\": \"U2\", \"target\": \"DE5\", \"value\": \"0.7905694150420948\"}, {\"source\": \"U2\", \"target\": \"DE6\", \"value\": \"0.7905694150420948\"}, {\"source\": \"U2\", \"target\": \"DE2\", \"value\": \"0.780189497605494\"}, {\"source\": \"U2\", \"target\": \"DE12\", \"value\": \"0.7745966692414834\"}]}}\n",
      "message {'forCmd': 'AllRelation', 'response': {'nodes': [{'id': 'R09', 'group': 1, 'desc': 'Banker'}, {'id': 'U9', 'group': 2, 'desc': 'Review transactions'}, {'id': 'DE9', 'group': 3, 'desc': 'Bill_type'}, {'id': 'U2', 'group': 2, 'desc': 'View Account '}, {'id': 'DE5', 'group': 3, 'desc': 'From_AcctNum'}, {'id': 'DE6', 'group': 3, 'desc': 'To_AcctNum'}, {'id': 'DE2', 'group': 3, 'desc': 'Acc_num'}, {'id': 'DE12', 'group': 3, 'desc': 'Amt_wdrl'}], 'links': [{'source': 'R09', 'target': 'U9', 'value': '0.7071067811865475'}, {'source': 'U9', 'target': 'DE9', 'value': '0.6793662204867575'}, {'source': 'R09', 'target': 'U2', 'value': '0.6123724356957945'}, {'source': 'U2', 'target': 'DE5', 'value': '0.7905694150420948'}, {'source': 'U2', 'target': 'DE6', 'value': '0.7905694150420948'}, {'source': 'U2', 'target': 'DE2', 'value': '0.780189497605494'}, {'source': 'U2', 'target': 'DE12', 'value': '0.7745966692414834'}]}}\n"
     ]
    },
    {
     "name": "stderr",
     "output_type": "stream",
     "text": [
      "  File \"/anaconda3/lib/python3.6/site-packages/websocket/_app.py\", line 315, in _callback\n",
      "    callback(self, *args)\n",
      "  File \"<ipython-input-121-4e7756458ebe>\", line 5, in on_message\n",
      "    cmd = msg['cmd']\n",
      "send: b'\\x81\\xfe\\x02\\xa5\\x1d\\xe8fef\\xca\\x00\\no\\xab\\x0b\\x01?\\xd2FGT\\x86\\x15\\x0cz\\x80\\x12G1\\xc8D\\x17x\\x9b\\x16\\ns\\x9b\\x03G\\'\\xc8\\x1dGs\\x89\\x0b\\x00?\\xd2FGo\\x8d\\x17\\x10t\\x9a\\x03\\x08x\\x86\\x12G1\\xc8D\\x06u\\x81\\n\\x01o\\x8d\\x08G\\'\\xc8=\\x1e?\\xa1\"G\\'\\xc8D7-\\xd9DI=\\xca\\x01\\x17r\\x9d\\x16G\\'\\xc8D&h\\x9b\\x12\\np\\x8d\\x14G1\\xc8D\\x16t\\x92\\x03G\\'\\xc8WU-\\xc4FG{\\x81\\n\\x11x\\x9aD_=\\xd8\\x1bI=\\x93D,Y\\xca\\\\E?\\xbaVP?\\xc4FGz\\x9a\\t\\x10m\\xca\\\\E?\\xab\\x13\\x16i\\x87\\x0b\\x00o\\xcaJE?\\x9b\\x0f\\x1fx\\xca\\\\E,\\xd8VI=\\xca\\x00\\x0cq\\x9c\\x03\\x17?\\xd2FU`\\xc4F\\x1e?\\xa1\"G\\'\\xc8D7-\\xd1DI=\\xca\\x01\\x17r\\x9d\\x16G\\'\\xc8D\\'|\\x86\\r\\x00o\\xcaJE?\\x9b\\x0f\\x1fx\\xca\\\\E*\\xddJE?\\x8e\\x0f\\ti\\x8d\\x14G\\'\\xc8V\\x181\\xc8\\x1dGT\\xacD_=\\xca4U/\\xcaJE?\\x8f\\x14\\nh\\x98D_=\\xca%\\x10n\\x9c\\t\\x08x\\x9aDI=\\xca\\x15\\x0cg\\x8dD_=\\xd9VU1\\xc8D\\x03t\\x84\\x12\\x00o\\xca\\\\E-\\x95JEf\\xca/!?\\xd2FGO\\xd8PG1\\xc8D\\x02o\\x87\\x13\\x15?\\xd2FG_\\x89\\x08\\x0ex\\x9aDI=\\xca\\x15\\x0cg\\x8dD_=\\xdfSI=\\xca\\x00\\x0cq\\x9c\\x03\\x17?\\xd2FT`\\xc4F\\x1e?\\xa1\"G\\'\\xc8D7,\\xd8DI=\\xca\\x01\\x17r\\x9d\\x16G\\'\\xc8D\\'|\\x86\\r\\x00o\\xcaJE?\\x9b\\x0f\\x1fx\\xca\\\\E*\\xddJE?\\x8e\\x0f\\ti\\x8d\\x14G\\'\\xc8V\\x181\\xc8\\x1dGT\\xacD_=\\xca4U.\\xcaJE?\\x8f\\x14\\nh\\x98D_=\\xca%\\x10n\\x9c\\t\\x08x\\x9aDI=\\xca\\x15\\x0cg\\x8dD_=\\xd9VU1\\xc8D\\x03t\\x84\\x12\\x00o\\xca\\\\E-\\x95JEf\\xca/!?\\xd2FGO\\xd8QG1\\xc8D\\x02o\\x87\\x13\\x15?\\xd2FG_\\x89\\x08\\x0ex\\x9aDI=\\xca\\x15\\x0cg\\x8dD_=\\xdfSI=\\xca\\x00\\x0cq\\x9c\\x03\\x17?\\xd2FU`\\xc4F\\x1e?\\xa1\"G\\'\\xc8D7-\\xdcDI=\\xca\\x01\\x17r\\x9d\\x16G\\'\\xc8D&h\\x9b\\x12\\np\\x8d\\x14G1\\xc8D\\x16t\\x92\\x03G\\'\\xc8WU-\\xc4FG{\\x81\\n\\x11x\\x9aD_=\\xd8\\x1bI=\\x93D,Y\\xca\\\\E?\\xbaV]?\\xc4FGz\\x9a\\t\\x10m\\xca\\\\E?\\xaa\\x07\\x0bv\\x8d\\x14G1\\xc8D\\x16t\\x92\\x03G\\'\\xc8QP1\\xc8D\\x03t\\x84\\x12\\x00o\\xca\\\\E-\\x95;\\x18`'\n",
      "error from callback <function on_message at 0x10550cd90>: 'cmd'\n"
     ]
    },
    {
     "name": "stdout",
     "output_type": "stream",
     "text": [
      "{\"cmd\":\"ReqInsight\",\"ID\":\"requirementInsight3\"}\n",
      "message {'cmd': 'ReqInsight', 'ID': 'requirementInsight3'}\n",
      "Command : ReqInsight\n",
      "{\"forCmd\": \"Insight\", \"response\": {\"name\": \"requirement\", \"children\": [{\"ID\": \"R01\", \"group\": \"Customer\", \"size\": 100, \"filter\": 0}, {\"ID\": \"R05\", \"group\": \"Customer\", \"size\": 100, \"filter\": 0}, {\"ID\": \"R09\", \"group\": \"Banker\", \"size\": 75, \"filter\": 0}, {\"ID\": \"R02\", \"group\": \"Customer\", \"size\": 100, \"filter\": 0}, {\"ID\": \"R06\", \"group\": \"Banker\", \"size\": 75, \"filter\": 1}, {\"ID\": \"R10\", \"group\": \"Banker\", \"size\": 75, \"filter\": 0}, {\"ID\": \"R03\", \"group\": \"Customer\", \"size\": 100, \"filter\": 0}, {\"ID\": \"R07\", \"group\": \"Banker\", \"size\": 75, \"filter\": 0}, {\"ID\": \"R04\", \"group\": \"Customer\", \"size\": 100, \"filter\": 0}, {\"ID\": \"R08\", \"group\": \"Banker\", \"size\": 75, \"filter\": 0}]}}\n",
      "message {'forCmd': 'Insight', 'response': {'name': 'requirement', 'children': [{'ID': 'R01', 'group': 'Customer', 'size': 100, 'filter': 0}, {'ID': 'R05', 'group': 'Customer', 'size': 100, 'filter': 0}, {'ID': 'R09', 'group': 'Banker', 'size': 75, 'filter': 0}, {'ID': 'R02', 'group': 'Customer', 'size': 100, 'filter': 0}, {'ID': 'R06', 'group': 'Banker', 'size': 75, 'filter': 1}, {'ID': 'R10', 'group': 'Banker', 'size': 75, 'filter': 0}, {'ID': 'R03', 'group': 'Customer', 'size': 100, 'filter': 0}, {'ID': 'R07', 'group': 'Banker', 'size': 75, 'filter': 0}, {'ID': 'R04', 'group': 'Customer', 'size': 100, 'filter': 0}, {'ID': 'R08', 'group': 'Banker', 'size': 75, 'filter': 0}]}}\n"
     ]
    },
    {
     "name": "stderr",
     "output_type": "stream",
     "text": [
      "  File \"/anaconda3/lib/python3.6/site-packages/websocket/_app.py\", line 315, in _callback\n",
      "    callback(self, *args)\n",
      "  File \"<ipython-input-121-4e7756458ebe>\", line 5, in on_message\n",
      "    cmd = msg['cmd']\n",
      "send: b'\\x81\\xfe\\x02\\xb0\\xcd\\x174\\xd2\\xb65R\\xbd\\xbfTY\\xb6\\xef-\\x14\\xf0\\x8c{X\\x80\\xa8{U\\xa6\\xa4xZ\\xf0\\xe17\\x16\\xa0\\xa8dD\\xbd\\xa3dQ\\xf0\\xf77O\\xf0\\xa3xP\\xb7\\xbe5\\x0e\\xf2\\x96l\\x16\\xbb\\xa95\\x0e\\xf2\\xefE\\x04\\xe4\\xef;\\x14\\xf0\\xaae[\\xa7\\xbd5\\x0e\\xf2\\xfc;\\x14\\xf0\\xa9rG\\xb1\\xef-\\x14\\xf0\\x8fvZ\\xb9\\xa8e\\x16\\xaf\\xe17O\\xf0\\xa4s\\x16\\xe8\\xed5a\\xe3\\xf85\\x18\\xf2\\xefpF\\xbd\\xb8g\\x16\\xe8\\xed%\\x18\\xf2\\xefsQ\\xa1\\xae5\\x0e\\xf2\\xefT\\\\\\xb7\\xbcbQ\\xf2\\x9erF\\xa4\\xa4tQ\\xa1\\xefj\\x18\\xf2\\xb65]\\xb6\\xef-\\x14\\xf0\\x89R\\x03\\xf0\\xe17\\x16\\xb5\\xbfxA\\xa2\\xef-\\x14\\xe1\\xe17\\x16\\xb6\\xa8dW\\xf0\\xf77\\x16\\x93\\xa0ck\\xb6\\xa8g[\\xa1\\xa4c\\x16\\xaf\\xe17O\\xf0\\xa4s\\x16\\xe8\\xed5p\\x97\\xfc%\\x16\\xfe\\xed5S\\xa0\\xa2bD\\xf0\\xf77\\x07\\xfe\\xed5P\\xb7\\xbet\\x16\\xe8\\xed5u\\xbf\\xb9HC\\xb6\\xbf{\\x16\\xaf\\xe17O\\xf0\\xa4s\\x16\\xe8\\xed5p\\x97\\xff5\\x18\\xf2\\xefpF\\xbd\\xb8g\\x16\\xe8\\xed$\\x18\\xf2\\xefsQ\\xa1\\xae5\\x0e\\xf2\\xefVW\\xb1\\x92yA\\xbf\\xefj\\x18\\xf2\\xb65]\\xb6\\xef-\\x14\\xf0\\x89R\\r\\xf0\\xe17\\x16\\xb5\\xbfxA\\xa2\\xef-\\x14\\xe1\\xe17\\x16\\xb6\\xa8dW\\xf0\\xf77\\x16\\x90\\xa4{X\\x8d\\xb9nD\\xb7\\xefji\\xfe\\xed5X\\xbb\\xa3|G\\xf0\\xf77o\\xa9\\xefd[\\xa7\\xbftQ\\xf0\\xf77\\x16\\x80\\xfd!\\x16\\xfe\\xed5@\\xb3\\xbfpQ\\xa6\\xef-\\x14\\xf0\\x98&\\x01\\xf0\\xe17\\x16\\xa4\\xac{A\\xb7\\xef-\\x14\\xf0\\xfd9\\x02\\xe7\\xf9!\\x01\\xe1\\xfb \\x04\\xe5\\xfd \\r\\xe5\\xfa%\\x16\\xaf\\xe17O\\xf0\\xbexA\\xa0\\xaer\\x16\\xe8\\xed5a\\xe3\\xf85\\x18\\xf2\\xefcU\\xa0\\xaar@\\xf0\\xf77\\x16\\x96\\x88 \\x16\\xfe\\xed5B\\xb3\\xa1bQ\\xf0\\xf77\\x16\\xe2\\xe3!\\x02\\xe4\\xfb!\\x02\\xe4\\xfb!\\x02\\xe4\\xfb!\\x02\\xe4\\xfb5I\\xfe\\xedl\\x16\\xa1\\xa2bF\\xb1\\xa85\\x0e\\xf2\\xefB\\x05\\xe7\\xef;\\x14\\xf0\\xb9vF\\xb5\\xa8c\\x16\\xe8\\xed5p\\x97\\xfc%\\x16\\xfe\\xed5B\\xb3\\xa1bQ\\xf0\\xf77\\x16\\xe2\\xe3!\\x07\\xe0\\xf9\"\\x01\\xe7\\xfe%\\x04\\xe1\\xfe!\\x03\\xe7\\xf45I\\xfe\\xedl\\x16\\xa1\\xa2bF\\xb1\\xa85\\x0e\\xf2\\xefB\\x05\\xe7\\xef;\\x14\\xf0\\xb9vF\\xb5\\xa8c\\x16\\xe8\\xed5p\\x97\\xff5\\x18\\xf2\\xefaU\\xbe\\xb8r\\x16\\xe8\\xed5\\x04\\xfc\\xfb%\\x01\\xe7\\xf9$\\x06\\xe6\\xff&\\x03\\xe3\\xff%\\x00\\xe6\\xefj\\x18\\xf2\\xb65G\\xbd\\xb8eW\\xb7\\xef-\\x14\\xf0\\x98&\\x01\\xf0\\xe17\\x16\\xa6\\xaceS\\xb7\\xb95\\x0e\\xf2\\xefSq\\xeb\\xef;\\x14\\xf0\\xbbvX\\xa7\\xa85\\x0e\\xf2\\xef\\'\\x1a\\xe4\\xff\\'\\x05\\xe5\\xfe!\\x03\\xe0\\xf4#\\x02\\xe2\\xf9%\\x07\\xf0\\xb0JI\\xaf'\n",
      "error from callback <function on_message at 0x10550cd90>: local variable 'response' referenced before assignment\n",
      "  File \"/anaconda3/lib/python3.6/site-packages/websocket/_app.py\", line 315, in _callback\n",
      "    callback(self, *args)\n",
      "  File \"<ipython-input-121-4e7756458ebe>\", line 89, in on_message\n",
      "    wsresponse[\"response\"] = response\n",
      "error from callback <function on_message at 0x10550cd90>: 'cmd'\n"
     ]
    },
    {
     "name": "stdout",
     "output_type": "stream",
     "text": [
      "{\"cmd\":\"AllRelation\",\"ID\":\"R06\"}\n",
      "message {'cmd': 'AllRelation', 'ID': 'R06'}\n",
      "Command : AllRelation\n",
      "Banker\n",
      "{'U15': '0.6546536707079772'}\n",
      "1 - nodes\n",
      "[{'id': 'R06', 'group': 1, 'desc': 'Banker'}]\n",
      "2 - domaincases\n",
      "{'U15': '0.6546536707079772'}\n",
      "3  - For each domaincases\n",
      "U15\n",
      "Cheque Services\n",
      "4 - appended node\n",
      "[{'id': 'R06', 'group': 1, 'desc': 'Banker'}, {'id': 'U15', 'group': 2, 'desc': 'Cheque Services'}]\n",
      "5 - create links for individual domaincase\n",
      "[{'source': 'R06', 'target': 'U15', 'value': '0.6546536707079772'}]\n",
      "6 - for the domain case find dataelements\n",
      "{'DE7': '0.6666666666666666', 'DE12': '0.6324555320336759', 'DE2': '0.6255432421712244', 'DE9': '0.6201736729460423'}\n",
      "7- individual dataelements\n",
      "DE7\n",
      "Amt_deposit\n",
      "8 - appended node with dataelement\n",
      "[{'id': 'R06', 'group': 1, 'desc': 'Banker'}, {'id': 'U15', 'group': 2, 'desc': 'Cheque Services'}, {'id': 'DE7', 'group': 3, 'desc': 'Amt_deposit'}]\n",
      "9- create links for dataelements\n",
      "[{'source': 'R06', 'target': 'U15', 'value': '0.6546536707079772'}, {'source': 'U15', 'target': 'DE7', 'value': '0.6666666666666666'}]\n",
      "7- individual dataelements\n",
      "DE12\n",
      "Amt_wdrl\n",
      "8 - appended node with dataelement\n",
      "[{'id': 'R06', 'group': 1, 'desc': 'Banker'}, {'id': 'U15', 'group': 2, 'desc': 'Cheque Services'}, {'id': 'DE7', 'group': 3, 'desc': 'Amt_deposit'}, {'id': 'DE12', 'group': 3, 'desc': 'Amt_wdrl'}]\n",
      "9- create links for dataelements\n",
      "[{'source': 'R06', 'target': 'U15', 'value': '0.6546536707079772'}, {'source': 'U15', 'target': 'DE7', 'value': '0.6666666666666666'}, {'source': 'U15', 'target': 'DE12', 'value': '0.6324555320336759'}]\n",
      "7- individual dataelements\n",
      "DE2\n",
      "Acc_num\n",
      "8 - appended node with dataelement\n",
      "[{'id': 'R06', 'group': 1, 'desc': 'Banker'}, {'id': 'U15', 'group': 2, 'desc': 'Cheque Services'}, {'id': 'DE7', 'group': 3, 'desc': 'Amt_deposit'}, {'id': 'DE12', 'group': 3, 'desc': 'Amt_wdrl'}, {'id': 'DE2', 'group': 3, 'desc': 'Acc_num'}]\n",
      "9- create links for dataelements\n",
      "[{'source': 'R06', 'target': 'U15', 'value': '0.6546536707079772'}, {'source': 'U15', 'target': 'DE7', 'value': '0.6666666666666666'}, {'source': 'U15', 'target': 'DE12', 'value': '0.6324555320336759'}, {'source': 'U15', 'target': 'DE2', 'value': '0.6255432421712244'}]\n",
      "7- individual dataelements\n",
      "DE9\n",
      "Bill_type\n",
      "8 - appended node with dataelement\n",
      "[{'id': 'R06', 'group': 1, 'desc': 'Banker'}, {'id': 'U15', 'group': 2, 'desc': 'Cheque Services'}, {'id': 'DE7', 'group': 3, 'desc': 'Amt_deposit'}, {'id': 'DE12', 'group': 3, 'desc': 'Amt_wdrl'}, {'id': 'DE2', 'group': 3, 'desc': 'Acc_num'}, {'id': 'DE9', 'group': 3, 'desc': 'Bill_type'}]\n",
      "9- create links for dataelements\n",
      "[{'source': 'R06', 'target': 'U15', 'value': '0.6546536707079772'}, {'source': 'U15', 'target': 'DE7', 'value': '0.6666666666666666'}, {'source': 'U15', 'target': 'DE12', 'value': '0.6324555320336759'}, {'source': 'U15', 'target': 'DE2', 'value': '0.6255432421712244'}, {'source': 'U15', 'target': 'DE9', 'value': '0.6201736729460423'}]\n",
      "{\"forCmd\": \"AllRelation\", \"response\": {\"nodes\": [{\"id\": \"R06\", \"group\": 1, \"desc\": \"Banker\"}, {\"id\": \"U15\", \"group\": 2, \"desc\": \"Cheque Services\"}, {\"id\": \"DE7\", \"group\": 3, \"desc\": \"Amt_deposit\"}, {\"id\": \"DE12\", \"group\": 3, \"desc\": \"Amt_wdrl\"}, {\"id\": \"DE2\", \"group\": 3, \"desc\": \"Acc_num\"}, {\"id\": \"DE9\", \"group\": 3, \"desc\": \"Bill_type\"}], \"links\": [{\"source\": \"R06\", \"target\": \"U15\", \"value\": \"0.6546536707079772\"}, {\"source\": \"U15\", \"target\": \"DE7\", \"value\": \"0.6666666666666666\"}, {\"source\": \"U15\", \"target\": \"DE12\", \"value\": \"0.6324555320336759\"}, {\"source\": \"U15\", \"target\": \"DE2\", \"value\": \"0.6255432421712244\"}, {\"source\": \"U15\", \"target\": \"DE9\", \"value\": \"0.6201736729460423\"}]}}\n",
      "message {'forCmd': 'AllRelation', 'response': {'nodes': [{'id': 'R06', 'group': 1, 'desc': 'Banker'}, {'id': 'U15', 'group': 2, 'desc': 'Cheque Services'}, {'id': 'DE7', 'group': 3, 'desc': 'Amt_deposit'}, {'id': 'DE12', 'group': 3, 'desc': 'Amt_wdrl'}, {'id': 'DE2', 'group': 3, 'desc': 'Acc_num'}, {'id': 'DE9', 'group': 3, 'desc': 'Bill_type'}], 'links': [{'source': 'R06', 'target': 'U15', 'value': '0.6546536707079772'}, {'source': 'U15', 'target': 'DE7', 'value': '0.6666666666666666'}, {'source': 'U15', 'target': 'DE12', 'value': '0.6324555320336759'}, {'source': 'U15', 'target': 'DE2', 'value': '0.6255432421712244'}, {'source': 'U15', 'target': 'DE9', 'value': '0.6201736729460423'}]}}\n"
     ]
    },
    {
     "name": "stderr",
     "output_type": "stream",
     "text": [
      "  File \"/anaconda3/lib/python3.6/site-packages/websocket/_app.py\", line 315, in _callback\n",
      "    callback(self, *args)\n",
      "  File \"<ipython-input-121-4e7756458ebe>\", line 5, in on_message\n",
      "    cmd = msg['cmd']\n",
      "send: b'\\x81\\x9c\\x7f\\xf9-\\xa1\\x04\\xdbN\\xcc\\x1b\\xdb\\x17\\x83>\\xb0\\r\\xcf(\\x98[\\xc4_\\xb1H\\xc0\\r\\x8do\\xc4\\x1e\\x8d\\x0f\\xdc'\n",
      "error from callback <function on_message at 0x10550cd90>: local variable 'response' referenced before assignment\n",
      "  File \"/anaconda3/lib/python3.6/site-packages/websocket/_app.py\", line 315, in _callback\n",
      "    callback(self, *args)\n",
      "  File \"<ipython-input-121-4e7756458ebe>\", line 89, in on_message\n",
      "    wsresponse[\"response\"] = response\n"
     ]
    },
    {
     "name": "stdout",
     "output_type": "stream",
     "text": [
      "{\"cmd\":\"AI nWave HeartBeat\"}\n",
      "message {'cmd': 'AI nWave HeartBeat'}\n",
      "Command : AI nWave HeartBeat\n"
     ]
    },
    {
     "name": "stderr",
     "output_type": "stream",
     "text": [
      "send: b\"\\x81\\xfe\\x02$J\\xfb\\x95\\x921\\xd9\\xf3\\xfd8\\xb8\\xf8\\xf6h\\xc1\\xb5\\xb0\\x18\\x9e\\xe4\\xe1\\x06\\x92\\xe6\\xe6h\\xd7\\xb5\\xb08\\x9e\\xe6\\xe2%\\x95\\xe6\\xf7h\\xc1\\xb5\\xe9h\\x95\\xf4\\xff/\\xd9\\xaf\\xb2h\\x89\\xf0\\xe3?\\x92\\xe7\\xf7'\\x9e\\xfb\\xe6h\\xd7\\xb5\\xb0)\\x93\\xfc\\xfe.\\x89\\xf0\\xfch\\xc1\\xb5\\xc91\\xd9\\xdc\\xd6h\\xc1\\xb5\\xb0\\x18\\xcb\\xa4\\xb0f\\xdb\\xb7\\xf58\\x94\\xe0\\xe2h\\xc1\\xb5\\xb0\\t\\x8e\\xe6\\xe6%\\x96\\xf0\\xe0h\\xd7\\xb5\\xb09\\x92\\xef\\xf7h\\xc1\\xb5\\xa3z\\xcb\\xe8\\xbej\\x80\\xb7\\xdb\\x0e\\xd9\\xaf\\xb2h\\xa9\\xa5\\xa7h\\xd7\\xb5\\xb0-\\x89\\xfa\\xe7:\\xd9\\xaf\\xb2h\\xb8\\xe0\\xe1>\\x94\\xf8\\xf78\\xd9\\xb9\\xb2h\\x88\\xfc\\xe8/\\xd9\\xaf\\xb2{\\xcb\\xa5\\xeff\\xdb\\xee\\xb0\\x03\\xbf\\xb7\\xa8j\\xd9\\xc7\\xa2s\\xd9\\xb9\\xb2h\\x9c\\xe7\\xfd?\\x8b\\xb7\\xa8j\\xd9\\xd7\\xf3$\\x90\\xf0\\xe0h\\xd7\\xb5\\xb09\\x92\\xef\\xf7h\\xc1\\xb5\\xa5\\x7f\\x86\\xb9\\xb21\\xd9\\xdc\\xd6h\\xc1\\xb5\\xb0\\x18\\xcb\\xa7\\xb0f\\xdb\\xb7\\xf58\\x94\\xe0\\xe2h\\xc1\\xb5\\xb0\\t\\x8e\\xe6\\xe6%\\x96\\xf0\\xe0h\\xd7\\xb5\\xb09\\x92\\xef\\xf7h\\xc1\\xb5\\xa3z\\xcb\\xe8\\xbej\\x80\\xb7\\xdb\\x0e\\xd9\\xaf\\xb2h\\xa9\\xa5\\xa4h\\xd7\\xb5\\xb0-\\x89\\xfa\\xe7:\\xd9\\xaf\\xb2h\\xb9\\xf4\\xfc!\\x9e\\xe7\\xb0f\\xdb\\xb7\\xe1#\\x81\\xf0\\xb0p\\xdb\\xa2\\xa77\\xd7\\xb5\\xe9h\\xb2\\xd1\\xb0p\\xdb\\xb7\\xc0{\\xcb\\xb7\\xbej\\xd9\\xf2\\xe0%\\x8e\\xe5\\xb0p\\xdb\\xb7\\xd0+\\x95\\xfe\\xf78\\xd9\\xb9\\xb2h\\x88\\xfc\\xe8/\\xd9\\xaf\\xb2}\\xce\\xe8\\xbej\\x80\\xb7\\xdb\\x0e\\xd9\\xaf\\xb2h\\xa9\\xa5\\xa1h\\xd7\\xb5\\xb0-\\x89\\xfa\\xe7:\\xd9\\xaf\\xb2h\\xb8\\xe0\\xe1>\\x94\\xf8\\xf78\\xd9\\xb9\\xb2h\\x88\\xfc\\xe8/\\xd9\\xaf\\xb2{\\xcb\\xa5\\xeff\\xdb\\xee\\xb0\\x03\\xbf\\xb7\\xa8j\\xd9\\xc7\\xa2}\\xd9\\xb9\\xb2h\\x9c\\xe7\\xfd?\\x8b\\xb7\\xa8j\\xd9\\xd7\\xf3$\\x90\\xf0\\xe0h\\xd7\\xb5\\xb09\\x92\\xef\\xf7h\\xc1\\xb5\\xa5\\x7f\\x86\\xb9\\xb21\\xd9\\xdc\\xd6h\\xc1\\xb5\\xb0\\x18\\xcb\\xa1\\xb0f\\xdb\\xb7\\xf58\\x94\\xe0\\xe2h\\xc1\\xb5\\xb0\\t\\x8e\\xe6\\xe6%\\x96\\xf0\\xe0h\\xd7\\xb5\\xb09\\x92\\xef\\xf7h\\xc1\\xb5\\xa3z\\xcb\\xe8\\xbej\\x80\\xb7\\xdb\\x0e\\xd9\\xaf\\xb2h\\xa9\\xa5\\xaah\\xd7\\xb5\\xb0-\\x89\\xfa\\xe7:\\xd9\\xaf\\xb2h\\xb9\\xf4\\xfc!\\x9e\\xe7\\xb0f\\xdb\\xb7\\xe1#\\x81\\xf0\\xb0p\\xdb\\xa2\\xa77\\xa6\\xe8\\xef\"\n",
      "error from callback <function on_message at 0x10550cd90>: local variable 'response' referenced before assignment\n",
      "  File \"/anaconda3/lib/python3.6/site-packages/websocket/_app.py\", line 315, in _callback\n",
      "    callback(self, *args)\n",
      "  File \"<ipython-input-121-4e7756458ebe>\", line 89, in on_message\n",
      "    wsresponse[\"response\"] = response\n",
      "error from callback <function on_message at 0x10550cd90>: 'cmd'\n"
     ]
    },
    {
     "name": "stdout",
     "output_type": "stream",
     "text": [
      "{\"cmd\":\"ReqsList\"}\n",
      "message {'cmd': 'ReqsList'}\n",
      "Command : ReqsList\n",
      "{\"forCmd\": \"ReqsList\", \"response\": {\"name\": \"requirement\", \"children\": [{\"ID\": \"R01\", \"group\": \"Customer\", \"size\": 100}, {\"ID\": \"R05\", \"group\": \"Customer\", \"size\": 100}, {\"ID\": \"R09\", \"group\": \"Banker\", \"size\": 75}, {\"ID\": \"R02\", \"group\": \"Customer\", \"size\": 100}, {\"ID\": \"R06\", \"group\": \"Banker\", \"size\": 75}, {\"ID\": \"R10\", \"group\": \"Banker\", \"size\": 75}, {\"ID\": \"R03\", \"group\": \"Customer\", \"size\": 100}, {\"ID\": \"R07\", \"group\": \"Banker\", \"size\": 75}, {\"ID\": \"R04\", \"group\": \"Customer\", \"size\": 100}, {\"ID\": \"R08\", \"group\": \"Banker\", \"size\": 75}]}}\n",
      "message {'forCmd': 'ReqsList', 'response': {'name': 'requirement', 'children': [{'ID': 'R01', 'group': 'Customer', 'size': 100}, {'ID': 'R05', 'group': 'Customer', 'size': 100}, {'ID': 'R09', 'group': 'Banker', 'size': 75}, {'ID': 'R02', 'group': 'Customer', 'size': 100}, {'ID': 'R06', 'group': 'Banker', 'size': 75}, {'ID': 'R10', 'group': 'Banker', 'size': 75}, {'ID': 'R03', 'group': 'Customer', 'size': 100}, {'ID': 'R07', 'group': 'Banker', 'size': 75}, {'ID': 'R04', 'group': 'Customer', 'size': 100}, {'ID': 'R08', 'group': 'Banker', 'size': 75}]}}\n"
     ]
    },
    {
     "name": "stderr",
     "output_type": "stream",
     "text": [
      "  File \"/anaconda3/lib/python3.6/site-packages/websocket/_app.py\", line 315, in _callback\n",
      "    callback(self, *args)\n",
      "  File \"<ipython-input-121-4e7756458ebe>\", line 5, in on_message\n",
      "    cmd = msg['cmd']\n",
      "send: b'\\x81\\xfe\\x01M\\xa1\\x8a\\xc1\\x99\\xda\\xa8\\xa7\\xf6\\xd3\\xc9\\xac\\xfd\\x83\\xb0\\xe1\\xbb\\xe6\\xef\\xb5\\xdc\\xd9\\xe9\\xa4\\xf5\\x83\\xa6\\xe1\\xbb\\xd3\\xef\\xb2\\xe9\\xce\\xe4\\xb2\\xfc\\x83\\xb0\\xe1\\xe2\\x83\\xe4\\xa0\\xf4\\xc4\\xa8\\xfb\\xb9\\x83\\xee\\xae\\xee\\xcf\\xe6\\xae\\xf8\\xc5\\xa8\\xed\\xb9\\x83\\xe9\\xa9\\xf0\\xcd\\xee\\xb3\\xfc\\xcf\\xa8\\xfb\\xb9\\xfa\\xf1\\xe3\\xff\\xc8\\xe6\\xa4\\xf7\\xc0\\xe7\\xa4\\xbb\\x9b\\xaa\\xe3\\xff\\xc8\\xe4\\xa0\\xf5\\xfe\\xe5\\xb4\\xed\\xd1\\xff\\xb5\\xb7\\xd9\\xe6\\xb2\\xe1\\x83\\xa6\\xe1\\xbb\\xd1\\xeb\\xb5\\xf1\\x83\\xb0\\xe1\\xbb\\x8e\\xdf\\xb2\\xfc\\xd3\\xf9\\xee\\xea\\xd6\\xeb\\xb3\\xf6\\xce\\xfa\\xac\\xf0\\xd2\\xe2\\xb3\\xf8\\x8e\\xce\\xa4\\xea\\xca\\xfe\\xae\\xe9\\x8e\\xfa\\xb8\\xed\\xc9\\xe5\\xaf\\xea\\xc2\\xf8\\xa8\\xe9\\xd5\\xa5\\x8f\\xd5\\xf1\\xd5\\x91\\xeb\\xce\\xe0\\xa4\\xfa\\xd5\\xa5\\xaf\\xce\\xc0\\xfc\\xa4\\xc6\\xd2\\xe5\\xa7\\xed\\xd6\\xeb\\xb3\\xfc\\xe5\\xef\\xb2\\xf0\\xc6\\xe4\\xee\\xf7\\xce\\xfe\\xa4\\xfb\\xce\\xe5\\xaa\\xb6\\x83\\xf7\\xed\\xb9\\xda\\xa8\\xa7\\xf0\\xcd\\xef\\xaf\\xf8\\xcc\\xef\\xe3\\xa3\\x81\\xa8\\xa4\\xe1\\xc2\\xef\\xad\\xc6\\xc5\\xe5\\xb6\\xf7\\xcd\\xe5\\xa0\\xfd\\x8f\\xe0\\xb1\\xfe\\x83\\xa6\\xe1\\xbb\\xd1\\xeb\\xb5\\xf1\\x83\\xb0\\xe1\\xbb\\x8e\\xdf\\xb2\\xfc\\xd3\\xf9\\xee\\xea\\xd6\\xeb\\xb3\\xf6\\xce\\xfa\\xac\\xf0\\xd2\\xe2\\xb3\\xf8\\x8e\\xce\\xa4\\xea\\xca\\xfe\\xae\\xe9\\x8e\\xfa\\xb8\\xed\\xc9\\xe5\\xaf\\xea\\xc2\\xf8\\xa8\\xe9\\xd5\\xa5\\x8f\\xd5\\xf1\\xd5\\x91\\xeb\\xce\\xe0\\xa4\\xfa\\xd5\\xa5\\xaf\\xce\\xc0\\xfc\\xa4\\xc6\\xd2\\xe5\\xa7\\xed\\xd6\\xeb\\xb3\\xfc\\xe5\\xef\\xb2\\xf0\\xc6\\xe4\\xee\\xf7\\xce\\xfe\\xa4\\xfb\\xce\\xe5\\xaa\\xb6\\x83\\xf7\\x9c\\xe4\\xdc'\n",
      "error from callback <function on_message at 0x10550cd90>: local variable 'response' referenced before assignment\n",
      "  File \"/anaconda3/lib/python3.6/site-packages/websocket/_app.py\", line 315, in _callback\n",
      "    callback(self, *args)\n",
      "  File \"<ipython-input-121-4e7756458ebe>\", line 89, in on_message\n",
      "    wsresponse[\"response\"] = response\n",
      "error from callback <function on_message at 0x10550cd90>: 'cmd'\n"
     ]
    },
    {
     "name": "stdout",
     "output_type": "stream",
     "text": [
      "{\"cmd\":\"getExcel\"}\n",
      "message {'cmd': 'getExcel'}\n",
      "Command : getExcel\n",
      "{\"forCmd\": \"GetExcel\", \"response\": {\"name\": \"download\", \"children\": [{\"filename\": \"final_output.xlsx\", \"path\": \"/Users/swaroopmishra/Desktop/pythonscript/NLP_Project/nWave_softwareDesign/notebook/\"}, {\"filename\": \"excel_download.jpg\", \"path\": \"/Users/swaroopmishra/Desktop/pythonscript/NLP_Project/nWave_softwareDesign/notebook/\"}]}}\n",
      "message {'forCmd': 'GetExcel', 'response': {'name': 'download', 'children': [{'filename': 'final_output.xlsx', 'path': '/Users/swaroopmishra/Desktop/pythonscript/NLP_Project/nWave_softwareDesign/notebook/'}, {'filename': 'excel_download.jpg', 'path': '/Users/swaroopmishra/Desktop/pythonscript/NLP_Project/nWave_softwareDesign/notebook/'}]}}\n"
     ]
    },
    {
     "name": "stderr",
     "output_type": "stream",
     "text": [
      "  File \"/anaconda3/lib/python3.6/site-packages/websocket/_app.py\", line 315, in _callback\n",
      "    callback(self, *args)\n",
      "  File \"<ipython-input-121-4e7756458ebe>\", line 5, in on_message\n",
      "    cmd = msg['cmd']\n",
      "send: b'\\x81\\x9cCt\\t]8Vj0\\'V3\\x7f\\x02=)3\\x14\\x15\\x7f8c<l<1\\x00K8\"\\x00+ '\n",
      "error from callback <function on_message at 0x10550cd90>: local variable 'response' referenced before assignment\n",
      "  File \"/anaconda3/lib/python3.6/site-packages/websocket/_app.py\", line 315, in _callback\n",
      "    callback(self, *args)\n",
      "  File \"<ipython-input-121-4e7756458ebe>\", line 89, in on_message\n",
      "    wsresponse[\"response\"] = response\n"
     ]
    },
    {
     "name": "stdout",
     "output_type": "stream",
     "text": [
      "{\"cmd\":\"AI nWave HeartBeat\"}\n",
      "message {'cmd': 'AI nWave HeartBeat'}\n",
      "Command : AI nWave HeartBeat\n"
     ]
    },
    {
     "name": "stderr",
     "output_type": "stream",
     "text": [
      "send: b'\\x81\\xfe\\x02$O\\x13\\x9cE41\\xfa*=P\\xf1!m)\\xbcg\\x1dv\\xed6\\x03z\\xef1m?\\xbcg=v\\xef5 }\\xef m)\\xbc>m}\\xfd(*1\\xa6ema\\xf94:z\\xee \"v\\xf21m?\\xbcg,{\\xf5)+a\\xf9+m)\\xbc\\x1e41\\xd5\\x01m)\\xbcg\\x1d#\\xadgc3\\xbe\"=|\\xe95m)\\xbcg\\x0cf\\xef1 ~\\xf97m?\\xbcg<z\\xe6 m)\\xbct\\x7f#\\xe1ioh\\xbe\\x0c\\x0b1\\xa6emA\\xacpm?\\xbcg(a\\xf30?1\\xa6emP\\xe96;|\\xf1 =1\\xb0em`\\xf5?*1\\xa6e~#\\xac8c3\\xe7g\\x06W\\xbe\\x7fo1\\xceuv1\\xb0emt\\xee*:c\\xbe\\x7fo1\\xde$!x\\xf97m?\\xbcg<z\\xe6 m)\\xbcrzn\\xb0e41\\xd5\\x01m)\\xbcg\\x1d#\\xaegc3\\xbe\"=|\\xe95m)\\xbcg\\x0cf\\xef1 ~\\xf97m?\\xbcg<z\\xe6 m)\\xbct\\x7f#\\xe1ioh\\xbe\\x0c\\x0b1\\xa6emA\\xacsm?\\xbcg(a\\xf30?1\\xa6emQ\\xfd+$v\\xeegc3\\xbe6&i\\xf9gu3\\xabp2?\\xbc>mZ\\xd8gu3\\xbe\\x17~#\\xbeio1\\xfb7 f\\xecgu3\\xbe\\x07.}\\xf7 =1\\xb0em`\\xf5?*1\\xa6ex&\\xe1ioh\\xbe\\x0c\\x0b1\\xa6emA\\xacvm?\\xbcg(a\\xf30?1\\xa6emP\\xe96;|\\xf1 =1\\xb0em`\\xf5?*1\\xa6e~#\\xac8c3\\xe7g\\x06W\\xbe\\x7fo1\\xceux1\\xb0emt\\xee*:c\\xbe\\x7fo1\\xde$!x\\xf97m?\\xbcg<z\\xe6 m)\\xbcrzn\\xb0e41\\xd5\\x01m)\\xbcg\\x1d#\\xa8gc3\\xbe\"=|\\xe95m)\\xbcg\\x0cf\\xef1 ~\\xf97m?\\xbcg<z\\xe6 m)\\xbct\\x7f#\\xe1ioh\\xbe\\x0c\\x0b1\\xa6emA\\xac}m?\\xbcg(a\\xf30?1\\xa6emQ\\xfd+$v\\xeegc3\\xbe6&i\\xf9gu3\\xabp2N\\xe18'\n",
      "error from callback <function on_message at 0x10550cd90>: local variable 'response' referenced before assignment\n",
      "  File \"/anaconda3/lib/python3.6/site-packages/websocket/_app.py\", line 315, in _callback\n",
      "    callback(self, *args)\n",
      "  File \"<ipython-input-121-4e7756458ebe>\", line 89, in on_message\n",
      "    wsresponse[\"response\"] = response\n",
      "error from callback <function on_message at 0x10550cd90>: 'cmd'\n"
     ]
    },
    {
     "name": "stdout",
     "output_type": "stream",
     "text": [
      "{\"cmd\":\"ReqsList\"}\n",
      "message {'cmd': 'ReqsList'}\n",
      "Command : ReqsList\n",
      "{\"forCmd\": \"ReqsList\", \"response\": {\"name\": \"requirement\", \"children\": [{\"ID\": \"R01\", \"group\": \"Customer\", \"size\": 100}, {\"ID\": \"R05\", \"group\": \"Customer\", \"size\": 100}, {\"ID\": \"R09\", \"group\": \"Banker\", \"size\": 75}, {\"ID\": \"R02\", \"group\": \"Customer\", \"size\": 100}, {\"ID\": \"R06\", \"group\": \"Banker\", \"size\": 75}, {\"ID\": \"R10\", \"group\": \"Banker\", \"size\": 75}, {\"ID\": \"R03\", \"group\": \"Customer\", \"size\": 100}, {\"ID\": \"R07\", \"group\": \"Banker\", \"size\": 75}, {\"ID\": \"R04\", \"group\": \"Customer\", \"size\": 100}, {\"ID\": \"R08\", \"group\": \"Banker\", \"size\": 75}]}}\n",
      "message {'forCmd': 'ReqsList', 'response': {'name': 'requirement', 'children': [{'ID': 'R01', 'group': 'Customer', 'size': 100}, {'ID': 'R05', 'group': 'Customer', 'size': 100}, {'ID': 'R09', 'group': 'Banker', 'size': 75}, {'ID': 'R02', 'group': 'Customer', 'size': 100}, {'ID': 'R06', 'group': 'Banker', 'size': 75}, {'ID': 'R10', 'group': 'Banker', 'size': 75}, {'ID': 'R03', 'group': 'Customer', 'size': 100}, {'ID': 'R07', 'group': 'Banker', 'size': 75}, {'ID': 'R04', 'group': 'Customer', 'size': 100}, {'ID': 'R08', 'group': 'Banker', 'size': 75}]}}\n"
     ]
    },
    {
     "name": "stderr",
     "output_type": "stream",
     "text": [
      "  File \"/anaconda3/lib/python3.6/site-packages/websocket/_app.py\", line 315, in _callback\n",
      "    callback(self, *args)\n",
      "  File \"<ipython-input-121-4e7756458ebe>\", line 5, in on_message\n",
      "    cmd = msg['cmd']\n",
      "send: b'\\x81\\xfe\\x04\\x8c5_\\xc5\\tN}\\xa3fG\\x1c\\xa8m\\x17e\\xe5+t3\\xa9[P3\\xa4}\\\\0\\xab+\\x19\\x7f\\xe7{P,\\xb5f[,\\xa0+\\x0f\\x7f\\xbe+[0\\xa1lF}\\xff)n$\\xe7`Q}\\xff)\\x17\\r\\xf5=\\x17s\\xe5+R-\\xaa|E}\\xff)\\x04s\\xe5+Q:\\xb6j\\x17e\\xe5+v*\\xb6}Z2\\xa0{\\x17\"\\xe9)N}\\xacm\\x17e\\xe5+`n\\xf1+\\x19\\x7f\\xe7nG0\\xb0y\\x17e\\xe5;\\x19\\x7f\\xe7mP,\\xa6+\\x0f\\x7f\\xe7YT&\\xe5K\\\\3\\xa9z\\x15}\\xb8%\\x15$\\xe7`Q}\\xff)\\x17\\x1b\\x80;\\x17s\\xe5+R-\\xaa|E}\\xff)\\x06s\\xe5+Q:\\xb6j\\x17e\\xe5+t<\\xa6V[*\\xa8+Hs\\xe5r\\x176\\xa1+\\x0f\\x7f\\xe7Mpn\\xf7+\\x19\\x7f\\xe7nG0\\xb0y\\x17e\\xe5:\\x19\\x7f\\xe7mP,\\xa6+\\x0f\\x7f\\xe7HX+\\x9a~Q-\\xa9+Hs\\xe5r\\x176\\xa1+\\x0f\\x7f\\xe7Mpf\\xe7%\\x15}\\xa2{Z*\\xb5+\\x0f\\x7f\\xf6%\\x15}\\xa1lF<\\xe73\\x15}\\x87`Y3\\x9a}L/\\xa0+Hs\\xe5r\\x176\\xa1+\\x0f\\x7f\\xe7Mpg\\xe7%\\x15}\\xa2{Z*\\xb5+\\x0f\\x7f\\xf6%\\x15}\\xa1lF<\\xe73\\x15}\\x84jV\\x00\\xb1pE:\\xe7t\\x19\\x7f\\xbe+\\\\;\\xe73\\x15}\\x908\\x03}\\xe9)\\x178\\xb7f@/\\xe73\\x15m\\xe9)\\x17;\\xa0zV}\\xff)\\x17\\n\\xb1`Y6\\xb1p\\x17\"\\xe9)N}\\xacm\\x17e\\xe5+q\\x1a\\xf49\\x17s\\xe5+R-\\xaa|E}\\xff)\\x06s\\xe5+Q:\\xb6j\\x17e\\xe5+x>\\xbdVY6\\xa8`A}\\xb8%\\x15$\\xe7`Q}\\xff)\\x17\\x1b\\x80>\\x17s\\xe5+R-\\xaa|E}\\xff)\\x06s\\xe5+Q:\\xb6j\\x17e\\xe5+t2\\xb1VQ:\\xb5fF6\\xb1+H\\x02\\xe9)\\x173\\xacg^,\\xe73\\x15\\x04\\xbe+F0\\xb0{V:\\xe73\\x15}\\x979\\x01}\\xe9)\\x17+\\xa4{R:\\xb1+\\x0f\\x7f\\xe7\\\\\\x04k\\xe7%\\x15}\\xb3hY*\\xa0+\\x0f\\x7f\\xe79\\x1bg\\xf3?\\x05m\\xf0=\\x05l\\xf21\\x01k\\xf61\\x02}\\xb8%\\x15$\\xe7zZ*\\xb7jP}\\xff)\\x17\\n\\xf4=\\x17s\\xe5+A>\\xb7nP+\\xe73\\x15}\\x81L\\x07}\\xe9)\\x17)\\xa4e@:\\xe73\\x15}\\xf5\\'\\x02m\\xf7:\\x04j\\xf48\\rj\\xf4=\\x03n\\xf0=\\x17\"\\xe9)N}\\xb6f@-\\xa6l\\x17e\\xe5+`n\\xf1+\\x19\\x7f\\xe7}T-\\xa2lA}\\xff)\\x17\\x1b\\x808\\x07}\\xe9)\\x17)\\xa4e@:\\xe73\\x15}\\xf5\\'\\x02o\\xf28\\x05i\\xf21\\x04n\\xfd?\\x00k\\xf2<\\x17\"\\xe9)N}\\xb6f@-\\xa6l\\x17e\\xe5+`n\\xf1+\\x19\\x7f\\xe7}T-\\xa2lA}\\xff)\\x17\\x1b\\x800\\x17s\\xe5+C>\\xa9|P}\\xff)\\x17o\\xeb?\\x02f\\xf6?\\x03m\\xf79\\x01g\\xf3>\\x00h\\xf0+Hs\\xe5r\\x17,\\xaa|G<\\xa0+\\x0f\\x7f\\xe7\\\\\\x04k\\xe7%\\x15}\\xb1hG8\\xa0}\\x17e\\xe5+q\\x1a\\xfd+\\x19\\x7f\\xe7\\x7fT3\\xb0l\\x17e\\xe5+\\x05q\\xf3>\\x05g\\xf79\\x06f\\xf6;\\x01f\\xfc:\\x03f\\xe7t\\x19\\x7f\\xbe+F0\\xb0{V:\\xe73\\x15}\\x979\\x01}\\xe9)\\x17+\\xa4{R:\\xb1+\\x0f\\x7f\\xe7\\\\\\x04i\\xe7%\\x15}\\xb3hY*\\xa0+\\x0f\\x7f\\xe79\\x1bh\\xf5>\\x04o\\xf3>\\rn\\xf41\\x03j\\xf1>\\x00}\\xb8%\\x15$\\xe7zZ*\\xb7jP}\\xff)\\x17\\n\\xf4?\\x17s\\xe5+A>\\xb7nP+\\xe73\\x15}\\x81L\\x0c}\\xe9)\\x17)\\xa4e@:\\xe73\\x15}\\xf5\\'\\x02l\\xf6>\\x0cf\\xf61\\x00h\\xf5<\\x06k\\xf70\\x17\"\\xe9)N}\\xb6f@-\\xa6l\\x17e\\xe5+`n\\xf3+\\x19\\x7f\\xe7}T-\\xa2lA}\\xff)\\x17\\x1b\\x808\\x05}\\xe9)\\x17)\\xa4e@:\\xe73\\x15}\\xf5\\'\\x03g\\xf00\\x0ck\\xf6=\\x05j\\xf29\\x05l\\xf0:\\x17\"\\xe9)N}\\xb6f@-\\xa6l\\x17e\\xe5+`n\\xf3+\\x19\\x7f\\xe7}T-\\xa2lA}\\xff)\\x17\\x1b\\x80>\\x17s\\xe5+C>\\xa9|P}\\xff)\\x17o\\xeb?\\x03i\\xf3?\\x03i\\xf3?\\x03i\\xf3?\\x03i\\xf3+Hs\\xe5r\\x17,\\xaa|G<\\xa0+\\x0f\\x7f\\xe7\\\\\\x04i\\xe7%\\x15}\\xb1hG8\\xa0}\\x17e\\xe5+q\\x1a\\xf4;\\x17s\\xe5+C>\\xa9|P}\\xff)\\x17o\\xeb?\\x06m\\xf1<\\x00j\\xf6;\\x05l\\xf6?\\x02j\\xfc+H\\x02\\xb8t'\n",
      "error from callback <function on_message at 0x10550cd90>: local variable 'response' referenced before assignment\n",
      "  File \"/anaconda3/lib/python3.6/site-packages/websocket/_app.py\", line 315, in _callback\n",
      "    callback(self, *args)\n",
      "  File \"<ipython-input-121-4e7756458ebe>\", line 89, in on_message\n",
      "    wsresponse[\"response\"] = response\n",
      "error from callback <function on_message at 0x10550cd90>: 'cmd'\n"
     ]
    },
    {
     "name": "stdout",
     "output_type": "stream",
     "text": [
      "{\"cmd\":\"AllRelation\",\"ID\":\"R04\"}\n",
      "message {'cmd': 'AllRelation', 'ID': 'R04'}\n",
      "Command : AllRelation\n",
      "Customer\n",
      "{'U14': '0.8660254037844387', 'U16': '0.7071067811865475'}\n",
      "1 - nodes\n",
      "[{'id': 'R04', 'group': 1, 'desc': 'Customer'}]\n",
      "2 - domaincases\n",
      "{'U14': '0.8660254037844387', 'U16': '0.7071067811865475'}\n",
      "3  - For each domaincases\n",
      "U14\n",
      "Pay Bills \n",
      "4 - appended node\n",
      "[{'id': 'R04', 'group': 1, 'desc': 'Customer'}, {'id': 'U14', 'group': 2, 'desc': 'Pay Bills '}]\n",
      "5 - create links for individual domaincase\n",
      "[{'source': 'R04', 'target': 'U14', 'value': '0.8660254037844387'}]\n",
      "6 - for the domain case find dataelements\n",
      "{'DE2': '0.7223151185146154', 'DE12': '0.7071067811865475', 'DE9': '0.6793662204867575', 'DE8': '0.6708203932499369'}\n",
      "7- individual dataelements\n",
      "DE2\n",
      "Acc_num\n",
      "8 - appended node with dataelement\n",
      "[{'id': 'R04', 'group': 1, 'desc': 'Customer'}, {'id': 'U14', 'group': 2, 'desc': 'Pay Bills '}, {'id': 'DE2', 'group': 3, 'desc': 'Acc_num'}]\n",
      "9- create links for dataelements\n",
      "[{'source': 'R04', 'target': 'U14', 'value': '0.8660254037844387'}, {'source': 'U14', 'target': 'DE2', 'value': '0.7223151185146154'}]\n",
      "7- individual dataelements\n",
      "DE12\n",
      "Amt_wdrl\n",
      "8 - appended node with dataelement\n",
      "[{'id': 'R04', 'group': 1, 'desc': 'Customer'}, {'id': 'U14', 'group': 2, 'desc': 'Pay Bills '}, {'id': 'DE2', 'group': 3, 'desc': 'Acc_num'}, {'id': 'DE12', 'group': 3, 'desc': 'Amt_wdrl'}]\n",
      "9- create links for dataelements\n",
      "[{'source': 'R04', 'target': 'U14', 'value': '0.8660254037844387'}, {'source': 'U14', 'target': 'DE2', 'value': '0.7223151185146154'}, {'source': 'U14', 'target': 'DE12', 'value': '0.7071067811865475'}]\n",
      "7- individual dataelements\n",
      "DE9\n",
      "Bill_type\n",
      "8 - appended node with dataelement\n",
      "[{'id': 'R04', 'group': 1, 'desc': 'Customer'}, {'id': 'U14', 'group': 2, 'desc': 'Pay Bills '}, {'id': 'DE2', 'group': 3, 'desc': 'Acc_num'}, {'id': 'DE12', 'group': 3, 'desc': 'Amt_wdrl'}, {'id': 'DE9', 'group': 3, 'desc': 'Bill_type'}]\n",
      "9- create links for dataelements\n",
      "[{'source': 'R04', 'target': 'U14', 'value': '0.8660254037844387'}, {'source': 'U14', 'target': 'DE2', 'value': '0.7223151185146154'}, {'source': 'U14', 'target': 'DE12', 'value': '0.7071067811865475'}, {'source': 'U14', 'target': 'DE9', 'value': '0.6793662204867575'}]\n",
      "7- individual dataelements\n",
      "DE8\n",
      "Acc_type\n",
      "8 - appended node with dataelement\n",
      "[{'id': 'R04', 'group': 1, 'desc': 'Customer'}, {'id': 'U14', 'group': 2, 'desc': 'Pay Bills '}, {'id': 'DE2', 'group': 3, 'desc': 'Acc_num'}, {'id': 'DE12', 'group': 3, 'desc': 'Amt_wdrl'}, {'id': 'DE9', 'group': 3, 'desc': 'Bill_type'}, {'id': 'DE8', 'group': 3, 'desc': 'Acc_type'}]\n",
      "9- create links for dataelements\n",
      "[{'source': 'R04', 'target': 'U14', 'value': '0.8660254037844387'}, {'source': 'U14', 'target': 'DE2', 'value': '0.7223151185146154'}, {'source': 'U14', 'target': 'DE12', 'value': '0.7071067811865475'}, {'source': 'U14', 'target': 'DE9', 'value': '0.6793662204867575'}, {'source': 'U14', 'target': 'DE8', 'value': '0.6708203932499369'}]\n",
      "3  - For each domaincases\n",
      "U16\n",
      "Utility\n",
      "4 - appended node\n",
      "[{'id': 'R04', 'group': 1, 'desc': 'Customer'}, {'id': 'U14', 'group': 2, 'desc': 'Pay Bills '}, {'id': 'DE2', 'group': 3, 'desc': 'Acc_num'}, {'id': 'DE12', 'group': 3, 'desc': 'Amt_wdrl'}, {'id': 'DE9', 'group': 3, 'desc': 'Bill_type'}, {'id': 'DE8', 'group': 3, 'desc': 'Acc_type'}, {'id': 'U16', 'group': 2, 'desc': 'Utility'}]\n",
      "5 - create links for individual domaincase\n",
      "[{'source': 'R04', 'target': 'U14', 'value': '0.8660254037844387'}, {'source': 'U14', 'target': 'DE2', 'value': '0.7223151185146154'}, {'source': 'U14', 'target': 'DE12', 'value': '0.7071067811865475'}, {'source': 'U14', 'target': 'DE9', 'value': '0.6793662204867575'}, {'source': 'U14', 'target': 'DE8', 'value': '0.6708203932499369'}, {'source': 'R04', 'target': 'U16', 'value': '0.7071067811865475'}]\n",
      "6 - for the domain case find dataelements\n",
      "{'DE9': '0.7337993857053429', 'DE10': '0.6859943405700353', 'DE7': '0.6666666666666666', 'DE12': '0.6324555320336759'}\n",
      "7- individual dataelements\n",
      "DE9\n",
      "Bill_type\n",
      "8 - appended node with dataelement\n",
      "[{'id': 'R04', 'group': 1, 'desc': 'Customer'}, {'id': 'U14', 'group': 2, 'desc': 'Pay Bills '}, {'id': 'DE2', 'group': 3, 'desc': 'Acc_num'}, {'id': 'DE12', 'group': 3, 'desc': 'Amt_wdrl'}, {'id': 'DE9', 'group': 3, 'desc': 'Bill_type'}, {'id': 'DE8', 'group': 3, 'desc': 'Acc_type'}, {'id': 'U16', 'group': 2, 'desc': 'Utility'}]\n",
      "9- create links for dataelements\n",
      "[{'source': 'R04', 'target': 'U14', 'value': '0.8660254037844387'}, {'source': 'U14', 'target': 'DE2', 'value': '0.7223151185146154'}, {'source': 'U14', 'target': 'DE12', 'value': '0.7071067811865475'}, {'source': 'U14', 'target': 'DE9', 'value': '0.6793662204867575'}, {'source': 'U14', 'target': 'DE8', 'value': '0.6708203932499369'}, {'source': 'R04', 'target': 'U16', 'value': '0.7071067811865475'}, {'source': 'U16', 'target': 'DE9', 'value': '0.7337993857053429'}]\n",
      "7- individual dataelements\n",
      "DE10\n",
      "Max_limit\n",
      "8 - appended node with dataelement\n",
      "[{'id': 'R04', 'group': 1, 'desc': 'Customer'}, {'id': 'U14', 'group': 2, 'desc': 'Pay Bills '}, {'id': 'DE2', 'group': 3, 'desc': 'Acc_num'}, {'id': 'DE12', 'group': 3, 'desc': 'Amt_wdrl'}, {'id': 'DE9', 'group': 3, 'desc': 'Bill_type'}, {'id': 'DE8', 'group': 3, 'desc': 'Acc_type'}, {'id': 'U16', 'group': 2, 'desc': 'Utility'}, {'id': 'DE10', 'group': 3, 'desc': 'Max_limit'}]\n",
      "9- create links for dataelements\n",
      "[{'source': 'R04', 'target': 'U14', 'value': '0.8660254037844387'}, {'source': 'U14', 'target': 'DE2', 'value': '0.7223151185146154'}, {'source': 'U14', 'target': 'DE12', 'value': '0.7071067811865475'}, {'source': 'U14', 'target': 'DE9', 'value': '0.6793662204867575'}, {'source': 'U14', 'target': 'DE8', 'value': '0.6708203932499369'}, {'source': 'R04', 'target': 'U16', 'value': '0.7071067811865475'}, {'source': 'U16', 'target': 'DE9', 'value': '0.7337993857053429'}, {'source': 'U16', 'target': 'DE10', 'value': '0.6859943405700353'}]\n",
      "7- individual dataelements\n",
      "DE7\n",
      "Amt_deposit\n",
      "8 - appended node with dataelement\n",
      "[{'id': 'R04', 'group': 1, 'desc': 'Customer'}, {'id': 'U14', 'group': 2, 'desc': 'Pay Bills '}, {'id': 'DE2', 'group': 3, 'desc': 'Acc_num'}, {'id': 'DE12', 'group': 3, 'desc': 'Amt_wdrl'}, {'id': 'DE9', 'group': 3, 'desc': 'Bill_type'}, {'id': 'DE8', 'group': 3, 'desc': 'Acc_type'}, {'id': 'U16', 'group': 2, 'desc': 'Utility'}, {'id': 'DE10', 'group': 3, 'desc': 'Max_limit'}, {'id': 'DE7', 'group': 3, 'desc': 'Amt_deposit'}]\n",
      "9- create links for dataelements\n",
      "[{'source': 'R04', 'target': 'U14', 'value': '0.8660254037844387'}, {'source': 'U14', 'target': 'DE2', 'value': '0.7223151185146154'}, {'source': 'U14', 'target': 'DE12', 'value': '0.7071067811865475'}, {'source': 'U14', 'target': 'DE9', 'value': '0.6793662204867575'}, {'source': 'U14', 'target': 'DE8', 'value': '0.6708203932499369'}, {'source': 'R04', 'target': 'U16', 'value': '0.7071067811865475'}, {'source': 'U16', 'target': 'DE9', 'value': '0.7337993857053429'}, {'source': 'U16', 'target': 'DE10', 'value': '0.6859943405700353'}, {'source': 'U16', 'target': 'DE7', 'value': '0.6666666666666666'}]\n",
      "7- individual dataelements\n",
      "DE12\n",
      "Amt_wdrl\n",
      "8 - appended node with dataelement\n",
      "[{'id': 'R04', 'group': 1, 'desc': 'Customer'}, {'id': 'U14', 'group': 2, 'desc': 'Pay Bills '}, {'id': 'DE2', 'group': 3, 'desc': 'Acc_num'}, {'id': 'DE12', 'group': 3, 'desc': 'Amt_wdrl'}, {'id': 'DE9', 'group': 3, 'desc': 'Bill_type'}, {'id': 'DE8', 'group': 3, 'desc': 'Acc_type'}, {'id': 'U16', 'group': 2, 'desc': 'Utility'}, {'id': 'DE10', 'group': 3, 'desc': 'Max_limit'}, {'id': 'DE7', 'group': 3, 'desc': 'Amt_deposit'}]\n",
      "9- create links for dataelements\n",
      "[{'source': 'R04', 'target': 'U14', 'value': '0.8660254037844387'}, {'source': 'U14', 'target': 'DE2', 'value': '0.7223151185146154'}, {'source': 'U14', 'target': 'DE12', 'value': '0.7071067811865475'}, {'source': 'U14', 'target': 'DE9', 'value': '0.6793662204867575'}, {'source': 'U14', 'target': 'DE8', 'value': '0.6708203932499369'}, {'source': 'R04', 'target': 'U16', 'value': '0.7071067811865475'}, {'source': 'U16', 'target': 'DE9', 'value': '0.7337993857053429'}, {'source': 'U16', 'target': 'DE10', 'value': '0.6859943405700353'}, {'source': 'U16', 'target': 'DE7', 'value': '0.6666666666666666'}, {'source': 'U16', 'target': 'DE12', 'value': '0.6324555320336759'}]\n",
      "{\"forCmd\": \"AllRelation\", \"response\": {\"nodes\": [{\"id\": \"R04\", \"group\": 1, \"desc\": \"Customer\"}, {\"id\": \"U14\", \"group\": 2, \"desc\": \"Pay Bills \"}, {\"id\": \"DE2\", \"group\": 3, \"desc\": \"Acc_num\"}, {\"id\": \"DE12\", \"group\": 3, \"desc\": \"Amt_wdrl\"}, {\"id\": \"DE9\", \"group\": 3, \"desc\": \"Bill_type\"}, {\"id\": \"DE8\", \"group\": 3, \"desc\": \"Acc_type\"}, {\"id\": \"U16\", \"group\": 2, \"desc\": \"Utility\"}, {\"id\": \"DE10\", \"group\": 3, \"desc\": \"Max_limit\"}, {\"id\": \"DE7\", \"group\": 3, \"desc\": \"Amt_deposit\"}], \"links\": [{\"source\": \"R04\", \"target\": \"U14\", \"value\": \"0.8660254037844387\"}, {\"source\": \"U14\", \"target\": \"DE2\", \"value\": \"0.7223151185146154\"}, {\"source\": \"U14\", \"target\": \"DE12\", \"value\": \"0.7071067811865475\"}, {\"source\": \"U14\", \"target\": \"DE9\", \"value\": \"0.6793662204867575\"}, {\"source\": \"U14\", \"target\": \"DE8\", \"value\": \"0.6708203932499369\"}, {\"source\": \"R04\", \"target\": \"U16\", \"value\": \"0.7071067811865475\"}, {\"source\": \"U16\", \"target\": \"DE9\", \"value\": \"0.7337993857053429\"}, {\"source\": \"U16\", \"target\": \"DE10\", \"value\": \"0.6859943405700353\"}, {\"source\": \"U16\", \"target\": \"DE7\", \"value\": \"0.6666666666666666\"}, {\"source\": \"U16\", \"target\": \"DE12\", \"value\": \"0.6324555320336759\"}]}}\n",
      "message {'forCmd': 'AllRelation', 'response': {'nodes': [{'id': 'R04', 'group': 1, 'desc': 'Customer'}, {'id': 'U14', 'group': 2, 'desc': 'Pay Bills '}, {'id': 'DE2', 'group': 3, 'desc': 'Acc_num'}, {'id': 'DE12', 'group': 3, 'desc': 'Amt_wdrl'}, {'id': 'DE9', 'group': 3, 'desc': 'Bill_type'}, {'id': 'DE8', 'group': 3, 'desc': 'Acc_type'}, {'id': 'U16', 'group': 2, 'desc': 'Utility'}, {'id': 'DE10', 'group': 3, 'desc': 'Max_limit'}, {'id': 'DE7', 'group': 3, 'desc': 'Amt_deposit'}], 'links': [{'source': 'R04', 'target': 'U14', 'value': '0.8660254037844387'}, {'source': 'U14', 'target': 'DE2', 'value': '0.7223151185146154'}, {'source': 'U14', 'target': 'DE12', 'value': '0.7071067811865475'}, {'source': 'U14', 'target': 'DE9', 'value': '0.6793662204867575'}, {'source': 'U14', 'target': 'DE8', 'value': '0.6708203932499369'}, {'source': 'R04', 'target': 'U16', 'value': '0.7071067811865475'}, {'source': 'U16', 'target': 'DE9', 'value': '0.7337993857053429'}, {'source': 'U16', 'target': 'DE10', 'value': '0.6859943405700353'}, {'source': 'U16', 'target': 'DE7', 'value': '0.6666666666666666'}, {'source': 'U16', 'target': 'DE12', 'value': '0.6324555320336759'}]}}\n"
     ]
    },
    {
     "name": "stderr",
     "output_type": "stream",
     "text": [
      "  File \"/anaconda3/lib/python3.6/site-packages/websocket/_app.py\", line 315, in _callback\n",
      "    callback(self, *args)\n",
      "  File \"<ipython-input-121-4e7756458ebe>\", line 5, in on_message\n",
      "    cmd = msg['cmd']\n",
      "send: b'\\x81\\xfe\\x02$\\x95\\t\\xdd6\\xee+\\xbbY\\xe7J\\xb0R\\xb73\\xfd\\x14\\xc7l\\xacE\\xd9`\\xaeB\\xb7%\\xfd\\x14\\xe7l\\xaeF\\xfag\\xaeS\\xb73\\xfdM\\xb7g\\xbc[\\xf0+\\xe7\\x16\\xb7{\\xb8G\\xe0`\\xafS\\xf8l\\xb3B\\xb7%\\xfd\\x14\\xf6a\\xb4Z\\xf1{\\xb8X\\xb73\\xfdm\\xee+\\x94r\\xb73\\xfd\\x14\\xc79\\xec\\x14\\xb9)\\xffQ\\xe7f\\xa8F\\xb73\\xfd\\x14\\xd6|\\xaeB\\xfad\\xb8D\\xb7%\\xfd\\x14\\xe6`\\xa7S\\xb73\\xfd\\x07\\xa59\\xa0\\x1a\\xb5r\\xff\\x7f\\xd1+\\xe7\\x16\\xb7[\\xed\\x03\\xb7%\\xfd\\x14\\xf2{\\xb2C\\xe5+\\xe7\\x16\\xb7J\\xa8E\\xe1f\\xb0S\\xe7+\\xf1\\x16\\xb7z\\xb4L\\xf0+\\xe7\\x16\\xa49\\xedK\\xb9)\\xa6\\x14\\xdcM\\xff\\x0c\\xb5+\\x8f\\x06\\xac+\\xf1\\x16\\xb7n\\xafY\\xe0y\\xff\\x0c\\xb5+\\x9fW\\xfbb\\xb8D\\xb7%\\xfd\\x14\\xe6`\\xa7S\\xb73\\xfd\\x01\\xa0t\\xf1\\x16\\xee+\\x94r\\xb73\\xfd\\x14\\xc79\\xef\\x14\\xb9)\\xffQ\\xe7f\\xa8F\\xb73\\xfd\\x14\\xd6|\\xaeB\\xfad\\xb8D\\xb7%\\xfd\\x14\\xe6`\\xa7S\\xb73\\xfd\\x07\\xa59\\xa0\\x1a\\xb5r\\xff\\x7f\\xd1+\\xe7\\x16\\xb7[\\xed\\x00\\xb7%\\xfd\\x14\\xf2{\\xb2C\\xe5+\\xe7\\x16\\xb7K\\xbcX\\xfel\\xaf\\x14\\xb9)\\xffE\\xfcs\\xb8\\x14\\xaf)\\xea\\x03\\xe8%\\xfdM\\xb7@\\x99\\x14\\xaf)\\xffd\\xa49\\xff\\x1a\\xb5+\\xbaD\\xfa|\\xad\\x14\\xaf)\\xfft\\xf4g\\xb6S\\xe7+\\xf1\\x16\\xb7z\\xb4L\\xf0+\\xe7\\x16\\xa2<\\xa0\\x1a\\xb5r\\xff\\x7f\\xd1+\\xe7\\x16\\xb7[\\xed\\x05\\xb7%\\xfd\\x14\\xf2{\\xb2C\\xe5+\\xe7\\x16\\xb7J\\xa8E\\xe1f\\xb0S\\xe7+\\xf1\\x16\\xb7z\\xb4L\\xf0+\\xe7\\x16\\xa49\\xedK\\xb9)\\xa6\\x14\\xdcM\\xff\\x0c\\xb5+\\x8f\\x06\\xa2+\\xf1\\x16\\xb7n\\xafY\\xe0y\\xff\\x0c\\xb5+\\x9fW\\xfbb\\xb8D\\xb7%\\xfd\\x14\\xe6`\\xa7S\\xb73\\xfd\\x01\\xa0t\\xf1\\x16\\xee+\\x94r\\xb73\\xfd\\x14\\xc79\\xe9\\x14\\xb9)\\xffQ\\xe7f\\xa8F\\xb73\\xfd\\x14\\xd6|\\xaeB\\xfad\\xb8D\\xb7%\\xfd\\x14\\xe6`\\xa7S\\xb73\\xfd\\x07\\xa59\\xa0\\x1a\\xb5r\\xff\\x7f\\xd1+\\xe7\\x16\\xb7[\\xed\\x0e\\xb7%\\xfd\\x14\\xf2{\\xb2C\\xe5+\\xe7\\x16\\xb7K\\xbcX\\xfel\\xaf\\x14\\xb9)\\xffE\\xfcs\\xb8\\x14\\xaf)\\xea\\x03\\xe8T\\xa0K'\n",
      "error from callback <function on_message at 0x10550cd90>: local variable 'response' referenced before assignment\n",
      "  File \"/anaconda3/lib/python3.6/site-packages/websocket/_app.py\", line 315, in _callback\n",
      "    callback(self, *args)\n",
      "  File \"<ipython-input-121-4e7756458ebe>\", line 89, in on_message\n",
      "    wsresponse[\"response\"] = response\n",
      "error from callback <function on_message at 0x10550cd90>: 'cmd'\n"
     ]
    },
    {
     "name": "stdout",
     "output_type": "stream",
     "text": [
      "{\"cmd\":\"ReqsList\"}\n",
      "message {'cmd': 'ReqsList'}\n",
      "Command : ReqsList\n",
      "{\"forCmd\": \"ReqsList\", \"response\": {\"name\": \"requirement\", \"children\": [{\"ID\": \"R01\", \"group\": \"Customer\", \"size\": 100}, {\"ID\": \"R05\", \"group\": \"Customer\", \"size\": 100}, {\"ID\": \"R09\", \"group\": \"Banker\", \"size\": 75}, {\"ID\": \"R02\", \"group\": \"Customer\", \"size\": 100}, {\"ID\": \"R06\", \"group\": \"Banker\", \"size\": 75}, {\"ID\": \"R10\", \"group\": \"Banker\", \"size\": 75}, {\"ID\": \"R03\", \"group\": \"Customer\", \"size\": 100}, {\"ID\": \"R07\", \"group\": \"Banker\", \"size\": 75}, {\"ID\": \"R04\", \"group\": \"Customer\", \"size\": 100}, {\"ID\": \"R08\", \"group\": \"Banker\", \"size\": 75}]}}\n",
      "message {'forCmd': 'ReqsList', 'response': {'name': 'requirement', 'children': [{'ID': 'R01', 'group': 'Customer', 'size': 100}, {'ID': 'R05', 'group': 'Customer', 'size': 100}, {'ID': 'R09', 'group': 'Banker', 'size': 75}, {'ID': 'R02', 'group': 'Customer', 'size': 100}, {'ID': 'R06', 'group': 'Banker', 'size': 75}, {'ID': 'R10', 'group': 'Banker', 'size': 75}, {'ID': 'R03', 'group': 'Customer', 'size': 100}, {'ID': 'R07', 'group': 'Banker', 'size': 75}, {'ID': 'R04', 'group': 'Customer', 'size': 100}, {'ID': 'R08', 'group': 'Banker', 'size': 75}]}}\n"
     ]
    },
    {
     "name": "stderr",
     "output_type": "stream",
     "text": [
      "  File \"/anaconda3/lib/python3.6/site-packages/websocket/_app.py\", line 315, in _callback\n",
      "    callback(self, *args)\n",
      "  File \"<ipython-input-121-4e7756458ebe>\", line 5, in on_message\n",
      "    cmd = msg['cmd']\n",
      "send: b'\\x81\\xfe\\x04\\x8c\\xd8\\xdb\\x89\\xd3\\xa3\\xf9\\xef\\xbc\\xaa\\x98\\xe4\\xb7\\xfa\\xe1\\xa9\\xf1\\x99\\xb7\\xe5\\x81\\xbd\\xb7\\xe8\\xa7\\xb1\\xb4\\xe7\\xf1\\xf4\\xfb\\xab\\xa1\\xbd\\xa8\\xf9\\xbc\\xb6\\xa8\\xec\\xf1\\xe2\\xfb\\xf2\\xf1\\xb6\\xb4\\xed\\xb6\\xab\\xf9\\xb3\\xf3\\x83\\xa0\\xab\\xba\\xbc\\xf9\\xb3\\xf3\\xfa\\x89\\xb9\\xe7\\xfa\\xf7\\xa9\\xf1\\xbf\\xa9\\xe6\\xa6\\xa8\\xf9\\xb3\\xf3\\xe9\\xf7\\xa9\\xf1\\xbc\\xbe\\xfa\\xb0\\xfa\\xe1\\xa9\\xf1\\x9b\\xae\\xfa\\xa7\\xb7\\xb6\\xec\\xa1\\xfa\\xa6\\xa5\\xf3\\xa3\\xf9\\xe0\\xb7\\xfa\\xe1\\xa9\\xf1\\x8d\\xea\\xbd\\xf1\\xf4\\xfb\\xab\\xb4\\xaa\\xb4\\xfc\\xa3\\xfa\\xe1\\xa9\\xe1\\xf4\\xfb\\xab\\xb7\\xbd\\xa8\\xea\\xf1\\xe2\\xfb\\xab\\x83\\xb9\\xa2\\xa9\\x91\\xb1\\xb7\\xe5\\xa0\\xf8\\xf9\\xf4\\xff\\xf8\\xa0\\xab\\xba\\xbc\\xf9\\xb3\\xf3\\xfa\\x9f\\xcc\\xe1\\xfa\\xf7\\xa9\\xf1\\xbf\\xa9\\xe6\\xa6\\xa8\\xf9\\xb3\\xf3\\xeb\\xf7\\xa9\\xf1\\xbc\\xbe\\xfa\\xb0\\xfa\\xe1\\xa9\\xf1\\x99\\xb8\\xea\\x8c\\xb6\\xae\\xe4\\xf1\\xa5\\xf7\\xa9\\xa8\\xfa\\xb2\\xed\\xf1\\xe2\\xfb\\xab\\x97\\x9d\\xea\\xbb\\xf1\\xf4\\xfb\\xab\\xb4\\xaa\\xb4\\xfc\\xa3\\xfa\\xe1\\xa9\\xe0\\xf4\\xfb\\xab\\xb7\\xbd\\xa8\\xea\\xf1\\xe2\\xfb\\xab\\x92\\xb5\\xaf\\xd6\\xa4\\xbc\\xa9\\xe5\\xf1\\xa5\\xf7\\xa9\\xa8\\xfa\\xb2\\xed\\xf1\\xe2\\xfb\\xab\\x97\\x9d\\xe2\\xab\\xff\\xf8\\xf9\\xee\\xa1\\xb7\\xae\\xf9\\xf1\\xe2\\xfb\\xba\\xff\\xf8\\xf9\\xed\\xb6\\xab\\xb8\\xab\\xe9\\xf8\\xf9\\xcb\\xba\\xb4\\xb7\\xd6\\xa7\\xa1\\xab\\xec\\xf1\\xa5\\xf7\\xa9\\xa8\\xfa\\xb2\\xed\\xf1\\xe2\\xfb\\xab\\x97\\x9d\\xe3\\xab\\xff\\xf8\\xf9\\xee\\xa1\\xb7\\xae\\xf9\\xf1\\xe2\\xfb\\xba\\xff\\xf8\\xf9\\xed\\xb6\\xab\\xb8\\xab\\xe9\\xf8\\xf9\\xc8\\xb0\\xbb\\x84\\xfd\\xaa\\xa8\\xbe\\xab\\xae\\xf4\\xfb\\xf2\\xf1\\xb1\\xbf\\xab\\xe9\\xf8\\xf9\\xdc\\xe2\\xee\\xf9\\xa5\\xf3\\xfa\\xbc\\xfb\\xbc\\xad\\xab\\xab\\xe9\\xf8\\xe9\\xa5\\xf3\\xfa\\xbf\\xec\\xa0\\xbb\\xf9\\xb3\\xf3\\xfa\\x8e\\xfd\\xba\\xb4\\xb2\\xfd\\xaa\\xfa\\xa6\\xa5\\xf3\\xa3\\xf9\\xe0\\xb7\\xfa\\xe1\\xa9\\xf1\\x9c\\x9e\\xb8\\xe3\\xfa\\xf7\\xa9\\xf1\\xbf\\xa9\\xe6\\xa6\\xa8\\xf9\\xb3\\xf3\\xeb\\xf7\\xa9\\xf1\\xbc\\xbe\\xfa\\xb0\\xfa\\xe1\\xa9\\xf1\\x95\\xba\\xf1\\x8c\\xb4\\xb2\\xe4\\xba\\xac\\xf9\\xf4\\xff\\xf8\\xa0\\xab\\xba\\xbc\\xf9\\xb3\\xf3\\xfa\\x9f\\xcc\\xe4\\xfa\\xf7\\xa9\\xf1\\xbf\\xa9\\xe6\\xa6\\xa8\\xf9\\xb3\\xf3\\xeb\\xf7\\xa9\\xf1\\xbc\\xbe\\xfa\\xb0\\xfa\\xe1\\xa9\\xf1\\x99\\xb6\\xfd\\x8c\\xbc\\xbe\\xf9\\xbc\\xab\\xb2\\xfd\\xf1\\xa5\\x86\\xa5\\xf3\\xfa\\xb7\\xe0\\xbd\\xb3\\xa8\\xab\\xe9\\xf8\\x80\\xf2\\xf1\\xab\\xb4\\xfc\\xa1\\xbb\\xbe\\xab\\xe9\\xf8\\xf9\\xdb\\xe3\\xec\\xf9\\xa5\\xf3\\xfa\\xaf\\xe8\\xa1\\xbf\\xbe\\xfd\\xf1\\xe2\\xfb\\xab\\x86\\xe9\\xef\\xab\\xff\\xf8\\xf9\\xff\\xb2\\xb4\\xae\\xec\\xf1\\xe2\\xfb\\xab\\xe3\\xf6\\xe3\\xbf\\xe5\\xe8\\xe9\\xbc\\xe7\\xe8\\xe8\\xbe\\xeb\\xec\\xef\\xba\\xeb\\xef\\xf9\\xf4\\xff\\xf8\\xa0\\xab\\xa0\\xb7\\xae\\xfb\\xb0\\xbd\\xf9\\xb3\\xf3\\xfa\\x8e\\xb8\\xe7\\xfa\\xf7\\xa9\\xf1\\xac\\xba\\xfb\\xb4\\xbd\\xaf\\xab\\xe9\\xf8\\xf9\\xcd\\x96\\xea\\xf9\\xa5\\xf3\\xfa\\xad\\xe8\\xbf\\xad\\xbe\\xab\\xe9\\xf8\\xf9\\xb9\\xfd\\xef\\xe9\\xbb\\xe0\\xe9\\xee\\xb8\\xe2\\xe0\\xee\\xb8\\xe7\\xee\\xea\\xbc\\xe7\\xfa\\xa6\\xa5\\xf3\\xa3\\xf9\\xfa\\xbc\\xad\\xa9\\xea\\xb6\\xfa\\xe1\\xa9\\xf1\\x8d\\xea\\xbd\\xf1\\xf4\\xfb\\xab\\xa7\\xb9\\xa9\\xee\\xb6\\xac\\xf9\\xb3\\xf3\\xfa\\x9f\\xcc\\xe2\\xea\\xf9\\xa5\\xf3\\xfa\\xad\\xe8\\xbf\\xad\\xbe\\xab\\xe9\\xf8\\xf9\\xb9\\xfd\\xef\\xeb\\xbe\\xe2\\xe8\\xed\\xbe\\xeb\\xe9\\xea\\xb1\\xe5\\xed\\xef\\xbe\\xe6\\xfa\\xa6\\xa5\\xf3\\xa3\\xf9\\xfa\\xbc\\xad\\xa9\\xea\\xb6\\xfa\\xe1\\xa9\\xf1\\x8d\\xea\\xbd\\xf1\\xf4\\xfb\\xab\\xa7\\xb9\\xa9\\xee\\xb6\\xac\\xf9\\xb3\\xf3\\xfa\\x9f\\xcc\\xea\\xfa\\xf7\\xa9\\xf1\\xae\\xba\\xe5\\xa6\\xbd\\xf9\\xb3\\xf3\\xfa\\xeb\\xa7\\xe5\\xef\\xe2\\xba\\xe5\\xee\\xe9\\xbb\\xe3\\xec\\xe3\\xbf\\xe4\\xed\\xec\\xbc\\xf1\\xa5\\xf7\\xa9\\xa8\\xfa\\xa8\\xe6\\xa6\\xaa\\xb8\\xec\\xf1\\xe2\\xfb\\xab\\x86\\xe9\\xef\\xab\\xff\\xf8\\xf9\\xfd\\xb2\\xaa\\xbc\\xec\\xa7\\xfa\\xe1\\xa9\\xf1\\x9c\\x9e\\xb1\\xf1\\xf4\\xfb\\xab\\xa5\\xb9\\xb7\\xfc\\xb6\\xfa\\xe1\\xa9\\xf1\\xe8\\xf5\\xbf\\xe4\\xe8\\xe3\\xbb\\xe3\\xeb\\xe2\\xba\\xe1\\xec\\xe2\\xb0\\xe0\\xee\\xe2\\xab\\xae\\xf4\\xfb\\xf2\\xf1\\xab\\xb4\\xfc\\xa1\\xbb\\xbe\\xab\\xe9\\xf8\\xf9\\xdb\\xe3\\xec\\xf9\\xa5\\xf3\\xfa\\xaf\\xe8\\xa1\\xbf\\xbe\\xfd\\xf1\\xe2\\xfb\\xab\\x86\\xe9\\xed\\xab\\xff\\xf8\\xf9\\xff\\xb2\\xb4\\xae\\xec\\xf1\\xe2\\xfb\\xab\\xe3\\xf6\\xec\\xb9\\xe4\\xe9\\xeb\\xbf\\xe4\\xe0\\xea\\xb8\\xeb\\xee\\xee\\xbd\\xe4\\xed\\xf9\\xf4\\xff\\xf8\\xa0\\xab\\xa0\\xb7\\xae\\xfb\\xb0\\xbd\\xf9\\xb3\\xf3\\xfa\\x8e\\xb8\\xe5\\xfa\\xf7\\xa9\\xf1\\xac\\xba\\xfb\\xb4\\xbd\\xaf\\xab\\xe9\\xf8\\xf9\\xcd\\x96\\xe1\\xf9\\xa5\\xf3\\xfa\\xad\\xe8\\xbf\\xad\\xbe\\xab\\xe9\\xf8\\xf9\\xb9\\xfd\\xef\\xe8\\xba\\xe4\\xe1\\xe2\\xba\\xeb\\xed\\xec\\xb9\\xe6\\xeb\\xef\\xbb\\xea\\xfa\\xa6\\xa5\\xf3\\xa3\\xf9\\xfa\\xbc\\xad\\xa9\\xea\\xb6\\xfa\\xe1\\xa9\\xf1\\x8d\\xea\\xbf\\xf1\\xf4\\xfb\\xab\\xa7\\xb9\\xa9\\xee\\xb6\\xac\\xf9\\xb3\\xf3\\xfa\\x9f\\xcc\\xe2\\xe8\\xf9\\xa5\\xf3\\xfa\\xad\\xe8\\xbf\\xad\\xbe\\xab\\xe9\\xf8\\xf9\\xb9\\xfd\\xee\\xe3\\xbc\\xea\\xe1\\xef\\xba\\xe7\\xe8\\xee\\xbe\\xe3\\xe8\\xe8\\xbc\\xe0\\xfa\\xa6\\xa5\\xf3\\xa3\\xf9\\xfa\\xbc\\xad\\xa9\\xea\\xb6\\xfa\\xe1\\xa9\\xf1\\x8d\\xea\\xbf\\xf1\\xf4\\xfb\\xab\\xa7\\xb9\\xa9\\xee\\xb6\\xac\\xf9\\xb3\\xf3\\xfa\\x9f\\xcc\\xe4\\xfa\\xf7\\xa9\\xf1\\xae\\xba\\xe5\\xa6\\xbd\\xf9\\xb3\\xf3\\xfa\\xeb\\xa7\\xe5\\xee\\xed\\xbf\\xe5\\xee\\xed\\xbf\\xe5\\xee\\xed\\xbf\\xe5\\xee\\xed\\xbf\\xf1\\xa5\\xf7\\xa9\\xa8\\xfa\\xa8\\xe6\\xa6\\xaa\\xb8\\xec\\xf1\\xe2\\xfb\\xab\\x86\\xe9\\xed\\xab\\xff\\xf8\\xf9\\xfd\\xb2\\xaa\\xbc\\xec\\xa7\\xfa\\xe1\\xa9\\xf1\\x9c\\x9e\\xb8\\xe1\\xfa\\xf7\\xa9\\xf1\\xae\\xba\\xe5\\xa6\\xbd\\xf9\\xb3\\xf3\\xfa\\xeb\\xa7\\xe5\\xeb\\xe9\\xbd\\xe6\\xed\\xee\\xba\\xe1\\xe8\\xe8\\xba\\xe5\\xef\\xee\\xb0\\xf1\\xa5\\x86\\xf4\\xae'\n",
      "error from callback <function on_message at 0x10550cd90>: local variable 'response' referenced before assignment\n",
      "  File \"/anaconda3/lib/python3.6/site-packages/websocket/_app.py\", line 315, in _callback\n",
      "    callback(self, *args)\n",
      "  File \"<ipython-input-121-4e7756458ebe>\", line 89, in on_message\n",
      "    wsresponse[\"response\"] = response\n",
      "error from callback <function on_message at 0x10550cd90>: 'cmd'\n"
     ]
    },
    {
     "name": "stdout",
     "output_type": "stream",
     "text": [
      "{\"cmd\":\"AllRelation\",\"ID\":\"R04\"}\n",
      "message {'cmd': 'AllRelation', 'ID': 'R04'}\n",
      "Command : AllRelation\n",
      "Customer\n",
      "{'U14': '0.8660254037844387', 'U16': '0.7071067811865475'}\n",
      "1 - nodes\n",
      "[{'id': 'R04', 'group': 1, 'desc': 'Customer'}]\n",
      "2 - domaincases\n",
      "{'U14': '0.8660254037844387', 'U16': '0.7071067811865475'}\n",
      "3  - For each domaincases\n",
      "U14\n",
      "Pay Bills \n",
      "4 - appended node\n",
      "[{'id': 'R04', 'group': 1, 'desc': 'Customer'}, {'id': 'U14', 'group': 2, 'desc': 'Pay Bills '}]\n",
      "5 - create links for individual domaincase\n",
      "[{'source': 'R04', 'target': 'U14', 'value': '0.8660254037844387'}]\n",
      "6 - for the domain case find dataelements\n",
      "{'DE2': '0.7223151185146154', 'DE12': '0.7071067811865475', 'DE9': '0.6793662204867575', 'DE8': '0.6708203932499369'}\n",
      "7- individual dataelements\n",
      "DE2\n",
      "Acc_num\n",
      "8 - appended node with dataelement\n",
      "[{'id': 'R04', 'group': 1, 'desc': 'Customer'}, {'id': 'U14', 'group': 2, 'desc': 'Pay Bills '}, {'id': 'DE2', 'group': 3, 'desc': 'Acc_num'}]\n",
      "9- create links for dataelements\n",
      "[{'source': 'R04', 'target': 'U14', 'value': '0.8660254037844387'}, {'source': 'U14', 'target': 'DE2', 'value': '0.7223151185146154'}]\n",
      "7- individual dataelements\n",
      "DE12\n",
      "Amt_wdrl\n",
      "8 - appended node with dataelement\n",
      "[{'id': 'R04', 'group': 1, 'desc': 'Customer'}, {'id': 'U14', 'group': 2, 'desc': 'Pay Bills '}, {'id': 'DE2', 'group': 3, 'desc': 'Acc_num'}, {'id': 'DE12', 'group': 3, 'desc': 'Amt_wdrl'}]\n",
      "9- create links for dataelements\n",
      "[{'source': 'R04', 'target': 'U14', 'value': '0.8660254037844387'}, {'source': 'U14', 'target': 'DE2', 'value': '0.7223151185146154'}, {'source': 'U14', 'target': 'DE12', 'value': '0.7071067811865475'}]\n",
      "7- individual dataelements\n",
      "DE9\n",
      "Bill_type\n",
      "8 - appended node with dataelement\n",
      "[{'id': 'R04', 'group': 1, 'desc': 'Customer'}, {'id': 'U14', 'group': 2, 'desc': 'Pay Bills '}, {'id': 'DE2', 'group': 3, 'desc': 'Acc_num'}, {'id': 'DE12', 'group': 3, 'desc': 'Amt_wdrl'}, {'id': 'DE9', 'group': 3, 'desc': 'Bill_type'}]\n",
      "9- create links for dataelements\n",
      "[{'source': 'R04', 'target': 'U14', 'value': '0.8660254037844387'}, {'source': 'U14', 'target': 'DE2', 'value': '0.7223151185146154'}, {'source': 'U14', 'target': 'DE12', 'value': '0.7071067811865475'}, {'source': 'U14', 'target': 'DE9', 'value': '0.6793662204867575'}]\n",
      "7- individual dataelements\n",
      "DE8\n",
      "Acc_type\n",
      "8 - appended node with dataelement\n",
      "[{'id': 'R04', 'group': 1, 'desc': 'Customer'}, {'id': 'U14', 'group': 2, 'desc': 'Pay Bills '}, {'id': 'DE2', 'group': 3, 'desc': 'Acc_num'}, {'id': 'DE12', 'group': 3, 'desc': 'Amt_wdrl'}, {'id': 'DE9', 'group': 3, 'desc': 'Bill_type'}, {'id': 'DE8', 'group': 3, 'desc': 'Acc_type'}]\n",
      "9- create links for dataelements\n",
      "[{'source': 'R04', 'target': 'U14', 'value': '0.8660254037844387'}, {'source': 'U14', 'target': 'DE2', 'value': '0.7223151185146154'}, {'source': 'U14', 'target': 'DE12', 'value': '0.7071067811865475'}, {'source': 'U14', 'target': 'DE9', 'value': '0.6793662204867575'}, {'source': 'U14', 'target': 'DE8', 'value': '0.6708203932499369'}]\n",
      "3  - For each domaincases\n",
      "U16\n",
      "Utility\n",
      "4 - appended node\n",
      "[{'id': 'R04', 'group': 1, 'desc': 'Customer'}, {'id': 'U14', 'group': 2, 'desc': 'Pay Bills '}, {'id': 'DE2', 'group': 3, 'desc': 'Acc_num'}, {'id': 'DE12', 'group': 3, 'desc': 'Amt_wdrl'}, {'id': 'DE9', 'group': 3, 'desc': 'Bill_type'}, {'id': 'DE8', 'group': 3, 'desc': 'Acc_type'}, {'id': 'U16', 'group': 2, 'desc': 'Utility'}]\n",
      "5 - create links for individual domaincase\n",
      "[{'source': 'R04', 'target': 'U14', 'value': '0.8660254037844387'}, {'source': 'U14', 'target': 'DE2', 'value': '0.7223151185146154'}, {'source': 'U14', 'target': 'DE12', 'value': '0.7071067811865475'}, {'source': 'U14', 'target': 'DE9', 'value': '0.6793662204867575'}, {'source': 'U14', 'target': 'DE8', 'value': '0.6708203932499369'}, {'source': 'R04', 'target': 'U16', 'value': '0.7071067811865475'}]\n",
      "6 - for the domain case find dataelements\n",
      "{'DE9': '0.7337993857053429', 'DE10': '0.6859943405700353', 'DE7': '0.6666666666666666', 'DE12': '0.6324555320336759'}\n",
      "7- individual dataelements\n",
      "DE9\n",
      "Bill_type\n",
      "8 - appended node with dataelement\n",
      "[{'id': 'R04', 'group': 1, 'desc': 'Customer'}, {'id': 'U14', 'group': 2, 'desc': 'Pay Bills '}, {'id': 'DE2', 'group': 3, 'desc': 'Acc_num'}, {'id': 'DE12', 'group': 3, 'desc': 'Amt_wdrl'}, {'id': 'DE9', 'group': 3, 'desc': 'Bill_type'}, {'id': 'DE8', 'group': 3, 'desc': 'Acc_type'}, {'id': 'U16', 'group': 2, 'desc': 'Utility'}]\n",
      "9- create links for dataelements\n",
      "[{'source': 'R04', 'target': 'U14', 'value': '0.8660254037844387'}, {'source': 'U14', 'target': 'DE2', 'value': '0.7223151185146154'}, {'source': 'U14', 'target': 'DE12', 'value': '0.7071067811865475'}, {'source': 'U14', 'target': 'DE9', 'value': '0.6793662204867575'}, {'source': 'U14', 'target': 'DE8', 'value': '0.6708203932499369'}, {'source': 'R04', 'target': 'U16', 'value': '0.7071067811865475'}, {'source': 'U16', 'target': 'DE9', 'value': '0.7337993857053429'}]\n",
      "7- individual dataelements\n",
      "DE10\n",
      "Max_limit\n",
      "8 - appended node with dataelement\n",
      "[{'id': 'R04', 'group': 1, 'desc': 'Customer'}, {'id': 'U14', 'group': 2, 'desc': 'Pay Bills '}, {'id': 'DE2', 'group': 3, 'desc': 'Acc_num'}, {'id': 'DE12', 'group': 3, 'desc': 'Amt_wdrl'}, {'id': 'DE9', 'group': 3, 'desc': 'Bill_type'}, {'id': 'DE8', 'group': 3, 'desc': 'Acc_type'}, {'id': 'U16', 'group': 2, 'desc': 'Utility'}, {'id': 'DE10', 'group': 3, 'desc': 'Max_limit'}]\n",
      "9- create links for dataelements\n",
      "[{'source': 'R04', 'target': 'U14', 'value': '0.8660254037844387'}, {'source': 'U14', 'target': 'DE2', 'value': '0.7223151185146154'}, {'source': 'U14', 'target': 'DE12', 'value': '0.7071067811865475'}, {'source': 'U14', 'target': 'DE9', 'value': '0.6793662204867575'}, {'source': 'U14', 'target': 'DE8', 'value': '0.6708203932499369'}, {'source': 'R04', 'target': 'U16', 'value': '0.7071067811865475'}, {'source': 'U16', 'target': 'DE9', 'value': '0.7337993857053429'}, {'source': 'U16', 'target': 'DE10', 'value': '0.6859943405700353'}]\n",
      "7- individual dataelements\n",
      "DE7\n",
      "Amt_deposit\n",
      "8 - appended node with dataelement\n",
      "[{'id': 'R04', 'group': 1, 'desc': 'Customer'}, {'id': 'U14', 'group': 2, 'desc': 'Pay Bills '}, {'id': 'DE2', 'group': 3, 'desc': 'Acc_num'}, {'id': 'DE12', 'group': 3, 'desc': 'Amt_wdrl'}, {'id': 'DE9', 'group': 3, 'desc': 'Bill_type'}, {'id': 'DE8', 'group': 3, 'desc': 'Acc_type'}, {'id': 'U16', 'group': 2, 'desc': 'Utility'}, {'id': 'DE10', 'group': 3, 'desc': 'Max_limit'}, {'id': 'DE7', 'group': 3, 'desc': 'Amt_deposit'}]\n",
      "9- create links for dataelements\n",
      "[{'source': 'R04', 'target': 'U14', 'value': '0.8660254037844387'}, {'source': 'U14', 'target': 'DE2', 'value': '0.7223151185146154'}, {'source': 'U14', 'target': 'DE12', 'value': '0.7071067811865475'}, {'source': 'U14', 'target': 'DE9', 'value': '0.6793662204867575'}, {'source': 'U14', 'target': 'DE8', 'value': '0.6708203932499369'}, {'source': 'R04', 'target': 'U16', 'value': '0.7071067811865475'}, {'source': 'U16', 'target': 'DE9', 'value': '0.7337993857053429'}, {'source': 'U16', 'target': 'DE10', 'value': '0.6859943405700353'}, {'source': 'U16', 'target': 'DE7', 'value': '0.6666666666666666'}]\n",
      "7- individual dataelements\n",
      "DE12\n",
      "Amt_wdrl\n",
      "8 - appended node with dataelement\n",
      "[{'id': 'R04', 'group': 1, 'desc': 'Customer'}, {'id': 'U14', 'group': 2, 'desc': 'Pay Bills '}, {'id': 'DE2', 'group': 3, 'desc': 'Acc_num'}, {'id': 'DE12', 'group': 3, 'desc': 'Amt_wdrl'}, {'id': 'DE9', 'group': 3, 'desc': 'Bill_type'}, {'id': 'DE8', 'group': 3, 'desc': 'Acc_type'}, {'id': 'U16', 'group': 2, 'desc': 'Utility'}, {'id': 'DE10', 'group': 3, 'desc': 'Max_limit'}, {'id': 'DE7', 'group': 3, 'desc': 'Amt_deposit'}]\n",
      "9- create links for dataelements\n",
      "[{'source': 'R04', 'target': 'U14', 'value': '0.8660254037844387'}, {'source': 'U14', 'target': 'DE2', 'value': '0.7223151185146154'}, {'source': 'U14', 'target': 'DE12', 'value': '0.7071067811865475'}, {'source': 'U14', 'target': 'DE9', 'value': '0.6793662204867575'}, {'source': 'U14', 'target': 'DE8', 'value': '0.6708203932499369'}, {'source': 'R04', 'target': 'U16', 'value': '0.7071067811865475'}, {'source': 'U16', 'target': 'DE9', 'value': '0.7337993857053429'}, {'source': 'U16', 'target': 'DE10', 'value': '0.6859943405700353'}, {'source': 'U16', 'target': 'DE7', 'value': '0.6666666666666666'}, {'source': 'U16', 'target': 'DE12', 'value': '0.6324555320336759'}]\n",
      "{\"forCmd\": \"AllRelation\", \"response\": {\"nodes\": [{\"id\": \"R04\", \"group\": 1, \"desc\": \"Customer\"}, {\"id\": \"U14\", \"group\": 2, \"desc\": \"Pay Bills \"}, {\"id\": \"DE2\", \"group\": 3, \"desc\": \"Acc_num\"}, {\"id\": \"DE12\", \"group\": 3, \"desc\": \"Amt_wdrl\"}, {\"id\": \"DE9\", \"group\": 3, \"desc\": \"Bill_type\"}, {\"id\": \"DE8\", \"group\": 3, \"desc\": \"Acc_type\"}, {\"id\": \"U16\", \"group\": 2, \"desc\": \"Utility\"}, {\"id\": \"DE10\", \"group\": 3, \"desc\": \"Max_limit\"}, {\"id\": \"DE7\", \"group\": 3, \"desc\": \"Amt_deposit\"}], \"links\": [{\"source\": \"R04\", \"target\": \"U14\", \"value\": \"0.8660254037844387\"}, {\"source\": \"U14\", \"target\": \"DE2\", \"value\": \"0.7223151185146154\"}, {\"source\": \"U14\", \"target\": \"DE12\", \"value\": \"0.7071067811865475\"}, {\"source\": \"U14\", \"target\": \"DE9\", \"value\": \"0.6793662204867575\"}, {\"source\": \"U14\", \"target\": \"DE8\", \"value\": \"0.6708203932499369\"}, {\"source\": \"R04\", \"target\": \"U16\", \"value\": \"0.7071067811865475\"}, {\"source\": \"U16\", \"target\": \"DE9\", \"value\": \"0.7337993857053429\"}, {\"source\": \"U16\", \"target\": \"DE10\", \"value\": \"0.6859943405700353\"}, {\"source\": \"U16\", \"target\": \"DE7\", \"value\": \"0.6666666666666666\"}, {\"source\": \"U16\", \"target\": \"DE12\", \"value\": \"0.6324555320336759\"}]}}\n",
      "message {'forCmd': 'AllRelation', 'response': {'nodes': [{'id': 'R04', 'group': 1, 'desc': 'Customer'}, {'id': 'U14', 'group': 2, 'desc': 'Pay Bills '}, {'id': 'DE2', 'group': 3, 'desc': 'Acc_num'}, {'id': 'DE12', 'group': 3, 'desc': 'Amt_wdrl'}, {'id': 'DE9', 'group': 3, 'desc': 'Bill_type'}, {'id': 'DE8', 'group': 3, 'desc': 'Acc_type'}, {'id': 'U16', 'group': 2, 'desc': 'Utility'}, {'id': 'DE10', 'group': 3, 'desc': 'Max_limit'}, {'id': 'DE7', 'group': 3, 'desc': 'Amt_deposit'}], 'links': [{'source': 'R04', 'target': 'U14', 'value': '0.8660254037844387'}, {'source': 'U14', 'target': 'DE2', 'value': '0.7223151185146154'}, {'source': 'U14', 'target': 'DE12', 'value': '0.7071067811865475'}, {'source': 'U14', 'target': 'DE9', 'value': '0.6793662204867575'}, {'source': 'U14', 'target': 'DE8', 'value': '0.6708203932499369'}, {'source': 'R04', 'target': 'U16', 'value': '0.7071067811865475'}, {'source': 'U16', 'target': 'DE9', 'value': '0.7337993857053429'}, {'source': 'U16', 'target': 'DE10', 'value': '0.6859943405700353'}, {'source': 'U16', 'target': 'DE7', 'value': '0.6666666666666666'}, {'source': 'U16', 'target': 'DE12', 'value': '0.6324555320336759'}]}}\n"
     ]
    },
    {
     "name": "stderr",
     "output_type": "stream",
     "text": [
      "  File \"/anaconda3/lib/python3.6/site-packages/websocket/_app.py\", line 315, in _callback\n",
      "    callback(self, *args)\n",
      "  File \"<ipython-input-121-4e7756458ebe>\", line 5, in on_message\n",
      "    cmd = msg['cmd']\n",
      "send: b'\\x81\\x9c\\xba\\xedU\\x82\\xc1\\xcf6\\xef\\xde\\xcfo\\xa0\\xfb\\xa4u\\xec\\xed\\x8c#\\xe7\\x9a\\xa50\\xe3\\xc8\\x99\\x17\\xe7\\xdb\\x99w\\xff'\n",
      "error from callback <function on_message at 0x10550cd90>: local variable 'response' referenced before assignment\n",
      "  File \"/anaconda3/lib/python3.6/site-packages/websocket/_app.py\", line 315, in _callback\n",
      "    callback(self, *args)\n",
      "  File \"<ipython-input-121-4e7756458ebe>\", line 89, in on_message\n",
      "    wsresponse[\"response\"] = response\n"
     ]
    },
    {
     "name": "stdout",
     "output_type": "stream",
     "text": [
      "{\"cmd\":\"AI nWave HeartBeat\"}\n",
      "message {'cmd': 'AI nWave HeartBeat'}\n",
      "Command : AI nWave HeartBeat\n"
     ]
    },
    {
     "name": "stderr",
     "output_type": "stream",
     "text": [
      "send: b\"\\x81\\xfe\\x03\\x96|\\x90#\\xda\\x07\\xb2E\\xb5\\x0e\\xd3N\\xbe^\\xaa\\x03\\xf8=\\xfcO\\x88\\x19\\xfcB\\xae\\x15\\xffM\\xf8P\\xb0\\x01\\xa8\\x19\\xe3S\\xb5\\x12\\xe3F\\xf8F\\xb0X\\xf8\\x12\\xffG\\xbf\\x0f\\xb2\\x19\\xfa'\\xeb\\x01\\xb3\\x18\\xb2\\x19\\xfa^\\xc2\\x13\\xe3^\\xbc\\x03\\xf8\\x1b\\xe2L\\xaf\\x0c\\xb2\\x19\\xfaM\\xbc\\x03\\xf8\\x18\\xf5P\\xb9^\\xaa\\x03\\xf8>\\xf1M\\xb1\\x19\\xe2\\x01\\xa7P\\xb0X\\xf8\\x15\\xf4\\x01\\xe0\\\\\\xb2v\\xe3^\\xbc\\x03\\xf8\\x1b\\xe2L\\xaf\\x0c\\xb2\\x19\\xfaN\\xbc\\x03\\xf8\\x18\\xf5P\\xb9^\\xaa\\x03\\xf8.\\xf5U\\xb3\\x19\\xe7\\x03\\xae\\x0e\\xf1M\\xa9\\x1d\\xf3W\\xb3\\x13\\xfeP\\xf8\\x01\\xbc\\x03\\xa1^\\xf9G\\xf8F\\xb0\\x01\\x9e9\\xa9\\x01\\xf6\\\\\\xb2D\\xa8\\x13\\xe5S\\xf8F\\xb0\\x10\\xf6\\\\\\xb2G\\xbf\\x0f\\xf3\\x01\\xe0\\\\\\xb2a\\xb3\\x10\\xfc|\\xae\\x05\\xe0F\\xf8\\x01\\xbc\\x03\\xa1^\\xf9G\\xf8F\\xb0\\x01\\x8fN\\xb2\\x0f\\xfa^\\xf7Q\\xb5\\t\\xe0\\x01\\xe0\\\\\\xa2\\x0f\\xfa^\\xf4F\\xa9\\x1f\\xb2\\x19\\xfa^\\xc6J\\xbf\\x0b\\xb0b\\xb9\\x1f\\xffV\\xb4\\x08\\xb0\\x01\\xa7P\\xb0X\\xf8\\x15\\xf4\\x01\\xe0\\\\\\xb2g\\x9fI\\xb2\\x0f\\xfa^\\xf7Q\\xb5\\t\\xe0\\x01\\xe0\\\\\\xa3\\x0f\\xfa^\\xf4F\\xa9\\x1f\\xb2\\x19\\xfa^\\xd6Q\\xb5\\x11\\xcfb\\xb9\\x1f\\xe4m\\xaf\\x11\\xb2^\\xf6\\\\\\xeb\\x01\\xb3\\x18\\xb2\\x19\\xfa^\\xd4f\\xec^\\xbc\\x03\\xf8\\x1b\\xe2L\\xaf\\x0c\\xb2\\x19\\xfaO\\xbc\\x03\\xf8\\x18\\xf5P\\xb9^\\xaa\\x03\\xf8(\\xff|\\x9b\\x1f\\xf3W\\x94\\t\\xfd\\x01\\xa7P\\xb0X\\xf8\\x15\\xf4\\x01\\xe0\\\\\\xb2g\\x9fN\\xb2\\x0f\\xfa^\\xf7Q\\xb5\\t\\xe0\\x01\\xe0\\\\\\xa3\\x0f\\xfa^\\xf4F\\xa9\\x1f\\xb2\\x19\\xfa^\\xd1@\\xb9#\\xfeV\\xb7^\\xed\\x0f\\xfa\\x07\\xb2J\\xbe^\\xaa\\x03\\xf88\\xd5\\x12\\xe8^\\xbc\\x03\\xf8\\x1b\\xe2L\\xaf\\x0c\\xb2\\x19\\xfaO\\xbc\\x03\\xf8\\x18\\xf5P\\xb9^\\xaa\\x03\\xf8=\\xfdW\\x85\\x0b\\xf4Q\\xb6^\\xed~\\xf6\\\\\\xb2O\\xb3\\x12\\xfbP\\xf8F\\xb0x\\xa1^\\xe3L\\xaf\\x0e\\xf3F\\xf8F\\xb0\\x01\\x88L\\xa9\\x01\\xf6\\\\\\xb2W\\xbb\\x0e\\xf7F\\xae^\\xaa\\x03\\xf8)\\xa9\\x01\\xf6\\\\\\xb2U\\xbb\\x10\\xe5F\\xf8F\\xb0\\x01\\xeaR\\xa7\\x13\\xedM\\xa0\\x15\\xedD\\xa1\\x12\\xe2J\\xa5\\x17\\xedI\\xb2^\\xf6\\\\\\xeb\\x01\\xa9\\x13\\xe5Q\\xb9\\x19\\xb2\\x19\\xfa^\\xc5\\x1a\\xf8P\\xb0\\x01\\xae\\x1d\\xe2D\\xbf\\x08\\xb2\\x19\\xfa^\\xd4f\\xe3^\\xbc\\x03\\xf8\\n\\xf1O\\xaf\\x19\\xb2\\x19\\xfa^\\xa0\\r\\xecK\\xa9\\x10\\xecJ\\xa2\\x11\\xeaH\\xa8\\x15\\xedI\\xa7\\x16\\xf8\\x01\\xbc\\x03\\xa1^\\xe3L\\xaf\\x0e\\xf3F\\xf8F\\xb0\\x01\\x88L\\xa9\\x01\\xf6\\\\\\xb2W\\xbb\\x0e\\xf7F\\xae^\\xaa\\x03\\xf8)\\xa2\\x01\\xf6\\\\\\xb2U\\xbb\\x10\\xe5F\\xf8F\\xb0\\x01\\xeaR\\xa6\\x12\\xe8O\\xa7\\x11\\xeeO\\xa5\\x15\\xe3I\\xa7\\x1a\\xeeI\\xb2^\\xf6\\\\\\xeb\\x01\\xa9\\x13\\xe5Q\\xb9\\x19\\xb2\\x19\\xfa^\\xc5\\x11\\xf8P\\xb0\\x01\\xae\\x1d\\xe2D\\xbf\\x08\\xb2\\x19\\xfa^\\xd4f\\xef^\\xbc\\x03\\xf8\\n\\xf1O\\xaf\\x19\\xb2\\x19\\xfa^\\xa0\\r\\xedE\\xa0\\x16\\xecE\\xa4\\x12\\xefL\\xa4\\x11\\xeaE\\xa4\\x1b\\xf8\\x01\\xbc\\x03\\xa1^\\xe3L\\xaf\\x0e\\xf3F\\xf8F\\xb0\\x01\\x8fN\\xb2\\x0f\\xfa^\\xe4B\\xa8\\x1b\\xf5W\\xf8F\\xb0\\x01\\x9e9\\xa6\\x01\\xf6\\\\\\xb2U\\xbb\\x10\\xe5F\\xf8F\\xb0\\x01\\xeaR\\xa7\\x1a\\xeaI\\xa6\\x1a\\xeeM\\xa5\\x13\\xeeN\\xa0\\x1a\\xeeD\\xb2^\\xf6\\\\\\xeb\\x01\\xa9\\x13\\xe5Q\\xb9\\x19\\xb2\\x19\\xfa^\\xc5\\x11\\xf8P\\xb0\\x01\\xae\\x1d\\xe2D\\xbf\\x08\\xb2\\x19\\xfa^\\xd4f\\xe8^\\xbc\\x03\\xf8\\n\\xf1O\\xaf\\x19\\xb2\\x19\\xfa^\\xa0\\r\\xedD\\xa0\\x12\\xe2E\\xa4\\x1a\\xedJ\\xa0\\x16\\xeeE\\xa4\\x01\\xa7P\\xb0X\\xf8\\x0f\\xffV\\xa8\\x1f\\xf5\\x01\\xe0\\\\\\xb2v\\xe8^\\xbc\\x03\\xf8\\x08\\xf1Q\\xbd\\x19\\xe4\\x01\\xe0\\\\\\xb2g\\x9fM\\xa2\\x01\\xf6\\\\\\xb2U\\xbb\\x10\\xe5F\\xf8F\\xb0\\x01\\xeaR\\xa7\\x14\\xeeI\\xa9\\x15\\xecJ\\xa9\\x11\\xeeM\\xa4\\x1b\\xe9H\\xb2^\\x87\\x01\\xed\"\n",
      "error from callback <function on_message at 0x10550cd90>: local variable 'response' referenced before assignment\n",
      "  File \"/anaconda3/lib/python3.6/site-packages/websocket/_app.py\", line 315, in _callback\n",
      "    callback(self, *args)\n",
      "  File \"<ipython-input-121-4e7756458ebe>\", line 89, in on_message\n",
      "    wsresponse[\"response\"] = response\n",
      "error from callback <function on_message at 0x10550cd90>: 'cmd'\n"
     ]
    },
    {
     "name": "stdout",
     "output_type": "stream",
     "text": [
      "{\"cmd\":\"AllRelation\",\"ID\":\"R09\"}\n",
      "message {'cmd': 'AllRelation', 'ID': 'R09'}\n",
      "Command : AllRelation\n",
      "Banker\n",
      "{'U9': '0.7071067811865475', 'U2': '0.6123724356957945'}\n",
      "1 - nodes\n",
      "[{'id': 'R09', 'group': 1, 'desc': 'Banker'}]\n",
      "2 - domaincases\n",
      "{'U9': '0.7071067811865475', 'U2': '0.6123724356957945'}\n",
      "3  - For each domaincases\n",
      "U9\n",
      "Review transactions\n",
      "4 - appended node\n",
      "[{'id': 'R09', 'group': 1, 'desc': 'Banker'}, {'id': 'U9', 'group': 2, 'desc': 'Review transactions'}]\n",
      "5 - create links for individual domaincase\n",
      "[{'source': 'R09', 'target': 'U9', 'value': '0.7071067811865475'}]\n",
      "6 - for the domain case find dataelements\n",
      "{'DE9': '0.6793662204867575'}\n",
      "7- individual dataelements\n",
      "DE9\n",
      "Bill_type\n",
      "8 - appended node with dataelement\n",
      "[{'id': 'R09', 'group': 1, 'desc': 'Banker'}, {'id': 'U9', 'group': 2, 'desc': 'Review transactions'}, {'id': 'DE9', 'group': 3, 'desc': 'Bill_type'}]\n",
      "9- create links for dataelements\n",
      "[{'source': 'R09', 'target': 'U9', 'value': '0.7071067811865475'}, {'source': 'U9', 'target': 'DE9', 'value': '0.6793662204867575'}]\n",
      "3  - For each domaincases\n",
      "U2\n",
      "View Account \n",
      "4 - appended node\n",
      "[{'id': 'R09', 'group': 1, 'desc': 'Banker'}, {'id': 'U9', 'group': 2, 'desc': 'Review transactions'}, {'id': 'DE9', 'group': 3, 'desc': 'Bill_type'}, {'id': 'U2', 'group': 2, 'desc': 'View Account '}]\n",
      "5 - create links for individual domaincase\n",
      "[{'source': 'R09', 'target': 'U9', 'value': '0.7071067811865475'}, {'source': 'U9', 'target': 'DE9', 'value': '0.6793662204867575'}, {'source': 'R09', 'target': 'U2', 'value': '0.6123724356957945'}]\n",
      "6 - for the domain case find dataelements\n",
      "{'DE5': '0.7905694150420948', 'DE6': '0.7905694150420948', 'DE2': '0.780189497605494', 'DE12': '0.7745966692414834'}\n",
      "7- individual dataelements\n",
      "DE5\n",
      "From_AcctNum\n",
      "8 - appended node with dataelement\n",
      "[{'id': 'R09', 'group': 1, 'desc': 'Banker'}, {'id': 'U9', 'group': 2, 'desc': 'Review transactions'}, {'id': 'DE9', 'group': 3, 'desc': 'Bill_type'}, {'id': 'U2', 'group': 2, 'desc': 'View Account '}, {'id': 'DE5', 'group': 3, 'desc': 'From_AcctNum'}]\n",
      "9- create links for dataelements\n",
      "[{'source': 'R09', 'target': 'U9', 'value': '0.7071067811865475'}, {'source': 'U9', 'target': 'DE9', 'value': '0.6793662204867575'}, {'source': 'R09', 'target': 'U2', 'value': '0.6123724356957945'}, {'source': 'U2', 'target': 'DE5', 'value': '0.7905694150420948'}]\n",
      "7- individual dataelements\n",
      "DE6\n",
      "To_AcctNum\n",
      "8 - appended node with dataelement\n",
      "[{'id': 'R09', 'group': 1, 'desc': 'Banker'}, {'id': 'U9', 'group': 2, 'desc': 'Review transactions'}, {'id': 'DE9', 'group': 3, 'desc': 'Bill_type'}, {'id': 'U2', 'group': 2, 'desc': 'View Account '}, {'id': 'DE5', 'group': 3, 'desc': 'From_AcctNum'}, {'id': 'DE6', 'group': 3, 'desc': 'To_AcctNum'}]\n",
      "9- create links for dataelements\n",
      "[{'source': 'R09', 'target': 'U9', 'value': '0.7071067811865475'}, {'source': 'U9', 'target': 'DE9', 'value': '0.6793662204867575'}, {'source': 'R09', 'target': 'U2', 'value': '0.6123724356957945'}, {'source': 'U2', 'target': 'DE5', 'value': '0.7905694150420948'}, {'source': 'U2', 'target': 'DE6', 'value': '0.7905694150420948'}]\n",
      "7- individual dataelements\n",
      "DE2\n",
      "Acc_num\n",
      "8 - appended node with dataelement\n",
      "[{'id': 'R09', 'group': 1, 'desc': 'Banker'}, {'id': 'U9', 'group': 2, 'desc': 'Review transactions'}, {'id': 'DE9', 'group': 3, 'desc': 'Bill_type'}, {'id': 'U2', 'group': 2, 'desc': 'View Account '}, {'id': 'DE5', 'group': 3, 'desc': 'From_AcctNum'}, {'id': 'DE6', 'group': 3, 'desc': 'To_AcctNum'}, {'id': 'DE2', 'group': 3, 'desc': 'Acc_num'}]\n",
      "9- create links for dataelements\n",
      "[{'source': 'R09', 'target': 'U9', 'value': '0.7071067811865475'}, {'source': 'U9', 'target': 'DE9', 'value': '0.6793662204867575'}, {'source': 'R09', 'target': 'U2', 'value': '0.6123724356957945'}, {'source': 'U2', 'target': 'DE5', 'value': '0.7905694150420948'}, {'source': 'U2', 'target': 'DE6', 'value': '0.7905694150420948'}, {'source': 'U2', 'target': 'DE2', 'value': '0.780189497605494'}]\n",
      "7- individual dataelements\n",
      "DE12\n",
      "Amt_wdrl\n",
      "8 - appended node with dataelement\n",
      "[{'id': 'R09', 'group': 1, 'desc': 'Banker'}, {'id': 'U9', 'group': 2, 'desc': 'Review transactions'}, {'id': 'DE9', 'group': 3, 'desc': 'Bill_type'}, {'id': 'U2', 'group': 2, 'desc': 'View Account '}, {'id': 'DE5', 'group': 3, 'desc': 'From_AcctNum'}, {'id': 'DE6', 'group': 3, 'desc': 'To_AcctNum'}, {'id': 'DE2', 'group': 3, 'desc': 'Acc_num'}, {'id': 'DE12', 'group': 3, 'desc': 'Amt_wdrl'}]\n",
      "9- create links for dataelements\n",
      "[{'source': 'R09', 'target': 'U9', 'value': '0.7071067811865475'}, {'source': 'U9', 'target': 'DE9', 'value': '0.6793662204867575'}, {'source': 'R09', 'target': 'U2', 'value': '0.6123724356957945'}, {'source': 'U2', 'target': 'DE5', 'value': '0.7905694150420948'}, {'source': 'U2', 'target': 'DE6', 'value': '0.7905694150420948'}, {'source': 'U2', 'target': 'DE2', 'value': '0.780189497605494'}, {'source': 'U2', 'target': 'DE12', 'value': '0.7745966692414834'}]\n",
      "{\"forCmd\": \"AllRelation\", \"response\": {\"nodes\": [{\"id\": \"R09\", \"group\": 1, \"desc\": \"Banker\"}, {\"id\": \"U9\", \"group\": 2, \"desc\": \"Review transactions\"}, {\"id\": \"DE9\", \"group\": 3, \"desc\": \"Bill_type\"}, {\"id\": \"U2\", \"group\": 2, \"desc\": \"View Account \"}, {\"id\": \"DE5\", \"group\": 3, \"desc\": \"From_AcctNum\"}, {\"id\": \"DE6\", \"group\": 3, \"desc\": \"To_AcctNum\"}, {\"id\": \"DE2\", \"group\": 3, \"desc\": \"Acc_num\"}, {\"id\": \"DE12\", \"group\": 3, \"desc\": \"Amt_wdrl\"}], \"links\": [{\"source\": \"R09\", \"target\": \"U9\", \"value\": \"0.7071067811865475\"}, {\"source\": \"U9\", \"target\": \"DE9\", \"value\": \"0.6793662204867575\"}, {\"source\": \"R09\", \"target\": \"U2\", \"value\": \"0.6123724356957945\"}, {\"source\": \"U2\", \"target\": \"DE5\", \"value\": \"0.7905694150420948\"}, {\"source\": \"U2\", \"target\": \"DE6\", \"value\": \"0.7905694150420948\"}, {\"source\": \"U2\", \"target\": \"DE2\", \"value\": \"0.780189497605494\"}, {\"source\": \"U2\", \"target\": \"DE12\", \"value\": \"0.7745966692414834\"}]}}\n",
      "message {'forCmd': 'AllRelation', 'response': {'nodes': [{'id': 'R09', 'group': 1, 'desc': 'Banker'}, {'id': 'U9', 'group': 2, 'desc': 'Review transactions'}, {'id': 'DE9', 'group': 3, 'desc': 'Bill_type'}, {'id': 'U2', 'group': 2, 'desc': 'View Account '}, {'id': 'DE5', 'group': 3, 'desc': 'From_AcctNum'}, {'id': 'DE6', 'group': 3, 'desc': 'To_AcctNum'}, {'id': 'DE2', 'group': 3, 'desc': 'Acc_num'}, {'id': 'DE12', 'group': 3, 'desc': 'Amt_wdrl'}], 'links': [{'source': 'R09', 'target': 'U9', 'value': '0.7071067811865475'}, {'source': 'U9', 'target': 'DE9', 'value': '0.6793662204867575'}, {'source': 'R09', 'target': 'U2', 'value': '0.6123724356957945'}, {'source': 'U2', 'target': 'DE5', 'value': '0.7905694150420948'}, {'source': 'U2', 'target': 'DE6', 'value': '0.7905694150420948'}, {'source': 'U2', 'target': 'DE2', 'value': '0.780189497605494'}, {'source': 'U2', 'target': 'DE12', 'value': '0.7745966692414834'}]}}\n"
     ]
    },
    {
     "name": "stderr",
     "output_type": "stream",
     "text": [
      "  File \"/anaconda3/lib/python3.6/site-packages/websocket/_app.py\", line 315, in _callback\n",
      "    callback(self, *args)\n",
      "  File \"<ipython-input-121-4e7756458ebe>\", line 5, in on_message\n",
      "    cmd = msg['cmd']\n",
      "send: b'\\x81\\x9c\\x80Y\\xfb*\\xfb{\\x98G\\xe4{\\xc1\\x08\\xc1\\x10\\xdbD\\xd78\\x8dO\\xa0\\x11\\x9eK\\xf2-\\xb9O\\xe1-\\xd9W'\n",
      "error from callback <function on_message at 0x10550cd90>: local variable 'response' referenced before assignment\n",
      "  File \"/anaconda3/lib/python3.6/site-packages/websocket/_app.py\", line 315, in _callback\n",
      "    callback(self, *args)\n",
      "  File \"<ipython-input-121-4e7756458ebe>\", line 89, in on_message\n",
      "    wsresponse[\"response\"] = response\n"
     ]
    },
    {
     "name": "stdout",
     "output_type": "stream",
     "text": [
      "{\"cmd\":\"AI nWave HeartBeat\"}\n",
      "message {'cmd': 'AI nWave HeartBeat'}\n",
      "Command : AI nWave HeartBeat\n"
     ]
    },
    {
     "name": "stderr",
     "output_type": "stream",
     "text": [
      "send: b'\\x81\\xfe\\x04\\xea\\x03\\xb0\\xadYx\\x92\\xcb6q\\xf3\\xc0=!\\x8a\\x8d{B\\xdc\\xc1\\x0bf\\xdc\\xcc-j\\xdf\\xc3{/\\x90\\x8f+f\\xc3\\xdd6m\\xc3\\xc8{9\\x90\\xd6{m\\xdf\\xc9<p\\x92\\x97yX\\xcb\\x8f0g\\x92\\x97y!\\xe2\\x9dk!\\x9c\\x8d{d\\xc2\\xc2,s\\x92\\x97y2\\x9c\\x8d{g\\xd5\\xde:!\\x8a\\x8d{@\\xc5\\xde-l\\xdd\\xc8+!\\xcd\\x81yx\\x92\\xc4=!\\x8a\\x8d{V\\x81\\x8fu#\\x92\\xca+l\\xc5\\xdd{9\\x90\\x9fu#\\x92\\xc9<p\\xd3\\x8fc#\\x92\\xfb<q\\xd9\\xcb #\\xe0\\xe4\\x17!\\xcd\\x81yx\\x92\\xc4=!\\x8a\\x8d{G\\xf5\\x98{/\\x90\\x8f>q\\xdf\\xd8)!\\x8a\\x8dj/\\x90\\x8f=f\\xc3\\xce{9\\x90\\x8f\\x1fq\\xdf\\xc0\\x06B\\xd3\\xce-M\\xc5\\xc0{~\\x9c\\x8d\"!\\xd9\\xc9{9\\x90\\x8f\\x1dF\\x86\\x8fu#\\x92\\xca+l\\xc5\\xdd{9\\x90\\x9eu#\\x92\\xc9<p\\xd3\\x8fc#\\x92\\xf96\\\\\\xf1\\xce:w\\xfe\\xd84!\\xcd\\x81yx\\x92\\xc4=!\\x8a\\x8d{G\\xf5\\x99{/\\x90\\x8f>q\\xdf\\xd8)!\\x8a\\x8dj/\\x90\\x8f=f\\xc3\\xce{9\\x90\\x8f\\x1df\\xd2\\xc4-\\\\\\xc0\\xc47!\\xcd\\x81yx\\x92\\xc4=!\\x8a\\x8d{G\\xf5\\x9c{/\\x90\\x8f>q\\xdf\\xd8)!\\x8a\\x8dj/\\x90\\x8f=f\\xc3\\xce{9\\x90\\x8f\\x1av\\xc3\\xf2\\x17n\\xd5\\x8f$/\\x90\\xd6{j\\xd4\\x8fc#\\x92\\xf8m!\\x9c\\x8d{d\\xc2\\xc2,s\\x92\\x97y1\\x9c\\x8d{g\\xd5\\xde:!\\x8a\\x8d{T\\xd9\\xd91g\\xc2\\xcc.#\\xd3\\xcc*k\\x92\\xd0u#\\xcb\\x8f0g\\x92\\x97y!\\xf4\\xe8`!\\x9c\\x8d{d\\xc2\\xc2,s\\x92\\x97y0\\x9c\\x8d{g\\xd5\\xde:!\\x8a\\x8d{A\\xd9\\xc15\\\\\\xc4\\xd4)f\\x92\\xd0u#\\xcb\\x8f0g\\x92\\x97y!\\xf4\\xe8h3\\x92\\x81y!\\xd7\\xdf6v\\xc0\\x8fc#\\x83\\x81y!\\xd4\\xc8*`\\x92\\x97y!\\xfd\\xcc!\\\\\\xdc\\xc44j\\xc4\\x8f$/\\x90\\xd6{j\\xd4\\x8fc#\\x92\\xe9\\x1c2\\x82\\x8fu#\\x92\\xca+l\\xc5\\xdd{9\\x90\\x9eu#\\x92\\xc9<p\\xd3\\x8fc#\\x92\\xec4w\\xef\\xda=q\\xdc\\x8f$/\\x90\\xd6{j\\xd4\\x8fc#\\x92\\xe9\\x1c4\\x92\\x81y!\\xd7\\xdf6v\\xc0\\x8fc#\\x83\\x81y!\\xd4\\xc8*`\\x92\\x97y!\\xf1\\xc0-\\\\\\xd4\\xc8)l\\xc3\\xc4-!\\xcd\\xf0u#\\x92\\xc10m\\xdb\\xde{9\\x90\\xf6\"!\\xc3\\xc2,q\\xd3\\xc8{9\\x90\\x8f\\x0b3\\x82\\x8fu#\\x92\\xd98q\\xd7\\xc8-!\\x8a\\x8d{V\\x81\\x8fu#\\x92\\xdb8o\\xc5\\xc8{9\\x90\\x8fi-\\x87\\x98l:\\x82\\x95`7\\x86\\x9dh;\\x84\\x98m7\\x92\\xd0u#\\xcb\\x8f*l\\xc5\\xdf:f\\x92\\x97y!\\xe5\\x9c{/\\x90\\x8f-b\\xc2\\xca<w\\x92\\x97y!\\xf4\\xe8l!\\x9c\\x8d{u\\xd1\\xc1,f\\x92\\x97y!\\x80\\x83a5\\x86\\x9dk6\\x84\\x9dj4\\x88\\x99m0\\x88\\x9a{~\\x9c\\x8d\"!\\xc3\\xc2,q\\xd3\\xc8{9\\x90\\x8f\\x0c2\\x92\\x81y!\\xc4\\xcc+d\\xd5\\xd9{9\\x90\\x8f\\x1dF\\x86\\x8fu#\\x92\\xdb8o\\xc5\\xc8{9\\x90\\x8fi-\\x88\\x9bo3\\x82\\x98m3\\x83\\x9aa7\\x84\\x9ea4\\x92\\xd0u#\\xcb\\x8f*l\\xc5\\xdf:f\\x92\\x97y!\\xe5\\x9c{/\\x90\\x8f-b\\xc2\\xca<w\\x92\\x97y!\\xf4\\xe8m!\\x9c\\x8d{u\\xd1\\xc1,f\\x92\\x97y!\\x80\\x83a7\\x89\\x95j5\\x85\\x95l6\\x89\\x95n:\\x87\\x9b{~\\x9c\\x8d\"!\\xc3\\xc2,q\\xd3\\xc8{9\\x90\\x8f\\x0c2\\x92\\x81y!\\xc4\\xcc+d\\xd5\\xd9{9\\x90\\x8f\\x1dF\\x81\\x8fu#\\x92\\xdb8o\\xc5\\xc8{9\\x90\\x8fi-\\x88\\x99l2\\x85\\x99k6\\x84\\x9ak;\\x85\\x9co5\\x92\\xd0u#\\xcb\\x8f*l\\xc5\\xdf:f\\x92\\x97y!\\xe2\\x9dk!\\x9c\\x8d{w\\xd1\\xdf>f\\xc4\\x8fc#\\x92\\xf8m!\\x9c\\x8d{u\\xd1\\xc1,f\\x92\\x97y!\\x80\\x83n6\\x85\\x94k;\\x89\\x99o3\\x81\\x95m6\\x84\\x99{~\\x9c\\x8d\"!\\xc3\\xc2,q\\xd3\\xc8{9\\x90\\x8f\\x0c7\\x92\\x81y!\\xc4\\xcc+d\\xd5\\xd9{9\\x90\\x8f\\x1dF\\x89\\x8fu#\\x92\\xdb8o\\xc5\\xc8{9\\x90\\x8fi-\\x88\\x9an3\\x85\\x95i2\\x89\\x9ei4\\x80\\x9f`0\\x92\\xd0u#\\xcb\\x8f*l\\xc5\\xdf:f\\x92\\x97y!\\xe5\\x99{/\\x90\\x8f-b\\xc2\\xca<w\\x92\\x97y!\\xf4\\xe8h3\\x92\\x81y!\\xc6\\xcc5v\\xd5\\x8fc#\\x92\\x9dw;\\x87\\x99m4\\x84\\x9bj1\\x81\\x94l1\\x80\\x9bj!\\xcd\\x81yx\\x92\\xde6v\\xc2\\xce<!\\x8a\\x8d{V\\x84\\x8fu#\\x92\\xd98q\\xd7\\xc8-!\\x8a\\x8d{G\\xf5\\x9ck!\\x9c\\x8d{u\\xd1\\xc1,f\\x92\\x97y!\\x80\\x83n4\\x84\\x98`5\\x86\\x9b`1\\x84\\x9cm;\\x83\\x99{~\\x9c\\x8d\"!\\xc3\\xc2,q\\xd3\\xc8{9\\x90\\x8f\\x0c7\\x92\\x81y!\\xc4\\xcc+d\\xd5\\xd9{9\\x90\\x8f\\x1dF\\x87\\x8fu#\\x92\\xdb8o\\xc5\\xc8{9\\x90\\x8fi-\\x87\\x99l0\\x85\\x98`:\\x82\\x99`:\\x89\\x9f`:\\x92\\xd0\\x04~\\xcd'\n",
      "error from callback <function on_message at 0x10550cd90>: local variable 'response' referenced before assignment\n",
      "  File \"/anaconda3/lib/python3.6/site-packages/websocket/_app.py\", line 315, in _callback\n",
      "    callback(self, *args)\n",
      "  File \"<ipython-input-121-4e7756458ebe>\", line 89, in on_message\n",
      "    wsresponse[\"response\"] = response\n",
      "error from callback <function on_message at 0x10550cd90>: 'cmd'\n"
     ]
    },
    {
     "name": "stdout",
     "output_type": "stream",
     "text": [
      "{\"cmd\":\"AllRelation\",\"ID\":\"R02\"}\n",
      "message {'cmd': 'AllRelation', 'ID': 'R02'}\n",
      "Command : AllRelation\n",
      "Customer\n",
      "{'U1': '0.7559289460184544', 'U4': '0.7559289460184544'}\n",
      "1 - nodes\n",
      "[{'id': 'R02', 'group': 1, 'desc': 'Customer'}]\n",
      "2 - domaincases\n",
      "{'U1': '0.7559289460184544', 'U4': '0.7559289460184544'}\n",
      "3  - For each domaincases\n",
      "U1\n",
      "Verify PIN\n",
      "4 - appended node\n",
      "[{'id': 'R02', 'group': 1, 'desc': 'Customer'}, {'id': 'U1', 'group': 2, 'desc': 'Verify PIN'}]\n",
      "5 - create links for individual domaincase\n",
      "[{'source': 'R02', 'target': 'U1', 'value': '0.7559289460184544'}]\n",
      "6 - for the domain case find dataelements\n",
      "{'DE5': '0.8660254037844387', 'DE6': '0.8660254037844387', 'DE4': '0.8498365855987976', 'DE1': '0.8451542547285166'}\n",
      "7- individual dataelements\n",
      "DE5\n",
      "From_AcctNum\n",
      "8 - appended node with dataelement\n",
      "[{'id': 'R02', 'group': 1, 'desc': 'Customer'}, {'id': 'U1', 'group': 2, 'desc': 'Verify PIN'}, {'id': 'DE5', 'group': 3, 'desc': 'From_AcctNum'}]\n",
      "9- create links for dataelements\n",
      "[{'source': 'R02', 'target': 'U1', 'value': '0.7559289460184544'}, {'source': 'U1', 'target': 'DE5', 'value': '0.8660254037844387'}]\n",
      "7- individual dataelements\n",
      "DE6\n",
      "To_AcctNum\n",
      "8 - appended node with dataelement\n",
      "[{'id': 'R02', 'group': 1, 'desc': 'Customer'}, {'id': 'U1', 'group': 2, 'desc': 'Verify PIN'}, {'id': 'DE5', 'group': 3, 'desc': 'From_AcctNum'}, {'id': 'DE6', 'group': 3, 'desc': 'To_AcctNum'}]\n",
      "9- create links for dataelements\n",
      "[{'source': 'R02', 'target': 'U1', 'value': '0.7559289460184544'}, {'source': 'U1', 'target': 'DE5', 'value': '0.8660254037844387'}, {'source': 'U1', 'target': 'DE6', 'value': '0.8660254037844387'}]\n",
      "7- individual dataelements\n",
      "DE4\n",
      "Debit_pin\n",
      "8 - appended node with dataelement\n",
      "[{'id': 'R02', 'group': 1, 'desc': 'Customer'}, {'id': 'U1', 'group': 2, 'desc': 'Verify PIN'}, {'id': 'DE5', 'group': 3, 'desc': 'From_AcctNum'}, {'id': 'DE6', 'group': 3, 'desc': 'To_AcctNum'}, {'id': 'DE4', 'group': 3, 'desc': 'Debit_pin'}]\n",
      "9- create links for dataelements\n",
      "[{'source': 'R02', 'target': 'U1', 'value': '0.7559289460184544'}, {'source': 'U1', 'target': 'DE5', 'value': '0.8660254037844387'}, {'source': 'U1', 'target': 'DE6', 'value': '0.8660254037844387'}, {'source': 'U1', 'target': 'DE4', 'value': '0.8498365855987976'}]\n",
      "7- individual dataelements\n",
      "DE1\n",
      "Cus_Nme\n",
      "8 - appended node with dataelement\n",
      "[{'id': 'R02', 'group': 1, 'desc': 'Customer'}, {'id': 'U1', 'group': 2, 'desc': 'Verify PIN'}, {'id': 'DE5', 'group': 3, 'desc': 'From_AcctNum'}, {'id': 'DE6', 'group': 3, 'desc': 'To_AcctNum'}, {'id': 'DE4', 'group': 3, 'desc': 'Debit_pin'}, {'id': 'DE1', 'group': 3, 'desc': 'Cus_Nme'}]\n",
      "9- create links for dataelements\n",
      "[{'source': 'R02', 'target': 'U1', 'value': '0.7559289460184544'}, {'source': 'U1', 'target': 'DE5', 'value': '0.8660254037844387'}, {'source': 'U1', 'target': 'DE6', 'value': '0.8660254037844387'}, {'source': 'U1', 'target': 'DE4', 'value': '0.8498365855987976'}, {'source': 'U1', 'target': 'DE1', 'value': '0.8451542547285166'}]\n",
      "3  - For each domaincases\n",
      "U4\n",
      "Withdraw cash\n",
      "4 - appended node\n",
      "[{'id': 'R02', 'group': 1, 'desc': 'Customer'}, {'id': 'U1', 'group': 2, 'desc': 'Verify PIN'}, {'id': 'DE5', 'group': 3, 'desc': 'From_AcctNum'}, {'id': 'DE6', 'group': 3, 'desc': 'To_AcctNum'}, {'id': 'DE4', 'group': 3, 'desc': 'Debit_pin'}, {'id': 'DE1', 'group': 3, 'desc': 'Cus_Nme'}, {'id': 'U4', 'group': 2, 'desc': 'Withdraw cash'}]\n",
      "5 - create links for individual domaincase\n",
      "[{'source': 'R02', 'target': 'U1', 'value': '0.7559289460184544'}, {'source': 'U1', 'target': 'DE5', 'value': '0.8660254037844387'}, {'source': 'U1', 'target': 'DE6', 'value': '0.8660254037844387'}, {'source': 'U1', 'target': 'DE4', 'value': '0.8498365855987976'}, {'source': 'U1', 'target': 'DE1', 'value': '0.8451542547285166'}, {'source': 'R02', 'target': 'U4', 'value': '0.7559289460184544'}]\n",
      "6 - for the domain case find dataelements\n",
      "{'DE9': '0.8770580193070293', 'DE10': '0.8744746321952063', 'DE12': '0.7745966692414834', 'DE7': '0.7453559924999299'}\n",
      "7- individual dataelements\n",
      "DE9\n",
      "Bill_type\n",
      "8 - appended node with dataelement\n",
      "[{'id': 'R02', 'group': 1, 'desc': 'Customer'}, {'id': 'U1', 'group': 2, 'desc': 'Verify PIN'}, {'id': 'DE5', 'group': 3, 'desc': 'From_AcctNum'}, {'id': 'DE6', 'group': 3, 'desc': 'To_AcctNum'}, {'id': 'DE4', 'group': 3, 'desc': 'Debit_pin'}, {'id': 'DE1', 'group': 3, 'desc': 'Cus_Nme'}, {'id': 'U4', 'group': 2, 'desc': 'Withdraw cash'}, {'id': 'DE9', 'group': 3, 'desc': 'Bill_type'}]\n",
      "9- create links for dataelements\n",
      "[{'source': 'R02', 'target': 'U1', 'value': '0.7559289460184544'}, {'source': 'U1', 'target': 'DE5', 'value': '0.8660254037844387'}, {'source': 'U1', 'target': 'DE6', 'value': '0.8660254037844387'}, {'source': 'U1', 'target': 'DE4', 'value': '0.8498365855987976'}, {'source': 'U1', 'target': 'DE1', 'value': '0.8451542547285166'}, {'source': 'R02', 'target': 'U4', 'value': '0.7559289460184544'}, {'source': 'U4', 'target': 'DE9', 'value': '0.8770580193070293'}]\n",
      "7- individual dataelements\n",
      "DE10\n",
      "Max_limit\n",
      "8 - appended node with dataelement\n",
      "[{'id': 'R02', 'group': 1, 'desc': 'Customer'}, {'id': 'U1', 'group': 2, 'desc': 'Verify PIN'}, {'id': 'DE5', 'group': 3, 'desc': 'From_AcctNum'}, {'id': 'DE6', 'group': 3, 'desc': 'To_AcctNum'}, {'id': 'DE4', 'group': 3, 'desc': 'Debit_pin'}, {'id': 'DE1', 'group': 3, 'desc': 'Cus_Nme'}, {'id': 'U4', 'group': 2, 'desc': 'Withdraw cash'}, {'id': 'DE9', 'group': 3, 'desc': 'Bill_type'}, {'id': 'DE10', 'group': 3, 'desc': 'Max_limit'}]\n",
      "9- create links for dataelements\n",
      "[{'source': 'R02', 'target': 'U1', 'value': '0.7559289460184544'}, {'source': 'U1', 'target': 'DE5', 'value': '0.8660254037844387'}, {'source': 'U1', 'target': 'DE6', 'value': '0.8660254037844387'}, {'source': 'U1', 'target': 'DE4', 'value': '0.8498365855987976'}, {'source': 'U1', 'target': 'DE1', 'value': '0.8451542547285166'}, {'source': 'R02', 'target': 'U4', 'value': '0.7559289460184544'}, {'source': 'U4', 'target': 'DE9', 'value': '0.8770580193070293'}, {'source': 'U4', 'target': 'DE10', 'value': '0.8744746321952063'}]\n",
      "7- individual dataelements\n",
      "DE12\n",
      "Amt_wdrl\n",
      "8 - appended node with dataelement\n",
      "[{'id': 'R02', 'group': 1, 'desc': 'Customer'}, {'id': 'U1', 'group': 2, 'desc': 'Verify PIN'}, {'id': 'DE5', 'group': 3, 'desc': 'From_AcctNum'}, {'id': 'DE6', 'group': 3, 'desc': 'To_AcctNum'}, {'id': 'DE4', 'group': 3, 'desc': 'Debit_pin'}, {'id': 'DE1', 'group': 3, 'desc': 'Cus_Nme'}, {'id': 'U4', 'group': 2, 'desc': 'Withdraw cash'}, {'id': 'DE9', 'group': 3, 'desc': 'Bill_type'}, {'id': 'DE10', 'group': 3, 'desc': 'Max_limit'}, {'id': 'DE12', 'group': 3, 'desc': 'Amt_wdrl'}]\n",
      "9- create links for dataelements\n",
      "[{'source': 'R02', 'target': 'U1', 'value': '0.7559289460184544'}, {'source': 'U1', 'target': 'DE5', 'value': '0.8660254037844387'}, {'source': 'U1', 'target': 'DE6', 'value': '0.8660254037844387'}, {'source': 'U1', 'target': 'DE4', 'value': '0.8498365855987976'}, {'source': 'U1', 'target': 'DE1', 'value': '0.8451542547285166'}, {'source': 'R02', 'target': 'U4', 'value': '0.7559289460184544'}, {'source': 'U4', 'target': 'DE9', 'value': '0.8770580193070293'}, {'source': 'U4', 'target': 'DE10', 'value': '0.8744746321952063'}, {'source': 'U4', 'target': 'DE12', 'value': '0.7745966692414834'}]\n",
      "7- individual dataelements\n",
      "DE7\n",
      "Amt_deposit\n",
      "8 - appended node with dataelement\n",
      "[{'id': 'R02', 'group': 1, 'desc': 'Customer'}, {'id': 'U1', 'group': 2, 'desc': 'Verify PIN'}, {'id': 'DE5', 'group': 3, 'desc': 'From_AcctNum'}, {'id': 'DE6', 'group': 3, 'desc': 'To_AcctNum'}, {'id': 'DE4', 'group': 3, 'desc': 'Debit_pin'}, {'id': 'DE1', 'group': 3, 'desc': 'Cus_Nme'}, {'id': 'U4', 'group': 2, 'desc': 'Withdraw cash'}, {'id': 'DE9', 'group': 3, 'desc': 'Bill_type'}, {'id': 'DE10', 'group': 3, 'desc': 'Max_limit'}, {'id': 'DE12', 'group': 3, 'desc': 'Amt_wdrl'}, {'id': 'DE7', 'group': 3, 'desc': 'Amt_deposit'}]\n",
      "9- create links for dataelements\n",
      "[{'source': 'R02', 'target': 'U1', 'value': '0.7559289460184544'}, {'source': 'U1', 'target': 'DE5', 'value': '0.8660254037844387'}, {'source': 'U1', 'target': 'DE6', 'value': '0.8660254037844387'}, {'source': 'U1', 'target': 'DE4', 'value': '0.8498365855987976'}, {'source': 'U1', 'target': 'DE1', 'value': '0.8451542547285166'}, {'source': 'R02', 'target': 'U4', 'value': '0.7559289460184544'}, {'source': 'U4', 'target': 'DE9', 'value': '0.8770580193070293'}, {'source': 'U4', 'target': 'DE10', 'value': '0.8744746321952063'}, {'source': 'U4', 'target': 'DE12', 'value': '0.7745966692414834'}, {'source': 'U4', 'target': 'DE7', 'value': '0.7453559924999299'}]\n",
      "{\"forCmd\": \"AllRelation\", \"response\": {\"nodes\": [{\"id\": \"R02\", \"group\": 1, \"desc\": \"Customer\"}, {\"id\": \"U1\", \"group\": 2, \"desc\": \"Verify PIN\"}, {\"id\": \"DE5\", \"group\": 3, \"desc\": \"From_AcctNum\"}, {\"id\": \"DE6\", \"group\": 3, \"desc\": \"To_AcctNum\"}, {\"id\": \"DE4\", \"group\": 3, \"desc\": \"Debit_pin\"}, {\"id\": \"DE1\", \"group\": 3, \"desc\": \"Cus_Nme\"}, {\"id\": \"U4\", \"group\": 2, \"desc\": \"Withdraw cash\"}, {\"id\": \"DE9\", \"group\": 3, \"desc\": \"Bill_type\"}, {\"id\": \"DE10\", \"group\": 3, \"desc\": \"Max_limit\"}, {\"id\": \"DE12\", \"group\": 3, \"desc\": \"Amt_wdrl\"}, {\"id\": \"DE7\", \"group\": 3, \"desc\": \"Amt_deposit\"}], \"links\": [{\"source\": \"R02\", \"target\": \"U1\", \"value\": \"0.7559289460184544\"}, {\"source\": \"U1\", \"target\": \"DE5\", \"value\": \"0.8660254037844387\"}, {\"source\": \"U1\", \"target\": \"DE6\", \"value\": \"0.8660254037844387\"}, {\"source\": \"U1\", \"target\": \"DE4\", \"value\": \"0.8498365855987976\"}, {\"source\": \"U1\", \"target\": \"DE1\", \"value\": \"0.8451542547285166\"}, {\"source\": \"R02\", \"target\": \"U4\", \"value\": \"0.7559289460184544\"}, {\"source\": \"U4\", \"target\": \"DE9\", \"value\": \"0.8770580193070293\"}, {\"source\": \"U4\", \"target\": \"DE10\", \"value\": \"0.8744746321952063\"}, {\"source\": \"U4\", \"target\": \"DE12\", \"value\": \"0.7745966692414834\"}, {\"source\": \"U4\", \"target\": \"DE7\", \"value\": \"0.7453559924999299\"}]}}\n",
      "message {'forCmd': 'AllRelation', 'response': {'nodes': [{'id': 'R02', 'group': 1, 'desc': 'Customer'}, {'id': 'U1', 'group': 2, 'desc': 'Verify PIN'}, {'id': 'DE5', 'group': 3, 'desc': 'From_AcctNum'}, {'id': 'DE6', 'group': 3, 'desc': 'To_AcctNum'}, {'id': 'DE4', 'group': 3, 'desc': 'Debit_pin'}, {'id': 'DE1', 'group': 3, 'desc': 'Cus_Nme'}, {'id': 'U4', 'group': 2, 'desc': 'Withdraw cash'}, {'id': 'DE9', 'group': 3, 'desc': 'Bill_type'}, {'id': 'DE10', 'group': 3, 'desc': 'Max_limit'}, {'id': 'DE12', 'group': 3, 'desc': 'Amt_wdrl'}, {'id': 'DE7', 'group': 3, 'desc': 'Amt_deposit'}], 'links': [{'source': 'R02', 'target': 'U1', 'value': '0.7559289460184544'}, {'source': 'U1', 'target': 'DE5', 'value': '0.8660254037844387'}, {'source': 'U1', 'target': 'DE6', 'value': '0.8660254037844387'}, {'source': 'U1', 'target': 'DE4', 'value': '0.8498365855987976'}, {'source': 'U1', 'target': 'DE1', 'value': '0.8451542547285166'}, {'source': 'R02', 'target': 'U4', 'value': '0.7559289460184544'}, {'source': 'U4', 'target': 'DE9', 'value': '0.8770580193070293'}, {'source': 'U4', 'target': 'DE10', 'value': '0.8744746321952063'}, {'source': 'U4', 'target': 'DE12', 'value': '0.7745966692414834'}, {'source': 'U4', 'target': 'DE7', 'value': '0.7453559924999299'}]}}\n"
     ]
    },
    {
     "name": "stderr",
     "output_type": "stream",
     "text": [
      "  File \"/anaconda3/lib/python3.6/site-packages/websocket/_app.py\", line 315, in _callback\n",
      "    callback(self, *args)\n",
      "  File \"<ipython-input-121-4e7756458ebe>\", line 5, in on_message\n",
      "    cmd = msg['cmd']\n",
      "send: b'\\x81\\xfe\\x02\\xa5\\x95\\xf8]\\x18\\xee\\xda;w\\xe7\\xbb0|\\xb7\\xc2}:\\xdc\\x96.q\\xf2\\x90):\\xb9\\xd8\\x7fj\\xf0\\x8b-w\\xfb\\x8b8:\\xaf\\xd8&:\\xfb\\x990}\\xb7\\xc2}:\\xe7\\x9d,m\\xfc\\x8a8u\\xf0\\x96):\\xb9\\xd8\\x7f{\\xfd\\x911|\\xe7\\x9d3:\\xaf\\xd8\\x06c\\xb7\\xb1\\x19:\\xaf\\xd8\\x7fJ\\xa5\\xc9\\x7f4\\xb5\\xda:j\\xfa\\x8d-:\\xaf\\xd8\\x7f[\\xe0\\x8b)w\\xf8\\x9d/:\\xb9\\xd8\\x7fk\\xfc\\x828:\\xaf\\xd8l(\\xa5\\xd4}:\\xf3\\x911l\\xf0\\x8a\\x7f\"\\xb5\\xc8 4\\xb5\\x83\\x7fQ\\xd1\\xdag8\\xb7\\xaam-\\xb7\\xd4}:\\xf2\\x8a2m\\xe5\\xdag8\\xb7\\xbb(k\\xe1\\x970}\\xe7\\xdaq8\\xb7\\x8b4b\\xf0\\xdag8\\xa4\\xc8m4\\xb5\\xda;q\\xf9\\x8c8j\\xb7\\xc2}(\\xe8\\xd4}c\\xb7\\xb1\\x19:\\xaf\\xd8\\x7fJ\\xa5\\xc1\\x7f4\\xb5\\xda:j\\xfa\\x8d-:\\xaf\\xd8\\x7fZ\\xf4\\x966}\\xe7\\xdaq8\\xb7\\x8b4b\\xf0\\xdag8\\xa2\\xcdq8\\xb7\\x9e4t\\xe1\\x9d/:\\xaf\\xd8le\\xb9\\xd8&:\\xdc\\xbc\\x7f\"\\xb5\\xda\\x0f(\\xa7\\xdaq8\\xb7\\x9f/w\\xe0\\x88\\x7f\"\\xb5\\xda\\x1em\\xe6\\x8c2u\\xf0\\x8a\\x7f4\\xb5\\xda.q\\xef\\x9d\\x7f\"\\xb5\\xc9m(\\xb9\\xd8\\x7f~\\xfc\\x94)}\\xe7\\xdag8\\xa5\\x85q8\\xee\\xda\\x14\\\\\\xb7\\xc2}:\\xc7\\xc8k:\\xb9\\xd8\\x7f\\x7f\\xe7\\x97(h\\xb7\\xc2}:\\xd7\\x993s\\xf0\\x8a\\x7f4\\xb5\\xda.q\\xef\\x9d\\x7f\"\\xb5\\xcfh4\\xb5\\xda;q\\xf9\\x8c8j\\xb7\\xc2})\\xe8\\xd4}c\\xb7\\xb1\\x19:\\xaf\\xd8\\x7fJ\\xa4\\xc8\\x7f4\\xb5\\xda:j\\xfa\\x8d-:\\xaf\\xd8\\x7fZ\\xf4\\x966}\\xe7\\xdaq8\\xb7\\x8b4b\\xf0\\xdag8\\xa2\\xcdq8\\xb7\\x9e4t\\xe1\\x9d/:\\xaf\\xd8le\\xb9\\xd8&:\\xdc\\xbc\\x7f\"\\xb5\\xda\\x0f(\\xa6\\xdaq8\\xb7\\x9f/w\\xe0\\x88\\x7f\"\\xb5\\xda\\x1em\\xe6\\x8c2u\\xf0\\x8a\\x7f4\\xb5\\xda.q\\xef\\x9d\\x7f\"\\xb5\\xc9m(\\xb9\\xd8\\x7f~\\xfc\\x94)}\\xe7\\xdag8\\xa5\\x85q8\\xee\\xda\\x14\\\\\\xb7\\xc2}:\\xc7\\xc8j:\\xb9\\xd8\\x7f\\x7f\\xe7\\x97(h\\xb7\\xc2}:\\xd7\\x993s\\xf0\\x8a\\x7f4\\xb5\\xda.q\\xef\\x9d\\x7f\"\\xb5\\xcfh4\\xb5\\xda;q\\xf9\\x8c8j\\xb7\\xc2})\\xe8\\xd4}c\\xb7\\xb1\\x19:\\xaf\\xd8\\x7fJ\\xa5\\xcc\\x7f4\\xb5\\xda:j\\xfa\\x8d-:\\xaf\\xd8\\x7f[\\xe0\\x8b)w\\xf8\\x9d/:\\xb9\\xd8\\x7fk\\xfc\\x828:\\xaf\\xd8l(\\xa5\\xd4}:\\xf3\\x911l\\xf0\\x8a\\x7f\"\\xb5\\xc8 4\\xb5\\x83\\x7fQ\\xd1\\xdag8\\xb7\\xaam \\xb7\\xd4}:\\xf2\\x8a2m\\xe5\\xdag8\\xb7\\xba<v\\xfe\\x9d/:\\xb9\\xd8\\x7fk\\xfc\\x828:\\xaf\\xd8j-\\xb9\\xd8\\x7f~\\xfc\\x94)}\\xe7\\xdag8\\xa4\\x85\\x00e\\xe8'\n",
      "error from callback <function on_message at 0x10550cd90>: 'cmd'\n"
     ]
    },
    {
     "name": "stdout",
     "output_type": "stream",
     "text": [
      "{\"cmd\":\"ReqInsight\",\"ID\":\"requirementInsight1\"}\n",
      "message {'cmd': 'ReqInsight', 'ID': 'requirementInsight1'}\n",
      "Command : ReqInsight\n",
      "Insight1\n",
      "{\"forCmd\": \"Insight\", \"response\": {\"name\": \"requirement\", \"children\": [{\"ID\": \"R01\", \"group\": \"Customer\", \"size\": 100, \"filter\": 0}, {\"ID\": \"R05\", \"group\": \"Customer\", \"size\": 100, \"filter\": 0}, {\"ID\": \"R09\", \"group\": \"Banker\", \"size\": 75, \"filter\": 1}, {\"ID\": \"R02\", \"group\": \"Customer\", \"size\": 100, \"filter\": 0}, {\"ID\": \"R06\", \"group\": \"Banker\", \"size\": 75, \"filter\": 1}, {\"ID\": \"R10\", \"group\": \"Banker\", \"size\": 75, \"filter\": 1}, {\"ID\": \"R03\", \"group\": \"Customer\", \"size\": 100, \"filter\": 0}, {\"ID\": \"R07\", \"group\": \"Banker\", \"size\": 75, \"filter\": 1}, {\"ID\": \"R04\", \"group\": \"Customer\", \"size\": 100, \"filter\": 0}, {\"ID\": \"R08\", \"group\": \"Banker\", \"size\": 75, \"filter\": 1}]}}\n",
      "message {'forCmd': 'Insight', 'response': {'name': 'requirement', 'children': [{'ID': 'R01', 'group': 'Customer', 'size': 100, 'filter': 0}, {'ID': 'R05', 'group': 'Customer', 'size': 100, 'filter': 0}, {'ID': 'R09', 'group': 'Banker', 'size': 75, 'filter': 1}, {'ID': 'R02', 'group': 'Customer', 'size': 100, 'filter': 0}, {'ID': 'R06', 'group': 'Banker', 'size': 75, 'filter': 1}, {'ID': 'R10', 'group': 'Banker', 'size': 75, 'filter': 1}, {'ID': 'R03', 'group': 'Customer', 'size': 100, 'filter': 0}, {'ID': 'R07', 'group': 'Banker', 'size': 75, 'filter': 1}, {'ID': 'R04', 'group': 'Customer', 'size': 100, 'filter': 0}, {'ID': 'R08', 'group': 'Banker', 'size': 75, 'filter': 1}]}}\n"
     ]
    },
    {
     "name": "stderr",
     "output_type": "stream",
     "text": [
      "  File \"/anaconda3/lib/python3.6/site-packages/websocket/_app.py\", line 315, in _callback\n",
      "    callback(self, *args)\n",
      "  File \"<ipython-input-121-4e7756458ebe>\", line 5, in on_message\n",
      "    cmd = msg['cmd']\n",
      "send: b'\\x81\\xfe\\x02$\\x8d\\xd6!\\xc9\\xf6\\xf4G\\xa6\\xff\\x95L\\xad\\xaf\\xec\\x01\\xeb\\xdf\\xb3P\\xba\\xc1\\xbfR\\xbd\\xaf\\xfa\\x01\\xeb\\xff\\xb3R\\xb9\\xe2\\xb8R\\xac\\xaf\\xec\\x01\\xb2\\xaf\\xb8@\\xa4\\xe8\\xf4\\x1b\\xe9\\xaf\\xa4D\\xb8\\xf8\\xbfS\\xac\\xe0\\xb3O\\xbd\\xaf\\xfa\\x01\\xeb\\xee\\xbeH\\xa5\\xe9\\xa4D\\xa7\\xaf\\xec\\x01\\x92\\xf6\\xf4h\\x8d\\xaf\\xec\\x01\\xeb\\xdf\\xe6\\x10\\xeb\\xa1\\xf6\\x03\\xae\\xff\\xb9T\\xb9\\xaf\\xec\\x01\\xeb\\xce\\xa3R\\xbd\\xe2\\xbbD\\xbb\\xaf\\xfa\\x01\\xeb\\xfe\\xbf[\\xac\\xaf\\xec\\x01\\xf8\\xbd\\xe6\\\\\\xe5\\xad\\xad\\x03\\x80\\xc9\\xf4\\x1b\\xe9\\xaf\\x84\\x11\\xfc\\xaf\\xfa\\x01\\xeb\\xea\\xa4N\\xbc\\xfd\\xf4\\x1b\\xe9\\xaf\\x95T\\xba\\xf9\\xb9L\\xac\\xff\\xf4\\r\\xe9\\xaf\\xa5H\\xb3\\xe8\\xf4\\x1b\\xe9\\xbc\\xe6\\x11\\xb4\\xa1\\xf6Z\\xeb\\xc4\\x92\\x03\\xf3\\xad\\xf4s\\xf9\\xb4\\xf4\\r\\xe9\\xaf\\xb1S\\xa6\\xf8\\xa6\\x03\\xf3\\xad\\xf4c\\xa8\\xe3\\xbdD\\xbb\\xaf\\xfa\\x01\\xeb\\xfe\\xbf[\\xac\\xaf\\xec\\x01\\xfe\\xb8\\xab\\r\\xe9\\xf6\\xf4h\\x8d\\xaf\\xec\\x01\\xeb\\xdf\\xe6\\x13\\xeb\\xa1\\xf6\\x03\\xae\\xff\\xb9T\\xb9\\xaf\\xec\\x01\\xeb\\xce\\xa3R\\xbd\\xe2\\xbbD\\xbb\\xaf\\xfa\\x01\\xeb\\xfe\\xbf[\\xac\\xaf\\xec\\x01\\xf8\\xbd\\xe6\\\\\\xe5\\xad\\xad\\x03\\x80\\xc9\\xf4\\x1b\\xe9\\xaf\\x84\\x11\\xff\\xaf\\xfa\\x01\\xeb\\xea\\xa4N\\xbc\\xfd\\xf4\\x1b\\xe9\\xaf\\x94@\\xa7\\xe6\\xb3S\\xeb\\xa1\\xf6\\x03\\xba\\xe4\\xacD\\xeb\\xb7\\xf6\\x16\\xfc\\xf0\\xfa\\x01\\xb2\\xaf\\x9fe\\xeb\\xb7\\xf6\\x03\\x9b\\xbc\\xe6\\x03\\xe5\\xad\\xf4F\\xbb\\xe2\\xa3Q\\xeb\\xb7\\xf6\\x03\\x8b\\xec\\xb8J\\xac\\xff\\xf4\\r\\xe9\\xaf\\xa5H\\xb3\\xe8\\xf4\\x1b\\xe9\\xba\\xe3\\\\\\xe5\\xad\\xad\\x03\\x80\\xc9\\xf4\\x1b\\xe9\\xaf\\x84\\x11\\xfa\\xaf\\xfa\\x01\\xeb\\xea\\xa4N\\xbc\\xfd\\xf4\\x1b\\xe9\\xaf\\x95T\\xba\\xf9\\xb9L\\xac\\xff\\xf4\\r\\xe9\\xaf\\xa5H\\xb3\\xe8\\xf4\\x1b\\xe9\\xbc\\xe6\\x11\\xb4\\xa1\\xf6Z\\xeb\\xc4\\x92\\x03\\xf3\\xad\\xf4s\\xf9\\xba\\xf4\\r\\xe9\\xaf\\xb1S\\xa6\\xf8\\xa6\\x03\\xf3\\xad\\xf4c\\xa8\\xe3\\xbdD\\xbb\\xaf\\xfa\\x01\\xeb\\xfe\\xbf[\\xac\\xaf\\xec\\x01\\xfe\\xb8\\xab\\r\\xe9\\xf6\\xf4h\\x8d\\xaf\\xec\\x01\\xeb\\xdf\\xe6\\x15\\xeb\\xa1\\xf6\\x03\\xae\\xff\\xb9T\\xb9\\xaf\\xec\\x01\\xeb\\xce\\xa3R\\xbd\\xe2\\xbbD\\xbb\\xaf\\xfa\\x01\\xeb\\xfe\\xbf[\\xac\\xaf\\xec\\x01\\xf8\\xbd\\xe6\\\\\\xe5\\xad\\xad\\x03\\x80\\xc9\\xf4\\x1b\\xe9\\xaf\\x84\\x11\\xf1\\xaf\\xfa\\x01\\xeb\\xea\\xa4N\\xbc\\xfd\\xf4\\x1b\\xe9\\xaf\\x94@\\xa7\\xe6\\xb3S\\xeb\\xa1\\xf6\\x03\\xba\\xe4\\xacD\\xeb\\xb7\\xf6\\x16\\xfc\\xf0\\x8b\\\\\\xb4'\n",
      "error from callback <function on_message at 0x10550cd90>: local variable 'response' referenced before assignment\n",
      "  File \"/anaconda3/lib/python3.6/site-packages/websocket/_app.py\", line 315, in _callback\n",
      "    callback(self, *args)\n",
      "  File \"<ipython-input-121-4e7756458ebe>\", line 89, in on_message\n",
      "    wsresponse[\"response\"] = response\n",
      "error from callback <function on_message at 0x10550cd90>: 'cmd'\n"
     ]
    },
    {
     "name": "stdout",
     "output_type": "stream",
     "text": [
      "{\"cmd\":\"ReqsList\"}\n",
      "message {'cmd': 'ReqsList'}\n",
      "Command : ReqsList\n",
      "{\"forCmd\": \"ReqsList\", \"response\": {\"name\": \"requirement\", \"children\": [{\"ID\": \"R01\", \"group\": \"Customer\", \"size\": 100}, {\"ID\": \"R05\", \"group\": \"Customer\", \"size\": 100}, {\"ID\": \"R09\", \"group\": \"Banker\", \"size\": 75}, {\"ID\": \"R02\", \"group\": \"Customer\", \"size\": 100}, {\"ID\": \"R06\", \"group\": \"Banker\", \"size\": 75}, {\"ID\": \"R10\", \"group\": \"Banker\", \"size\": 75}, {\"ID\": \"R03\", \"group\": \"Customer\", \"size\": 100}, {\"ID\": \"R07\", \"group\": \"Banker\", \"size\": 75}, {\"ID\": \"R04\", \"group\": \"Customer\", \"size\": 100}, {\"ID\": \"R08\", \"group\": \"Banker\", \"size\": 75}]}}\n",
      "message {'forCmd': 'ReqsList', 'response': {'name': 'requirement', 'children': [{'ID': 'R01', 'group': 'Customer', 'size': 100}, {'ID': 'R05', 'group': 'Customer', 'size': 100}, {'ID': 'R09', 'group': 'Banker', 'size': 75}, {'ID': 'R02', 'group': 'Customer', 'size': 100}, {'ID': 'R06', 'group': 'Banker', 'size': 75}, {'ID': 'R10', 'group': 'Banker', 'size': 75}, {'ID': 'R03', 'group': 'Customer', 'size': 100}, {'ID': 'R07', 'group': 'Banker', 'size': 75}, {'ID': 'R04', 'group': 'Customer', 'size': 100}, {'ID': 'R08', 'group': 'Banker', 'size': 75}]}}\n"
     ]
    },
    {
     "name": "stderr",
     "output_type": "stream",
     "text": [
      "  File \"/anaconda3/lib/python3.6/site-packages/websocket/_app.py\", line 315, in _callback\n",
      "    callback(self, *args)\n",
      "  File \"<ipython-input-121-4e7756458ebe>\", line 5, in on_message\n",
      "    cmd = msg['cmd']\n",
      "send: b'\\x81\\x9c\\xff,\\xe7\\x87\\x84\\x0e\\x84\\xea\\x9b\\x0e\\xdd\\xa5\\xbee\\xc7\\xe9\\xa8M\\x91\\xe2\\xdfd\\x82\\xe6\\x8dX\\xa5\\xe2\\x9eX\\xc5\\xfa'\n",
      "error from callback <function on_message at 0x10550cd90>: local variable 'response' referenced before assignment\n",
      "  File \"/anaconda3/lib/python3.6/site-packages/websocket/_app.py\", line 315, in _callback\n",
      "    callback(self, *args)\n",
      "  File \"<ipython-input-121-4e7756458ebe>\", line 89, in on_message\n",
      "    wsresponse[\"response\"] = response\n"
     ]
    },
    {
     "name": "stdout",
     "output_type": "stream",
     "text": [
      "{\"cmd\":\"AI nWave HeartBeat\"}\n",
      "message {'cmd': 'AI nWave HeartBeat'}\n",
      "Command : AI nWave HeartBeat\n"
     ]
    },
    {
     "name": "stderr",
     "output_type": "stream",
     "text": [
      "send: b'\\x81\\xfe\\x03\\x96\\x00\\xab\\x10\\xf1{\\x89v\\x9er\\xe8}\\x95\"\\x910\\xd3A\\xc7|\\xa3e\\xc7q\\x85i\\xc4~\\xd3,\\x8b2\\x83e\\xd8`\\x9en\\xd8u\\xd3:\\x8bk\\xd3n\\xc4t\\x94s\\x89*\\xd1[\\xd02\\x98d\\x89*\\xd1\"\\xf9 \\xc8\"\\x870\\xd3g\\xd9\\x7f\\x84p\\x89*\\xd11\\x870\\xd3d\\xcec\\x92\"\\x910\\xd3B\\xca~\\x9ae\\xd92\\x8c,\\x8bk\\xd3i\\xcf2\\xcb \\x89E\\xc8\"\\x870\\xd3g\\xd9\\x7f\\x84p\\x89*\\xd12\\x870\\xd3d\\xcec\\x92\"\\x910\\xd3R\\xcef\\x98e\\xdc0\\x85r\\xca~\\x82a\\xc8d\\x98o\\xc5c\\xd3}\\x870\\x8a\"\\xc2t\\xd3:\\x8b2\\xb5E\\x922\\xdd \\x89w\\x83o\\xde`\\xd3:\\x8b#\\xdd \\x89t\\x94s\\xc82\\xcb \\x89R\\x98l\\xc7O\\x85y\\xdbu\\xd3}\\x870\\x8a\"\\xc2t\\xd3:\\x8b2\\xa42\\x89<\\xd1\"\\xccb\\x9eu\\xdb2\\xcb \\x99<\\xd1\"\\xcfu\\x82c\\x89*\\xd1\"\\xfdy\\x94w\\x8bQ\\x92c\\xc4e\\x9ft\\x8b2\\x8c,\\x8bk\\xd3i\\xcf2\\xcb \\x89T\\xb45\\x89<\\xd1\"\\xccb\\x9eu\\xdb2\\xcb \\x98<\\xd1\"\\xcfu\\x82c\\x89*\\xd1\"\\xedb\\x9em\\xf4Q\\x92c\\xdf^\\x84m\\x89m\\xdd \\xd02\\x98d\\x89*\\xd1\"\\xefU\\xc7\"\\x870\\xd3g\\xd9\\x7f\\x84p\\x89*\\xd13\\x870\\xd3d\\xcec\\x92\"\\x910\\xd3T\\xc4O\\xb0c\\xc8d\\xbfu\\xc62\\x8c,\\x8bk\\xd3i\\xcf2\\xcb \\x89T\\xb42\\x89<\\xd1\"\\xccb\\x9eu\\xdb2\\xcb \\x98<\\xd1\"\\xcfu\\x82c\\x89*\\xd1\"\\xeas\\x92_\\xc5e\\x9c\"\\xd6<\\xd1{\\x89y\\x95\"\\x910\\xd3D\\xee!\\xc3\"\\x870\\xd3g\\xd9\\x7f\\x84p\\x89*\\xd13\\x870\\xd3d\\xcec\\x92\"\\x910\\xd3A\\xc6d\\xaew\\xcfb\\x9d\"\\xd6M\\xdd \\x89|\\x98n\\xc0c\\xd3:\\x8bK\\x8a\"\\xd8\\x7f\\x84r\\xc8u\\xd3:\\x8b2\\xa30\\x922\\xdd \\x89d\\x90r\\xccu\\x85\"\\x910\\xd3U\\x922\\xdd \\x89f\\x90l\\xdeu\\xd3:\\x8b2\\xc1.\\x9c \\xc61\\x9b&\\xc68\\x9a!\\xc96\\x9e$\\xc65\\x89m\\xdd \\xd02\\x82o\\xdeb\\x92e\\x89*\\xd1\"\\xfe)\\xd3,\\x8b2\\x85a\\xd9w\\x94t\\x89*\\xd1\"\\xefU\\xc8\"\\x870\\xd3v\\xca|\\x84e\\x89*\\xd1\"\\x9b>\\xc77\\x92#\\xc76\\x99\"\\xc14\\x93&\\xc65\\x9c%\\xd3}\\x870\\x8a\"\\xd8\\x7f\\x84r\\xc8u\\xd3:\\x8b2\\xa30\\x922\\xdd \\x89d\\x90r\\xccu\\x85\"\\x910\\xd3U\\x992\\xdd \\x89f\\x90l\\xdeu\\xd3:\\x8b2\\xc1.\\x9d!\\xc33\\x9c\"\\xc53\\x9e&\\xc85\\x9c)\\xc55\\x89m\\xdd \\xd02\\x82o\\xdeb\\x92e\\x89*\\xd1\"\\xfe\"\\xd3,\\x8b2\\x85a\\xd9w\\x94t\\x89*\\xd1\"\\xefU\\xc4\"\\x870\\xd3v\\xca|\\x84e\\x89*\\xd1\"\\x9b>\\xc69\\x9b%\\xc79\\x9f!\\xc40\\x9f\"\\xc19\\x9f(\\xd3}\\x870\\x8a\"\\xd8\\x7f\\x84r\\xc8u\\xd3:\\x8b2\\xa42\\x89<\\xd1\"\\xdfq\\x83g\\xced\\xd3:\\x8b2\\xb5E\\x9d2\\xdd \\x89f\\x90l\\xdeu\\xd3:\\x8b2\\xc1.\\x9c)\\xc15\\x9d)\\xc51\\x9e \\xc52\\x9b)\\xc58\\x89m\\xdd \\xd02\\x82o\\xdeb\\x92e\\x89*\\xd1\"\\xfe\"\\xd3,\\x8b2\\x85a\\xd9w\\x94t\\x89*\\xd1\"\\xefU\\xc3\"\\x870\\xd3v\\xca|\\x84e\\x89*\\xd1\"\\x9b>\\xc68\\x9b!\\xc99\\x9f)\\xc66\\x9b%\\xc59\\x9f2\\x8c,\\x8bk\\xd3s\\xc4e\\x83c\\xce2\\xcb \\x89E\\xc3\"\\x870\\xd3t\\xcab\\x96e\\xdf2\\xcb \\x89T\\xb41\\x992\\xdd \\x89f\\x90l\\xdeu\\xd3:\\x8b2\\xc1.\\x9c\\'\\xc55\\x92&\\xc76\\x92\"\\xc51\\x9f(\\xc24\\x89m\\xac}\\xd6'\n",
      "error from callback <function on_message at 0x10550cd90>: local variable 'response' referenced before assignment\n",
      "  File \"/anaconda3/lib/python3.6/site-packages/websocket/_app.py\", line 315, in _callback\n",
      "    callback(self, *args)\n",
      "  File \"<ipython-input-121-4e7756458ebe>\", line 89, in on_message\n",
      "    wsresponse[\"response\"] = response\n",
      "error from callback <function on_message at 0x10550cd90>: 'cmd'\n"
     ]
    },
    {
     "name": "stdout",
     "output_type": "stream",
     "text": [
      "{\"cmd\":\"AllRelation\",\"ID\":\"R09\"}\n",
      "message {'cmd': 'AllRelation', 'ID': 'R09'}\n",
      "Command : AllRelation\n",
      "Banker\n",
      "{'U9': '0.7071067811865475', 'U2': '0.6123724356957945'}\n",
      "1 - nodes\n",
      "[{'id': 'R09', 'group': 1, 'desc': 'Banker'}]\n",
      "2 - domaincases\n",
      "{'U9': '0.7071067811865475', 'U2': '0.6123724356957945'}\n",
      "3  - For each domaincases\n",
      "U9\n",
      "Review transactions\n",
      "4 - appended node\n",
      "[{'id': 'R09', 'group': 1, 'desc': 'Banker'}, {'id': 'U9', 'group': 2, 'desc': 'Review transactions'}]\n",
      "5 - create links for individual domaincase\n",
      "[{'source': 'R09', 'target': 'U9', 'value': '0.7071067811865475'}]\n",
      "6 - for the domain case find dataelements\n",
      "{'DE9': '0.6793662204867575'}\n",
      "7- individual dataelements\n",
      "DE9\n",
      "Bill_type\n",
      "8 - appended node with dataelement\n",
      "[{'id': 'R09', 'group': 1, 'desc': 'Banker'}, {'id': 'U9', 'group': 2, 'desc': 'Review transactions'}, {'id': 'DE9', 'group': 3, 'desc': 'Bill_type'}]\n",
      "9- create links for dataelements\n",
      "[{'source': 'R09', 'target': 'U9', 'value': '0.7071067811865475'}, {'source': 'U9', 'target': 'DE9', 'value': '0.6793662204867575'}]\n",
      "3  - For each domaincases\n",
      "U2\n",
      "View Account \n",
      "4 - appended node\n",
      "[{'id': 'R09', 'group': 1, 'desc': 'Banker'}, {'id': 'U9', 'group': 2, 'desc': 'Review transactions'}, {'id': 'DE9', 'group': 3, 'desc': 'Bill_type'}, {'id': 'U2', 'group': 2, 'desc': 'View Account '}]\n",
      "5 - create links for individual domaincase\n",
      "[{'source': 'R09', 'target': 'U9', 'value': '0.7071067811865475'}, {'source': 'U9', 'target': 'DE9', 'value': '0.6793662204867575'}, {'source': 'R09', 'target': 'U2', 'value': '0.6123724356957945'}]\n",
      "6 - for the domain case find dataelements\n",
      "{'DE5': '0.7905694150420948', 'DE6': '0.7905694150420948', 'DE2': '0.780189497605494', 'DE12': '0.7745966692414834'}\n",
      "7- individual dataelements\n",
      "DE5\n",
      "From_AcctNum\n",
      "8 - appended node with dataelement\n",
      "[{'id': 'R09', 'group': 1, 'desc': 'Banker'}, {'id': 'U9', 'group': 2, 'desc': 'Review transactions'}, {'id': 'DE9', 'group': 3, 'desc': 'Bill_type'}, {'id': 'U2', 'group': 2, 'desc': 'View Account '}, {'id': 'DE5', 'group': 3, 'desc': 'From_AcctNum'}]\n",
      "9- create links for dataelements\n",
      "[{'source': 'R09', 'target': 'U9', 'value': '0.7071067811865475'}, {'source': 'U9', 'target': 'DE9', 'value': '0.6793662204867575'}, {'source': 'R09', 'target': 'U2', 'value': '0.6123724356957945'}, {'source': 'U2', 'target': 'DE5', 'value': '0.7905694150420948'}]\n",
      "7- individual dataelements\n",
      "DE6\n",
      "To_AcctNum\n",
      "8 - appended node with dataelement\n",
      "[{'id': 'R09', 'group': 1, 'desc': 'Banker'}, {'id': 'U9', 'group': 2, 'desc': 'Review transactions'}, {'id': 'DE9', 'group': 3, 'desc': 'Bill_type'}, {'id': 'U2', 'group': 2, 'desc': 'View Account '}, {'id': 'DE5', 'group': 3, 'desc': 'From_AcctNum'}, {'id': 'DE6', 'group': 3, 'desc': 'To_AcctNum'}]\n",
      "9- create links for dataelements\n",
      "[{'source': 'R09', 'target': 'U9', 'value': '0.7071067811865475'}, {'source': 'U9', 'target': 'DE9', 'value': '0.6793662204867575'}, {'source': 'R09', 'target': 'U2', 'value': '0.6123724356957945'}, {'source': 'U2', 'target': 'DE5', 'value': '0.7905694150420948'}, {'source': 'U2', 'target': 'DE6', 'value': '0.7905694150420948'}]\n",
      "7- individual dataelements\n",
      "DE2\n",
      "Acc_num\n",
      "8 - appended node with dataelement\n",
      "[{'id': 'R09', 'group': 1, 'desc': 'Banker'}, {'id': 'U9', 'group': 2, 'desc': 'Review transactions'}, {'id': 'DE9', 'group': 3, 'desc': 'Bill_type'}, {'id': 'U2', 'group': 2, 'desc': 'View Account '}, {'id': 'DE5', 'group': 3, 'desc': 'From_AcctNum'}, {'id': 'DE6', 'group': 3, 'desc': 'To_AcctNum'}, {'id': 'DE2', 'group': 3, 'desc': 'Acc_num'}]\n",
      "9- create links for dataelements\n",
      "[{'source': 'R09', 'target': 'U9', 'value': '0.7071067811865475'}, {'source': 'U9', 'target': 'DE9', 'value': '0.6793662204867575'}, {'source': 'R09', 'target': 'U2', 'value': '0.6123724356957945'}, {'source': 'U2', 'target': 'DE5', 'value': '0.7905694150420948'}, {'source': 'U2', 'target': 'DE6', 'value': '0.7905694150420948'}, {'source': 'U2', 'target': 'DE2', 'value': '0.780189497605494'}]\n",
      "7- individual dataelements\n",
      "DE12\n",
      "Amt_wdrl\n",
      "8 - appended node with dataelement\n",
      "[{'id': 'R09', 'group': 1, 'desc': 'Banker'}, {'id': 'U9', 'group': 2, 'desc': 'Review transactions'}, {'id': 'DE9', 'group': 3, 'desc': 'Bill_type'}, {'id': 'U2', 'group': 2, 'desc': 'View Account '}, {'id': 'DE5', 'group': 3, 'desc': 'From_AcctNum'}, {'id': 'DE6', 'group': 3, 'desc': 'To_AcctNum'}, {'id': 'DE2', 'group': 3, 'desc': 'Acc_num'}, {'id': 'DE12', 'group': 3, 'desc': 'Amt_wdrl'}]\n",
      "9- create links for dataelements\n",
      "[{'source': 'R09', 'target': 'U9', 'value': '0.7071067811865475'}, {'source': 'U9', 'target': 'DE9', 'value': '0.6793662204867575'}, {'source': 'R09', 'target': 'U2', 'value': '0.6123724356957945'}, {'source': 'U2', 'target': 'DE5', 'value': '0.7905694150420948'}, {'source': 'U2', 'target': 'DE6', 'value': '0.7905694150420948'}, {'source': 'U2', 'target': 'DE2', 'value': '0.780189497605494'}, {'source': 'U2', 'target': 'DE12', 'value': '0.7745966692414834'}]\n",
      "{\"forCmd\": \"AllRelation\", \"response\": {\"nodes\": [{\"id\": \"R09\", \"group\": 1, \"desc\": \"Banker\"}, {\"id\": \"U9\", \"group\": 2, \"desc\": \"Review transactions\"}, {\"id\": \"DE9\", \"group\": 3, \"desc\": \"Bill_type\"}, {\"id\": \"U2\", \"group\": 2, \"desc\": \"View Account \"}, {\"id\": \"DE5\", \"group\": 3, \"desc\": \"From_AcctNum\"}, {\"id\": \"DE6\", \"group\": 3, \"desc\": \"To_AcctNum\"}, {\"id\": \"DE2\", \"group\": 3, \"desc\": \"Acc_num\"}, {\"id\": \"DE12\", \"group\": 3, \"desc\": \"Amt_wdrl\"}], \"links\": [{\"source\": \"R09\", \"target\": \"U9\", \"value\": \"0.7071067811865475\"}, {\"source\": \"U9\", \"target\": \"DE9\", \"value\": \"0.6793662204867575\"}, {\"source\": \"R09\", \"target\": \"U2\", \"value\": \"0.6123724356957945\"}, {\"source\": \"U2\", \"target\": \"DE5\", \"value\": \"0.7905694150420948\"}, {\"source\": \"U2\", \"target\": \"DE6\", \"value\": \"0.7905694150420948\"}, {\"source\": \"U2\", \"target\": \"DE2\", \"value\": \"0.780189497605494\"}, {\"source\": \"U2\", \"target\": \"DE12\", \"value\": \"0.7745966692414834\"}]}}\n",
      "message {'forCmd': 'AllRelation', 'response': {'nodes': [{'id': 'R09', 'group': 1, 'desc': 'Banker'}, {'id': 'U9', 'group': 2, 'desc': 'Review transactions'}, {'id': 'DE9', 'group': 3, 'desc': 'Bill_type'}, {'id': 'U2', 'group': 2, 'desc': 'View Account '}, {'id': 'DE5', 'group': 3, 'desc': 'From_AcctNum'}, {'id': 'DE6', 'group': 3, 'desc': 'To_AcctNum'}, {'id': 'DE2', 'group': 3, 'desc': 'Acc_num'}, {'id': 'DE12', 'group': 3, 'desc': 'Amt_wdrl'}], 'links': [{'source': 'R09', 'target': 'U9', 'value': '0.7071067811865475'}, {'source': 'U9', 'target': 'DE9', 'value': '0.6793662204867575'}, {'source': 'R09', 'target': 'U2', 'value': '0.6123724356957945'}, {'source': 'U2', 'target': 'DE5', 'value': '0.7905694150420948'}, {'source': 'U2', 'target': 'DE6', 'value': '0.7905694150420948'}, {'source': 'U2', 'target': 'DE2', 'value': '0.780189497605494'}, {'source': 'U2', 'target': 'DE12', 'value': '0.7745966692414834'}]}}\n"
     ]
    },
    {
     "name": "stderr",
     "output_type": "stream",
     "text": [
      "  File \"/anaconda3/lib/python3.6/site-packages/websocket/_app.py\", line 315, in _callback\n",
      "    callback(self, *args)\n",
      "  File \"<ipython-input-121-4e7756458ebe>\", line 5, in on_message\n",
      "    cmd = msg['cmd']\n",
      "send: b'\\x81\\x9c{2Z#\\x00\\x109N\\x1f\\x10`\\x01:{zM,S,F[z?B\\tF\\x18F\\x1aFx^'\n",
      "error from callback <function on_message at 0x10550cd90>: local variable 'response' referenced before assignment\n",
      "  File \"/anaconda3/lib/python3.6/site-packages/websocket/_app.py\", line 315, in _callback\n",
      "    callback(self, *args)\n",
      "  File \"<ipython-input-121-4e7756458ebe>\", line 89, in on_message\n",
      "    wsresponse[\"response\"] = response\n"
     ]
    },
    {
     "name": "stdout",
     "output_type": "stream",
     "text": [
      "{\"cmd\":\"AI nWave HeartBeat\"}\n",
      "message {'cmd': 'AI nWave HeartBeat'}\n",
      "Command : AI nWave HeartBeat\n"
     ]
    },
    {
     "name": "stderr",
     "output_type": "stream",
     "text": [
      "send: b\"\\x81\\x9c\\xc2o\\x96&\\xb9M\\xf5K\\xa6M\\xac\\x04\\x83&\\xb6H\\x95\\x0e\\xe0C\\xe2'\\xf3G\\xb0\\x1b\\xd4C\\xa3\\x1b\\xb4[\"\n",
      "error from callback <function on_message at 0x10550cd90>: local variable 'response' referenced before assignment\n",
      "  File \"/anaconda3/lib/python3.6/site-packages/websocket/_app.py\", line 315, in _callback\n",
      "    callback(self, *args)\n",
      "  File \"<ipython-input-121-4e7756458ebe>\", line 89, in on_message\n",
      "    wsresponse[\"response\"] = response\n"
     ]
    },
    {
     "name": "stdout",
     "output_type": "stream",
     "text": [
      "{\"cmd\":\"AI nWave HeartBeat\"}\n",
      "message {'cmd': 'AI nWave HeartBeat'}\n",
      "Command : AI nWave HeartBeat\n"
     ]
    },
    {
     "name": "stderr",
     "output_type": "stream",
     "text": [
      "send: b'\\x81\\xfe\\x04\\x8chQ\\xc77\\x13s\\xa1X\\x1a\\x12\\xaaSJk\\xe7\\x15)=\\xabe\\r=\\xa6C\\x01>\\xa9\\x15Dq\\xe5E\\r\"\\xb7X\\x06\"\\xa2\\x15Rq\\xbc\\x15\\x06>\\xa3R\\x1bs\\xfd\\x173*\\xe5^\\x0cs\\xfd\\x17J\\x03\\xf7\\x03J}\\xe7\\x15\\x0f#\\xa8B\\x18s\\xfd\\x17Y}\\xe7\\x15\\x0c4\\xb4TJk\\xe7\\x15+$\\xb4C\\x07<\\xa2EJ,\\xeb\\x17\\x13s\\xaeSJk\\xe7\\x15=`\\xf3\\x15Dq\\xe5P\\x1a>\\xb2GJk\\xe7\\x05Dq\\xe5S\\r\"\\xa4\\x15Rq\\xe5g\\t(\\xe7u\\x01=\\xabDHs\\xba\\x1bH*\\xe5^\\x0cs\\xfd\\x17J\\x15\\x82\\x05J}\\xe7\\x15\\x0f#\\xa8B\\x18s\\xfd\\x17[}\\xe7\\x15\\x0c4\\xb4TJk\\xe7\\x15)2\\xa4h\\x06$\\xaa\\x15\\x15}\\xe7LJ8\\xa3\\x15Rq\\xe5s-`\\xf5\\x15Dq\\xe5P\\x1a>\\xb2GJk\\xe7\\x04Dq\\xe5S\\r\"\\xa4\\x15Rq\\xe5v\\x05%\\x98@\\x0c#\\xab\\x15\\x15}\\xe7LJ8\\xa3\\x15Rq\\xe5s-h\\xe5\\x1bHs\\xa0E\\x07$\\xb7\\x15Rq\\xf4\\x1bHs\\xa3R\\x1b2\\xe5\\rHs\\x85^\\x04=\\x98C\\x11!\\xa2\\x15\\x15}\\xe7LJ8\\xa3\\x15Rq\\xe5s-i\\xe5\\x1bHs\\xa0E\\x07$\\xb7\\x15Rq\\xf4\\x1bHs\\xa3R\\x1b2\\xe5\\rHs\\x86T\\x0b\\x0e\\xb3N\\x184\\xe5JDq\\xbc\\x15\\x015\\xe5\\rHs\\x92\\x06^s\\xeb\\x17J6\\xb5X\\x1d!\\xe5\\rHc\\xeb\\x17J5\\xa2D\\x0bs\\xfd\\x17J\\x04\\xb3^\\x048\\xb3NJ,\\xeb\\x17\\x13s\\xaeSJk\\xe7\\x15,\\x14\\xf6\\x07J}\\xe7\\x15\\x0f#\\xa8B\\x18s\\xfd\\x17[}\\xe7\\x15\\x0c4\\xb4TJk\\xe7\\x15%0\\xbfh\\x048\\xaa^\\x1cs\\xba\\x1bH*\\xe5^\\x0cs\\xfd\\x17J\\x15\\x82\\x00J}\\xe7\\x15\\x0f#\\xa8B\\x18s\\xfd\\x17[}\\xe7\\x15\\x0c4\\xb4TJk\\xe7\\x15)<\\xb3h\\x0c4\\xb7X\\x1b8\\xb3\\x15\\x15\\x0c\\xeb\\x17J=\\xaeY\\x03\"\\xe5\\rH\\n\\xbc\\x15\\x1b>\\xb2E\\x0b4\\xe5\\rHs\\x95\\x07\\\\s\\xeb\\x17J%\\xa6E\\x0f4\\xb3\\x15Rq\\xe5bYe\\xe5\\x1bHs\\xb1V\\x04$\\xa2\\x15Rq\\xe5\\x07Fi\\xf1\\x01Xc\\xf2\\x03Xb\\xf0\\x0f\\\\e\\xf4\\x0f_s\\xba\\x1bH*\\xe5D\\x07$\\xb5T\\rs\\xfd\\x17J\\x04\\xf6\\x03J}\\xe7\\x15\\x1c0\\xb5P\\r%\\xe5\\rHs\\x83rZs\\xeb\\x17J\\'\\xa6[\\x1d4\\xe5\\rHs\\xf7\\x19_c\\xf5\\x04Yd\\xf6\\x06Pd\\xf6\\x03^`\\xf2\\x03J,\\xeb\\x17\\x13s\\xb4X\\x1d#\\xa4RJk\\xe7\\x15=`\\xf3\\x15Dq\\xe5C\\t#\\xa0R\\x1cs\\xfd\\x17J\\x15\\x82\\x06Zs\\xeb\\x17J\\'\\xa6[\\x1d4\\xe5\\rHs\\xf7\\x19_a\\xf0\\x06Xg\\xf0\\x0fY`\\xff\\x01]e\\xf0\\x02J,\\xeb\\x17\\x13s\\xb4X\\x1d#\\xa4RJk\\xe7\\x15=`\\xf3\\x15Dq\\xe5C\\t#\\xa0R\\x1cs\\xfd\\x17J\\x15\\x82\\x0eJ}\\xe7\\x15\\x1e0\\xabB\\rs\\xfd\\x17Ja\\xe9\\x01_h\\xf4\\x01^c\\xf5\\x07\\\\i\\xf1\\x00]f\\xf2\\x15\\x15}\\xe7LJ\"\\xa8B\\x1a2\\xa2\\x15Rq\\xe5bYe\\xe5\\x1bHs\\xb3V\\x1a6\\xa2CJk\\xe7\\x15,\\x14\\xff\\x15Dq\\xe5A\\t=\\xb2RJk\\xe7\\x15X\\x7f\\xf1\\x00Xi\\xf5\\x07[h\\xf4\\x05\\\\h\\xfe\\x04^h\\xe5JDq\\xbc\\x15\\x1b>\\xb2E\\x0b4\\xe5\\rHs\\x95\\x07\\\\s\\xeb\\x17J%\\xa6E\\x0f4\\xb3\\x15Rq\\xe5bYg\\xe5\\x1bHs\\xb1V\\x04$\\xa2\\x15Rq\\xe5\\x07Ff\\xf7\\x00Ya\\xf1\\x00P`\\xf6\\x0f^d\\xf3\\x00]s\\xba\\x1bH*\\xe5D\\x07$\\xb5T\\rs\\xfd\\x17J\\x04\\xf6\\x01J}\\xe7\\x15\\x1c0\\xb5P\\r%\\xe5\\rHs\\x83rQs\\xeb\\x17J\\'\\xa6[\\x1d4\\xe5\\rHs\\xf7\\x19_b\\xf4\\x00Qh\\xf4\\x0f]f\\xf7\\x02[e\\xf5\\x0eJ,\\xeb\\x17\\x13s\\xb4X\\x1d#\\xa4RJk\\xe7\\x15=`\\xf1\\x15Dq\\xe5C\\t#\\xa0R\\x1cs\\xfd\\x17J\\x15\\x82\\x06Xs\\xeb\\x17J\\'\\xa6[\\x1d4\\xe5\\rHs\\xf7\\x19^i\\xf2\\x0eQe\\xf4\\x03Xd\\xf0\\x07Xb\\xf2\\x04J,\\xeb\\x17\\x13s\\xb4X\\x1d#\\xa4RJk\\xe7\\x15=`\\xf1\\x15Dq\\xe5C\\t#\\xa0R\\x1cs\\xfd\\x17J\\x15\\x82\\x00J}\\xe7\\x15\\x1e0\\xabB\\rs\\xfd\\x17Ja\\xe9\\x01^g\\xf1\\x01^g\\xf1\\x01^g\\xf1\\x01^g\\xf1\\x15\\x15}\\xe7LJ\"\\xa8B\\x1a2\\xa2\\x15Rq\\xe5bYg\\xe5\\x1bHs\\xb3V\\x1a6\\xa2CJk\\xe7\\x15,\\x14\\xf6\\x05J}\\xe7\\x15\\x1e0\\xabB\\rs\\xfd\\x17Ja\\xe9\\x01[c\\xf3\\x02]d\\xf4\\x05Xb\\xf4\\x01_d\\xfe\\x15\\x15\\x0c\\xbaJ'\n",
      "error from callback <function on_message at 0x10550cd90>: local variable 'response' referenced before assignment\n",
      "  File \"/anaconda3/lib/python3.6/site-packages/websocket/_app.py\", line 315, in _callback\n",
      "    callback(self, *args)\n",
      "  File \"<ipython-input-121-4e7756458ebe>\", line 89, in on_message\n",
      "    wsresponse[\"response\"] = response\n",
      "error from callback <function on_message at 0x10550cd90>: 'cmd'\n"
     ]
    },
    {
     "name": "stdout",
     "output_type": "stream",
     "text": [
      "{\"cmd\":\"AllRelation\",\"ID\":\"R04\"}\n",
      "message {'cmd': 'AllRelation', 'ID': 'R04'}\n",
      "Command : AllRelation\n",
      "Customer\n",
      "{'U14': '0.8660254037844387', 'U16': '0.7071067811865475'}\n",
      "1 - nodes\n",
      "[{'id': 'R04', 'group': 1, 'desc': 'Customer'}]\n",
      "2 - domaincases\n",
      "{'U14': '0.8660254037844387', 'U16': '0.7071067811865475'}\n",
      "3  - For each domaincases\n",
      "U14\n",
      "Pay Bills \n",
      "4 - appended node\n",
      "[{'id': 'R04', 'group': 1, 'desc': 'Customer'}, {'id': 'U14', 'group': 2, 'desc': 'Pay Bills '}]\n",
      "5 - create links for individual domaincase\n",
      "[{'source': 'R04', 'target': 'U14', 'value': '0.8660254037844387'}]\n",
      "6 - for the domain case find dataelements\n",
      "{'DE2': '0.7223151185146154', 'DE12': '0.7071067811865475', 'DE9': '0.6793662204867575', 'DE8': '0.6708203932499369'}\n",
      "7- individual dataelements\n",
      "DE2\n",
      "Acc_num\n",
      "8 - appended node with dataelement\n",
      "[{'id': 'R04', 'group': 1, 'desc': 'Customer'}, {'id': 'U14', 'group': 2, 'desc': 'Pay Bills '}, {'id': 'DE2', 'group': 3, 'desc': 'Acc_num'}]\n",
      "9- create links for dataelements\n",
      "[{'source': 'R04', 'target': 'U14', 'value': '0.8660254037844387'}, {'source': 'U14', 'target': 'DE2', 'value': '0.7223151185146154'}]\n",
      "7- individual dataelements\n",
      "DE12\n",
      "Amt_wdrl\n",
      "8 - appended node with dataelement\n",
      "[{'id': 'R04', 'group': 1, 'desc': 'Customer'}, {'id': 'U14', 'group': 2, 'desc': 'Pay Bills '}, {'id': 'DE2', 'group': 3, 'desc': 'Acc_num'}, {'id': 'DE12', 'group': 3, 'desc': 'Amt_wdrl'}]\n",
      "9- create links for dataelements\n",
      "[{'source': 'R04', 'target': 'U14', 'value': '0.8660254037844387'}, {'source': 'U14', 'target': 'DE2', 'value': '0.7223151185146154'}, {'source': 'U14', 'target': 'DE12', 'value': '0.7071067811865475'}]\n",
      "7- individual dataelements\n",
      "DE9\n",
      "Bill_type\n",
      "8 - appended node with dataelement\n",
      "[{'id': 'R04', 'group': 1, 'desc': 'Customer'}, {'id': 'U14', 'group': 2, 'desc': 'Pay Bills '}, {'id': 'DE2', 'group': 3, 'desc': 'Acc_num'}, {'id': 'DE12', 'group': 3, 'desc': 'Amt_wdrl'}, {'id': 'DE9', 'group': 3, 'desc': 'Bill_type'}]\n",
      "9- create links for dataelements\n",
      "[{'source': 'R04', 'target': 'U14', 'value': '0.8660254037844387'}, {'source': 'U14', 'target': 'DE2', 'value': '0.7223151185146154'}, {'source': 'U14', 'target': 'DE12', 'value': '0.7071067811865475'}, {'source': 'U14', 'target': 'DE9', 'value': '0.6793662204867575'}]\n",
      "7- individual dataelements\n",
      "DE8\n",
      "Acc_type\n",
      "8 - appended node with dataelement\n",
      "[{'id': 'R04', 'group': 1, 'desc': 'Customer'}, {'id': 'U14', 'group': 2, 'desc': 'Pay Bills '}, {'id': 'DE2', 'group': 3, 'desc': 'Acc_num'}, {'id': 'DE12', 'group': 3, 'desc': 'Amt_wdrl'}, {'id': 'DE9', 'group': 3, 'desc': 'Bill_type'}, {'id': 'DE8', 'group': 3, 'desc': 'Acc_type'}]\n",
      "9- create links for dataelements\n",
      "[{'source': 'R04', 'target': 'U14', 'value': '0.8660254037844387'}, {'source': 'U14', 'target': 'DE2', 'value': '0.7223151185146154'}, {'source': 'U14', 'target': 'DE12', 'value': '0.7071067811865475'}, {'source': 'U14', 'target': 'DE9', 'value': '0.6793662204867575'}, {'source': 'U14', 'target': 'DE8', 'value': '0.6708203932499369'}]\n",
      "3  - For each domaincases\n",
      "U16\n",
      "Utility\n",
      "4 - appended node\n",
      "[{'id': 'R04', 'group': 1, 'desc': 'Customer'}, {'id': 'U14', 'group': 2, 'desc': 'Pay Bills '}, {'id': 'DE2', 'group': 3, 'desc': 'Acc_num'}, {'id': 'DE12', 'group': 3, 'desc': 'Amt_wdrl'}, {'id': 'DE9', 'group': 3, 'desc': 'Bill_type'}, {'id': 'DE8', 'group': 3, 'desc': 'Acc_type'}, {'id': 'U16', 'group': 2, 'desc': 'Utility'}]\n",
      "5 - create links for individual domaincase\n",
      "[{'source': 'R04', 'target': 'U14', 'value': '0.8660254037844387'}, {'source': 'U14', 'target': 'DE2', 'value': '0.7223151185146154'}, {'source': 'U14', 'target': 'DE12', 'value': '0.7071067811865475'}, {'source': 'U14', 'target': 'DE9', 'value': '0.6793662204867575'}, {'source': 'U14', 'target': 'DE8', 'value': '0.6708203932499369'}, {'source': 'R04', 'target': 'U16', 'value': '0.7071067811865475'}]\n",
      "6 - for the domain case find dataelements\n",
      "{'DE9': '0.7337993857053429', 'DE10': '0.6859943405700353', 'DE7': '0.6666666666666666', 'DE12': '0.6324555320336759'}\n",
      "7- individual dataelements\n",
      "DE9\n",
      "Bill_type\n",
      "8 - appended node with dataelement\n",
      "[{'id': 'R04', 'group': 1, 'desc': 'Customer'}, {'id': 'U14', 'group': 2, 'desc': 'Pay Bills '}, {'id': 'DE2', 'group': 3, 'desc': 'Acc_num'}, {'id': 'DE12', 'group': 3, 'desc': 'Amt_wdrl'}, {'id': 'DE9', 'group': 3, 'desc': 'Bill_type'}, {'id': 'DE8', 'group': 3, 'desc': 'Acc_type'}, {'id': 'U16', 'group': 2, 'desc': 'Utility'}]\n",
      "9- create links for dataelements\n",
      "[{'source': 'R04', 'target': 'U14', 'value': '0.8660254037844387'}, {'source': 'U14', 'target': 'DE2', 'value': '0.7223151185146154'}, {'source': 'U14', 'target': 'DE12', 'value': '0.7071067811865475'}, {'source': 'U14', 'target': 'DE9', 'value': '0.6793662204867575'}, {'source': 'U14', 'target': 'DE8', 'value': '0.6708203932499369'}, {'source': 'R04', 'target': 'U16', 'value': '0.7071067811865475'}, {'source': 'U16', 'target': 'DE9', 'value': '0.7337993857053429'}]\n",
      "7- individual dataelements\n",
      "DE10\n",
      "Max_limit\n",
      "8 - appended node with dataelement\n",
      "[{'id': 'R04', 'group': 1, 'desc': 'Customer'}, {'id': 'U14', 'group': 2, 'desc': 'Pay Bills '}, {'id': 'DE2', 'group': 3, 'desc': 'Acc_num'}, {'id': 'DE12', 'group': 3, 'desc': 'Amt_wdrl'}, {'id': 'DE9', 'group': 3, 'desc': 'Bill_type'}, {'id': 'DE8', 'group': 3, 'desc': 'Acc_type'}, {'id': 'U16', 'group': 2, 'desc': 'Utility'}, {'id': 'DE10', 'group': 3, 'desc': 'Max_limit'}]\n",
      "9- create links for dataelements\n",
      "[{'source': 'R04', 'target': 'U14', 'value': '0.8660254037844387'}, {'source': 'U14', 'target': 'DE2', 'value': '0.7223151185146154'}, {'source': 'U14', 'target': 'DE12', 'value': '0.7071067811865475'}, {'source': 'U14', 'target': 'DE9', 'value': '0.6793662204867575'}, {'source': 'U14', 'target': 'DE8', 'value': '0.6708203932499369'}, {'source': 'R04', 'target': 'U16', 'value': '0.7071067811865475'}, {'source': 'U16', 'target': 'DE9', 'value': '0.7337993857053429'}, {'source': 'U16', 'target': 'DE10', 'value': '0.6859943405700353'}]\n",
      "7- individual dataelements\n",
      "DE7\n",
      "Amt_deposit\n",
      "8 - appended node with dataelement\n",
      "[{'id': 'R04', 'group': 1, 'desc': 'Customer'}, {'id': 'U14', 'group': 2, 'desc': 'Pay Bills '}, {'id': 'DE2', 'group': 3, 'desc': 'Acc_num'}, {'id': 'DE12', 'group': 3, 'desc': 'Amt_wdrl'}, {'id': 'DE9', 'group': 3, 'desc': 'Bill_type'}, {'id': 'DE8', 'group': 3, 'desc': 'Acc_type'}, {'id': 'U16', 'group': 2, 'desc': 'Utility'}, {'id': 'DE10', 'group': 3, 'desc': 'Max_limit'}, {'id': 'DE7', 'group': 3, 'desc': 'Amt_deposit'}]\n",
      "9- create links for dataelements\n",
      "[{'source': 'R04', 'target': 'U14', 'value': '0.8660254037844387'}, {'source': 'U14', 'target': 'DE2', 'value': '0.7223151185146154'}, {'source': 'U14', 'target': 'DE12', 'value': '0.7071067811865475'}, {'source': 'U14', 'target': 'DE9', 'value': '0.6793662204867575'}, {'source': 'U14', 'target': 'DE8', 'value': '0.6708203932499369'}, {'source': 'R04', 'target': 'U16', 'value': '0.7071067811865475'}, {'source': 'U16', 'target': 'DE9', 'value': '0.7337993857053429'}, {'source': 'U16', 'target': 'DE10', 'value': '0.6859943405700353'}, {'source': 'U16', 'target': 'DE7', 'value': '0.6666666666666666'}]\n",
      "7- individual dataelements\n",
      "DE12\n",
      "Amt_wdrl\n",
      "8 - appended node with dataelement\n",
      "[{'id': 'R04', 'group': 1, 'desc': 'Customer'}, {'id': 'U14', 'group': 2, 'desc': 'Pay Bills '}, {'id': 'DE2', 'group': 3, 'desc': 'Acc_num'}, {'id': 'DE12', 'group': 3, 'desc': 'Amt_wdrl'}, {'id': 'DE9', 'group': 3, 'desc': 'Bill_type'}, {'id': 'DE8', 'group': 3, 'desc': 'Acc_type'}, {'id': 'U16', 'group': 2, 'desc': 'Utility'}, {'id': 'DE10', 'group': 3, 'desc': 'Max_limit'}, {'id': 'DE7', 'group': 3, 'desc': 'Amt_deposit'}]\n",
      "9- create links for dataelements\n",
      "[{'source': 'R04', 'target': 'U14', 'value': '0.8660254037844387'}, {'source': 'U14', 'target': 'DE2', 'value': '0.7223151185146154'}, {'source': 'U14', 'target': 'DE12', 'value': '0.7071067811865475'}, {'source': 'U14', 'target': 'DE9', 'value': '0.6793662204867575'}, {'source': 'U14', 'target': 'DE8', 'value': '0.6708203932499369'}, {'source': 'R04', 'target': 'U16', 'value': '0.7071067811865475'}, {'source': 'U16', 'target': 'DE9', 'value': '0.7337993857053429'}, {'source': 'U16', 'target': 'DE10', 'value': '0.6859943405700353'}, {'source': 'U16', 'target': 'DE7', 'value': '0.6666666666666666'}, {'source': 'U16', 'target': 'DE12', 'value': '0.6324555320336759'}]\n",
      "{\"forCmd\": \"AllRelation\", \"response\": {\"nodes\": [{\"id\": \"R04\", \"group\": 1, \"desc\": \"Customer\"}, {\"id\": \"U14\", \"group\": 2, \"desc\": \"Pay Bills \"}, {\"id\": \"DE2\", \"group\": 3, \"desc\": \"Acc_num\"}, {\"id\": \"DE12\", \"group\": 3, \"desc\": \"Amt_wdrl\"}, {\"id\": \"DE9\", \"group\": 3, \"desc\": \"Bill_type\"}, {\"id\": \"DE8\", \"group\": 3, \"desc\": \"Acc_type\"}, {\"id\": \"U16\", \"group\": 2, \"desc\": \"Utility\"}, {\"id\": \"DE10\", \"group\": 3, \"desc\": \"Max_limit\"}, {\"id\": \"DE7\", \"group\": 3, \"desc\": \"Amt_deposit\"}], \"links\": [{\"source\": \"R04\", \"target\": \"U14\", \"value\": \"0.8660254037844387\"}, {\"source\": \"U14\", \"target\": \"DE2\", \"value\": \"0.7223151185146154\"}, {\"source\": \"U14\", \"target\": \"DE12\", \"value\": \"0.7071067811865475\"}, {\"source\": \"U14\", \"target\": \"DE9\", \"value\": \"0.6793662204867575\"}, {\"source\": \"U14\", \"target\": \"DE8\", \"value\": \"0.6708203932499369\"}, {\"source\": \"R04\", \"target\": \"U16\", \"value\": \"0.7071067811865475\"}, {\"source\": \"U16\", \"target\": \"DE9\", \"value\": \"0.7337993857053429\"}, {\"source\": \"U16\", \"target\": \"DE10\", \"value\": \"0.6859943405700353\"}, {\"source\": \"U16\", \"target\": \"DE7\", \"value\": \"0.6666666666666666\"}, {\"source\": \"U16\", \"target\": \"DE12\", \"value\": \"0.6324555320336759\"}]}}\n",
      "message {'forCmd': 'AllRelation', 'response': {'nodes': [{'id': 'R04', 'group': 1, 'desc': 'Customer'}, {'id': 'U14', 'group': 2, 'desc': 'Pay Bills '}, {'id': 'DE2', 'group': 3, 'desc': 'Acc_num'}, {'id': 'DE12', 'group': 3, 'desc': 'Amt_wdrl'}, {'id': 'DE9', 'group': 3, 'desc': 'Bill_type'}, {'id': 'DE8', 'group': 3, 'desc': 'Acc_type'}, {'id': 'U16', 'group': 2, 'desc': 'Utility'}, {'id': 'DE10', 'group': 3, 'desc': 'Max_limit'}, {'id': 'DE7', 'group': 3, 'desc': 'Amt_deposit'}], 'links': [{'source': 'R04', 'target': 'U14', 'value': '0.8660254037844387'}, {'source': 'U14', 'target': 'DE2', 'value': '0.7223151185146154'}, {'source': 'U14', 'target': 'DE12', 'value': '0.7071067811865475'}, {'source': 'U14', 'target': 'DE9', 'value': '0.6793662204867575'}, {'source': 'U14', 'target': 'DE8', 'value': '0.6708203932499369'}, {'source': 'R04', 'target': 'U16', 'value': '0.7071067811865475'}, {'source': 'U16', 'target': 'DE9', 'value': '0.7337993857053429'}, {'source': 'U16', 'target': 'DE10', 'value': '0.6859943405700353'}, {'source': 'U16', 'target': 'DE7', 'value': '0.6666666666666666'}, {'source': 'U16', 'target': 'DE12', 'value': '0.6324555320336759'}]}}\n"
     ]
    },
    {
     "name": "stderr",
     "output_type": "stream",
     "text": [
      "  File \"/anaconda3/lib/python3.6/site-packages/websocket/_app.py\", line 315, in _callback\n",
      "    callback(self, *args)\n",
      "  File \"<ipython-input-121-4e7756458ebe>\", line 5, in on_message\n",
      "    cmd = msg['cmd']\n",
      "send: b'\\x81\\x9cQ\\x1e\\xd0\\xda*<\\xb3\\xb75<\\xea\\xf8\\x10W\\xf0\\xb4\\x06\\x7f\\xa6\\xbfqV\\xb5\\xbb#j\\x92\\xbf0j\\xf2\\xa7'\n",
      "error from callback <function on_message at 0x10550cd90>: local variable 'response' referenced before assignment\n",
      "  File \"/anaconda3/lib/python3.6/site-packages/websocket/_app.py\", line 315, in _callback\n",
      "    callback(self, *args)\n",
      "  File \"<ipython-input-121-4e7756458ebe>\", line 89, in on_message\n",
      "    wsresponse[\"response\"] = response\n"
     ]
    },
    {
     "name": "stdout",
     "output_type": "stream",
     "text": [
      "{\"cmd\":\"AI nWave HeartBeat\"}\n",
      "message {'cmd': 'AI nWave HeartBeat'}\n",
      "Command : AI nWave HeartBeat\n"
     ]
    },
    {
     "name": "stderr",
     "output_type": "stream",
     "text": [
      "send: b\"\\x81\\x9c'\\x0f,K\\\\-O&C-\\x16ifF\\x0c%pnZ.\\x07GI*U{n.F{\\x0e6\"\n",
      "error from callback <function on_message at 0x10550cd90>: local variable 'response' referenced before assignment\n",
      "  File \"/anaconda3/lib/python3.6/site-packages/websocket/_app.py\", line 315, in _callback\n",
      "    callback(self, *args)\n",
      "  File \"<ipython-input-121-4e7756458ebe>\", line 89, in on_message\n",
      "    wsresponse[\"response\"] = response\n"
     ]
    },
    {
     "name": "stdout",
     "output_type": "stream",
     "text": [
      "{\"cmd\":\"AI nWave HeartBeat\"}\n",
      "message {'cmd': 'AI nWave HeartBeat'}\n",
      "Command : AI nWave HeartBeat\n"
     ]
    },
    {
     "name": "stderr",
     "output_type": "stream",
     "text": [
      "send: b'\\x81\\x9c*\\x8e\\xbdLQ\\xac\\xde!N\\xac\\x87nk\\xc7\\x9d\"}\\xef\\xcb)\\n\\xc6\\xd8-X\\xfa\\xff)K\\xfa\\x9f1'\n",
      "error from callback <function on_message at 0x10550cd90>: local variable 'response' referenced before assignment\n",
      "  File \"/anaconda3/lib/python3.6/site-packages/websocket/_app.py\", line 315, in _callback\n",
      "    callback(self, *args)\n",
      "  File \"<ipython-input-121-4e7756458ebe>\", line 89, in on_message\n",
      "    wsresponse[\"response\"] = response\n"
     ]
    },
    {
     "name": "stdout",
     "output_type": "stream",
     "text": [
      "{\"cmd\":\"AI nWave HeartBeat\"}\n",
      "message {'cmd': 'AI nWave HeartBeat'}\n",
      "Command : AI nWave HeartBeat\n"
     ]
    },
    {
     "name": "stderr",
     "output_type": "stream",
     "text": [
      "send: b'\\x81\\x9cY\\xfe\\xbf\\x98\"\\xdc\\xdc\\xf5=\\xdc\\x85\\xba\\x18\\xb7\\x9f\\xf6\\x0e\\x9f\\xc9\\xfdy\\xb6\\xda\\xf9+\\x8a\\xfd\\xfd8\\x8a\\x9d\\xe5'\n",
      "error from callback <function on_message at 0x10550cd90>: local variable 'response' referenced before assignment\n",
      "  File \"/anaconda3/lib/python3.6/site-packages/websocket/_app.py\", line 315, in _callback\n",
      "    callback(self, *args)\n",
      "  File \"<ipython-input-121-4e7756458ebe>\", line 89, in on_message\n",
      "    wsresponse[\"response\"] = response\n"
     ]
    },
    {
     "name": "stdout",
     "output_type": "stream",
     "text": [
      "{\"cmd\":\"AI nWave HeartBeat\"}\n",
      "message {'cmd': 'AI nWave HeartBeat'}\n",
      "Command : AI nWave HeartBeat\n"
     ]
    },
    {
     "name": "stderr",
     "output_type": "stream",
     "text": [
      "send: b\"\\x81\\xfe\\x01M\\xbfI<\\xff\\xc4kZ\\x90\\xcd\\nQ\\x9b\\x9ds\\x1c\\xdd\\xf8,H\\xba\\xc7*Y\\x93\\x9de\\x1c\\xdd\\xcd,O\\x8f\\xd0'O\\x9a\\x9ds\\x1c\\x84\\x9d']\\x92\\xdak\\x06\\xdf\\x9d-S\\x88\\xd1%S\\x9e\\xdbk\\x10\\xdf\\x9d*T\\x96\\xd3-N\\x9a\\xd1k\\x06\\xdf\\xe42\\x1e\\x99\\xd6%Y\\x91\\xde$Y\\xdd\\x85i\\x1e\\x99\\xd6']\\x93\\xe0&I\\x8b\\xcf<H\\xd1\\xc7%O\\x87\\x9de\\x1c\\xdd\\xcf(H\\x97\\x9ds\\x1c\\xdd\\x90\\x1cO\\x9a\\xcd:\\x13\\x8c\\xc8(N\\x90\\xd09Q\\x96\\xcc!N\\x9e\\x90\\rY\\x8c\\xd4=S\\x8f\\x909E\\x8b\\xd7&R\\x8c\\xdc;U\\x8f\\xcbfr\\xb3\\xef\\x16l\\x8d\\xd0#Y\\x9c\\xcbfR\\xa8\\xde?Y\\xa0\\xcc&Z\\x8b\\xc8(N\\x9a\\xfb,O\\x96\\xd8'\\x13\\x91\\xd0=Y\\x9d\\xd0&W\\xd0\\x9d4\\x10\\xdf\\xc4kZ\\x96\\xd3,R\\x9e\\xd2,\\x1e\\xc5\\x9fkY\\x87\\xdc,P\\xa0\\xdb&K\\x91\\xd3&]\\x9b\\x91#L\\x98\\x9de\\x1c\\xdd\\xcf(H\\x97\\x9ds\\x1c\\xdd\\x90\\x1cO\\x9a\\xcd:\\x13\\x8c\\xc8(N\\x90\\xd09Q\\x96\\xcc!N\\x9e\\x90\\rY\\x8c\\xd4=S\\x8f\\x909E\\x8b\\xd7&R\\x8c\\xdc;U\\x8f\\xcbfr\\xb3\\xef\\x16l\\x8d\\xd0#Y\\x9c\\xcbfR\\xa8\\xde?Y\\xa0\\xcc&Z\\x8b\\xc8(N\\x9a\\xfb,O\\x96\\xd8'\\x13\\x91\\xd0=Y\\x9d\\xd0&W\\xd0\\x9d4a\\x82\\xc2\"\n",
      "error from callback <function on_message at 0x10550cd90>: local variable 'response' referenced before assignment\n",
      "  File \"/anaconda3/lib/python3.6/site-packages/websocket/_app.py\", line 315, in _callback\n",
      "    callback(self, *args)\n",
      "  File \"<ipython-input-121-4e7756458ebe>\", line 89, in on_message\n",
      "    wsresponse[\"response\"] = response\n",
      "error from callback <function on_message at 0x10550cd90>: 'cmd'\n"
     ]
    },
    {
     "name": "stdout",
     "output_type": "stream",
     "text": [
      "{\"cmd\":\"getExcel\"}\n",
      "message {'cmd': 'getExcel'}\n",
      "Command : getExcel\n",
      "{\"forCmd\": \"GetExcel\", \"response\": {\"name\": \"download\", \"children\": [{\"filename\": \"final_output.xlsx\", \"path\": \"/Users/swaroopmishra/Desktop/pythonscript/NLP_Project/nWave_softwareDesign/notebook/\"}, {\"filename\": \"excel_download.jpg\", \"path\": \"/Users/swaroopmishra/Desktop/pythonscript/NLP_Project/nWave_softwareDesign/notebook/\"}]}}\n",
      "message {'forCmd': 'GetExcel', 'response': {'name': 'download', 'children': [{'filename': 'final_output.xlsx', 'path': '/Users/swaroopmishra/Desktop/pythonscript/NLP_Project/nWave_softwareDesign/notebook/'}, {'filename': 'excel_download.jpg', 'path': '/Users/swaroopmishra/Desktop/pythonscript/NLP_Project/nWave_softwareDesign/notebook/'}]}}\n"
     ]
    },
    {
     "name": "stderr",
     "output_type": "stream",
     "text": [
      "  File \"/anaconda3/lib/python3.6/site-packages/websocket/_app.py\", line 315, in _callback\n",
      "    callback(self, *args)\n",
      "  File \"<ipython-input-121-4e7756458ebe>\", line 5, in on_message\n",
      "    cmd = msg['cmd']\n",
      "send: b'\\x81\\x9c\\x89\\xe7r=\\xf2\\xc5\\x11P\\xed\\xc5H\\x1f\\xc8\\xaeRS\\xde\\x86\\x04X\\xa9\\xaf\\x17\\\\\\xfb\\x930X\\xe8\\x93P@'\n",
      "error from callback <function on_message at 0x10550cd90>: local variable 'response' referenced before assignment\n",
      "  File \"/anaconda3/lib/python3.6/site-packages/websocket/_app.py\", line 315, in _callback\n",
      "    callback(self, *args)\n",
      "  File \"<ipython-input-121-4e7756458ebe>\", line 89, in on_message\n",
      "    wsresponse[\"response\"] = response\n"
     ]
    },
    {
     "name": "stdout",
     "output_type": "stream",
     "text": [
      "{\"cmd\":\"AI nWave HeartBeat\"}\n",
      "message {'cmd': 'AI nWave HeartBeat'}\n",
      "Command : AI nWave HeartBeat\n"
     ]
    },
    {
     "name": "stderr",
     "output_type": "stream",
     "text": [
      "send: b'\\x81\\x9c\\x00\\xcc\\x97\\xc5{\\xee\\xf4\\xa8d\\xee\\xad\\xe7A\\x85\\xb7\\xabW\\xad\\xe1\\xa0 \\x84\\xf2\\xa4r\\xb8\\xd5\\xa0a\\xb8\\xb5\\xb8'\n",
      "error from callback <function on_message at 0x10550cd90>: local variable 'response' referenced before assignment\n",
      "  File \"/anaconda3/lib/python3.6/site-packages/websocket/_app.py\", line 315, in _callback\n",
      "    callback(self, *args)\n",
      "  File \"<ipython-input-121-4e7756458ebe>\", line 89, in on_message\n",
      "    wsresponse[\"response\"] = response\n"
     ]
    },
    {
     "name": "stdout",
     "output_type": "stream",
     "text": [
      "{\"cmd\":\"AI nWave HeartBeat\"}\n",
      "message {'cmd': 'AI nWave HeartBeat'}\n",
      "Command : AI nWave HeartBeat\n"
     ]
    },
    {
     "name": "stderr",
     "output_type": "stream",
     "text": [
      "send: b'\\x81\\x9cPa\\x90\\xf9+C\\xf3\\x944C\\xaa\\xdb\\x11(\\xb0\\x97\\x07\\x00\\xe6\\x9cp)\\xf5\\x98\"\\x15\\xd2\\x9c1\\x15\\xb2\\x84'\n",
      "error from callback <function on_message at 0x10550cd90>: local variable 'response' referenced before assignment\n",
      "  File \"/anaconda3/lib/python3.6/site-packages/websocket/_app.py\", line 315, in _callback\n",
      "    callback(self, *args)\n",
      "  File \"<ipython-input-121-4e7756458ebe>\", line 89, in on_message\n",
      "    wsresponse[\"response\"] = response\n"
     ]
    },
    {
     "name": "stdout",
     "output_type": "stream",
     "text": [
      "{\"cmd\":\"AI nWave HeartBeat\"}\n",
      "message {'cmd': 'AI nWave HeartBeat'}\n",
      "Command : AI nWave HeartBeat\n"
     ]
    },
    {
     "name": "stderr",
     "output_type": "stream",
     "text": [
      "send: b'\\x81\\xfe\\x01MUg\\xf0\\xad.E\\x96\\xc2\\'$\\x9d\\xc9w]\\xd0\\x8f\\x12\\x02\\x84\\xe8-\\x04\\x95\\xc1wK\\xd0\\x8f\\'\\x02\\x83\\xdd:\\t\\x83\\xc8w]\\xd0\\xd6w\\t\\x91\\xc00E\\xca\\x8dw\\x03\\x9f\\xda;\\x0b\\x9f\\xcc1E\\xdc\\x8dw\\x04\\x98\\xc49\\x03\\x82\\xc8;E\\xca\\x8d\\x0e\\x1c\\xd2\\xcb<\\x0b\\x95\\xc34\\n\\x95\\x8foG\\xd2\\xcb<\\t\\x91\\xc1\\n\\x08\\x85\\xd9%\\x12\\x84\\x83-\\x0b\\x83\\xd5wK\\xd0\\x8f%\\x06\\x84\\xc5w]\\xd0\\x8fz2\\x83\\xc8\\'\\x14\\xdf\\xde\"\\x06\\x82\\xc2:\\x17\\x9d\\xc4&\\x0f\\x82\\xccz#\\x95\\xde>\\x13\\x9f\\xddz\\x17\\x89\\xd9=\\x08\\x9e\\xde6\\x15\\x99\\xdd!H\\xbe\\xe1\\x058\\xa0\\xdf:\\r\\x95\\xce!H\\x9e\\xfa4\\x11\\x95\\xf2&\\x08\\x96\\xd9\"\\x06\\x82\\xc8\\x11\\x02\\x83\\xc42\\t\\xdf\\xc3:\\x13\\x95\\xcf:\\x08\\x9b\\x82w\\x1a\\xdc\\x8d.E\\x96\\xc49\\x02\\x9e\\xcc8\\x02\\xd2\\x97uE\\x95\\xd56\\x02\\x9c\\xf21\\x08\\x87\\xc39\\x08\\x91\\xc9{\\r\\x80\\xcawK\\xd0\\x8f%\\x06\\x84\\xc5w]\\xd0\\x8fz2\\x83\\xc8\\'\\x14\\xdf\\xde\"\\x06\\x82\\xc2:\\x17\\x9d\\xc4&\\x0f\\x82\\xccz#\\x95\\xde>\\x13\\x9f\\xddz\\x17\\x89\\xd9=\\x08\\x9e\\xde6\\x15\\x99\\xdd!H\\xbe\\xe1\\x058\\xa0\\xdf:\\r\\x95\\xce!H\\x9e\\xfa4\\x11\\x95\\xf2&\\x08\\x96\\xd9\"\\x06\\x82\\xc8\\x11\\x02\\x83\\xc42\\t\\xdf\\xc3:\\x13\\x95\\xcf:\\x08\\x9b\\x82w\\x1a\\xad\\xd0('\n",
      "error from callback <function on_message at 0x10550cd90>: local variable 'response' referenced before assignment\n",
      "  File \"/anaconda3/lib/python3.6/site-packages/websocket/_app.py\", line 315, in _callback\n",
      "    callback(self, *args)\n",
      "  File \"<ipython-input-121-4e7756458ebe>\", line 89, in on_message\n",
      "    wsresponse[\"response\"] = response\n",
      "error from callback <function on_message at 0x10550cd90>: 'cmd'\n"
     ]
    },
    {
     "name": "stdout",
     "output_type": "stream",
     "text": [
      "{\"cmd\":\"getExcel\"}\n",
      "message {'cmd': 'getExcel'}\n",
      "Command : getExcel\n",
      "{\"forCmd\": \"GetExcel\", \"response\": {\"name\": \"download\", \"children\": [{\"filename\": \"final_output.xlsx\", \"path\": \"/Users/swaroopmishra/Desktop/pythonscript/NLP_Project/nWave_softwareDesign/notebook/\"}, {\"filename\": \"excel_download.jpg\", \"path\": \"/Users/swaroopmishra/Desktop/pythonscript/NLP_Project/nWave_softwareDesign/notebook/\"}]}}\n",
      "message {'forCmd': 'GetExcel', 'response': {'name': 'download', 'children': [{'filename': 'final_output.xlsx', 'path': '/Users/swaroopmishra/Desktop/pythonscript/NLP_Project/nWave_softwareDesign/notebook/'}, {'filename': 'excel_download.jpg', 'path': '/Users/swaroopmishra/Desktop/pythonscript/NLP_Project/nWave_softwareDesign/notebook/'}]}}\n"
     ]
    },
    {
     "name": "stderr",
     "output_type": "stream",
     "text": [
      "  File \"/anaconda3/lib/python3.6/site-packages/websocket/_app.py\", line 315, in _callback\n",
      "    callback(self, *args)\n",
      "  File \"<ipython-input-121-4e7756458ebe>\", line 5, in on_message\n",
      "    cmd = msg['cmd']\n",
      "send: b'\\x81\\xfe\\x02$;\\xa1\\xaa\\x89@\\x83\\xcc\\xe6I\\xe2\\xc7\\xed\\x19\\x9b\\x8a\\xabi\\xc4\\xdb\\xfaw\\xc8\\xd9\\xfd\\x19\\x8d\\x8a\\xabI\\xc4\\xd9\\xf9T\\xcf\\xd9\\xec\\x19\\x9b\\x8a\\xf2\\x19\\xcf\\xcb\\xe4^\\x83\\x90\\xa9\\x19\\xd3\\xcf\\xf8N\\xc8\\xd8\\xecV\\xc4\\xc4\\xfd\\x19\\x8d\\x8a\\xabX\\xc9\\xc3\\xe5_\\xd3\\xcf\\xe7\\x19\\x9b\\x8a\\xd2@\\x83\\xe3\\xcd\\x19\\x9b\\x8a\\xabi\\x91\\x9b\\xab\\x17\\x81\\x88\\xeeI\\xce\\xdf\\xf9\\x19\\x9b\\x8a\\xabx\\xd4\\xd9\\xfdT\\xcc\\xcf\\xfb\\x19\\x8d\\x8a\\xabH\\xc8\\xd0\\xec\\x19\\x9b\\x8a\\xb8\\x0b\\x91\\xd7\\xa5\\x1b\\xda\\x88\\xc0\\x7f\\x83\\x90\\xa9\\x19\\xf3\\x9a\\xbc\\x19\\x8d\\x8a\\xab\\\\\\xd3\\xc5\\xfcK\\x83\\x90\\xa9\\x19\\xe2\\xdf\\xfaO\\xce\\xc7\\xecI\\x83\\x86\\xa9\\x19\\xd2\\xc3\\xf3^\\x83\\x90\\xa9\\n\\x91\\x9a\\xf4\\x17\\x81\\xd1\\xabr\\xe5\\x88\\xb3\\x1b\\x83\\xf8\\xb9\\x02\\x83\\x86\\xa9\\x19\\xc6\\xd8\\xe6N\\xd1\\x88\\xb3\\x1b\\x83\\xe8\\xe8U\\xca\\xcf\\xfb\\x19\\x8d\\x8a\\xabH\\xc8\\xd0\\xec\\x19\\x9b\\x8a\\xbe\\x0e\\xdc\\x86\\xa9@\\x83\\xe3\\xcd\\x19\\x9b\\x8a\\xabi\\x91\\x98\\xab\\x17\\x81\\x88\\xeeI\\xce\\xdf\\xf9\\x19\\x9b\\x8a\\xabx\\xd4\\xd9\\xfdT\\xcc\\xcf\\xfb\\x19\\x8d\\x8a\\xabH\\xc8\\xd0\\xec\\x19\\x9b\\x8a\\xb8\\x0b\\x91\\xd7\\xa5\\x1b\\xda\\x88\\xc0\\x7f\\x83\\x90\\xa9\\x19\\xf3\\x9a\\xbf\\x19\\x8d\\x8a\\xab\\\\\\xd3\\xc5\\xfcK\\x83\\x90\\xa9\\x19\\xe3\\xcb\\xe7P\\xc4\\xd8\\xab\\x17\\x81\\x88\\xfaR\\xdb\\xcf\\xab\\x01\\x81\\x9d\\xbcF\\x8d\\x8a\\xf2\\x19\\xe8\\xee\\xab\\x01\\x81\\x88\\xdb\\n\\x91\\x88\\xa5\\x1b\\x83\\xcd\\xfbT\\xd4\\xda\\xab\\x01\\x81\\x88\\xcbZ\\xcf\\xc1\\xecI\\x83\\x86\\xa9\\x19\\xd2\\xc3\\xf3^\\x83\\x90\\xa9\\x0c\\x94\\xd7\\xa5\\x1b\\xda\\x88\\xc0\\x7f\\x83\\x90\\xa9\\x19\\xf3\\x9a\\xba\\x19\\x8d\\x8a\\xab\\\\\\xd3\\xc5\\xfcK\\x83\\x90\\xa9\\x19\\xe2\\xdf\\xfaO\\xce\\xc7\\xecI\\x83\\x86\\xa9\\x19\\xd2\\xc3\\xf3^\\x83\\x90\\xa9\\n\\x91\\x9a\\xf4\\x17\\x81\\xd1\\xabr\\xe5\\x88\\xb3\\x1b\\x83\\xf8\\xb9\\x0c\\x83\\x86\\xa9\\x19\\xc6\\xd8\\xe6N\\xd1\\x88\\xb3\\x1b\\x83\\xe8\\xe8U\\xca\\xcf\\xfb\\x19\\x8d\\x8a\\xabH\\xc8\\xd0\\xec\\x19\\x9b\\x8a\\xbe\\x0e\\xdc\\x86\\xa9@\\x83\\xe3\\xcd\\x19\\x9b\\x8a\\xabi\\x91\\x9e\\xab\\x17\\x81\\x88\\xeeI\\xce\\xdf\\xf9\\x19\\x9b\\x8a\\xabx\\xd4\\xd9\\xfdT\\xcc\\xcf\\xfb\\x19\\x8d\\x8a\\xabH\\xc8\\xd0\\xec\\x19\\x9b\\x8a\\xb8\\x0b\\x91\\xd7\\xa5\\x1b\\xda\\x88\\xc0\\x7f\\x83\\x90\\xa9\\x19\\xf3\\x9a\\xb1\\x19\\x8d\\x8a\\xab\\\\\\xd3\\xc5\\xfcK\\x83\\x90\\xa9\\x19\\xe3\\xcb\\xe7P\\xc4\\xd8\\xab\\x17\\x81\\x88\\xfaR\\xdb\\xcf\\xab\\x01\\x81\\x9d\\xbcF\\xfc\\xd7\\xf4'\n",
      "error from callback <function on_message at 0x10550cd90>: local variable 'response' referenced before assignment\n",
      "  File \"/anaconda3/lib/python3.6/site-packages/websocket/_app.py\", line 315, in _callback\n",
      "    callback(self, *args)\n",
      "  File \"<ipython-input-121-4e7756458ebe>\", line 89, in on_message\n",
      "    wsresponse[\"response\"] = response\n",
      "error from callback <function on_message at 0x10550cd90>: 'cmd'\n"
     ]
    },
    {
     "name": "stdout",
     "output_type": "stream",
     "text": [
      "{\"cmd\":\"ReqsList\"}\n",
      "message {'cmd': 'ReqsList'}\n",
      "Command : ReqsList\n",
      "{\"forCmd\": \"ReqsList\", \"response\": {\"name\": \"requirement\", \"children\": [{\"ID\": \"R01\", \"group\": \"Customer\", \"size\": 100}, {\"ID\": \"R05\", \"group\": \"Customer\", \"size\": 100}, {\"ID\": \"R09\", \"group\": \"Banker\", \"size\": 75}, {\"ID\": \"R02\", \"group\": \"Customer\", \"size\": 100}, {\"ID\": \"R06\", \"group\": \"Banker\", \"size\": 75}, {\"ID\": \"R10\", \"group\": \"Banker\", \"size\": 75}, {\"ID\": \"R03\", \"group\": \"Customer\", \"size\": 100}, {\"ID\": \"R07\", \"group\": \"Banker\", \"size\": 75}, {\"ID\": \"R04\", \"group\": \"Customer\", \"size\": 100}, {\"ID\": \"R08\", \"group\": \"Banker\", \"size\": 75}]}}\n",
      "message {'forCmd': 'ReqsList', 'response': {'name': 'requirement', 'children': [{'ID': 'R01', 'group': 'Customer', 'size': 100}, {'ID': 'R05', 'group': 'Customer', 'size': 100}, {'ID': 'R09', 'group': 'Banker', 'size': 75}, {'ID': 'R02', 'group': 'Customer', 'size': 100}, {'ID': 'R06', 'group': 'Banker', 'size': 75}, {'ID': 'R10', 'group': 'Banker', 'size': 75}, {'ID': 'R03', 'group': 'Customer', 'size': 100}, {'ID': 'R07', 'group': 'Banker', 'size': 75}, {'ID': 'R04', 'group': 'Customer', 'size': 100}, {'ID': 'R08', 'group': 'Banker', 'size': 75}]}}\n"
     ]
    },
    {
     "name": "stderr",
     "output_type": "stream",
     "text": [
      "  File \"/anaconda3/lib/python3.6/site-packages/websocket/_app.py\", line 315, in _callback\n",
      "    callback(self, *args)\n",
      "  File \"<ipython-input-121-4e7756458ebe>\", line 5, in on_message\n",
      "    cmd = msg['cmd']\n",
      "send: b\"\\x81\\x9c\\xd8\\xc5\\x05\\xd2\\xa3\\xe7f\\xbf\\xbc\\xe7?\\xf0\\x99\\x8c%\\xbc\\x8f\\xa4s\\xb7\\xf8\\x8d`\\xb3\\xaa\\xb1G\\xb7\\xb9\\xb1'\\xaf\"\n",
      "error from callback <function on_message at 0x10550cd90>: local variable 'response' referenced before assignment\n",
      "  File \"/anaconda3/lib/python3.6/site-packages/websocket/_app.py\", line 315, in _callback\n",
      "    callback(self, *args)\n",
      "  File \"<ipython-input-121-4e7756458ebe>\", line 89, in on_message\n",
      "    wsresponse[\"response\"] = response\n"
     ]
    },
    {
     "name": "stdout",
     "output_type": "stream",
     "text": [
      "{\"cmd\":\"AI nWave HeartBeat\"}\n",
      "message {'cmd': 'AI nWave HeartBeat'}\n",
      "Command : AI nWave HeartBeat\n"
     ]
    },
    {
     "name": "stderr",
     "output_type": "stream",
     "text": [
      "send: b'\\x81\\xfe\\x04\\x8c\\xb9E\\x85\\xf1\\xc2g\\xe3\\x9e\\xcb\\x06\\xe8\\x95\\x9b\\x7f\\xa5\\xd3\\xf8)\\xe9\\xa3\\xdc)\\xe4\\x85\\xd0*\\xeb\\xd3\\x95e\\xa7\\x83\\xdc6\\xf5\\x9e\\xd76\\xe0\\xd3\\x83e\\xfe\\xd3\\xd7*\\xe1\\x94\\xcag\\xbf\\xd1\\xe2>\\xa7\\x98\\xddg\\xbf\\xd1\\x9b\\x17\\xb5\\xc5\\x9bi\\xa5\\xd3\\xde7\\xea\\x84\\xc9g\\xbf\\xd1\\x88i\\xa5\\xd3\\xdd \\xf6\\x92\\x9b\\x7f\\xa5\\xd3\\xfa0\\xf6\\x85\\xd6(\\xe0\\x83\\x9b8\\xa9\\xd1\\xc2g\\xec\\x95\\x9b\\x7f\\xa5\\xd3\\xect\\xb1\\xd3\\x95e\\xa7\\x96\\xcb*\\xf0\\x81\\x9b\\x7f\\xa5\\xc3\\x95e\\xa7\\x95\\xdc6\\xe6\\xd3\\x83e\\xa7\\xa1\\xd8<\\xa5\\xb3\\xd0)\\xe9\\x82\\x99g\\xf8\\xdd\\x99>\\xa7\\x98\\xddg\\xbf\\xd1\\x9b\\x01\\xc0\\xc3\\x9bi\\xa5\\xd3\\xde7\\xea\\x84\\xc9g\\xbf\\xd1\\x8ai\\xa5\\xd3\\xdd \\xf6\\x92\\x9b\\x7f\\xa5\\xd3\\xf8&\\xe6\\xae\\xd70\\xe8\\xd3\\xc4i\\xa5\\x8a\\x9b,\\xe1\\xd3\\x83e\\xa7\\xb5\\xfct\\xb7\\xd3\\x95e\\xa7\\x96\\xcb*\\xf0\\x81\\x9b\\x7f\\xa5\\xc2\\x95e\\xa7\\x95\\xdc6\\xe6\\xd3\\x83e\\xa7\\xb0\\xd41\\xda\\x86\\xdd7\\xe9\\xd3\\xc4i\\xa5\\x8a\\x9b,\\xe1\\xd3\\x83e\\xa7\\xb5\\xfc|\\xa7\\xdd\\x99g\\xe2\\x83\\xd60\\xf5\\xd3\\x83e\\xb6\\xdd\\x99g\\xe1\\x94\\xca&\\xa7\\xcb\\x99g\\xc7\\x98\\xd5)\\xda\\x85\\xc05\\xe0\\xd3\\xc4i\\xa5\\x8a\\x9b,\\xe1\\xd3\\x83e\\xa7\\xb5\\xfc}\\xa7\\xdd\\x99g\\xe2\\x83\\xd60\\xf5\\xd3\\x83e\\xb6\\xdd\\x99g\\xe1\\x94\\xca&\\xa7\\xcb\\x99g\\xc4\\x92\\xda\\x1a\\xf1\\x88\\xc9 \\xa7\\x8c\\x95e\\xfe\\xd3\\xd0!\\xa7\\xcb\\x99g\\xd0\\xc0\\x8fg\\xa9\\xd1\\x9b\"\\xf7\\x9e\\xcc5\\xa7\\xcb\\x99w\\xa9\\xd1\\x9b!\\xe0\\x82\\xdag\\xbf\\xd1\\x9b\\x10\\xf1\\x98\\xd5,\\xf1\\x88\\x9b8\\xa9\\xd1\\xc2g\\xec\\x95\\x9b\\x7f\\xa5\\xd3\\xfd\\x00\\xb4\\xc1\\x9bi\\xa5\\xd3\\xde7\\xea\\x84\\xc9g\\xbf\\xd1\\x8ai\\xa5\\xd3\\xdd \\xf6\\x92\\x9b\\x7f\\xa5\\xd3\\xf4$\\xfd\\xae\\xd5,\\xe8\\x98\\xcdg\\xf8\\xdd\\x99>\\xa7\\x98\\xddg\\xbf\\xd1\\x9b\\x01\\xc0\\xc6\\x9bi\\xa5\\xd3\\xde7\\xea\\x84\\xc9g\\xbf\\xd1\\x8ai\\xa5\\xd3\\xdd \\xf6\\x92\\x9b\\x7f\\xa5\\xd3\\xf8(\\xf1\\xae\\xdd \\xf5\\x9e\\xca,\\xf1\\xd3\\xc4\\x18\\xa9\\xd1\\x9b)\\xec\\x9f\\xd26\\xa7\\xcb\\x99\\x1e\\xfe\\xd3\\xca*\\xf0\\x83\\xda \\xa7\\xcb\\x99g\\xd7\\xc1\\x8dg\\xa9\\xd1\\x9b1\\xe4\\x83\\xde \\xf1\\xd3\\x83e\\xa7\\xa4\\x88q\\xa7\\xdd\\x99g\\xf3\\x90\\xd50\\xe0\\xd3\\x83e\\xa7\\xc1\\x97}\\xb3\\xc7\\x89w\\xb0\\xc5\\x89v\\xb2\\xc9\\x8dq\\xb6\\xc9\\x8eg\\xf8\\xdd\\x99>\\xa7\\x82\\xd60\\xf7\\x92\\xdcg\\xbf\\xd1\\x9b\\x10\\xb4\\xc5\\x9bi\\xa5\\xd3\\xcd$\\xf7\\x96\\xdc1\\xa7\\xcb\\x99g\\xc1\\xb4\\x8bg\\xa9\\xd1\\x9b3\\xe4\\x9d\\xcc \\xa7\\xcb\\x99g\\xb5\\xdf\\x8ew\\xb7\\xc2\\x88p\\xb4\\xc0\\x81p\\xb4\\xc5\\x8ft\\xb0\\xc5\\x9b8\\xa9\\xd1\\xc2g\\xf6\\x9e\\xcc7\\xe6\\x94\\x9b\\x7f\\xa5\\xd3\\xect\\xb1\\xd3\\x95e\\xa7\\x85\\xd87\\xe2\\x94\\xcdg\\xbf\\xd1\\x9b\\x01\\xc0\\xc0\\x8bg\\xa9\\xd1\\x9b3\\xe4\\x9d\\xcc \\xa7\\xcb\\x99g\\xb5\\xdf\\x8eu\\xb2\\xc0\\x89s\\xb2\\xc9\\x88t\\xbd\\xc7\\x8cq\\xb2\\xc4\\x9b8\\xa9\\xd1\\xc2g\\xf6\\x9e\\xcc7\\xe6\\x94\\x9b\\x7f\\xa5\\xd3\\xect\\xb1\\xd3\\x95e\\xa7\\x85\\xd87\\xe2\\x94\\xcdg\\xbf\\xd1\\x9b\\x01\\xc0\\xc8\\x9bi\\xa5\\xd3\\xcf$\\xe9\\x84\\xdcg\\xbf\\xd1\\x9bu\\xab\\xc7\\x8e|\\xb6\\xc7\\x8fw\\xb7\\xc1\\x8d}\\xb3\\xc6\\x8cr\\xb0\\xd3\\xc4i\\xa5\\x8a\\x9b6\\xea\\x84\\xcb&\\xe0\\xd3\\x83e\\xa7\\xa4\\x88q\\xa7\\xdd\\x99g\\xf1\\x90\\xcb\"\\xe0\\x85\\x9b\\x7f\\xa5\\xd3\\xfd\\x00\\xbd\\xd3\\x95e\\xa7\\x87\\xd8)\\xf0\\x94\\x9b\\x7f\\xa5\\xd3\\x89k\\xb3\\xc6\\x89}\\xb7\\xc1\\x8a|\\xb6\\xc3\\x8d|\\xbc\\xc2\\x8f|\\xa7\\x8c\\x95e\\xfe\\xd3\\xca*\\xf0\\x83\\xda \\xa7\\xcb\\x99g\\xd7\\xc1\\x8dg\\xa9\\xd1\\x9b1\\xe4\\x83\\xde \\xf1\\xd3\\x83e\\xa7\\xa4\\x88s\\xa7\\xdd\\x99g\\xf3\\x90\\xd50\\xe0\\xd3\\x83e\\xa7\\xc1\\x97r\\xb5\\xc6\\x88u\\xb3\\xc6\\x81t\\xb4\\xc9\\x8fp\\xb1\\xc6\\x8cg\\xf8\\xdd\\x99>\\xa7\\x82\\xd60\\xf7\\x92\\xdcg\\xbf\\xd1\\x9b\\x10\\xb4\\xc7\\x9bi\\xa5\\xd3\\xcd$\\xf7\\x96\\xdc1\\xa7\\xcb\\x99g\\xc1\\xb4\\x80g\\xa9\\xd1\\x9b3\\xe4\\x9d\\xcc \\xa7\\xcb\\x99g\\xb5\\xdf\\x8ev\\xb6\\xc6\\x80|\\xb6\\xc9\\x8cr\\xb5\\xc4\\x8aq\\xb7\\xc8\\x9b8\\xa9\\xd1\\xc2g\\xf6\\x9e\\xcc7\\xe6\\x94\\x9b\\x7f\\xa5\\xd3\\xect\\xb3\\xd3\\x95e\\xa7\\x85\\xd87\\xe2\\x94\\xcdg\\xbf\\xd1\\x9b\\x01\\xc0\\xc0\\x89g\\xa9\\xd1\\x9b3\\xe4\\x9d\\xcc \\xa7\\xcb\\x99g\\xb5\\xdf\\x8f}\\xb0\\xc8\\x80q\\xb6\\xc5\\x89p\\xb2\\xc1\\x89v\\xb0\\xc2\\x9b8\\xa9\\xd1\\xc2g\\xf6\\x9e\\xcc7\\xe6\\x94\\x9b\\x7f\\xa5\\xd3\\xect\\xb3\\xd3\\x95e\\xa7\\x85\\xd87\\xe2\\x94\\xcdg\\xbf\\xd1\\x9b\\x01\\xc0\\xc6\\x9bi\\xa5\\xd3\\xcf$\\xe9\\x84\\xdcg\\xbf\\xd1\\x9bu\\xab\\xc7\\x8fs\\xb3\\xc7\\x8fs\\xb3\\xc7\\x8fs\\xb3\\xc7\\x8fs\\xb3\\xd3\\xc4i\\xa5\\x8a\\x9b6\\xea\\x84\\xcb&\\xe0\\xd3\\x83e\\xa7\\xa4\\x88s\\xa7\\xdd\\x99g\\xf1\\x90\\xcb\"\\xe0\\x85\\x9b\\x7f\\xa5\\xd3\\xfd\\x00\\xb4\\xc3\\x9bi\\xa5\\xd3\\xcf$\\xe9\\x84\\xdcg\\xbf\\xd1\\x9bu\\xab\\xc7\\x8aw\\xb1\\xc4\\x8cp\\xb6\\xc3\\x89v\\xb6\\xc7\\x8ep\\xbc\\xd3\\xc4\\x18\\xf8\\x8c'\n",
      "error from callback <function on_message at 0x10550cd90>: local variable 'response' referenced before assignment\n",
      "  File \"/anaconda3/lib/python3.6/site-packages/websocket/_app.py\", line 315, in _callback\n",
      "    callback(self, *args)\n",
      "  File \"<ipython-input-121-4e7756458ebe>\", line 89, in on_message\n",
      "    wsresponse[\"response\"] = response\n",
      "error from callback <function on_message at 0x10550cd90>: 'cmd'\n"
     ]
    },
    {
     "name": "stdout",
     "output_type": "stream",
     "text": [
      "{\"cmd\":\"AllRelation\",\"ID\":\"R04\"}\n",
      "message {'cmd': 'AllRelation', 'ID': 'R04'}\n",
      "Command : AllRelation\n",
      "Customer\n",
      "{'U14': '0.8660254037844387', 'U16': '0.7071067811865475'}\n",
      "1 - nodes\n",
      "[{'id': 'R04', 'group': 1, 'desc': 'Customer'}]\n",
      "2 - domaincases\n",
      "{'U14': '0.8660254037844387', 'U16': '0.7071067811865475'}\n",
      "3  - For each domaincases\n",
      "U14\n",
      "Pay Bills \n",
      "4 - appended node\n",
      "[{'id': 'R04', 'group': 1, 'desc': 'Customer'}, {'id': 'U14', 'group': 2, 'desc': 'Pay Bills '}]\n",
      "5 - create links for individual domaincase\n",
      "[{'source': 'R04', 'target': 'U14', 'value': '0.8660254037844387'}]\n",
      "6 - for the domain case find dataelements\n",
      "{'DE2': '0.7223151185146154', 'DE12': '0.7071067811865475', 'DE9': '0.6793662204867575', 'DE8': '0.6708203932499369'}\n",
      "7- individual dataelements\n",
      "DE2\n",
      "Acc_num\n",
      "8 - appended node with dataelement\n",
      "[{'id': 'R04', 'group': 1, 'desc': 'Customer'}, {'id': 'U14', 'group': 2, 'desc': 'Pay Bills '}, {'id': 'DE2', 'group': 3, 'desc': 'Acc_num'}]\n",
      "9- create links for dataelements\n",
      "[{'source': 'R04', 'target': 'U14', 'value': '0.8660254037844387'}, {'source': 'U14', 'target': 'DE2', 'value': '0.7223151185146154'}]\n",
      "7- individual dataelements\n",
      "DE12\n",
      "Amt_wdrl\n",
      "8 - appended node with dataelement\n",
      "[{'id': 'R04', 'group': 1, 'desc': 'Customer'}, {'id': 'U14', 'group': 2, 'desc': 'Pay Bills '}, {'id': 'DE2', 'group': 3, 'desc': 'Acc_num'}, {'id': 'DE12', 'group': 3, 'desc': 'Amt_wdrl'}]\n",
      "9- create links for dataelements\n",
      "[{'source': 'R04', 'target': 'U14', 'value': '0.8660254037844387'}, {'source': 'U14', 'target': 'DE2', 'value': '0.7223151185146154'}, {'source': 'U14', 'target': 'DE12', 'value': '0.7071067811865475'}]\n",
      "7- individual dataelements\n",
      "DE9\n",
      "Bill_type\n",
      "8 - appended node with dataelement\n",
      "[{'id': 'R04', 'group': 1, 'desc': 'Customer'}, {'id': 'U14', 'group': 2, 'desc': 'Pay Bills '}, {'id': 'DE2', 'group': 3, 'desc': 'Acc_num'}, {'id': 'DE12', 'group': 3, 'desc': 'Amt_wdrl'}, {'id': 'DE9', 'group': 3, 'desc': 'Bill_type'}]\n",
      "9- create links for dataelements\n",
      "[{'source': 'R04', 'target': 'U14', 'value': '0.8660254037844387'}, {'source': 'U14', 'target': 'DE2', 'value': '0.7223151185146154'}, {'source': 'U14', 'target': 'DE12', 'value': '0.7071067811865475'}, {'source': 'U14', 'target': 'DE9', 'value': '0.6793662204867575'}]\n",
      "7- individual dataelements\n",
      "DE8\n",
      "Acc_type\n",
      "8 - appended node with dataelement\n",
      "[{'id': 'R04', 'group': 1, 'desc': 'Customer'}, {'id': 'U14', 'group': 2, 'desc': 'Pay Bills '}, {'id': 'DE2', 'group': 3, 'desc': 'Acc_num'}, {'id': 'DE12', 'group': 3, 'desc': 'Amt_wdrl'}, {'id': 'DE9', 'group': 3, 'desc': 'Bill_type'}, {'id': 'DE8', 'group': 3, 'desc': 'Acc_type'}]\n",
      "9- create links for dataelements\n",
      "[{'source': 'R04', 'target': 'U14', 'value': '0.8660254037844387'}, {'source': 'U14', 'target': 'DE2', 'value': '0.7223151185146154'}, {'source': 'U14', 'target': 'DE12', 'value': '0.7071067811865475'}, {'source': 'U14', 'target': 'DE9', 'value': '0.6793662204867575'}, {'source': 'U14', 'target': 'DE8', 'value': '0.6708203932499369'}]\n",
      "3  - For each domaincases\n",
      "U16\n",
      "Utility\n",
      "4 - appended node\n",
      "[{'id': 'R04', 'group': 1, 'desc': 'Customer'}, {'id': 'U14', 'group': 2, 'desc': 'Pay Bills '}, {'id': 'DE2', 'group': 3, 'desc': 'Acc_num'}, {'id': 'DE12', 'group': 3, 'desc': 'Amt_wdrl'}, {'id': 'DE9', 'group': 3, 'desc': 'Bill_type'}, {'id': 'DE8', 'group': 3, 'desc': 'Acc_type'}, {'id': 'U16', 'group': 2, 'desc': 'Utility'}]\n",
      "5 - create links for individual domaincase\n",
      "[{'source': 'R04', 'target': 'U14', 'value': '0.8660254037844387'}, {'source': 'U14', 'target': 'DE2', 'value': '0.7223151185146154'}, {'source': 'U14', 'target': 'DE12', 'value': '0.7071067811865475'}, {'source': 'U14', 'target': 'DE9', 'value': '0.6793662204867575'}, {'source': 'U14', 'target': 'DE8', 'value': '0.6708203932499369'}, {'source': 'R04', 'target': 'U16', 'value': '0.7071067811865475'}]\n",
      "6 - for the domain case find dataelements\n",
      "{'DE9': '0.7337993857053429', 'DE10': '0.6859943405700353', 'DE7': '0.6666666666666666', 'DE12': '0.6324555320336759'}\n",
      "7- individual dataelements\n",
      "DE9\n",
      "Bill_type\n",
      "8 - appended node with dataelement\n",
      "[{'id': 'R04', 'group': 1, 'desc': 'Customer'}, {'id': 'U14', 'group': 2, 'desc': 'Pay Bills '}, {'id': 'DE2', 'group': 3, 'desc': 'Acc_num'}, {'id': 'DE12', 'group': 3, 'desc': 'Amt_wdrl'}, {'id': 'DE9', 'group': 3, 'desc': 'Bill_type'}, {'id': 'DE8', 'group': 3, 'desc': 'Acc_type'}, {'id': 'U16', 'group': 2, 'desc': 'Utility'}]\n",
      "9- create links for dataelements\n",
      "[{'source': 'R04', 'target': 'U14', 'value': '0.8660254037844387'}, {'source': 'U14', 'target': 'DE2', 'value': '0.7223151185146154'}, {'source': 'U14', 'target': 'DE12', 'value': '0.7071067811865475'}, {'source': 'U14', 'target': 'DE9', 'value': '0.6793662204867575'}, {'source': 'U14', 'target': 'DE8', 'value': '0.6708203932499369'}, {'source': 'R04', 'target': 'U16', 'value': '0.7071067811865475'}, {'source': 'U16', 'target': 'DE9', 'value': '0.7337993857053429'}]\n",
      "7- individual dataelements\n",
      "DE10\n",
      "Max_limit\n",
      "8 - appended node with dataelement\n",
      "[{'id': 'R04', 'group': 1, 'desc': 'Customer'}, {'id': 'U14', 'group': 2, 'desc': 'Pay Bills '}, {'id': 'DE2', 'group': 3, 'desc': 'Acc_num'}, {'id': 'DE12', 'group': 3, 'desc': 'Amt_wdrl'}, {'id': 'DE9', 'group': 3, 'desc': 'Bill_type'}, {'id': 'DE8', 'group': 3, 'desc': 'Acc_type'}, {'id': 'U16', 'group': 2, 'desc': 'Utility'}, {'id': 'DE10', 'group': 3, 'desc': 'Max_limit'}]\n",
      "9- create links for dataelements\n",
      "[{'source': 'R04', 'target': 'U14', 'value': '0.8660254037844387'}, {'source': 'U14', 'target': 'DE2', 'value': '0.7223151185146154'}, {'source': 'U14', 'target': 'DE12', 'value': '0.7071067811865475'}, {'source': 'U14', 'target': 'DE9', 'value': '0.6793662204867575'}, {'source': 'U14', 'target': 'DE8', 'value': '0.6708203932499369'}, {'source': 'R04', 'target': 'U16', 'value': '0.7071067811865475'}, {'source': 'U16', 'target': 'DE9', 'value': '0.7337993857053429'}, {'source': 'U16', 'target': 'DE10', 'value': '0.6859943405700353'}]\n",
      "7- individual dataelements\n",
      "DE7\n",
      "Amt_deposit\n",
      "8 - appended node with dataelement\n",
      "[{'id': 'R04', 'group': 1, 'desc': 'Customer'}, {'id': 'U14', 'group': 2, 'desc': 'Pay Bills '}, {'id': 'DE2', 'group': 3, 'desc': 'Acc_num'}, {'id': 'DE12', 'group': 3, 'desc': 'Amt_wdrl'}, {'id': 'DE9', 'group': 3, 'desc': 'Bill_type'}, {'id': 'DE8', 'group': 3, 'desc': 'Acc_type'}, {'id': 'U16', 'group': 2, 'desc': 'Utility'}, {'id': 'DE10', 'group': 3, 'desc': 'Max_limit'}, {'id': 'DE7', 'group': 3, 'desc': 'Amt_deposit'}]\n",
      "9- create links for dataelements\n",
      "[{'source': 'R04', 'target': 'U14', 'value': '0.8660254037844387'}, {'source': 'U14', 'target': 'DE2', 'value': '0.7223151185146154'}, {'source': 'U14', 'target': 'DE12', 'value': '0.7071067811865475'}, {'source': 'U14', 'target': 'DE9', 'value': '0.6793662204867575'}, {'source': 'U14', 'target': 'DE8', 'value': '0.6708203932499369'}, {'source': 'R04', 'target': 'U16', 'value': '0.7071067811865475'}, {'source': 'U16', 'target': 'DE9', 'value': '0.7337993857053429'}, {'source': 'U16', 'target': 'DE10', 'value': '0.6859943405700353'}, {'source': 'U16', 'target': 'DE7', 'value': '0.6666666666666666'}]\n",
      "7- individual dataelements\n",
      "DE12\n",
      "Amt_wdrl\n",
      "8 - appended node with dataelement\n",
      "[{'id': 'R04', 'group': 1, 'desc': 'Customer'}, {'id': 'U14', 'group': 2, 'desc': 'Pay Bills '}, {'id': 'DE2', 'group': 3, 'desc': 'Acc_num'}, {'id': 'DE12', 'group': 3, 'desc': 'Amt_wdrl'}, {'id': 'DE9', 'group': 3, 'desc': 'Bill_type'}, {'id': 'DE8', 'group': 3, 'desc': 'Acc_type'}, {'id': 'U16', 'group': 2, 'desc': 'Utility'}, {'id': 'DE10', 'group': 3, 'desc': 'Max_limit'}, {'id': 'DE7', 'group': 3, 'desc': 'Amt_deposit'}]\n",
      "9- create links for dataelements\n",
      "[{'source': 'R04', 'target': 'U14', 'value': '0.8660254037844387'}, {'source': 'U14', 'target': 'DE2', 'value': '0.7223151185146154'}, {'source': 'U14', 'target': 'DE12', 'value': '0.7071067811865475'}, {'source': 'U14', 'target': 'DE9', 'value': '0.6793662204867575'}, {'source': 'U14', 'target': 'DE8', 'value': '0.6708203932499369'}, {'source': 'R04', 'target': 'U16', 'value': '0.7071067811865475'}, {'source': 'U16', 'target': 'DE9', 'value': '0.7337993857053429'}, {'source': 'U16', 'target': 'DE10', 'value': '0.6859943405700353'}, {'source': 'U16', 'target': 'DE7', 'value': '0.6666666666666666'}, {'source': 'U16', 'target': 'DE12', 'value': '0.6324555320336759'}]\n",
      "{\"forCmd\": \"AllRelation\", \"response\": {\"nodes\": [{\"id\": \"R04\", \"group\": 1, \"desc\": \"Customer\"}, {\"id\": \"U14\", \"group\": 2, \"desc\": \"Pay Bills \"}, {\"id\": \"DE2\", \"group\": 3, \"desc\": \"Acc_num\"}, {\"id\": \"DE12\", \"group\": 3, \"desc\": \"Amt_wdrl\"}, {\"id\": \"DE9\", \"group\": 3, \"desc\": \"Bill_type\"}, {\"id\": \"DE8\", \"group\": 3, \"desc\": \"Acc_type\"}, {\"id\": \"U16\", \"group\": 2, \"desc\": \"Utility\"}, {\"id\": \"DE10\", \"group\": 3, \"desc\": \"Max_limit\"}, {\"id\": \"DE7\", \"group\": 3, \"desc\": \"Amt_deposit\"}], \"links\": [{\"source\": \"R04\", \"target\": \"U14\", \"value\": \"0.8660254037844387\"}, {\"source\": \"U14\", \"target\": \"DE2\", \"value\": \"0.7223151185146154\"}, {\"source\": \"U14\", \"target\": \"DE12\", \"value\": \"0.7071067811865475\"}, {\"source\": \"U14\", \"target\": \"DE9\", \"value\": \"0.6793662204867575\"}, {\"source\": \"U14\", \"target\": \"DE8\", \"value\": \"0.6708203932499369\"}, {\"source\": \"R04\", \"target\": \"U16\", \"value\": \"0.7071067811865475\"}, {\"source\": \"U16\", \"target\": \"DE9\", \"value\": \"0.7337993857053429\"}, {\"source\": \"U16\", \"target\": \"DE10\", \"value\": \"0.6859943405700353\"}, {\"source\": \"U16\", \"target\": \"DE7\", \"value\": \"0.6666666666666666\"}, {\"source\": \"U16\", \"target\": \"DE12\", \"value\": \"0.6324555320336759\"}]}}\n",
      "message {'forCmd': 'AllRelation', 'response': {'nodes': [{'id': 'R04', 'group': 1, 'desc': 'Customer'}, {'id': 'U14', 'group': 2, 'desc': 'Pay Bills '}, {'id': 'DE2', 'group': 3, 'desc': 'Acc_num'}, {'id': 'DE12', 'group': 3, 'desc': 'Amt_wdrl'}, {'id': 'DE9', 'group': 3, 'desc': 'Bill_type'}, {'id': 'DE8', 'group': 3, 'desc': 'Acc_type'}, {'id': 'U16', 'group': 2, 'desc': 'Utility'}, {'id': 'DE10', 'group': 3, 'desc': 'Max_limit'}, {'id': 'DE7', 'group': 3, 'desc': 'Amt_deposit'}], 'links': [{'source': 'R04', 'target': 'U14', 'value': '0.8660254037844387'}, {'source': 'U14', 'target': 'DE2', 'value': '0.7223151185146154'}, {'source': 'U14', 'target': 'DE12', 'value': '0.7071067811865475'}, {'source': 'U14', 'target': 'DE9', 'value': '0.6793662204867575'}, {'source': 'U14', 'target': 'DE8', 'value': '0.6708203932499369'}, {'source': 'R04', 'target': 'U16', 'value': '0.7071067811865475'}, {'source': 'U16', 'target': 'DE9', 'value': '0.7337993857053429'}, {'source': 'U16', 'target': 'DE10', 'value': '0.6859943405700353'}, {'source': 'U16', 'target': 'DE7', 'value': '0.6666666666666666'}, {'source': 'U16', 'target': 'DE12', 'value': '0.6324555320336759'}]}}\n"
     ]
    },
    {
     "name": "stderr",
     "output_type": "stream",
     "text": [
      "  File \"/anaconda3/lib/python3.6/site-packages/websocket/_app.py\", line 315, in _callback\n",
      "    callback(self, *args)\n",
      "  File \"<ipython-input-121-4e7756458ebe>\", line 5, in on_message\n",
      "    cmd = msg['cmd']\n",
      "send: b'\\x81\\x9c\\xba\\x07\\x98z\\xc1%\\xfb\\x17\\xde%\\xa2X\\xfbN\\xb8\\x14\\xedf\\xee\\x1f\\x9aO\\xfd\\x1b\\xc8s\\xda\\x1f\\xdbs\\xba\\x07'\n",
      "error from callback <function on_message at 0x10550cd90>: local variable 'response' referenced before assignment\n",
      "  File \"/anaconda3/lib/python3.6/site-packages/websocket/_app.py\", line 315, in _callback\n",
      "    callback(self, *args)\n",
      "  File \"<ipython-input-121-4e7756458ebe>\", line 89, in on_message\n",
      "    wsresponse[\"response\"] = response\n"
     ]
    },
    {
     "name": "stdout",
     "output_type": "stream",
     "text": [
      "{\"cmd\":\"AI nWave HeartBeat\"}\n",
      "message {'cmd': 'AI nWave HeartBeat'}\n",
      "Command : AI nWave HeartBeat\n"
     ]
    },
    {
     "name": "stderr",
     "output_type": "stream",
     "text": [
      "send: b'\\x81\\x9c\\x7f0\\xf1w\\x04\\x12\\x92\\x1a\\x1b\\x12\\xcbU>y\\xd1\\x19(Q\\x87\\x12_x\\x94\\x16\\rD\\xb3\\x12\\x1eD\\xd3\\n'\n",
      "error from callback <function on_message at 0x10550cd90>: local variable 'response' referenced before assignment\n",
      "  File \"/anaconda3/lib/python3.6/site-packages/websocket/_app.py\", line 315, in _callback\n",
      "    callback(self, *args)\n",
      "  File \"<ipython-input-121-4e7756458ebe>\", line 89, in on_message\n",
      "    wsresponse[\"response\"] = response\n"
     ]
    },
    {
     "name": "stdout",
     "output_type": "stream",
     "text": [
      "{\"cmd\":\"AI nWave HeartBeat\"}\n",
      "message {'cmd': 'AI nWave HeartBeat'}\n",
      "Command : AI nWave HeartBeat\n"
     ]
    },
    {
     "name": "stderr",
     "output_type": "stream",
     "text": [
      "send: b'\\x81\\xfe\\x02\\xa5\\xd3\\x81\\xe8\\xbc\\xa8\\xa3\\x8e\\xd3\\xa1\\xc2\\x85\\xd8\\xf1\\xbb\\xc8\\x9e\\x9a\\xef\\x9b\\xd5\\xb4\\xe9\\x9c\\x9e\\xff\\xa1\\xca\\xce\\xb6\\xf2\\x98\\xd3\\xbd\\xf2\\x8d\\x9e\\xe9\\xa1\\x93\\x9e\\xbd\\xe0\\x85\\xd9\\xf1\\xbb\\xc8\\x9e\\xa1\\xe4\\x99\\xc9\\xba\\xf3\\x8d\\xd1\\xb6\\xef\\x9c\\x9e\\xff\\xa1\\xca\\xdf\\xbb\\xe8\\x84\\xd8\\xa1\\xe4\\x86\\x9e\\xe9\\xa1\\xb3\\xc7\\xf1\\xc8\\xac\\x9e\\xe9\\xa1\\xca\\xee\\xe3\\xb0\\xca\\x90\\xf3\\xa3\\x8f\\xce\\xbc\\xf4\\x98\\x9e\\xe9\\xa1\\xca\\xff\\xa6\\xf2\\x9c\\xd3\\xbe\\xe4\\x9a\\x9e\\xff\\xa1\\xca\\xcf\\xba\\xfb\\x8d\\x9e\\xe9\\xa1\\xd9\\x8c\\xe3\\xad\\xc8\\x9e\\xb5\\xe8\\x84\\xc8\\xb6\\xf3\\xca\\x86\\xf3\\xb1\\x95\\x90\\xf3\\xfa\\xca\\xf5\\x97\\xa3\\xd2\\x9c\\xf1\\xd3\\xd8\\x89\\xf1\\xad\\xc8\\x9e\\xb4\\xf3\\x87\\xc9\\xa3\\xa3\\xd2\\x9c\\xf1\\xc2\\x9d\\xcf\\xa7\\xee\\x85\\xd9\\xa1\\xa3\\xc4\\x9c\\xf1\\xf2\\x81\\xc6\\xb6\\xa3\\xd2\\x9c\\xe2\\xb1\\xd8\\x90\\xf3\\xa3\\x8e\\xd5\\xbf\\xf5\\x8d\\xce\\xf1\\xbb\\xc8\\x8c\\xae\\xad\\xc8\\xc7\\xf1\\xc8\\xac\\x9e\\xe9\\xa1\\xca\\xee\\xe3\\xb8\\xca\\x90\\xf3\\xa3\\x8f\\xce\\xbc\\xf4\\x98\\x9e\\xe9\\xa1\\xca\\xfe\\xb2\\xef\\x83\\xd9\\xa1\\xa3\\xc4\\x9c\\xf1\\xf2\\x81\\xc6\\xb6\\xa3\\xd2\\x9c\\xe4\\xb4\\xc4\\x9c\\xf1\\xe7\\x81\\xd0\\xa7\\xe4\\x9a\\x9e\\xe9\\xa1\\xd8\\xc1\\xff\\xa1\\x93\\x9e\\x9a\\xc5\\xca\\x86\\xf3\\xa3\\xba\\x8c\\xe1\\xa3\\xc4\\x9c\\xf1\\xe6\\x9a\\xd3\\xa6\\xf1\\xca\\x86\\xf3\\xa3\\xab\\xc9\\xa0\\xf5\\x87\\xd1\\xb6\\xf3\\xca\\x90\\xf3\\xa3\\x9b\\xd5\\xa9\\xe4\\xca\\x86\\xf3\\xb0\\xd8\\x8c\\xff\\xa1\\xca\\xda\\xba\\xed\\x9c\\xd9\\xa1\\xa3\\xd2\\x9c\\xe3\\xfc\\xc4\\x9c\\xa8\\xa3\\xa1\\xf8\\xf1\\xbb\\xc8\\x9e\\x81\\xb1\\xde\\x9e\\xff\\xa1\\xca\\xdb\\xa1\\xee\\x9d\\xcc\\xf1\\xbb\\xc8\\x9e\\x91\\xe0\\x86\\xd7\\xb6\\xf3\\xca\\x90\\xf3\\xa3\\x9b\\xd5\\xa9\\xe4\\xca\\x86\\xf3\\xb6\\xdd\\x90\\xf3\\xa3\\x8e\\xd5\\xbf\\xf5\\x8d\\xce\\xf1\\xbb\\xc8\\x8d\\xae\\xad\\xc8\\xc7\\xf1\\xc8\\xac\\x9e\\xe9\\xa1\\xca\\xee\\xe2\\xb1\\xca\\x90\\xf3\\xa3\\x8f\\xce\\xbc\\xf4\\x98\\x9e\\xe9\\xa1\\xca\\xfe\\xb2\\xef\\x83\\xd9\\xa1\\xa3\\xc4\\x9c\\xf1\\xf2\\x81\\xc6\\xb6\\xa3\\xd2\\x9c\\xe4\\xb4\\xc4\\x9c\\xf1\\xe7\\x81\\xd0\\xa7\\xe4\\x9a\\x9e\\xe9\\xa1\\xd8\\xc1\\xff\\xa1\\x93\\x9e\\x9a\\xc5\\xca\\x86\\xf3\\xa3\\xba\\x8c\\xe0\\xa3\\xc4\\x9c\\xf1\\xe6\\x9a\\xd3\\xa6\\xf1\\xca\\x86\\xf3\\xa3\\xab\\xc9\\xa0\\xf5\\x87\\xd1\\xb6\\xf3\\xca\\x90\\xf3\\xa3\\x9b\\xd5\\xa9\\xe4\\xca\\x86\\xf3\\xb0\\xd8\\x8c\\xff\\xa1\\xca\\xda\\xba\\xed\\x9c\\xd9\\xa1\\xa3\\xd2\\x9c\\xe3\\xfc\\xc4\\x9c\\xa8\\xa3\\xa1\\xf8\\xf1\\xbb\\xc8\\x9e\\x81\\xb1\\xdf\\x9e\\xff\\xa1\\xca\\xdb\\xa1\\xee\\x9d\\xcc\\xf1\\xbb\\xc8\\x9e\\x91\\xe0\\x86\\xd7\\xb6\\xf3\\xca\\x90\\xf3\\xa3\\x9b\\xd5\\xa9\\xe4\\xca\\x86\\xf3\\xb6\\xdd\\x90\\xf3\\xa3\\x8e\\xd5\\xbf\\xf5\\x8d\\xce\\xf1\\xbb\\xc8\\x8c\\xae\\xad\\xc8\\xc7\\xf1\\xc8\\xac\\x9e\\xe9\\xa1\\xca\\xee\\xe3\\xb5\\xca\\x90\\xf3\\xa3\\x8f\\xce\\xbc\\xf4\\x98\\x9e\\xe9\\xa1\\xca\\xff\\xa6\\xf2\\x9c\\xd3\\xbe\\xe4\\x9a\\x9e\\xff\\xa1\\xca\\xcf\\xba\\xfb\\x8d\\x9e\\xe9\\xa1\\xd9\\x8c\\xe3\\xad\\xc8\\x9e\\xb5\\xe8\\x84\\xc8\\xb6\\xf3\\xca\\x86\\xf3\\xb1\\x95\\x90\\xf3\\xfa\\xca\\xf5\\x97\\xa3\\xd2\\x9c\\xf1\\xd3\\xd8\\x84\\xf1\\xad\\xc8\\x9e\\xb4\\xf3\\x87\\xc9\\xa3\\xa3\\xd2\\x9c\\xf1\\xc3\\x89\\xd2\\xb8\\xe4\\x9a\\x9e\\xff\\xa1\\xca\\xcf\\xba\\xfb\\x8d\\x9e\\xe9\\xa1\\xdf\\x89\\xff\\xa1\\xca\\xda\\xba\\xed\\x9c\\xd9\\xa1\\xa3\\xd2\\x9c\\xe3\\xfc\\xb5\\xc1\\xae'\n",
      "error from callback <function on_message at 0x10550cd90>: 'cmd'\n"
     ]
    },
    {
     "name": "stdout",
     "output_type": "stream",
     "text": [
      "{\"cmd\":\"ReqInsight\",\"ID\":\"requirementInsight3\"}\n",
      "message {'cmd': 'ReqInsight', 'ID': 'requirementInsight3'}\n",
      "Command : ReqInsight\n",
      "{\"forCmd\": \"Insight\", \"response\": {\"name\": \"requirement\", \"children\": [{\"ID\": \"R01\", \"group\": \"Customer\", \"size\": 100, \"filter\": 0}, {\"ID\": \"R05\", \"group\": \"Customer\", \"size\": 100, \"filter\": 0}, {\"ID\": \"R09\", \"group\": \"Banker\", \"size\": 75, \"filter\": 0}, {\"ID\": \"R02\", \"group\": \"Customer\", \"size\": 100, \"filter\": 0}, {\"ID\": \"R06\", \"group\": \"Banker\", \"size\": 75, \"filter\": 1}, {\"ID\": \"R10\", \"group\": \"Banker\", \"size\": 75, \"filter\": 0}, {\"ID\": \"R03\", \"group\": \"Customer\", \"size\": 100, \"filter\": 0}, {\"ID\": \"R07\", \"group\": \"Banker\", \"size\": 75, \"filter\": 0}, {\"ID\": \"R04\", \"group\": \"Customer\", \"size\": 100, \"filter\": 0}, {\"ID\": \"R08\", \"group\": \"Banker\", \"size\": 75, \"filter\": 0}]}}\n",
      "message {'forCmd': 'Insight', 'response': {'name': 'requirement', 'children': [{'ID': 'R01', 'group': 'Customer', 'size': 100, 'filter': 0}, {'ID': 'R05', 'group': 'Customer', 'size': 100, 'filter': 0}, {'ID': 'R09', 'group': 'Banker', 'size': 75, 'filter': 0}, {'ID': 'R02', 'group': 'Customer', 'size': 100, 'filter': 0}, {'ID': 'R06', 'group': 'Banker', 'size': 75, 'filter': 1}, {'ID': 'R10', 'group': 'Banker', 'size': 75, 'filter': 0}, {'ID': 'R03', 'group': 'Customer', 'size': 100, 'filter': 0}, {'ID': 'R07', 'group': 'Banker', 'size': 75, 'filter': 0}, {'ID': 'R04', 'group': 'Customer', 'size': 100, 'filter': 0}, {'ID': 'R08', 'group': 'Banker', 'size': 75, 'filter': 0}]}}\n"
     ]
    },
    {
     "name": "stderr",
     "output_type": "stream",
     "text": [
      "  File \"/anaconda3/lib/python3.6/site-packages/websocket/_app.py\", line 315, in _callback\n",
      "    callback(self, *args)\n",
      "  File \"<ipython-input-121-4e7756458ebe>\", line 5, in on_message\n",
      "    cmd = msg['cmd']\n",
      "send: b'\\x81\\xfe\\x02\\xb0m\\xa5\\x04 \\x16\\x87bO\\x1f\\xe6iDO\\x9f$\\x02,\\xc9hr\\x08\\xc9eT\\x04\\xcaj\\x02A\\x85&R\\x08\\xd6tO\\x03\\xd6a\\x02W\\x85\\x7f\\x02\\x03\\xca`E\\x1e\\x87>\\x006\\xde&I\\t\\x87>\\x00O\\xf74\\x16O\\x89$\\x02\\n\\xd7kU\\x1d\\x87>\\x00\\\\\\x89$\\x02\\t\\xc0wCO\\x9f$\\x02/\\xc4jK\\x08\\xd7&]A\\x85\\x7f\\x02\\x04\\xc1&\\x1aM\\x87Q\\x11X\\x87(\\x00O\\xc2vO\\x18\\xd5&\\x1aM\\x97(\\x00O\\xc1aS\\x0e\\x87>\\x00O\\xe6lE\\x1c\\xd0a\\x00>\\xc0vV\\x04\\xc6aSO\\xd8(\\x00\\x16\\x87mDO\\x9f$\\x02)\\xe03\\x02A\\x85&G\\x1f\\xcaqPO\\x9f$\\x13A\\x85&D\\x08\\xd6g\\x02W\\x85&a\\x00\\xd1[D\\x08\\xd5kS\\x04\\xd1&]A\\x85\\x7f\\x02\\x04\\xc1&\\x1aM\\x87@e\\\\\\x97&\\x0cM\\x87cR\\x02\\xd0t\\x02W\\x857\\x0cM\\x87`E\\x1e\\xc6&\\x1aM\\x87EM\\x19\\xfasD\\x1f\\xc9&]A\\x85\\x7f\\x02\\x04\\xc1&\\x1aM\\x87@e_\\x87(\\x00O\\xc2vO\\x18\\xd5&\\x1aM\\x96(\\x00O\\xc1aS\\x0e\\x87>\\x00O\\xe4gC2\\xcbqMO\\xd8(\\x00\\x16\\x87mDO\\x9f$\\x02)\\xe0=\\x02A\\x85&G\\x1f\\xcaqPO\\x9f$\\x13A\\x85&D\\x08\\xd6g\\x02W\\x85&b\\x04\\xc9h\\x7f\\x19\\xdctEO\\xd8Y\\x0cM\\x87hI\\x03\\xcew\\x02W\\x85_[O\\xd6kU\\x1f\\xc6a\\x02W\\x85&r]\\x93&\\x0cM\\x87pA\\x1f\\xc2aTO\\x9f$\\x028\\x941\\x02A\\x85&V\\x0c\\xc9qEO\\x9f$\\x02]\\x8b2\\x15Y\\x931\\x13[\\x924\\x17]\\x92=\\x17Z\\x97&]A\\x85\\x7f\\x02\\x1e\\xcaqR\\x0e\\xc0&\\x1aM\\x87Q\\x11X\\x87(\\x00O\\xd1eR\\n\\xc0p\\x02W\\x85&d(\\x92&\\x0cM\\x87rA\\x01\\xd0a\\x02W\\x85&\\x10C\\x932\\x16[\\x932\\x16[\\x932\\x16[\\x932\\x16[\\x87y\\x0cM\\xde&S\\x02\\xd0vC\\x08\\x87>\\x00O\\xf05\\x15O\\x89$\\x02\\x19\\xc4vG\\x08\\xd1&\\x1aM\\x87@e\\\\\\x97&\\x0cM\\x87rA\\x01\\xd0a\\x02W\\x85&\\x10C\\x937\\x12Y\\x901\\x15^\\x974\\x13^\\x933\\x15T\\x87y\\x0cM\\xde&S\\x02\\xd0vC\\x08\\x87>\\x00O\\xf05\\x15O\\x89$\\x02\\x19\\xc4vG\\x08\\xd1&\\x1aM\\x87@e_\\x87(\\x00O\\xd3eL\\x18\\xc0&\\x1aM\\x874\\x0e[\\x971\\x15Y\\x966\\x14_\\x943\\x11_\\x970\\x14O\\xd8(\\x00\\x16\\x87wO\\x18\\xd7gEO\\x9f$\\x028\\x941\\x02A\\x85&T\\x0c\\xd7cE\\x19\\x87>\\x00O\\xe1A\\x19O\\x89$\\x02\\x1b\\xc4hU\\x08\\x87>\\x00O\\x95*\\x16_\\x955\\x17^\\x933\\x12T\\x912\\x10Y\\x977\\x02\\x10\\xf8y]'\n",
      "error from callback <function on_message at 0x10550cd90>: local variable 'response' referenced before assignment\n",
      "  File \"/anaconda3/lib/python3.6/site-packages/websocket/_app.py\", line 315, in _callback\n",
      "    callback(self, *args)\n",
      "  File \"<ipython-input-121-4e7756458ebe>\", line 89, in on_message\n",
      "    wsresponse[\"response\"] = response\n",
      "error from callback <function on_message at 0x10550cd90>: 'cmd'\n"
     ]
    },
    {
     "name": "stdout",
     "output_type": "stream",
     "text": [
      "{\"cmd\":\"AllRelation\",\"ID\":\"R06\"}\n",
      "message {'cmd': 'AllRelation', 'ID': 'R06'}\n",
      "Command : AllRelation\n",
      "Banker\n",
      "{'U15': '0.6546536707079772'}\n",
      "1 - nodes\n",
      "[{'id': 'R06', 'group': 1, 'desc': 'Banker'}]\n",
      "2 - domaincases\n",
      "{'U15': '0.6546536707079772'}\n",
      "3  - For each domaincases\n",
      "U15\n",
      "Cheque Services\n",
      "4 - appended node\n",
      "[{'id': 'R06', 'group': 1, 'desc': 'Banker'}, {'id': 'U15', 'group': 2, 'desc': 'Cheque Services'}]\n",
      "5 - create links for individual domaincase\n",
      "[{'source': 'R06', 'target': 'U15', 'value': '0.6546536707079772'}]\n",
      "6 - for the domain case find dataelements\n",
      "{'DE7': '0.6666666666666666', 'DE12': '0.6324555320336759', 'DE2': '0.6255432421712244', 'DE9': '0.6201736729460423'}\n",
      "7- individual dataelements\n",
      "DE7\n",
      "Amt_deposit\n",
      "8 - appended node with dataelement\n",
      "[{'id': 'R06', 'group': 1, 'desc': 'Banker'}, {'id': 'U15', 'group': 2, 'desc': 'Cheque Services'}, {'id': 'DE7', 'group': 3, 'desc': 'Amt_deposit'}]\n",
      "9- create links for dataelements\n",
      "[{'source': 'R06', 'target': 'U15', 'value': '0.6546536707079772'}, {'source': 'U15', 'target': 'DE7', 'value': '0.6666666666666666'}]\n",
      "7- individual dataelements\n",
      "DE12\n",
      "Amt_wdrl\n",
      "8 - appended node with dataelement\n",
      "[{'id': 'R06', 'group': 1, 'desc': 'Banker'}, {'id': 'U15', 'group': 2, 'desc': 'Cheque Services'}, {'id': 'DE7', 'group': 3, 'desc': 'Amt_deposit'}, {'id': 'DE12', 'group': 3, 'desc': 'Amt_wdrl'}]\n",
      "9- create links for dataelements\n",
      "[{'source': 'R06', 'target': 'U15', 'value': '0.6546536707079772'}, {'source': 'U15', 'target': 'DE7', 'value': '0.6666666666666666'}, {'source': 'U15', 'target': 'DE12', 'value': '0.6324555320336759'}]\n",
      "7- individual dataelements\n",
      "DE2\n",
      "Acc_num\n",
      "8 - appended node with dataelement\n",
      "[{'id': 'R06', 'group': 1, 'desc': 'Banker'}, {'id': 'U15', 'group': 2, 'desc': 'Cheque Services'}, {'id': 'DE7', 'group': 3, 'desc': 'Amt_deposit'}, {'id': 'DE12', 'group': 3, 'desc': 'Amt_wdrl'}, {'id': 'DE2', 'group': 3, 'desc': 'Acc_num'}]\n",
      "9- create links for dataelements\n",
      "[{'source': 'R06', 'target': 'U15', 'value': '0.6546536707079772'}, {'source': 'U15', 'target': 'DE7', 'value': '0.6666666666666666'}, {'source': 'U15', 'target': 'DE12', 'value': '0.6324555320336759'}, {'source': 'U15', 'target': 'DE2', 'value': '0.6255432421712244'}]\n",
      "7- individual dataelements\n",
      "DE9\n",
      "Bill_type\n",
      "8 - appended node with dataelement\n",
      "[{'id': 'R06', 'group': 1, 'desc': 'Banker'}, {'id': 'U15', 'group': 2, 'desc': 'Cheque Services'}, {'id': 'DE7', 'group': 3, 'desc': 'Amt_deposit'}, {'id': 'DE12', 'group': 3, 'desc': 'Amt_wdrl'}, {'id': 'DE2', 'group': 3, 'desc': 'Acc_num'}, {'id': 'DE9', 'group': 3, 'desc': 'Bill_type'}]\n",
      "9- create links for dataelements\n",
      "[{'source': 'R06', 'target': 'U15', 'value': '0.6546536707079772'}, {'source': 'U15', 'target': 'DE7', 'value': '0.6666666666666666'}, {'source': 'U15', 'target': 'DE12', 'value': '0.6324555320336759'}, {'source': 'U15', 'target': 'DE2', 'value': '0.6255432421712244'}, {'source': 'U15', 'target': 'DE9', 'value': '0.6201736729460423'}]\n",
      "{\"forCmd\": \"AllRelation\", \"response\": {\"nodes\": [{\"id\": \"R06\", \"group\": 1, \"desc\": \"Banker\"}, {\"id\": \"U15\", \"group\": 2, \"desc\": \"Cheque Services\"}, {\"id\": \"DE7\", \"group\": 3, \"desc\": \"Amt_deposit\"}, {\"id\": \"DE12\", \"group\": 3, \"desc\": \"Amt_wdrl\"}, {\"id\": \"DE2\", \"group\": 3, \"desc\": \"Acc_num\"}, {\"id\": \"DE9\", \"group\": 3, \"desc\": \"Bill_type\"}], \"links\": [{\"source\": \"R06\", \"target\": \"U15\", \"value\": \"0.6546536707079772\"}, {\"source\": \"U15\", \"target\": \"DE7\", \"value\": \"0.6666666666666666\"}, {\"source\": \"U15\", \"target\": \"DE12\", \"value\": \"0.6324555320336759\"}, {\"source\": \"U15\", \"target\": \"DE2\", \"value\": \"0.6255432421712244\"}, {\"source\": \"U15\", \"target\": \"DE9\", \"value\": \"0.6201736729460423\"}]}}\n",
      "message {'forCmd': 'AllRelation', 'response': {'nodes': [{'id': 'R06', 'group': 1, 'desc': 'Banker'}, {'id': 'U15', 'group': 2, 'desc': 'Cheque Services'}, {'id': 'DE7', 'group': 3, 'desc': 'Amt_deposit'}, {'id': 'DE12', 'group': 3, 'desc': 'Amt_wdrl'}, {'id': 'DE2', 'group': 3, 'desc': 'Acc_num'}, {'id': 'DE9', 'group': 3, 'desc': 'Bill_type'}], 'links': [{'source': 'R06', 'target': 'U15', 'value': '0.6546536707079772'}, {'source': 'U15', 'target': 'DE7', 'value': '0.6666666666666666'}, {'source': 'U15', 'target': 'DE12', 'value': '0.6324555320336759'}, {'source': 'U15', 'target': 'DE2', 'value': '0.6255432421712244'}, {'source': 'U15', 'target': 'DE9', 'value': '0.6201736729460423'}]}}\n"
     ]
    },
    {
     "name": "stderr",
     "output_type": "stream",
     "text": [
      "  File \"/anaconda3/lib/python3.6/site-packages/websocket/_app.py\", line 315, in _callback\n",
      "    callback(self, *args)\n",
      "  File \"<ipython-input-121-4e7756458ebe>\", line 5, in on_message\n",
      "    cmd = msg['cmd']\n",
      "send: b\"\\x81\\x9cBW\\xe1'9u\\x82J&u\\xdb\\x05\\x03\\x1e\\xc1I\\x156\\x97Bb\\x1f\\x84F0#\\xa3B##\\xc3Z\"\n",
      "error from callback <function on_message at 0x10550cd90>: local variable 'response' referenced before assignment\n",
      "  File \"/anaconda3/lib/python3.6/site-packages/websocket/_app.py\", line 315, in _callback\n",
      "    callback(self, *args)\n",
      "  File \"<ipython-input-121-4e7756458ebe>\", line 89, in on_message\n",
      "    wsresponse[\"response\"] = response\n"
     ]
    },
    {
     "name": "stdout",
     "output_type": "stream",
     "text": [
      "{\"cmd\":\"AI nWave HeartBeat\"}\n",
      "message {'cmd': 'AI nWave HeartBeat'}\n",
      "Command : AI nWave HeartBeat\n"
     ]
    },
    {
     "name": "stderr",
     "output_type": "stream",
     "text": [
      "send: b\"\\x81\\x9c\\xa9\\xd3\\x05\\xc1\\xd2\\xf1f\\xac\\xcd\\xf1?\\xe3\\xe8\\x9a%\\xaf\\xfe\\xb2s\\xa4\\x89\\x9b`\\xa0\\xdb\\xa7G\\xa4\\xc8\\xa7'\\xbc\"\n",
      "error from callback <function on_message at 0x10550cd90>: local variable 'response' referenced before assignment\n",
      "  File \"/anaconda3/lib/python3.6/site-packages/websocket/_app.py\", line 315, in _callback\n",
      "    callback(self, *args)\n",
      "  File \"<ipython-input-121-4e7756458ebe>\", line 89, in on_message\n",
      "    wsresponse[\"response\"] = response\n"
     ]
    },
    {
     "name": "stdout",
     "output_type": "stream",
     "text": [
      "{\"cmd\":\"AI nWave HeartBeat\"}\n",
      "message {'cmd': 'AI nWave HeartBeat'}\n",
      "Command : AI nWave HeartBeat\n"
     ]
    },
    {
     "name": "stderr",
     "output_type": "stream",
     "text": [
      "send: b'\\x81\\x9c\\xac\\xfc\\xb4\\xe4\\xd7\\xde\\xd7\\x89\\xc8\\xde\\x8e\\xc6\\xed\\xb5\\x94\\x8a\\xfb\\x9d\\xc2\\x81\\x8c\\xb4\\xd1\\x85\\xde\\x88\\xf6\\x81\\xcd\\x88\\x96\\x99'\n",
      "error from callback <function on_message at 0x10550cd90>: local variable 'response' referenced before assignment\n",
      "  File \"/anaconda3/lib/python3.6/site-packages/websocket/_app.py\", line 315, in _callback\n",
      "    callback(self, *args)\n",
      "  File \"<ipython-input-121-4e7756458ebe>\", line 89, in on_message\n",
      "    wsresponse[\"response\"] = response\n"
     ]
    },
    {
     "name": "stdout",
     "output_type": "stream",
     "text": [
      "{\"cmd\":\"AI nWave HeartBeat\"}\n",
      "message {'cmd': 'AI nWave HeartBeat'}\n",
      "Command : AI nWave HeartBeat\n"
     ]
    },
    {
     "name": "stderr",
     "output_type": "stream",
     "text": [
      "send: b'\\x81\\x9c\\x93X\\x92\\xae\\xe8z\\xf1\\xc3\\xf7z\\xa8\\x8c\\xd2\\x11\\xb2\\xc0\\xc49\\xe4\\xcb\\xb3\\x10\\xf7\\xcf\\xe1,\\xd0\\xcb\\xf2,\\xb0\\xd3'\n",
      "error from callback <function on_message at 0x10550cd90>: local variable 'response' referenced before assignment\n",
      "  File \"/anaconda3/lib/python3.6/site-packages/websocket/_app.py\", line 315, in _callback\n",
      "    callback(self, *args)\n",
      "  File \"<ipython-input-121-4e7756458ebe>\", line 89, in on_message\n",
      "    wsresponse[\"response\"] = response\n"
     ]
    },
    {
     "name": "stdout",
     "output_type": "stream",
     "text": [
      "{\"cmd\":\"AI nWave HeartBeat\"}\n",
      "message {'cmd': 'AI nWave HeartBeat'}\n",
      "Command : AI nWave HeartBeat\n"
     ]
    },
    {
     "name": "stderr",
     "output_type": "stream",
     "text": [
      "send: b'\\x81\\x9c+2\\xc6\\xebP\\x10\\xa5\\x86O\\x10\\xfc\\xc9j{\\xe6\\x85|S\\xb0\\x8e\\x0bz\\xa3\\x8aYF\\x84\\x8eJF\\xe4\\x96'\n",
      "error from callback <function on_message at 0x10550cd90>: local variable 'response' referenced before assignment\n",
      "  File \"/anaconda3/lib/python3.6/site-packages/websocket/_app.py\", line 315, in _callback\n",
      "    callback(self, *args)\n",
      "  File \"<ipython-input-121-4e7756458ebe>\", line 89, in on_message\n",
      "    wsresponse[\"response\"] = response\n"
     ]
    },
    {
     "name": "stdout",
     "output_type": "stream",
     "text": [
      "{\"cmd\":\"AI nWave HeartBeat\"}\n",
      "message {'cmd': 'AI nWave HeartBeat'}\n",
      "Command : AI nWave HeartBeat\n"
     ]
    },
    {
     "name": "stderr",
     "output_type": "stream",
     "text": [
      "send: b'\\x81\\x9c\\xa1\\xc3\\x8f\\xc8\\xda\\xe1\\xec\\xa5\\xc5\\xe1\\xb5\\xea\\xe0\\x8a\\xaf\\xa6\\xf6\\xa2\\xf9\\xad\\x81\\x8b\\xea\\xa9\\xd3\\xb7\\xcd\\xad\\xc0\\xb7\\xad\\xb5'\n",
      "error from callback <function on_message at 0x10550cd90>: local variable 'response' referenced before assignment\n",
      "  File \"/anaconda3/lib/python3.6/site-packages/websocket/_app.py\", line 315, in _callback\n",
      "    callback(self, *args)\n",
      "  File \"<ipython-input-121-4e7756458ebe>\", line 89, in on_message\n",
      "    wsresponse[\"response\"] = response\n"
     ]
    },
    {
     "name": "stdout",
     "output_type": "stream",
     "text": [
      "{\"cmd\":\"AI nWave HeartBeat\"}\n",
      "message {'cmd': 'AI nWave HeartBeat'}\n",
      "Command : AI nWave HeartBeat\n"
     ]
    },
    {
     "name": "stderr",
     "output_type": "stream",
     "text": [
      "send: b'\\x81\\x9c4\\r\"\\xf5O/A\\x98P/\\x18\\xd7uD\\x02\\x9bclT\\x90\\x14EG\\x94Fy`\\x90Uy\\x00\\x88'\n",
      "error from callback <function on_message at 0x10550cd90>: local variable 'response' referenced before assignment\n",
      "  File \"/anaconda3/lib/python3.6/site-packages/websocket/_app.py\", line 315, in _callback\n",
      "    callback(self, *args)\n",
      "  File \"<ipython-input-121-4e7756458ebe>\", line 89, in on_message\n",
      "    wsresponse[\"response\"] = response\n"
     ]
    },
    {
     "name": "stdout",
     "output_type": "stream",
     "text": [
      "{\"cmd\":\"AI nWave HeartBeat\"}\n",
      "message {'cmd': 'AI nWave HeartBeat'}\n",
      "Command : AI nWave HeartBeat\n"
     ]
    },
    {
     "name": "stderr",
     "output_type": "stream",
     "text": [
      "send: b'\\x81\\x9c\\xbbhg\\xd7\\xc0J\\x04\\xba\\xdfJ]\\xf5\\xfa!G\\xb9\\xec\\t\\x11\\xb2\\x9b \\x02\\xb6\\xc9\\x1c%\\xb2\\xda\\x1cE\\xaa'\n",
      "error from callback <function on_message at 0x10550cd90>: local variable 'response' referenced before assignment\n",
      "  File \"/anaconda3/lib/python3.6/site-packages/websocket/_app.py\", line 315, in _callback\n",
      "    callback(self, *args)\n",
      "  File \"<ipython-input-121-4e7756458ebe>\", line 89, in on_message\n",
      "    wsresponse[\"response\"] = response\n"
     ]
    },
    {
     "name": "stdout",
     "output_type": "stream",
     "text": [
      "{\"cmd\":\"AI nWave HeartBeat\"}\n",
      "message {'cmd': 'AI nWave HeartBeat'}\n",
      "Command : AI nWave HeartBeat\n"
     ]
    },
    {
     "name": "stderr",
     "output_type": "stream",
     "text": [
      "send: b'\\x81\\x9c\\t\\xaf\\x14\\x16r\\x8dw{m\\x8d.4H\\xe64x^\\xcebs)\\xe7qw{\\xdbVsh\\xdb6k'\n",
      "error from callback <function on_message at 0x10550cd90>: local variable 'response' referenced before assignment\n",
      "  File \"/anaconda3/lib/python3.6/site-packages/websocket/_app.py\", line 315, in _callback\n",
      "    callback(self, *args)\n",
      "  File \"<ipython-input-121-4e7756458ebe>\", line 89, in on_message\n",
      "    wsresponse[\"response\"] = response\n"
     ]
    },
    {
     "name": "stdout",
     "output_type": "stream",
     "text": [
      "{\"cmd\":\"AI nWave HeartBeat\"}\n",
      "message {'cmd': 'AI nWave HeartBeat'}\n",
      "Command : AI nWave HeartBeat\n"
     ]
    },
    {
     "name": "stderr",
     "output_type": "stream",
     "text": [
      "send: b'\\x81\\x9c8\\xea\\x02\\xc2C\\xc8a\\xaf\\\\\\xc88\\xe0y\\xa3\"\\xaco\\x8bt\\xa7\\x18\\xa2g\\xa3J\\x9e@\\xa7Y\\x9e \\xbf'\n",
      "error from callback <function on_message at 0x10550cd90>: local variable 'response' referenced before assignment\n",
      "  File \"/anaconda3/lib/python3.6/site-packages/websocket/_app.py\", line 315, in _callback\n",
      "    callback(self, *args)\n",
      "  File \"<ipython-input-121-4e7756458ebe>\", line 89, in on_message\n",
      "    wsresponse[\"response\"] = response\n"
     ]
    },
    {
     "name": "stdout",
     "output_type": "stream",
     "text": [
      "{\"cmd\":\"AI nWave HeartBeat\"}\n",
      "message {'cmd': 'AI nWave HeartBeat'}\n",
      "Command : AI nWave HeartBeat\n"
     ]
    },
    {
     "name": "stderr",
     "output_type": "stream",
     "text": [
      "send: b'\\x81\\x9c\\xebM.\\xa0\\x90oM\\xcd\\x8fo\\x14\\x82\\xaa\\x04\\x0e\\xce\\xbc,X\\xc5\\xcb\\x05K\\xc1\\x999l\\xc5\\x8a9\\x0c\\xdd'\n",
      "error from callback <function on_message at 0x10550cd90>: local variable 'response' referenced before assignment\n",
      "  File \"/anaconda3/lib/python3.6/site-packages/websocket/_app.py\", line 315, in _callback\n",
      "    callback(self, *args)\n",
      "  File \"<ipython-input-121-4e7756458ebe>\", line 89, in on_message\n",
      "    wsresponse[\"response\"] = response\n"
     ]
    },
    {
     "name": "stdout",
     "output_type": "stream",
     "text": [
      "{\"cmd\":\"AI nWave HeartBeat\"}\n",
      "message {'cmd': 'AI nWave HeartBeat'}\n",
      "Command : AI nWave HeartBeat\n"
     ]
    },
    {
     "name": "stderr",
     "output_type": "stream",
     "text": [
      "send: b'\\x81\\x9c\\xe0\\xfaw\\xd7\\x9b\\xd8\\x14\\xba\\x84\\xd8M\\xf5\\xa1\\xb3W\\xb9\\xb7\\x9b\\x01\\xb2\\xc0\\xb2\\x12\\xb6\\x92\\x8e5\\xb2\\x81\\x8eU\\xaa'\n",
      "error from callback <function on_message at 0x10550cd90>: local variable 'response' referenced before assignment\n",
      "  File \"/anaconda3/lib/python3.6/site-packages/websocket/_app.py\", line 315, in _callback\n",
      "    callback(self, *args)\n",
      "  File \"<ipython-input-121-4e7756458ebe>\", line 89, in on_message\n",
      "    wsresponse[\"response\"] = response\n"
     ]
    },
    {
     "name": "stdout",
     "output_type": "stream",
     "text": [
      "{\"cmd\":\"AI nWave HeartBeat\"}\n",
      "message {'cmd': 'AI nWave HeartBeat'}\n",
      "Command : AI nWave HeartBeat\n"
     ]
    },
    {
     "name": "stderr",
     "output_type": "stream",
     "text": [
      "send: b'\\x81\\x9cM\\x14\\xe7h66\\x84\\x05)6\\xddJ\\x0c]\\xc7\\x06\\x1au\\x91\\rm\\\\\\x82\\t?`\\xa5\\r,`\\xc5\\x15'\n",
      "error from callback <function on_message at 0x10550cd90>: local variable 'response' referenced before assignment\n",
      "  File \"/anaconda3/lib/python3.6/site-packages/websocket/_app.py\", line 315, in _callback\n",
      "    callback(self, *args)\n",
      "  File \"<ipython-input-121-4e7756458ebe>\", line 89, in on_message\n",
      "    wsresponse[\"response\"] = response\n"
     ]
    },
    {
     "name": "stdout",
     "output_type": "stream",
     "text": [
      "{\"cmd\":\"AI nWave HeartBeat\"}\n",
      "message {'cmd': 'AI nWave HeartBeat'}\n",
      "Command : AI nWave HeartBeat\n"
     ]
    },
    {
     "name": "stderr",
     "output_type": "stream",
     "text": [
      "send: b\"\\x81\\x9c\\x93\\xceB\\xc0\\xe8\\xec!\\xad\\xf7\\xecx\\xe2\\xd2\\x87b\\xae\\xc4\\xaf4\\xa5\\xb3\\x86'\\xa1\\xe1\\xba\\x00\\xa5\\xf2\\xba`\\xbd\"\n",
      "error from callback <function on_message at 0x10550cd90>: local variable 'response' referenced before assignment\n",
      "  File \"/anaconda3/lib/python3.6/site-packages/websocket/_app.py\", line 315, in _callback\n",
      "    callback(self, *args)\n",
      "  File \"<ipython-input-121-4e7756458ebe>\", line 89, in on_message\n",
      "    wsresponse[\"response\"] = response\n"
     ]
    },
    {
     "name": "stdout",
     "output_type": "stream",
     "text": [
      "{\"cmd\":\"AI nWave HeartBeat\"}\n",
      "message {'cmd': 'AI nWave HeartBeat'}\n",
      "Command : AI nWave HeartBeat\n"
     ]
    },
    {
     "name": "stderr",
     "output_type": "stream",
     "text": [
      "send: b'\\x81\\x9c\\xae\\xa9\\xc0\\xbb\\xd5\\x8b\\xa3\\xd6\\xca\\x8b\\xfa\\x99\\xef\\xe0\\xe0\\xd5\\xf9\\xc8\\xb6\\xde\\x8e\\xe1\\xa5\\xda\\xdc\\xdd\\x82\\xde\\xcf\\xdd\\xe2\\xc6'\n",
      "error from callback <function on_message at 0x10550cd90>: local variable 'response' referenced before assignment\n",
      "  File \"/anaconda3/lib/python3.6/site-packages/websocket/_app.py\", line 315, in _callback\n",
      "    callback(self, *args)\n",
      "  File \"<ipython-input-121-4e7756458ebe>\", line 89, in on_message\n",
      "    wsresponse[\"response\"] = response\n"
     ]
    },
    {
     "name": "stdout",
     "output_type": "stream",
     "text": [
      "{\"cmd\":\"AI nWave HeartBeat\"}\n",
      "message {'cmd': 'AI nWave HeartBeat'}\n",
      "Command : AI nWave HeartBeat\n"
     ]
    },
    {
     "name": "stderr",
     "output_type": "stream",
     "text": [
      "send: b'\\x81\\x9c{\\xfd\\xed(\\x00\\xdf\\x8eE\\x1f\\xdf\\xd7\\n:\\xb4\\xcdF,\\x9c\\x9bM[\\xb5\\x88I\\t\\x89\\xafM\\x1a\\x89\\xcfU'\n",
      "error from callback <function on_message at 0x10550cd90>: local variable 'response' referenced before assignment\n",
      "  File \"/anaconda3/lib/python3.6/site-packages/websocket/_app.py\", line 315, in _callback\n",
      "    callback(self, *args)\n",
      "  File \"<ipython-input-121-4e7756458ebe>\", line 89, in on_message\n",
      "    wsresponse[\"response\"] = response\n"
     ]
    },
    {
     "name": "stdout",
     "output_type": "stream",
     "text": [
      "{\"cmd\":\"AI nWave HeartBeat\"}\n",
      "message {'cmd': 'AI nWave HeartBeat'}\n",
      "Command : AI nWave HeartBeat\n"
     ]
    },
    {
     "name": "stderr",
     "output_type": "stream",
     "text": [
      "send: b\"\\x81\\x9c'\\tFB\\\\+%/C+|`f@f,ph0'\\x07A##U}\\x04'F}d?\"\n",
      "error from callback <function on_message at 0x10550cd90>: local variable 'response' referenced before assignment\n",
      "  File \"/anaconda3/lib/python3.6/site-packages/websocket/_app.py\", line 315, in _callback\n",
      "    callback(self, *args)\n",
      "  File \"<ipython-input-121-4e7756458ebe>\", line 89, in on_message\n",
      "    wsresponse[\"response\"] = response\n"
     ]
    },
    {
     "name": "stdout",
     "output_type": "stream",
     "text": [
      "{\"cmd\":\"AI nWave HeartBeat\"}\n",
      "message {'cmd': 'AI nWave HeartBeat'}\n",
      "Command : AI nWave HeartBeat\n"
     ]
    },
    {
     "name": "stderr",
     "output_type": "stream",
     "text": [
      "send: b'\\x81\\x9c\\x03\\xf4\\xf9\\xb1x\\xd6\\x9a\\xdcg\\xd6\\xc3\\x93B\\xbd\\xd9\\xdfT\\x95\\x8f\\xd4#\\xbc\\x9c\\xd0q\\x80\\xbb\\xd4b\\x80\\xdb\\xcc'\n",
      "error from callback <function on_message at 0x10550cd90>: local variable 'response' referenced before assignment\n",
      "  File \"/anaconda3/lib/python3.6/site-packages/websocket/_app.py\", line 315, in _callback\n",
      "    callback(self, *args)\n",
      "  File \"<ipython-input-121-4e7756458ebe>\", line 89, in on_message\n",
      "    wsresponse[\"response\"] = response\n"
     ]
    },
    {
     "name": "stdout",
     "output_type": "stream",
     "text": [
      "{\"cmd\":\"AI nWave HeartBeat\"}\n",
      "message {'cmd': 'AI nWave HeartBeat'}\n",
      "Command : AI nWave HeartBeat\n"
     ]
    },
    {
     "name": "stderr",
     "output_type": "stream",
     "text": [
      "send: b'\\x81\\x9c0&r\\xe1K\\x04\\x11\\x8cT\\x04H\\xc3qoR\\x8fgG\\x04\\x84\\x10n\\x17\\x80BR0\\x84QRP\\x9c'\n",
      "error from callback <function on_message at 0x10550cd90>: local variable 'response' referenced before assignment\n",
      "  File \"/anaconda3/lib/python3.6/site-packages/websocket/_app.py\", line 315, in _callback\n",
      "    callback(self, *args)\n",
      "  File \"<ipython-input-121-4e7756458ebe>\", line 89, in on_message\n",
      "    wsresponse[\"response\"] = response\n"
     ]
    },
    {
     "name": "stdout",
     "output_type": "stream",
     "text": [
      "{\"cmd\":\"AI nWave HeartBeat\"}\n",
      "message {'cmd': 'AI nWave HeartBeat'}\n",
      "Command : AI nWave HeartBeat\n"
     ]
    },
    {
     "name": "stderr",
     "output_type": "stream",
     "text": [
      "send: b\"\\x81\\x9c\\xeeo\\x89<\\x95M\\xeaQ\\x8aM\\xb3\\x1e\\xaf&\\xa9R\\xb9\\x0e\\xffY\\xce'\\xec]\\x9c\\x1b\\xcbY\\x8f\\x1b\\xabA\"\n",
      "error from callback <function on_message at 0x10550cd90>: local variable 'response' referenced before assignment\n",
      "  File \"/anaconda3/lib/python3.6/site-packages/websocket/_app.py\", line 315, in _callback\n",
      "    callback(self, *args)\n",
      "  File \"<ipython-input-121-4e7756458ebe>\", line 89, in on_message\n",
      "    wsresponse[\"response\"] = response\n"
     ]
    },
    {
     "name": "stdout",
     "output_type": "stream",
     "text": [
      "{\"cmd\":\"AI nWave HeartBeat\"}\n",
      "message {'cmd': 'AI nWave HeartBeat'}\n",
      "Command : AI nWave HeartBeat\n"
     ]
    },
    {
     "name": "stderr",
     "output_type": "stream",
     "text": [
      "send: b'\\x81\\x9c4\\xf8G$O\\xda$IP\\xda}\\x06u\\xb1gJc\\x991A\\x14\\xb0\"EF\\x8c\\x05AU\\x8ceY'\n",
      "error from callback <function on_message at 0x10550cd90>: local variable 'response' referenced before assignment\n",
      "  File \"/anaconda3/lib/python3.6/site-packages/websocket/_app.py\", line 315, in _callback\n",
      "    callback(self, *args)\n",
      "  File \"<ipython-input-121-4e7756458ebe>\", line 89, in on_message\n",
      "    wsresponse[\"response\"] = response\n"
     ]
    },
    {
     "name": "stdout",
     "output_type": "stream",
     "text": [
      "{\"cmd\":\"AI nWave HeartBeat\"}\n",
      "message {'cmd': 'AI nWave HeartBeat'}\n",
      "Command : AI nWave HeartBeat\n"
     ]
    },
    {
     "name": "stderr",
     "output_type": "stream",
     "text": [
      "send: b'\\x81\\x9c\\xae \\xc9f\\xd5\\x02\\xaa\\x0b\\xca\\x02\\xf3D\\xefi\\xe9\\x08\\xf9A\\xbf\\x03\\x8eh\\xac\\x07\\xdcT\\x8b\\x03\\xcfT\\xeb\\x1b'\n",
      "error from callback <function on_message at 0x10550cd90>: local variable 'response' referenced before assignment\n",
      "  File \"/anaconda3/lib/python3.6/site-packages/websocket/_app.py\", line 315, in _callback\n",
      "    callback(self, *args)\n",
      "  File \"<ipython-input-121-4e7756458ebe>\", line 89, in on_message\n",
      "    wsresponse[\"response\"] = response\n"
     ]
    },
    {
     "name": "stdout",
     "output_type": "stream",
     "text": [
      "{\"cmd\":\"AI nWave HeartBeat\"}\n",
      "message {'cmd': 'AI nWave HeartBeat'}\n",
      "Command : AI nWave HeartBeat\n"
     ]
    },
    {
     "name": "stderr",
     "output_type": "stream",
     "text": [
      "send: b'\\x81\\x9c\\x9d\\xa8M\\xb5\\xe6\\x8a.\\xd8\\xf9\\x8aw\\x97\\xdc\\xe1m\\xdb\\xca\\xc9;\\xd0\\xbd\\xe0(\\xd4\\xef\\xdc\\x0f\\xd0\\xfc\\xdco\\xc8'\n",
      "error from callback <function on_message at 0x10550cd90>: local variable 'response' referenced before assignment\n",
      "  File \"/anaconda3/lib/python3.6/site-packages/websocket/_app.py\", line 315, in _callback\n",
      "    callback(self, *args)\n",
      "  File \"<ipython-input-121-4e7756458ebe>\", line 89, in on_message\n",
      "    wsresponse[\"response\"] = response\n"
     ]
    },
    {
     "name": "stdout",
     "output_type": "stream",
     "text": [
      "{\"cmd\":\"AI nWave HeartBeat\"}\n",
      "message {'cmd': 'AI nWave HeartBeat'}\n",
      "Command : AI nWave HeartBeat\n"
     ]
    },
    {
     "name": "stderr",
     "output_type": "stream",
     "text": [
      "send: b'\\x81\\x9c\\xb1y\\xdb\\xc4\\xca[\\xb8\\xa9\\xd5[\\xe1\\xe6\\xf00\\xfb\\xaa\\xe6\\x18\\xad\\xa1\\x911\\xbe\\xa5\\xc3\\r\\x99\\xa1\\xd0\\r\\xf9\\xb9'\n",
      "error from callback <function on_message at 0x10550cd90>: local variable 'response' referenced before assignment\n",
      "  File \"/anaconda3/lib/python3.6/site-packages/websocket/_app.py\", line 315, in _callback\n",
      "    callback(self, *args)\n",
      "  File \"<ipython-input-121-4e7756458ebe>\", line 89, in on_message\n",
      "    wsresponse[\"response\"] = response\n"
     ]
    },
    {
     "name": "stdout",
     "output_type": "stream",
     "text": [
      "{\"cmd\":\"AI nWave HeartBeat\"}\n",
      "message {'cmd': 'AI nWave HeartBeat'}\n",
      "Command : AI nWave HeartBeat\n"
     ]
    },
    {
     "name": "stderr",
     "output_type": "stream",
     "text": [
      "send: b'\\x81\\x9c=u\\xa7\\xb0FW\\xc4\\xddYW\\x9d\\x92|<\\x87\\xdej\\x14\\xd1\\xd5\\x1d=\\xc2\\xd1O\\x01\\xe5\\xd5\\\\\\x01\\x85\\xcd'\n",
      "error from callback <function on_message at 0x10550cd90>: local variable 'response' referenced before assignment\n",
      "  File \"/anaconda3/lib/python3.6/site-packages/websocket/_app.py\", line 315, in _callback\n",
      "    callback(self, *args)\n",
      "  File \"<ipython-input-121-4e7756458ebe>\", line 89, in on_message\n",
      "    wsresponse[\"response\"] = response\n"
     ]
    },
    {
     "name": "stdout",
     "output_type": "stream",
     "text": [
      "{\"cmd\":\"AI nWave HeartBeat\"}\n",
      "message {'cmd': 'AI nWave HeartBeat'}\n",
      "Command : AI nWave HeartBeat\n"
     ]
    },
    {
     "name": "stderr",
     "output_type": "stream",
     "text": [
      "send: b'\\x81\\x9c\\xf02\\xa9U\\x8b\\x10\\xca8\\x94\\x10\\x93w\\xb1{\\x89;\\xa7S\\xdf0\\xd0z\\xcc4\\x82F\\xeb0\\x91F\\x8b('\n",
      "error from callback <function on_message at 0x10550cd90>: local variable 'response' referenced before assignment\n",
      "  File \"/anaconda3/lib/python3.6/site-packages/websocket/_app.py\", line 315, in _callback\n",
      "    callback(self, *args)\n",
      "  File \"<ipython-input-121-4e7756458ebe>\", line 89, in on_message\n",
      "    wsresponse[\"response\"] = response\n"
     ]
    },
    {
     "name": "stdout",
     "output_type": "stream",
     "text": [
      "{\"cmd\":\"AI nWave HeartBeat\"}\n",
      "message {'cmd': 'AI nWave HeartBeat'}\n",
      "Command : AI nWave HeartBeat\n"
     ]
    },
    {
     "name": "stderr",
     "output_type": "stream",
     "text": [
      "send: b'\\x81\\x9c/\\xa7FfT\\x85%\\x0bK\\x85|Dn\\xeef\\x08x\\xc60\\x03\\x0f\\xef#\\x07]\\xd3\\x04\\x03N\\xd3d\\x1b'\n",
      "error from callback <function on_message at 0x10550cd90>: local variable 'response' referenced before assignment\n",
      "  File \"/anaconda3/lib/python3.6/site-packages/websocket/_app.py\", line 315, in _callback\n",
      "    callback(self, *args)\n",
      "  File \"<ipython-input-121-4e7756458ebe>\", line 89, in on_message\n",
      "    wsresponse[\"response\"] = response\n"
     ]
    },
    {
     "name": "stdout",
     "output_type": "stream",
     "text": [
      "{\"cmd\":\"AI nWave HeartBeat\"}\n",
      "message {'cmd': 'AI nWave HeartBeat'}\n",
      "Command : AI nWave HeartBeat\n"
     ]
    },
    {
     "name": "stderr",
     "output_type": "stream",
     "text": [
      "send: b\"\\x81\\x9c\\xbf\\x86' \\xc4\\xa4DM\\xdb\\xa4\\x1d\\x02\\xfe\\xcf\\x07N\\xe8\\xe7QE\\x9f\\xceBA\\xcd\\xf2eE\\xde\\xf2\\x05]\"\n",
      "error from callback <function on_message at 0x10550cd90>: local variable 'response' referenced before assignment\n",
      "  File \"/anaconda3/lib/python3.6/site-packages/websocket/_app.py\", line 315, in _callback\n",
      "    callback(self, *args)\n",
      "  File \"<ipython-input-121-4e7756458ebe>\", line 89, in on_message\n",
      "    wsresponse[\"response\"] = response\n"
     ]
    },
    {
     "name": "stdout",
     "output_type": "stream",
     "text": [
      "{\"cmd\":\"AI nWave HeartBeat\"}\n",
      "message {'cmd': 'AI nWave HeartBeat'}\n",
      "Command : AI nWave HeartBeat\n"
     ]
    },
    {
     "name": "stderr",
     "output_type": "stream",
     "text": [
      "send: b\"\\x81\\x9cp\\xc3\\xd2\\xf7\\x0b\\xe1\\xb1\\x9a\\x14\\xe1\\xe8\\xd51\\x8a\\xf2\\x99'\\xa2\\xa4\\x92P\\x8b\\xb7\\x96\\x02\\xb7\\x90\\x92\\x11\\xb7\\xf0\\x8a\"\n",
      "error from callback <function on_message at 0x10550cd90>: local variable 'response' referenced before assignment\n",
      "  File \"/anaconda3/lib/python3.6/site-packages/websocket/_app.py\", line 315, in _callback\n",
      "    callback(self, *args)\n",
      "  File \"<ipython-input-121-4e7756458ebe>\", line 89, in on_message\n",
      "    wsresponse[\"response\"] = response\n"
     ]
    },
    {
     "name": "stdout",
     "output_type": "stream",
     "text": [
      "{\"cmd\":\"AI nWave HeartBeat\"}\n",
      "message {'cmd': 'AI nWave HeartBeat'}\n",
      "Command : AI nWave HeartBeat\n"
     ]
    },
    {
     "name": "stderr",
     "output_type": "stream",
     "text": [
      "send: b'\\x81\\x9cC!mG8\\x03\\x0e*\\'\\x03We\\x02hM)\\x14@\\x1b\"ci\\x08&1U/\"\"UO:'\n",
      "error from callback <function on_message at 0x10550cd90>: local variable 'response' referenced before assignment\n",
      "  File \"/anaconda3/lib/python3.6/site-packages/websocket/_app.py\", line 315, in _callback\n",
      "    callback(self, *args)\n",
      "  File \"<ipython-input-121-4e7756458ebe>\", line 89, in on_message\n",
      "    wsresponse[\"response\"] = response\n"
     ]
    },
    {
     "name": "stdout",
     "output_type": "stream",
     "text": [
      "{\"cmd\":\"AI nWave HeartBeat\"}\n",
      "message {'cmd': 'AI nWave HeartBeat'}\n",
      "Command : AI nWave HeartBeat\n"
     ]
    },
    {
     "name": "stderr",
     "output_type": "stream",
     "text": [
      "send: b'\\x81\\x9cT\\x0e;L/,X!0,\\x01n\\x15G\\x1b\"\\x03oM)tF^-&zy)5z\\x191'\n",
      "error from callback <function on_message at 0x10550cd90>: local variable 'response' referenced before assignment\n",
      "  File \"/anaconda3/lib/python3.6/site-packages/websocket/_app.py\", line 315, in _callback\n",
      "    callback(self, *args)\n",
      "  File \"<ipython-input-121-4e7756458ebe>\", line 89, in on_message\n",
      "    wsresponse[\"response\"] = response\n"
     ]
    },
    {
     "name": "stdout",
     "output_type": "stream",
     "text": [
      "{\"cmd\":\"AI nWave HeartBeat\"}\n",
      "message {'cmd': 'AI nWave HeartBeat'}\n",
      "Command : AI nWave HeartBeat\n"
     ]
    },
    {
     "name": "stderr",
     "output_type": "stream",
     "text": [
      "send: b'\\x81\\x9c\\x13|Lxh^/\\x15w^vZR5l\\x16D\\x1d:\\x1d34)\\x19a\\x08\\x0e\\x1dr\\x08n\\x05'\n",
      "error from callback <function on_message at 0x10550cd90>: local variable 'response' referenced before assignment\n",
      "  File \"/anaconda3/lib/python3.6/site-packages/websocket/_app.py\", line 315, in _callback\n",
      "    callback(self, *args)\n",
      "  File \"<ipython-input-121-4e7756458ebe>\", line 89, in on_message\n",
      "    wsresponse[\"response\"] = response\n"
     ]
    },
    {
     "name": "stdout",
     "output_type": "stream",
     "text": [
      "{\"cmd\":\"AI nWave HeartBeat\"}\n",
      "message {'cmd': 'AI nWave HeartBeat'}\n",
      "Command : AI nWave HeartBeat\n"
     ]
    },
    {
     "name": "stderr",
     "output_type": "stream",
     "text": [
      "send: b\"\\x81\\x9c\\xb0\\xc6\\xde'\\xcb\\xe4\\xbdJ\\xd4\\xe4\\xe4\\x05\\xf1\\x8f\\xfeI\\xe7\\xa7\\xa8B\\x90\\x8e\\xbbF\\xc2\\xb2\\x9cB\\xd1\\xb2\\xfcZ\"\n",
      "error from callback <function on_message at 0x10550cd90>: local variable 'response' referenced before assignment\n",
      "  File \"/anaconda3/lib/python3.6/site-packages/websocket/_app.py\", line 315, in _callback\n",
      "    callback(self, *args)\n",
      "  File \"<ipython-input-121-4e7756458ebe>\", line 89, in on_message\n",
      "    wsresponse[\"response\"] = response\n"
     ]
    },
    {
     "name": "stdout",
     "output_type": "stream",
     "text": [
      "{\"cmd\":\"AI nWave HeartBeat\"}\n",
      "message {'cmd': 'AI nWave HeartBeat'}\n",
      "Command : AI nWave HeartBeat\n"
     ]
    },
    {
     "name": "stderr",
     "output_type": "stream",
     "text": [
      "send: b'\\x81\\x9c\\xa2\\xb8\\xc9Q\\xd9\\x9a\\xaa<\\xc6\\x9a\\xf3s\\xe3\\xf1\\xe9?\\xf5\\xd9\\xbf4\\x82\\xf0\\xac0\\xd0\\xcc\\x8b4\\xc3\\xcc\\xeb,'\n",
      "error from callback <function on_message at 0x10550cd90>: local variable 'response' referenced before assignment\n",
      "  File \"/anaconda3/lib/python3.6/site-packages/websocket/_app.py\", line 315, in _callback\n",
      "    callback(self, *args)\n",
      "  File \"<ipython-input-121-4e7756458ebe>\", line 89, in on_message\n",
      "    wsresponse[\"response\"] = response\n"
     ]
    },
    {
     "name": "stdout",
     "output_type": "stream",
     "text": [
      "{\"cmd\":\"AI nWave HeartBeat\"}\n",
      "message {'cmd': 'AI nWave HeartBeat'}\n",
      "Command : AI nWave HeartBeat\n"
     ]
    },
    {
     "name": "stderr",
     "output_type": "stream",
     "text": [
      "send: b'\\x81\\x9c(\\xa9\\xb3\\xa4S\\x8b\\xd0\\xc9L\\x8b\\x89\\x86i\\xe0\\x93\\xca\\x7f\\xc8\\xc5\\xc1\\x08\\xe1\\xd6\\xc5Z\\xdd\\xf1\\xc1I\\xdd\\x91\\xd9'\n",
      "error from callback <function on_message at 0x10550cd90>: local variable 'response' referenced before assignment\n",
      "  File \"/anaconda3/lib/python3.6/site-packages/websocket/_app.py\", line 315, in _callback\n",
      "    callback(self, *args)\n",
      "  File \"<ipython-input-121-4e7756458ebe>\", line 89, in on_message\n",
      "    wsresponse[\"response\"] = response\n"
     ]
    },
    {
     "name": "stdout",
     "output_type": "stream",
     "text": [
      "{\"cmd\":\"AI nWave HeartBeat\"}\n",
      "message {'cmd': 'AI nWave HeartBeat'}\n",
      "Command : AI nWave HeartBeat\n"
     ]
    },
    {
     "name": "stderr",
     "output_type": "stream",
     "text": [
      "send: b'\\x81\\x9c\\xf6\\xe6\\xf4\\xce\\x8d\\xc4\\x97\\xa3\\x92\\xc4\\xce\\xec\\xb7\\xaf\\xd4\\xa0\\xa1\\x87\\x82\\xab\\xd6\\xae\\x91\\xaf\\x84\\x92\\xb6\\xab\\x97\\x92\\xd6\\xb3'\n",
      "error from callback <function on_message at 0x10550cd90>: local variable 'response' referenced before assignment\n",
      "  File \"/anaconda3/lib/python3.6/site-packages/websocket/_app.py\", line 315, in _callback\n",
      "    callback(self, *args)\n",
      "  File \"<ipython-input-121-4e7756458ebe>\", line 89, in on_message\n",
      "    wsresponse[\"response\"] = response\n"
     ]
    },
    {
     "name": "stdout",
     "output_type": "stream",
     "text": [
      "{\"cmd\":\"AI nWave HeartBeat\"}\n",
      "message {'cmd': 'AI nWave HeartBeat'}\n",
      "Command : AI nWave HeartBeat\n"
     ]
    },
    {
     "name": "stderr",
     "output_type": "stream",
     "text": [
      "send: b'\\x81\\x9c\\xfb\\xf2q\\xf1\\x80\\xd0\\x12\\x9c\\x9f\\xd0K\\xd3\\xba\\xbbQ\\x9f\\xac\\x93\\x07\\x94\\xdb\\xba\\x14\\x90\\x89\\x863\\x94\\x9a\\x86S\\x8c'\n",
      "error from callback <function on_message at 0x10550cd90>: local variable 'response' referenced before assignment\n",
      "  File \"/anaconda3/lib/python3.6/site-packages/websocket/_app.py\", line 315, in _callback\n",
      "    callback(self, *args)\n",
      "  File \"<ipython-input-121-4e7756458ebe>\", line 89, in on_message\n",
      "    wsresponse[\"response\"] = response\n"
     ]
    },
    {
     "name": "stdout",
     "output_type": "stream",
     "text": [
      "{\"cmd\":\"AI nWave HeartBeat\"}\n",
      "message {'cmd': 'AI nWave HeartBeat'}\n",
      "Command : AI nWave HeartBeat\n"
     ]
    },
    {
     "name": "stderr",
     "output_type": "stream",
     "text": [
      "send: b'\\x81\\x9cE\\xb8\\xe6U>\\x9a\\x858!\\x9a\\xdcw\\x04\\xf1\\xc6;\\x12\\xd9\\x900e\\xf0\\x8347\\xcc\\xa40$\\xcc\\xc4('\n",
      "error from callback <function on_message at 0x10550cd90>: local variable 'response' referenced before assignment\n",
      "  File \"/anaconda3/lib/python3.6/site-packages/websocket/_app.py\", line 315, in _callback\n",
      "    callback(self, *args)\n",
      "  File \"<ipython-input-121-4e7756458ebe>\", line 89, in on_message\n",
      "    wsresponse[\"response\"] = response\n"
     ]
    },
    {
     "name": "stdout",
     "output_type": "stream",
     "text": [
      "{\"cmd\":\"AI nWave HeartBeat\"}\n",
      "message {'cmd': 'AI nWave HeartBeat'}\n",
      "Command : AI nWave HeartBeat\n"
     ]
    },
    {
     "name": "stderr",
     "output_type": "stream",
     "text": [
      "send: b'\\x81\\x9c\\xbf\\x97N\\x8f\\xc4\\xb5-\\xe2\\xdb\\xb5t\\xad\\xfe\\xden\\xe1\\xe8\\xf68\\xea\\x9f\\xdf+\\xee\\xcd\\xe3\\x0c\\xea\\xde\\xe3l\\xf2'\n",
      "error from callback <function on_message at 0x10550cd90>: local variable 'response' referenced before assignment\n",
      "  File \"/anaconda3/lib/python3.6/site-packages/websocket/_app.py\", line 315, in _callback\n",
      "    callback(self, *args)\n",
      "  File \"<ipython-input-121-4e7756458ebe>\", line 89, in on_message\n",
      "    wsresponse[\"response\"] = response\n"
     ]
    },
    {
     "name": "stdout",
     "output_type": "stream",
     "text": [
      "{\"cmd\":\"AI nWave HeartBeat\"}\n",
      "message {'cmd': 'AI nWave HeartBeat'}\n",
      "Command : AI nWave HeartBeat\n"
     ]
    },
    {
     "name": "stderr",
     "output_type": "stream",
     "text": [
      "send: b'\\x81\\x9ca\\xe4\\x101\\x1a\\xc6s\\\\\\x05\\xc6*\\x13 \\xad0_6\\x85fTA\\xacuP\\x13\\x90RT\\x00\\x902L'\n",
      "error from callback <function on_message at 0x10550cd90>: local variable 'response' referenced before assignment\n",
      "  File \"/anaconda3/lib/python3.6/site-packages/websocket/_app.py\", line 315, in _callback\n",
      "    callback(self, *args)\n",
      "  File \"<ipython-input-121-4e7756458ebe>\", line 89, in on_message\n",
      "    wsresponse[\"response\"] = response\n"
     ]
    },
    {
     "name": "stdout",
     "output_type": "stream",
     "text": [
      "{\"cmd\":\"AI nWave HeartBeat\"}\n",
      "message {'cmd': 'AI nWave HeartBeat'}\n",
      "Command : AI nWave HeartBeat\n"
     ]
    },
    {
     "name": "stderr",
     "output_type": "stream",
     "text": [
      "send: b'\\x81\\x9c\\xbb\\x7fc$\\xc0]\\x00I\\xdf]Y\\x06\\xfa6CJ\\xec\\x1e\\x15A\\x9b7\\x06E\\xc9\\x0b!A\\xda\\x0bAY'\n",
      "error from callback <function on_message at 0x10550cd90>: local variable 'response' referenced before assignment\n",
      "  File \"/anaconda3/lib/python3.6/site-packages/websocket/_app.py\", line 315, in _callback\n",
      "    callback(self, *args)\n",
      "  File \"<ipython-input-121-4e7756458ebe>\", line 89, in on_message\n",
      "    wsresponse[\"response\"] = response\n"
     ]
    },
    {
     "name": "stdout",
     "output_type": "stream",
     "text": [
      "{\"cmd\":\"AI nWave HeartBeat\"}\n",
      "message {'cmd': 'AI nWave HeartBeat'}\n",
      "Command : AI nWave HeartBeat\n"
     ]
    },
    {
     "name": "stderr",
     "output_type": "stream",
     "text": [
      "send: b'\\x81\\x9c\\xe3 k\\x0b\\x98\\x02\\x08f\\x87\\x02Q)\\xa2iKe\\xb4A\\x1dn\\xc3h\\x0ej\\x91T)n\\x82TIv'\n",
      "error from callback <function on_message at 0x10550cd90>: local variable 'response' referenced before assignment\n",
      "  File \"/anaconda3/lib/python3.6/site-packages/websocket/_app.py\", line 315, in _callback\n",
      "    callback(self, *args)\n",
      "  File \"<ipython-input-121-4e7756458ebe>\", line 89, in on_message\n",
      "    wsresponse[\"response\"] = response\n"
     ]
    },
    {
     "name": "stdout",
     "output_type": "stream",
     "text": [
      "{\"cmd\":\"AI nWave HeartBeat\"}\n",
      "message {'cmd': 'AI nWave HeartBeat'}\n",
      "Command : AI nWave HeartBeat\n"
     ]
    },
    {
     "name": "stderr",
     "output_type": "stream",
     "text": [
      "send: b'\\x81\\x9c\\x1eM\\x99\\xc2eo\\xfa\\xafzo\\xa3\\xe0_\\x04\\xb9\\xacI,\\xef\\xa7>\\x05\\xfc\\xa3l9\\xdb\\xa7\\x7f9\\xbb\\xbf'\n",
      "error from callback <function on_message at 0x10550cd90>: local variable 'response' referenced before assignment\n",
      "  File \"/anaconda3/lib/python3.6/site-packages/websocket/_app.py\", line 315, in _callback\n",
      "    callback(self, *args)\n",
      "  File \"<ipython-input-121-4e7756458ebe>\", line 89, in on_message\n",
      "    wsresponse[\"response\"] = response\n"
     ]
    },
    {
     "name": "stdout",
     "output_type": "stream",
     "text": [
      "{\"cmd\":\"AI nWave HeartBeat\"}\n",
      "message {'cmd': 'AI nWave HeartBeat'}\n",
      "Command : AI nWave HeartBeat\n"
     ]
    },
    {
     "name": "stderr",
     "output_type": "stream",
     "text": [
      "send: b'\\x81\\x9c\\xad\\xb1\\xfe\\xc3\\xd6\\x93\\x9d\\xae\\xc9\\x93\\xc4\\xe1\\xec\\xf8\\xde\\xad\\xfa\\xd0\\x88\\xa6\\x8d\\xf9\\x9b\\xa2\\xdf\\xc5\\xbc\\xa6\\xcc\\xc5\\xdc\\xbe'\n",
      "error from callback <function on_message at 0x10550cd90>: local variable 'response' referenced before assignment\n",
      "  File \"/anaconda3/lib/python3.6/site-packages/websocket/_app.py\", line 315, in _callback\n",
      "    callback(self, *args)\n",
      "  File \"<ipython-input-121-4e7756458ebe>\", line 89, in on_message\n",
      "    wsresponse[\"response\"] = response\n"
     ]
    },
    {
     "name": "stdout",
     "output_type": "stream",
     "text": [
      "{\"cmd\":\"AI nWave HeartBeat\"}\n",
      "message {'cmd': 'AI nWave HeartBeat'}\n",
      "Command : AI nWave HeartBeat\n"
     ]
    },
    {
     "name": "stderr",
     "output_type": "stream",
     "text": [
      "send: b'\\x81\\x9c\\x0c<-vw\\x1eN\\x1bh\\x1e\\x17TMu\\r\\x18[][\\x13,tH\\x17~Ho\\x13mH\\x0f\\x0b'\n",
      "error from callback <function on_message at 0x10550cd90>: local variable 'response' referenced before assignment\n",
      "  File \"/anaconda3/lib/python3.6/site-packages/websocket/_app.py\", line 315, in _callback\n",
      "    callback(self, *args)\n",
      "  File \"<ipython-input-121-4e7756458ebe>\", line 89, in on_message\n",
      "    wsresponse[\"response\"] = response\n"
     ]
    },
    {
     "name": "stdout",
     "output_type": "stream",
     "text": [
      "{\"cmd\":\"AI nWave HeartBeat\"}\n",
      "message {'cmd': 'AI nWave HeartBeat'}\n",
      "Command : AI nWave HeartBeat\n"
     ]
    },
    {
     "name": "stderr",
     "output_type": "stream",
     "text": [
      "send: b'\\x81\\x9c\\xfd\\xb5\\x86\\x1e\\x86\\x97\\xe5s\\x99\\x97\\xbc<\\xbc\\xfc\\xa6p\\xaa\\xd4\\xf0{\\xdd\\xfd\\xe3\\x7f\\x8f\\xc1\\xc4{\\x9c\\xc1\\xa4c'\n",
      "error from callback <function on_message at 0x10550cd90>: local variable 'response' referenced before assignment\n",
      "  File \"/anaconda3/lib/python3.6/site-packages/websocket/_app.py\", line 315, in _callback\n",
      "    callback(self, *args)\n",
      "  File \"<ipython-input-121-4e7756458ebe>\", line 89, in on_message\n",
      "    wsresponse[\"response\"] = response\n"
     ]
    },
    {
     "name": "stdout",
     "output_type": "stream",
     "text": [
      "{\"cmd\":\"AI nWave HeartBeat\"}\n",
      "message {'cmd': 'AI nWave HeartBeat'}\n",
      "Command : AI nWave HeartBeat\n"
     ]
    },
    {
     "name": "stderr",
     "output_type": "stream",
     "text": [
      "send: b'\\x81\\x9c\\xce\\x04\\x86\\xdd\\xb5&\\xe5\\xb0\\xaa&\\xbc\\xff\\x8fM\\xa6\\xb3\\x99e\\xf0\\xb8\\xeeL\\xe3\\xbc\\xbcp\\xc4\\xb8\\xafp\\xa4\\xa0'\n",
      "error from callback <function on_message at 0x10550cd90>: local variable 'response' referenced before assignment\n",
      "  File \"/anaconda3/lib/python3.6/site-packages/websocket/_app.py\", line 315, in _callback\n",
      "    callback(self, *args)\n",
      "  File \"<ipython-input-121-4e7756458ebe>\", line 89, in on_message\n",
      "    wsresponse[\"response\"] = response\n"
     ]
    },
    {
     "name": "stdout",
     "output_type": "stream",
     "text": [
      "{\"cmd\":\"AI nWave HeartBeat\"}\n",
      "message {'cmd': 'AI nWave HeartBeat'}\n",
      "Command : AI nWave HeartBeat\n"
     ]
    },
    {
     "name": "stderr",
     "output_type": "stream",
     "text": [
      "send: b\"\\x81\\x9cpT[\\xf0\\x0bv8\\x9d\\x14va\\xd21\\x1d{\\x9e'5-\\x95P\\x1c>\\x91\\x02 \\x19\\x95\\x11 y\\x8d\"\n",
      "error from callback <function on_message at 0x10550cd90>: local variable 'response' referenced before assignment\n",
      "  File \"/anaconda3/lib/python3.6/site-packages/websocket/_app.py\", line 315, in _callback\n",
      "    callback(self, *args)\n",
      "  File \"<ipython-input-121-4e7756458ebe>\", line 89, in on_message\n",
      "    wsresponse[\"response\"] = response\n"
     ]
    },
    {
     "name": "stdout",
     "output_type": "stream",
     "text": [
      "{\"cmd\":\"AI nWave HeartBeat\"}\n",
      "message {'cmd': 'AI nWave HeartBeat'}\n",
      "Command : AI nWave HeartBeat\n"
     ]
    },
    {
     "name": "stderr",
     "output_type": "stream",
     "text": [
      "send: b'\\x81\\x9c\\x99d\\xde\\xa7\\xe2F\\xbd\\xca\\xfdF\\xe4\\x85\\xd8-\\xfe\\xc9\\xce\\x05\\xa8\\xc2\\xb9,\\xbb\\xc6\\xeb\\x10\\x9c\\xc2\\xf8\\x10\\xfc\\xda'\n",
      "error from callback <function on_message at 0x10550cd90>: local variable 'response' referenced before assignment\n",
      "  File \"/anaconda3/lib/python3.6/site-packages/websocket/_app.py\", line 315, in _callback\n",
      "    callback(self, *args)\n",
      "  File \"<ipython-input-121-4e7756458ebe>\", line 89, in on_message\n",
      "    wsresponse[\"response\"] = response\n"
     ]
    },
    {
     "name": "stdout",
     "output_type": "stream",
     "text": [
      "{\"cmd\":\"AI nWave HeartBeat\"}\n",
      "message {'cmd': 'AI nWave HeartBeat'}\n",
      "Command : AI nWave HeartBeat\n"
     ]
    },
    {
     "name": "stderr",
     "output_type": "stream",
     "text": [
      "send: b'\\x81\\x9c)Q\\xcdsRs\\xae\\x1eMs\\xf7Qh\\x18\\xed\\x1d~0\\xbb\\x16\\t\\x19\\xa8\\x12[%\\x8f\\x16H%\\xef\\x0e'\n",
      "error from callback <function on_message at 0x10550cd90>: local variable 'response' referenced before assignment\n",
      "  File \"/anaconda3/lib/python3.6/site-packages/websocket/_app.py\", line 315, in _callback\n",
      "    callback(self, *args)\n",
      "  File \"<ipython-input-121-4e7756458ebe>\", line 89, in on_message\n",
      "    wsresponse[\"response\"] = response\n"
     ]
    },
    {
     "name": "stdout",
     "output_type": "stream",
     "text": [
      "{\"cmd\":\"AI nWave HeartBeat\"}\n",
      "message {'cmd': 'AI nWave HeartBeat'}\n",
      "Command : AI nWave HeartBeat\n"
     ]
    },
    {
     "name": "stderr",
     "output_type": "stream",
     "text": [
      "send: b'\\x81\\x9c~\\xda\\xde<\\x05\\xf8\\xbdQ\\x1a\\xf8\\xe4\\x1e?\\x93\\xfeR)\\xbb\\xa8Y^\\x92\\xbb]\\x0c\\xae\\x9cY\\x1f\\xae\\xfcA'\n",
      "error from callback <function on_message at 0x10550cd90>: local variable 'response' referenced before assignment\n",
      "  File \"/anaconda3/lib/python3.6/site-packages/websocket/_app.py\", line 315, in _callback\n",
      "    callback(self, *args)\n",
      "  File \"<ipython-input-121-4e7756458ebe>\", line 89, in on_message\n",
      "    wsresponse[\"response\"] = response\n"
     ]
    },
    {
     "name": "stdout",
     "output_type": "stream",
     "text": [
      "{\"cmd\":\"AI nWave HeartBeat\"}\n",
      "message {'cmd': 'AI nWave HeartBeat'}\n",
      "Command : AI nWave HeartBeat\n"
     ]
    },
    {
     "name": "stderr",
     "output_type": "stream",
     "text": [
      "send: b'\\x81\\x9c\\xc7L\\xe9u\\xbcn\\x8a\\x18\\xa3n\\xd3W\\x86\\x05\\xc9\\x1b\\x90-\\x9f\\x10\\xe7\\x04\\x8c\\x14\\xb58\\xab\\x10\\xa68\\xcb\\x08'\n",
      "error from callback <function on_message at 0x10550cd90>: local variable 'response' referenced before assignment\n",
      "  File \"/anaconda3/lib/python3.6/site-packages/websocket/_app.py\", line 315, in _callback\n",
      "    callback(self, *args)\n",
      "  File \"<ipython-input-121-4e7756458ebe>\", line 89, in on_message\n",
      "    wsresponse[\"response\"] = response\n"
     ]
    },
    {
     "name": "stdout",
     "output_type": "stream",
     "text": [
      "{\"cmd\":\"AI nWave HeartBeat\"}\n",
      "message {'cmd': 'AI nWave HeartBeat'}\n",
      "Command : AI nWave HeartBeat\n"
     ]
    },
    {
     "name": "stderr",
     "output_type": "stream",
     "text": [
      "send: b'\\x81\\x9c;k4\\x0c@IWa_I\\x0e.z\"\\x14bl\\nBi\\x1b#QmI\\x1fviZ\\x1f\\x16q'\n",
      "error from callback <function on_message at 0x10550cd90>: local variable 'response' referenced before assignment\n",
      "  File \"/anaconda3/lib/python3.6/site-packages/websocket/_app.py\", line 315, in _callback\n",
      "    callback(self, *args)\n",
      "  File \"<ipython-input-121-4e7756458ebe>\", line 89, in on_message\n",
      "    wsresponse[\"response\"] = response\n"
     ]
    },
    {
     "name": "stdout",
     "output_type": "stream",
     "text": [
      "{\"cmd\":\"AI nWave HeartBeat\"}\n",
      "message {'cmd': 'AI nWave HeartBeat'}\n",
      "Command : AI nWave HeartBeat\n"
     ]
    },
    {
     "name": "stderr",
     "output_type": "stream",
     "text": [
      "send: b'\\x81\\x9c\\xdb\\x8d\\rm\\xa0\\xafn\\x00\\xbf\\xaf7O\\x9a\\xc4-\\x03\\x8c\\xec{\\x08\\xfb\\xc5h\\x0c\\xa9\\xf9O\\x08\\xba\\xf9/\\x10'\n",
      "error from callback <function on_message at 0x10550cd90>: local variable 'response' referenced before assignment\n",
      "  File \"/anaconda3/lib/python3.6/site-packages/websocket/_app.py\", line 315, in _callback\n",
      "    callback(self, *args)\n",
      "  File \"<ipython-input-121-4e7756458ebe>\", line 89, in on_message\n",
      "    wsresponse[\"response\"] = response\n"
     ]
    },
    {
     "name": "stdout",
     "output_type": "stream",
     "text": [
      "{\"cmd\":\"AI nWave HeartBeat\"}\n",
      "message {'cmd': 'AI nWave HeartBeat'}\n",
      "Command : AI nWave HeartBeat\n"
     ]
    },
    {
     "name": "stderr",
     "output_type": "stream",
     "text": [
      "send: b'\\x81\\x9c\\xa9A)>\\xd2cJS\\xcdc\\x13\\x1c\\xe8\\x08\\tP\\xfe _[\\x89\\tL_\\xdb5k[\\xc85\\x0bC'\n",
      "error from callback <function on_message at 0x10550cd90>: local variable 'response' referenced before assignment\n",
      "  File \"/anaconda3/lib/python3.6/site-packages/websocket/_app.py\", line 315, in _callback\n",
      "    callback(self, *args)\n",
      "  File \"<ipython-input-121-4e7756458ebe>\", line 89, in on_message\n",
      "    wsresponse[\"response\"] = response\n"
     ]
    },
    {
     "name": "stdout",
     "output_type": "stream",
     "text": [
      "{\"cmd\":\"AI nWave HeartBeat\"}\n",
      "message {'cmd': 'AI nWave HeartBeat'}\n",
      "Command : AI nWave HeartBeat\n"
     ]
    },
    {
     "name": "stderr",
     "output_type": "stream",
     "text": [
      "send: b'\\x81\\x9ce[\\xa0w\\x1ey\\xc3\\x1a\\x01y\\x9aU$\\x12\\x80\\x192:\\xd6\\x12E\\x13\\xc5\\x16\\x17/\\xe2\\x12\\x04/\\x82\\n'\n",
      "error from callback <function on_message at 0x10550cd90>: local variable 'response' referenced before assignment\n",
      "  File \"/anaconda3/lib/python3.6/site-packages/websocket/_app.py\", line 315, in _callback\n",
      "    callback(self, *args)\n",
      "  File \"<ipython-input-121-4e7756458ebe>\", line 89, in on_message\n",
      "    wsresponse[\"response\"] = response\n"
     ]
    },
    {
     "name": "stdout",
     "output_type": "stream",
     "text": [
      "{\"cmd\":\"AI nWave HeartBeat\"}\n",
      "message {'cmd': 'AI nWave HeartBeat'}\n",
      "Command : AI nWave HeartBeat\n"
     ]
    },
    {
     "name": "stderr",
     "output_type": "stream",
     "text": [
      "send: b'\\x81\\x9c1T\\x12\\xcbJvq\\xa6Uv(\\xe9p\\x1d2\\xa5f5d\\xae\\x11\\x1cw\\xaaC P\\xaeP 0\\xb6'\n",
      "error from callback <function on_message at 0x10550cd90>: local variable 'response' referenced before assignment\n",
      "  File \"/anaconda3/lib/python3.6/site-packages/websocket/_app.py\", line 315, in _callback\n",
      "    callback(self, *args)\n",
      "  File \"<ipython-input-121-4e7756458ebe>\", line 89, in on_message\n",
      "    wsresponse[\"response\"] = response\n"
     ]
    },
    {
     "name": "stdout",
     "output_type": "stream",
     "text": [
      "{\"cmd\":\"AI nWave HeartBeat\"}\n",
      "message {'cmd': 'AI nWave HeartBeat'}\n",
      "Command : AI nWave HeartBeat\n"
     ]
    },
    {
     "name": "stderr",
     "output_type": "stream",
     "text": [
      "send: b'\\x81\\x9c\\xb5\\x83\\x00\\xd5\\xce\\xa1c\\xb8\\xd1\\xa1:\\xf7\\xf4\\xca \\xbb\\xe2\\xe2v\\xb0\\x95\\xcbe\\xb4\\xc7\\xf7B\\xb0\\xd4\\xf7\"\\xa8'\n",
      "error from callback <function on_message at 0x10550cd90>: local variable 'response' referenced before assignment\n",
      "  File \"/anaconda3/lib/python3.6/site-packages/websocket/_app.py\", line 315, in _callback\n",
      "    callback(self, *args)\n",
      "  File \"<ipython-input-121-4e7756458ebe>\", line 89, in on_message\n",
      "    wsresponse[\"response\"] = response\n"
     ]
    },
    {
     "name": "stdout",
     "output_type": "stream",
     "text": [
      "{\"cmd\":\"AI nWave HeartBeat\"}\n",
      "message {'cmd': 'AI nWave HeartBeat'}\n",
      "Command : AI nWave HeartBeat\n"
     ]
    },
    {
     "name": "stderr",
     "output_type": "stream",
     "text": [
      "send: b'\\x81\\x9c\\x1cg\\x83\\xa3gE\\xe0\\xcexE\\xb9\\x81].\\xa3\\xcdK\\x06\\xf5\\xc6</\\xe6\\xc2n\\x13\\xc1\\xc6}\\x13\\xa1\\xde'\n",
      "error from callback <function on_message at 0x10550cd90>: local variable 'response' referenced before assignment\n",
      "  File \"/anaconda3/lib/python3.6/site-packages/websocket/_app.py\", line 315, in _callback\n",
      "    callback(self, *args)\n",
      "  File \"<ipython-input-121-4e7756458ebe>\", line 89, in on_message\n",
      "    wsresponse[\"response\"] = response\n"
     ]
    },
    {
     "name": "stdout",
     "output_type": "stream",
     "text": [
      "{\"cmd\":\"AI nWave HeartBeat\"}\n",
      "message {'cmd': 'AI nWave HeartBeat'}\n",
      "Command : AI nWave HeartBeat\n"
     ]
    },
    {
     "name": "stderr",
     "output_type": "stream",
     "text": [
      "send: b'\\x81\\x9c\\xb5K.\\x95\\xceiM\\xf8\\xd1i\\x14\\xb7\\xf4\\x02\\x0e\\xfb\\xe2*X\\xf0\\x95\\x03K\\xf4\\xc7?l\\xf0\\xd4?\\x0c\\xe8'\n",
      "error from callback <function on_message at 0x10550cd90>: local variable 'response' referenced before assignment\n",
      "  File \"/anaconda3/lib/python3.6/site-packages/websocket/_app.py\", line 315, in _callback\n",
      "    callback(self, *args)\n",
      "  File \"<ipython-input-121-4e7756458ebe>\", line 89, in on_message\n",
      "    wsresponse[\"response\"] = response\n"
     ]
    },
    {
     "name": "stdout",
     "output_type": "stream",
     "text": [
      "{\"cmd\":\"AI nWave HeartBeat\"}\n",
      "message {'cmd': 'AI nWave HeartBeat'}\n",
      "Command : AI nWave HeartBeat\n"
     ]
    },
    {
     "name": "stderr",
     "output_type": "stream",
     "text": [
      "send: b'\\x81\\x9c\\xe2\\x97;\\xc5\\x99\\xb5X\\xa8\\x86\\xb5\\x01\\xe7\\xa3\\xde\\x1b\\xab\\xb5\\xf6M\\xa0\\xc2\\xdf^\\xa4\\x90\\xe3y\\xa0\\x83\\xe3\\x19\\xb8'\n",
      "error from callback <function on_message at 0x10550cd90>: local variable 'response' referenced before assignment\n",
      "  File \"/anaconda3/lib/python3.6/site-packages/websocket/_app.py\", line 315, in _callback\n",
      "    callback(self, *args)\n",
      "  File \"<ipython-input-121-4e7756458ebe>\", line 89, in on_message\n",
      "    wsresponse[\"response\"] = response\n"
     ]
    },
    {
     "name": "stdout",
     "output_type": "stream",
     "text": [
      "{\"cmd\":\"AI nWave HeartBeat\"}\n",
      "message {'cmd': 'AI nWave HeartBeat'}\n",
      "Command : AI nWave HeartBeat\n"
     ]
    },
    {
     "name": "stderr",
     "output_type": "stream",
     "text": [
      "send: b'\\x81\\x9ci\\xdf\\x92\\xac\\x12\\xfd\\xf1\\xc1\\r\\xfd\\xa8\\x8e(\\x96\\xb2\\xc2>\\xbe\\xe4\\xc9I\\x97\\xf7\\xcd\\x1b\\xab\\xd0\\xc9\\x08\\xab\\xb0\\xd1'\n",
      "error from callback <function on_message at 0x10550cd90>: local variable 'response' referenced before assignment\n",
      "  File \"/anaconda3/lib/python3.6/site-packages/websocket/_app.py\", line 315, in _callback\n",
      "    callback(self, *args)\n",
      "  File \"<ipython-input-121-4e7756458ebe>\", line 89, in on_message\n",
      "    wsresponse[\"response\"] = response\n"
     ]
    },
    {
     "name": "stdout",
     "output_type": "stream",
     "text": [
      "{\"cmd\":\"AI nWave HeartBeat\"}\n",
      "message {'cmd': 'AI nWave HeartBeat'}\n",
      "Command : AI nWave HeartBeat\n"
     ]
    },
    {
     "name": "stderr",
     "output_type": "stream",
     "text": [
      "send: b'\\x81\\x9c\\xef\\x90\\xa1\\xb6\\x94\\xb2\\xc2\\xdb\\x8b\\xb2\\x9b\\x94\\xae\\xd9\\x81\\xd8\\xb8\\xf1\\xd7\\xd3\\xcf\\xd8\\xc4\\xd7\\x9d\\xe4\\xe3\\xd3\\x8e\\xe4\\x83\\xcb'\n",
      "error from callback <function on_message at 0x10550cd90>: local variable 'response' referenced before assignment\n",
      "  File \"/anaconda3/lib/python3.6/site-packages/websocket/_app.py\", line 315, in _callback\n",
      "    callback(self, *args)\n",
      "  File \"<ipython-input-121-4e7756458ebe>\", line 89, in on_message\n",
      "    wsresponse[\"response\"] = response\n"
     ]
    },
    {
     "name": "stdout",
     "output_type": "stream",
     "text": [
      "{\"cmd\":\"AI nWave HeartBeat\"}\n",
      "message {'cmd': 'AI nWave HeartBeat'}\n",
      "Command : AI nWave HeartBeat\n"
     ]
    },
    {
     "name": "stderr",
     "output_type": "stream",
     "text": [
      "send: b'\\x81\\x9c\\x0085\\x8a{\\x1aV\\xe7d\\x1a\\x0f\\xa8Aq\\x15\\xe4WYC\\xef pP\\xebrLw\\xefaL\\x17\\xf7'\n",
      "error from callback <function on_message at 0x10550cd90>: local variable 'response' referenced before assignment\n",
      "  File \"/anaconda3/lib/python3.6/site-packages/websocket/_app.py\", line 315, in _callback\n",
      "    callback(self, *args)\n",
      "  File \"<ipython-input-121-4e7756458ebe>\", line 89, in on_message\n",
      "    wsresponse[\"response\"] = response\n"
     ]
    },
    {
     "name": "stdout",
     "output_type": "stream",
     "text": [
      "{\"cmd\":\"AI nWave HeartBeat\"}\n",
      "message {'cmd': 'AI nWave HeartBeat'}\n",
      "Command : AI nWave HeartBeat\n"
     ]
    },
    {
     "name": "stderr",
     "output_type": "stream",
     "text": [
      "send: b'\\x81\\x9c\\xbf\\x85\\x97\\xd9\\xc4\\xa7\\xf4\\xb4\\xdb\\xa7\\xad\\xfb\\xfe\\xcc\\xb7\\xb7\\xe8\\xe4\\xe1\\xbc\\x9f\\xcd\\xf2\\xb8\\xcd\\xf1\\xd5\\xbc\\xde\\xf1\\xb5\\xa4'\n",
      "error from callback <function on_message at 0x10550cd90>: local variable 'response' referenced before assignment\n",
      "  File \"/anaconda3/lib/python3.6/site-packages/websocket/_app.py\", line 315, in _callback\n",
      "    callback(self, *args)\n",
      "  File \"<ipython-input-121-4e7756458ebe>\", line 89, in on_message\n",
      "    wsresponse[\"response\"] = response\n"
     ]
    },
    {
     "name": "stdout",
     "output_type": "stream",
     "text": [
      "{\"cmd\":\"AI nWave HeartBeat\"}\n",
      "message {'cmd': 'AI nWave HeartBeat'}\n",
      "Command : AI nWave HeartBeat\n"
     ]
    },
    {
     "name": "stderr",
     "output_type": "stream",
     "text": [
      "send: b'\\x81\\x9cJ\\x17\\x91\\xe015\\xf2\\x8d.5\\xab\\xc2\\x0b^\\xb1\\x8e\\x1dv\\xe7\\x85j_\\xf4\\x818c\\xd3\\x85+c\\xb3\\x9d'\n",
      "error from callback <function on_message at 0x10550cd90>: local variable 'response' referenced before assignment\n",
      "  File \"/anaconda3/lib/python3.6/site-packages/websocket/_app.py\", line 315, in _callback\n",
      "    callback(self, *args)\n",
      "  File \"<ipython-input-121-4e7756458ebe>\", line 89, in on_message\n",
      "    wsresponse[\"response\"] = response\n"
     ]
    },
    {
     "name": "stdout",
     "output_type": "stream",
     "text": [
      "{\"cmd\":\"AI nWave HeartBeat\"}\n",
      "message {'cmd': 'AI nWave HeartBeat'}\n",
      "Command : AI nWave HeartBeat\n"
     ]
    },
    {
     "name": "stderr",
     "output_type": "stream",
     "text": [
      "send: b'\\x81\\x9ccFk\\xbd\\x18d\\x08\\xd0\\x07dQ\\x9f\"\\x0fK\\xd34\\'\\x1d\\xd8C\\x0e\\x0e\\xdc\\x112)\\xd8\\x022I\\xc0'\n",
      "error from callback <function on_message at 0x10550cd90>: local variable 'response' referenced before assignment\n",
      "  File \"/anaconda3/lib/python3.6/site-packages/websocket/_app.py\", line 315, in _callback\n",
      "    callback(self, *args)\n",
      "  File \"<ipython-input-121-4e7756458ebe>\", line 89, in on_message\n",
      "    wsresponse[\"response\"] = response\n"
     ]
    },
    {
     "name": "stdout",
     "output_type": "stream",
     "text": [
      "{\"cmd\":\"AI nWave HeartBeat\"}\n",
      "message {'cmd': 'AI nWave HeartBeat'}\n",
      "Command : AI nWave HeartBeat\n"
     ]
    },
    {
     "name": "stderr",
     "output_type": "stream",
     "text": [
      "send: b'\\x81\\x9c+\\xf0\\xd9;P\\xd2\\xbaVO\\xd2\\xe3\\x19j\\xb9\\xf9U|\\x91\\xaf^\\x0b\\xb8\\xbcZY\\x84\\x9b^J\\x84\\xfbF'\n",
      "error from callback <function on_message at 0x10550cd90>: local variable 'response' referenced before assignment\n",
      "  File \"/anaconda3/lib/python3.6/site-packages/websocket/_app.py\", line 315, in _callback\n",
      "    callback(self, *args)\n",
      "  File \"<ipython-input-121-4e7756458ebe>\", line 89, in on_message\n",
      "    wsresponse[\"response\"] = response\n"
     ]
    },
    {
     "name": "stdout",
     "output_type": "stream",
     "text": [
      "{\"cmd\":\"AI nWave HeartBeat\"}\n",
      "message {'cmd': 'AI nWave HeartBeat'}\n",
      "Command : AI nWave HeartBeat\n"
     ]
    },
    {
     "name": "stderr",
     "output_type": "stream",
     "text": [
      "send: b'\\x81\\x9c\\x9f\\x1cc\\xe0\\xe4>\\x00\\x8d\\xfb>Y\\xc2\\xdeUC\\x8e\\xc8}\\x15\\x85\\xbfT\\x06\\x81\\xedh!\\x85\\xfehA\\x9d'\n",
      "error from callback <function on_message at 0x10550cd90>: local variable 'response' referenced before assignment\n",
      "  File \"/anaconda3/lib/python3.6/site-packages/websocket/_app.py\", line 315, in _callback\n",
      "    callback(self, *args)\n",
      "  File \"<ipython-input-121-4e7756458ebe>\", line 89, in on_message\n",
      "    wsresponse[\"response\"] = response\n"
     ]
    },
    {
     "name": "stdout",
     "output_type": "stream",
     "text": [
      "{\"cmd\":\"AI nWave HeartBeat\"}\n",
      "message {'cmd': 'AI nWave HeartBeat'}\n",
      "Command : AI nWave HeartBeat\n"
     ]
    },
    {
     "name": "stderr",
     "output_type": "stream",
     "text": [
      "send: b'\\x81\\x8eF\\xea\\xed3\\x02\\xb9\\xb5\\x13\\n\\x83\\x9eG#\\x84\\xcdv(\\x8e'\n",
      "error from callback <function on_close at 0x1a0dc54620>: socket is already closed.\n"
     ]
    },
    {
     "name": "stdout",
     "output_type": "stream",
     "text": [
      "Connection is already closed.\n",
      "DSX Listen End\n"
     ]
    },
    {
     "name": "stderr",
     "output_type": "stream",
     "text": [
      "  File \"/anaconda3/lib/python3.6/site-packages/websocket/_app.py\", line 315, in _callback\n",
      "    callback(self, *args)\n",
      "  File \"<ipython-input-121-4e7756458ebe>\", line 97, in on_close\n",
      "    ws.send(\"DSX Listen End\")\n",
      "  File \"/anaconda3/lib/python3.6/site-packages/websocket/_app.py\", line 147, in send\n",
      "    if not self.sock or self.sock.send(data, opcode) == 0:\n",
      "  File \"/anaconda3/lib/python3.6/site-packages/websocket/_core.py\", line 240, in send\n",
      "    return self.send_frame(frame)\n",
      "  File \"/anaconda3/lib/python3.6/site-packages/websocket/_core.py\", line 265, in send_frame\n",
      "    l = self._send(data)\n",
      "  File \"/anaconda3/lib/python3.6/site-packages/websocket/_core.py\", line 430, in _send\n",
      "    return send(self.sock, data)\n",
      "  File \"/anaconda3/lib/python3.6/site-packages/websocket/_socket.py\", line 114, in send\n",
      "    raise WebSocketConnectionClosedException(\"socket is already closed.\")\n",
      "Unhandled exception in thread started by <function on_open.<locals>.run at 0x1a0e739f28>\n"
     ]
    }
   ],
   "source": [
    "start_websocket_listener()\n",
    "\n"
   ]
  },
  {
   "cell_type": "code",
   "execution_count": null,
   "metadata": {},
   "outputs": [],
   "source": []
  }
 ],
 "metadata": {
  "kernelspec": {
   "display_name": "Python 3",
   "language": "python",
   "name": "python3"
  },
  "language_info": {
   "codemirror_mode": {
    "name": "ipython",
    "version": 3
   },
   "file_extension": ".py",
   "mimetype": "text/x-python",
   "name": "python",
   "nbconvert_exporter": "python",
   "pygments_lexer": "ipython3",
   "version": "3.6.4"
  }
 },
 "nbformat": 4,
 "nbformat_minor": 2
}
